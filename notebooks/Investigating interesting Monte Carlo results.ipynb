{
 "cells": [
  {
   "cell_type": "markdown",
   "id": "1e7cc490-52ec-4418-a10e-e6e1e7b25a65",
   "metadata": {},
   "source": [
    "# Finding out why Monte Carlo results are significantly different than static ones\n",
    "\n",
    "Based on a [Stack Overflow question](https://stackoverflow.com/questions/72807629/overestimated-monte-carlo-results-in-brightway).\n",
    "\n",
    "Uses Brightway 2.5."
   ]
  },
  {
   "cell_type": "code",
   "execution_count": 1,
   "id": "84499324-db0a-445f-af1c-3a24e8a850d3",
   "metadata": {},
   "outputs": [],
   "source": [
    "import bw2data as bd\n",
    "import bw2calc as bc\n",
    "import bw2analyzer as ba\n",
    "import bw2io as bi\n",
    "import numpy as np\n",
    "import pandas as pd"
   ]
  },
  {
   "cell_type": "code",
   "execution_count": 2,
   "id": "9b1b4584-33c5-40a2-adb8-1a19d79d535e",
   "metadata": {},
   "outputs": [],
   "source": [
    "bd.projects.set_current(\"ecoinvent 3.8 consequential 25\")"
   ]
  },
  {
   "cell_type": "markdown",
   "id": "4d7feb5c-f3a9-4c03-99c8-079045579726",
   "metadata": {},
   "source": [
    "Define functional unit and LCIA impact category"
   ]
  },
  {
   "cell_type": "code",
   "execution_count": 3,
   "id": "47170954-85f9-4b32-9ea3-340a95eb1d0a",
   "metadata": {},
   "outputs": [],
   "source": [
    "waste_paper = bd.Database(\"ecoinvent 3.8 consequential\").get(name='market for waste paper, sorted')\n",
    "ipcc = ('IPCC 2013', 'climate change', 'GWP 100a')"
   ]
  },
  {
   "cell_type": "markdown",
   "id": "2a4b625c-b537-4e1a-9def-88236e1290cd",
   "metadata": {},
   "source": [
    "Create static and stochastic LCA instances"
   ]
  },
  {
   "cell_type": "code",
   "execution_count": 4,
   "id": "789393c7-3fea-4b38-ba82-0b6160540891",
   "metadata": {},
   "outputs": [],
   "source": [
    "static = bc.LCA({waste_paper: 1}, ipcc)\n",
    "static.lci()\n",
    "static.lcia()"
   ]
  },
  {
   "cell_type": "code",
   "execution_count": 5,
   "id": "15047cb7-2cdf-46a3-8a53-32abea87bb71",
   "metadata": {},
   "outputs": [],
   "source": [
    "mc = bc.LCA({waste_paper: 1}, ipcc, use_distributions=True)\n",
    "mc.lci()\n",
    "mc.lcia()"
   ]
  },
  {
   "cell_type": "markdown",
   "id": "d991c528-85d8-4866-ac71-1e5fd4a2ec28",
   "metadata": {},
   "source": [
    "Confirm that the scores are quite different"
   ]
  },
  {
   "cell_type": "code",
   "execution_count": 6,
   "id": "4bb17e20-12ad-4348-a0f8-53f091ddcdc0",
   "metadata": {},
   "outputs": [
    {
     "data": {
      "text/plain": [
       "(2.76826441779881, 163.95582589488586)"
      ]
     },
     "execution_count": 6,
     "metadata": {},
     "output_type": "execute_result"
    }
   ],
   "source": [
    "static.score, np.mean([mc.score for _ in zip(range(20), mc)])"
   ]
  },
  {
   "cell_type": "markdown",
   "id": "fe8bf0b5-6f81-46e1-873d-55f03bb51e9d",
   "metadata": {},
   "source": [
    "We can do a recursive calculation on the Monte Carlo object (this doesn't call `__next__`, so the matrices remain the same), but we need to give some normally private arguments:"
   ]
  },
  {
   "cell_type": "code",
   "execution_count": 7,
   "id": "4514dd08-51d2-44e1-a291-0fe0413a86bc",
   "metadata": {},
   "outputs": [
    {
     "name": "stdout",
     "output_type": "stream",
     "text": [
      "Fraction of score | Absolute score | Amount | Activity\n",
      "0001 |  47.2 |     1 | 'market for waste paper, sorted' (kilogram, GLO, None)\n",
      "  0.288 | 13.61 | 0.2857 | 'tissue paper production' (kilogram, RER, None)\n",
      "    0.296 | 13.96 | 0.2434 | 'market for tissue paper' (kilogram, GLO, None)\n",
      "      0.295 | 13.94 | 0.2434 | 'tissue paper production, virgin' (kilogram, GLO, None)\n",
      "        0.0127 | 0.5986 | 0.247 | 'market for sulfite pulp, bleached' (kilogram, GLO, None)\n",
      "  0.712 | 33.59 | 0.7143 | 'tissue paper production' (kilogram, RoW, None)\n",
      "    0.74 |  34.9 | 0.6084 | 'market for tissue paper' (kilogram, GLO, None)\n",
      "      0.739 | 34.86 | 0.6084 | 'tissue paper production, virgin' (kilogram, GLO, None)\n",
      "        0.0146 | 0.6883 | 4.327 | 'market group for heat, district or industrial, other than natural gas\n",
      "          0.0123 | 0.5797 | 3.586 | 'market for heat, district or industrial, other than natural gas' (meg\n",
      "        0.0178 | 0.8388 | 1.217 | 'market group for electricity, medium voltage' (kilowatt hour, GLO, No\n",
      "          0.0153 | 0.7223 | 0.8564 | 'market group for electricity, medium voltage' (kilowatt hour, RAS, No\n",
      "        0.0317 | 1.496 | 0.6175 | 'market for sulfite pulp, bleached' (kilogram, GLO, None)\n",
      "          0.0207 | 0.9764 | 0.4182 | 'sulfite pulp production, bleached' (kilogram, RER, None)\n",
      "          0.011 |  0.52 | 0.1994 | 'sulfite pulp production, bleached' (kilogram, RoW, None)\n"
     ]
    }
   ],
   "source": [
    "ba.print_recursive_calculation(\n",
    "    waste_paper,\n",
    "    ipcc,\n",
    "    amount=1,\n",
    "    max_level=5,\n",
    "    cutoff=0.01,\n",
    "    __lca_obj=mc,\n",
    "    __total_score=mc.score,\n",
    ")"
   ]
  },
  {
   "cell_type": "markdown",
   "id": "4e8193e9-5463-403b-9841-7842df086118",
   "metadata": {},
   "source": [
    "We can see from this that there is a large impact from `tissue paper production, virgin`. Let's switch our functional unit to this:"
   ]
  },
  {
   "cell_type": "code",
   "execution_count": 8,
   "id": "7c5b4ab1-0208-4127-b7f7-96ba7531826a",
   "metadata": {},
   "outputs": [],
   "source": [
    "tissue = bd.Database(\"ecoinvent 3.8 consequential\").get(name='tissue paper production, virgin')"
   ]
  },
  {
   "cell_type": "markdown",
   "id": "1e7fd7a5-68d6-4fc4-a655-17c3d558320a",
   "metadata": {},
   "source": [
    "But when we try to look through the supply chain to understand why we get such high stochastic impacts, we don't get anywhere:"
   ]
  },
  {
   "cell_type": "code",
   "execution_count": 9,
   "id": "aca5d479-795e-4e70-b529-26800c487986",
   "metadata": {},
   "outputs": [],
   "source": [
    "static = bc.LCA({tissue: 1}, ipcc)\n",
    "static.lci()\n",
    "static.lcia()"
   ]
  },
  {
   "cell_type": "code",
   "execution_count": 10,
   "id": "961d1582-70e2-4b33-b1e3-3ba0a4e3ed69",
   "metadata": {},
   "outputs": [],
   "source": [
    "mc = bc.LCA({tissue: 1}, ipcc, use_distributions=True)\n",
    "mc.lci()\n",
    "mc.lcia()"
   ]
  },
  {
   "cell_type": "code",
   "execution_count": 11,
   "id": "61506cb2-7c60-4bb1-9bc4-5c7c13360850",
   "metadata": {},
   "outputs": [
    {
     "name": "stdout",
     "output_type": "stream",
     "text": [
      "Fraction of score | Absolute score | Amount | Activity\n",
      "0001 | 149.5 |     1 | 'tissue paper production, virgin' (kilogram, GLO, None)\n"
     ]
    }
   ],
   "source": [
    "ba.print_recursive_calculation(\n",
    "    tissue,\n",
    "    ipcc,\n",
    "    amount=1,\n",
    "    max_level=5,\n",
    "    cutoff=0.025,\n",
    "    __lca_obj=mc,\n",
    "    __total_score=mc.score,\n",
    ")"
   ]
  },
  {
   "cell_type": "markdown",
   "id": "2e4a990b-8ef4-4a4b-94f6-a8da3d20e7cd",
   "metadata": {},
   "source": [
    "We seem to be missing something important - the total (stochastic) score is ~114, but the only input above our 2.5% cutoff is sulfite pulp, which is only 3.6% of the total score. Maybe this activity has some high direct emissions?"
   ]
  },
  {
   "cell_type": "code",
   "execution_count": 12,
   "id": "ddb82a68-f7f8-45a6-a9bd-b97acc27d356",
   "metadata": {},
   "outputs": [
    {
     "data": {
      "text/plain": [
       "0.0"
      ]
     },
     "execution_count": 12,
     "metadata": {},
     "output_type": "execute_result"
    }
   ],
   "source": [
    "mc.characterized_inventory[:, mc.dicts.activity[tissue.id]].sum()"
   ]
  },
  {
   "cell_type": "markdown",
   "id": "6e155112-b8da-447f-b54b-65dfabb63065",
   "metadata": {},
   "source": [
    "We don't see anything in our supply chain, but we can see which activities generate actual impacts by doing a contribution analysis on the final characterized inventory. However, our recursive calculation changed the functional unit while recursing, so we need to \"reset\" the calculation:"
   ]
  },
  {
   "cell_type": "code",
   "execution_count": 13,
   "id": "aa94b306-859b-4aaa-a9e0-f752c038de7d",
   "metadata": {},
   "outputs": [],
   "source": [
    "mc = bc.LCA({tissue: 1}, ipcc, use_distributions=True)\n",
    "mc.lci()\n",
    "mc.lcia()"
   ]
  },
  {
   "cell_type": "code",
   "execution_count": 14,
   "id": "e7b5e9bf-7be7-4cf5-8f14-05bca4a4120f",
   "metadata": {},
   "outputs": [
    {
     "data": {
      "text/html": [
       "<div>\n",
       "<style scoped>\n",
       "    .dataframe tbody tr th:only-of-type {\n",
       "        vertical-align: middle;\n",
       "    }\n",
       "\n",
       "    .dataframe tbody tr th {\n",
       "        vertical-align: top;\n",
       "    }\n",
       "\n",
       "    .dataframe thead th {\n",
       "        text-align: right;\n",
       "    }\n",
       "</style>\n",
       "<table border=\"1\" class=\"dataframe\">\n",
       "  <thead>\n",
       "    <tr style=\"text-align: right;\">\n",
       "      <th></th>\n",
       "      <th>Score</th>\n",
       "      <th>Name</th>\n",
       "      <th>Location</th>\n",
       "    </tr>\n",
       "  </thead>\n",
       "  <tbody>\n",
       "    <tr>\n",
       "      <th>0</th>\n",
       "      <td>20.286712</td>\n",
       "      <td>palm fruit bunch production</td>\n",
       "      <td>MY</td>\n",
       "    </tr>\n",
       "    <tr>\n",
       "      <th>1</th>\n",
       "      <td>13.118425</td>\n",
       "      <td>heat and power co-generation, lignite</td>\n",
       "      <td>RoW</td>\n",
       "    </tr>\n",
       "    <tr>\n",
       "      <th>2</th>\n",
       "      <td>8.644094</td>\n",
       "      <td>heat and power co-generation, hard coal</td>\n",
       "      <td>RU</td>\n",
       "    </tr>\n",
       "    <tr>\n",
       "      <th>3</th>\n",
       "      <td>5.797260</td>\n",
       "      <td>clear-cutting, secondary forest to arable land...</td>\n",
       "      <td>MY</td>\n",
       "    </tr>\n",
       "    <tr>\n",
       "      <th>4</th>\n",
       "      <td>5.715522</td>\n",
       "      <td>heat and power co-generation, natural gas, 200...</td>\n",
       "      <td>RoW</td>\n",
       "    </tr>\n",
       "    <tr>\n",
       "      <th>5</th>\n",
       "      <td>4.270209</td>\n",
       "      <td>heat and power co-generation, hard coal</td>\n",
       "      <td>PL</td>\n",
       "    </tr>\n",
       "    <tr>\n",
       "      <th>6</th>\n",
       "      <td>3.215141</td>\n",
       "      <td>coconut production, dehusked</td>\n",
       "      <td>RoW</td>\n",
       "    </tr>\n",
       "    <tr>\n",
       "      <th>7</th>\n",
       "      <td>2.619751</td>\n",
       "      <td>heat and power co-generation, lignite</td>\n",
       "      <td>PL</td>\n",
       "    </tr>\n",
       "    <tr>\n",
       "      <th>8</th>\n",
       "      <td>2.556957</td>\n",
       "      <td>heat and power co-generation, lignite</td>\n",
       "      <td>RU</td>\n",
       "    </tr>\n",
       "    <tr>\n",
       "      <th>9</th>\n",
       "      <td>2.522933</td>\n",
       "      <td>clear-cutting, primary forest to arable land, ...</td>\n",
       "      <td>ID</td>\n",
       "    </tr>\n",
       "    <tr>\n",
       "      <th>10</th>\n",
       "      <td>2.238900</td>\n",
       "      <td>quicklime production, in pieces, loose</td>\n",
       "      <td>RoW</td>\n",
       "    </tr>\n",
       "    <tr>\n",
       "      <th>11</th>\n",
       "      <td>2.083205</td>\n",
       "      <td>clear-cutting, primary forest to arable land, ...</td>\n",
       "      <td>MY</td>\n",
       "    </tr>\n",
       "    <tr>\n",
       "      <th>12</th>\n",
       "      <td>2.069298</td>\n",
       "      <td>heat and power co-generation, natural gas, com...</td>\n",
       "      <td>RU</td>\n",
       "    </tr>\n",
       "    <tr>\n",
       "      <th>13</th>\n",
       "      <td>-1.850335</td>\n",
       "      <td>palm fruit bunch production</td>\n",
       "      <td>RoW</td>\n",
       "    </tr>\n",
       "    <tr>\n",
       "      <th>14</th>\n",
       "      <td>1.703533</td>\n",
       "      <td>heat and power co-generation, natural gas, com...</td>\n",
       "      <td>IT</td>\n",
       "    </tr>\n",
       "    <tr>\n",
       "      <th>15</th>\n",
       "      <td>1.700312</td>\n",
       "      <td>heat and power co-generation, natural gas, com...</td>\n",
       "      <td>RoW</td>\n",
       "    </tr>\n",
       "    <tr>\n",
       "      <th>16</th>\n",
       "      <td>1.616822</td>\n",
       "      <td>heat and power co-generation, natural gas, com...</td>\n",
       "      <td>US-SERC</td>\n",
       "    </tr>\n",
       "    <tr>\n",
       "      <th>17</th>\n",
       "      <td>1.577452</td>\n",
       "      <td>clear-cutting, secondary forest to arable land...</td>\n",
       "      <td>ID</td>\n",
       "    </tr>\n",
       "    <tr>\n",
       "      <th>18</th>\n",
       "      <td>1.439754</td>\n",
       "      <td>ammonia production, steam reforming, liquid</td>\n",
       "      <td>RoW</td>\n",
       "    </tr>\n",
       "    <tr>\n",
       "      <th>19</th>\n",
       "      <td>-1.210527</td>\n",
       "      <td>ethylene production, average</td>\n",
       "      <td>RoW</td>\n",
       "    </tr>\n",
       "    <tr>\n",
       "      <th>20</th>\n",
       "      <td>1.191127</td>\n",
       "      <td>transport, freight, lorry &gt;32 metric ton, EURO5</td>\n",
       "      <td>RoW</td>\n",
       "    </tr>\n",
       "    <tr>\n",
       "      <th>21</th>\n",
       "      <td>1.183030</td>\n",
       "      <td>pig iron production</td>\n",
       "      <td>RoW</td>\n",
       "    </tr>\n",
       "    <tr>\n",
       "      <th>22</th>\n",
       "      <td>1.141649</td>\n",
       "      <td>diesel, burned in building machine</td>\n",
       "      <td>GLO</td>\n",
       "    </tr>\n",
       "    <tr>\n",
       "      <th>23</th>\n",
       "      <td>1.133745</td>\n",
       "      <td>nitric acid production, product in 50% solutio...</td>\n",
       "      <td>RNA</td>\n",
       "    </tr>\n",
       "    <tr>\n",
       "      <th>24</th>\n",
       "      <td>1.120405</td>\n",
       "      <td>transport, freight, light commercial vehicle</td>\n",
       "      <td>RoW</td>\n",
       "    </tr>\n",
       "  </tbody>\n",
       "</table>\n",
       "</div>"
      ],
      "text/plain": [
       "        Score                                               Name Location\n",
       "0   20.286712                        palm fruit bunch production       MY\n",
       "1   13.118425              heat and power co-generation, lignite      RoW\n",
       "2    8.644094            heat and power co-generation, hard coal       RU\n",
       "3    5.797260  clear-cutting, secondary forest to arable land...       MY\n",
       "4    5.715522  heat and power co-generation, natural gas, 200...      RoW\n",
       "5    4.270209            heat and power co-generation, hard coal       PL\n",
       "6    3.215141                       coconut production, dehusked      RoW\n",
       "7    2.619751              heat and power co-generation, lignite       PL\n",
       "8    2.556957              heat and power co-generation, lignite       RU\n",
       "9    2.522933  clear-cutting, primary forest to arable land, ...       ID\n",
       "10   2.238900             quicklime production, in pieces, loose      RoW\n",
       "11   2.083205  clear-cutting, primary forest to arable land, ...       MY\n",
       "12   2.069298  heat and power co-generation, natural gas, com...       RU\n",
       "13  -1.850335                        palm fruit bunch production      RoW\n",
       "14   1.703533  heat and power co-generation, natural gas, com...       IT\n",
       "15   1.700312  heat and power co-generation, natural gas, com...      RoW\n",
       "16   1.616822  heat and power co-generation, natural gas, com...  US-SERC\n",
       "17   1.577452  clear-cutting, secondary forest to arable land...       ID\n",
       "18   1.439754        ammonia production, steam reforming, liquid      RoW\n",
       "19  -1.210527                       ethylene production, average      RoW\n",
       "20   1.191127    transport, freight, lorry >32 metric ton, EURO5      RoW\n",
       "21   1.183030                                pig iron production      RoW\n",
       "22   1.141649                 diesel, burned in building machine      GLO\n",
       "23   1.133745  nitric acid production, product in 50% solutio...      RNA\n",
       "24   1.120405       transport, freight, light commercial vehicle      RoW"
      ]
     },
     "execution_count": 14,
     "metadata": {},
     "output_type": "execute_result"
    }
   ],
   "source": [
    "pd.DataFrame(\n",
    "    [\n",
    "        (x, z['name'], z['location']) \n",
    "        for x,_,z in ba.ContributionAnalysis().annotated_top_processes(mc)\n",
    "    ], \n",
    "    columns=['Score', 'Name', 'Location']\n",
    ")"
   ]
  },
  {
   "cell_type": "markdown",
   "id": "1b9fbae2-fd9e-40b8-bf9d-e20b2242c724",
   "metadata": {},
   "source": [
    "[Something is hapening here, but you don't know what it is](https://www.youtube.com/watch?v=we37yX3zpKA)...\n",
    "\n",
    "Not going to lie, this was very confusing. There are no direct emissions from tissue paper, but also no impacts from the supply chain of tissue paper. Eventually I realized that ew can compare the values in the technosphere matrix for the static and Monte Carlo cases and see how different the input amounts are:"
   ]
  },
  {
   "cell_type": "code",
   "execution_count": 15,
   "id": "1a73e786-3822-4d96-a740-8efaf7f50785",
   "metadata": {},
   "outputs": [],
   "source": [
    "def compare_inputs_two_lca_objects(first, second, column_id):\n",
    "    column_index = first.dicts.activity[column_id]\n",
    "    results = []\n",
    "    \n",
    "    for row in first.technosphere_matrix[:, column_index].tocoo().row:\n",
    "        a = abs(first.technosphere_matrix[row, column_index])\n",
    "        b = abs(second.technosphere_matrix[row, column_index])\n",
    "        try:\n",
    "            ratio = a / b\n",
    "        except ZeroDivisionError:\n",
    "            ratio = 0\n",
    "        if ratio > 10 or ratio < 0.1:\n",
    "            act = bd.get_activity(first.dicts.product.reversed[row])\n",
    "            results.append({\n",
    "                'ratio': ratio, \n",
    "                'a_value': a,\n",
    "                'b_value': b,\n",
    "                'name': act['name'],\n",
    "                'location': act['name'],\n",
    "                'act_id': act.id,\n",
    "            })\n",
    "            \n",
    "    if results:\n",
    "        results.sort(key=lambda x: x['ratio'], reverse=True)\n",
    "        results = pd.DataFrame(results)\n",
    "    return results"
   ]
  },
  {
   "cell_type": "code",
   "execution_count": 16,
   "id": "13061d5f-1482-4a3f-b0e2-3da74bf52d57",
   "metadata": {},
   "outputs": [
    {
     "data": {
      "text/html": [
       "<div>\n",
       "<style scoped>\n",
       "    .dataframe tbody tr th:only-of-type {\n",
       "        vertical-align: middle;\n",
       "    }\n",
       "\n",
       "    .dataframe tbody tr th {\n",
       "        vertical-align: top;\n",
       "    }\n",
       "\n",
       "    .dataframe thead th {\n",
       "        text-align: right;\n",
       "    }\n",
       "</style>\n",
       "<table border=\"1\" class=\"dataframe\">\n",
       "  <thead>\n",
       "    <tr style=\"text-align: right;\">\n",
       "      <th></th>\n",
       "      <th>ratio</th>\n",
       "      <th>a_value</th>\n",
       "      <th>b_value</th>\n",
       "      <th>name</th>\n",
       "      <th>location</th>\n",
       "      <th>act_id</th>\n",
       "    </tr>\n",
       "  </thead>\n",
       "  <tbody>\n",
       "    <tr>\n",
       "      <th>0</th>\n",
       "      <td>1726.007803</td>\n",
       "      <td>17.260078</td>\n",
       "      <td>0.010000</td>\n",
       "      <td>market for chemical, inorganic</td>\n",
       "      <td>market for chemical, inorganic</td>\n",
       "      <td>14207</td>\n",
       "    </tr>\n",
       "    <tr>\n",
       "      <th>1</th>\n",
       "      <td>1683.925576</td>\n",
       "      <td>1.683926</td>\n",
       "      <td>0.001000</td>\n",
       "      <td>market for chemical, organic</td>\n",
       "      <td>market for chemical, organic</td>\n",
       "      <td>5475</td>\n",
       "    </tr>\n",
       "    <tr>\n",
       "      <th>2</th>\n",
       "      <td>1346.659786</td>\n",
       "      <td>17.420700</td>\n",
       "      <td>0.012936</td>\n",
       "      <td>market for rosin size, for paper production</td>\n",
       "      <td>market for rosin size, for paper production</td>\n",
       "      <td>8907</td>\n",
       "    </tr>\n",
       "    <tr>\n",
       "      <th>3</th>\n",
       "      <td>1299.454719</td>\n",
       "      <td>35.168144</td>\n",
       "      <td>0.027064</td>\n",
       "      <td>market for rosin size, for paper production</td>\n",
       "      <td>market for rosin size, for paper production</td>\n",
       "      <td>6383</td>\n",
       "    </tr>\n",
       "    <tr>\n",
       "      <th>4</th>\n",
       "      <td>0.057935</td>\n",
       "      <td>0.001086</td>\n",
       "      <td>0.018750</td>\n",
       "      <td>market for potato starch</td>\n",
       "      <td>market for potato starch</td>\n",
       "      <td>21449</td>\n",
       "    </tr>\n",
       "  </tbody>\n",
       "</table>\n",
       "</div>"
      ],
      "text/plain": [
       "         ratio    a_value   b_value  \\\n",
       "0  1726.007803  17.260078  0.010000   \n",
       "1  1683.925576   1.683926  0.001000   \n",
       "2  1346.659786  17.420700  0.012936   \n",
       "3  1299.454719  35.168144  0.027064   \n",
       "4     0.057935   0.001086  0.018750   \n",
       "\n",
       "                                          name  \\\n",
       "0               market for chemical, inorganic   \n",
       "1                 market for chemical, organic   \n",
       "2  market for rosin size, for paper production   \n",
       "3  market for rosin size, for paper production   \n",
       "4                     market for potato starch   \n",
       "\n",
       "                                      location  act_id  \n",
       "0               market for chemical, inorganic   14207  \n",
       "1                 market for chemical, organic    5475  \n",
       "2  market for rosin size, for paper production    8907  \n",
       "3  market for rosin size, for paper production    6383  \n",
       "4                     market for potato starch   21449  "
      ]
     },
     "execution_count": 16,
     "metadata": {},
     "output_type": "execute_result"
    }
   ],
   "source": [
    "compare_inputs_two_lca_objects(mc, static, tissue.id)"
   ]
  },
  {
   "cell_type": "markdown",
   "id": "91757eb4-5d0a-4d2e-89f6-8b2404674bcf",
   "metadata": {},
   "source": [
    "We are finally getting somewhere! We have four inputs to the tissue paper where the static amounts are **much less** than the stochastic values sampled. Let's look at one of the uncertainty distributions ([here is the activity dataset at ecoinvent](https://v38.ecoquery.ecoinvent.org/Details/UPR/62960c80-c028-44d4-9d45-a4a6a7a689c6/dd7f13f5-0658-489c-a19c-f2ff8a00bdd9)):"
   ]
  },
  {
   "cell_type": "code",
   "execution_count": 17,
   "id": "0edfd1a1-fc05-4e2d-ad6b-6aa7748d2f23",
   "metadata": {},
   "outputs": [
    {
     "data": {
      "text/plain": [
       "{'uncertainty type': 5,\n",
       " 'minimum': 0.0,\n",
       " 'loc': 0.0129362298845668,\n",
       " 'maximum': 80.0}"
      ]
     },
     "execution_count": 17,
     "metadata": {},
     "output_type": "execute_result"
    }
   ],
   "source": [
    "exc = next(exc for exc in tissue.technosphere() if exc.input.id == 8907)\n",
    "dist = {attr: exc.get(attr) for attr in ('uncertainty type', 'minimum', 'loc', 'maximum')}\n",
    "dist"
   ]
  },
  {
   "cell_type": "markdown",
   "id": "b4040ba1-e5db-4aac-b247-89184a4d1e60",
   "metadata": {},
   "source": [
    "`5` is the [triangular distribution](https://en.wikipedia.org/wiki/Triangular_distribution), this comes from [stats_arrays](https://stats-arrays.readthedocs.io/en/latest/).\n",
    "\n",
    "So, what does this mean? Let's look at the statistics:"
   ]
  },
  {
   "cell_type": "code",
   "execution_count": 18,
   "id": "eaeee622-0070-4ed5-8fbb-731cdc085579",
   "metadata": {},
   "outputs": [],
   "source": [
    "import stats_arrays as sa"
   ]
  },
  {
   "cell_type": "code",
   "execution_count": 19,
   "id": "39c12ede-f23f-45e4-8691-2b16837dd505",
   "metadata": {},
   "outputs": [
    {
     "data": {
      "text/plain": [
       "{'mean': 26.670978743294857,\n",
       " 'median': 23.436031337921335,\n",
       " 'mode': 0.0129362298845668,\n",
       " 'lower': 0.5080001645503973,\n",
       " 'upper': 71.05645127647223}"
      ]
     },
     "execution_count": 19,
     "metadata": {},
     "output_type": "execute_result"
    }
   ],
   "source": [
    "sa.TriangularUncertainty.statistics(sa.TriangularUncertainty.from_dicts(dist))"
   ]
  },
  {
   "cell_type": "markdown",
   "id": "0129aa69-6e19-47e6-8d50-5c69e97b89ce",
   "metadata": {},
   "source": [
    "When the mean is more than 200 times the static value used, it makes sense that the Monte Carlo results would be significantly biased. And we see a similar pattern in the other three exchanges with high ratios.\n",
    "\n",
    "Why didn't we see this in our recursive graph traversal? Because that uses the static exchange values instead of the values in the matrix itself:\n",
    "\n",
    "```python\n",
    "for exc in activity.technosphere():\n",
    "```\n",
    "\n",
    "We can change the function to use the values in the technosphere:"
   ]
  },
  {
   "cell_type": "code",
   "execution_count": 20,
   "id": "201f428f-e054-415c-ad8c-4c4a2ecedc2b",
   "metadata": {},
   "outputs": [],
   "source": [
    "import sys\n",
    "\n",
    "def print_recursive_calculation_sample_values(\n",
    "    activity,\n",
    "    lcia_method,\n",
    "    amount=1,\n",
    "    max_level=3,\n",
    "    cutoff=1e-2,\n",
    "    file_obj=None,\n",
    "    tab_character=\"  \",\n",
    "    __level=0,\n",
    "    __lca_obj=None,\n",
    "    __total_score=None,\n",
    "    __first=True,\n",
    "):\n",
    "    \"\"\"Traverse a supply chain graph, and calculate the LCA scores of each component. Prints the result with the format:\n",
    "\n",
    "    {tab_character * level }{fraction of total score} ({absolute LCA score for this input} | {amount of input}) {input activity}\n",
    "\n",
    "    Args:\n",
    "        activity: ``Activity``. The starting point of the supply chain graph.\n",
    "        lcia_method: tuple. LCIA method to use when traversing supply chain graph.\n",
    "        amount: int. Amount of ``activity`` to assess.\n",
    "        max_level: int. Maximum depth to traverse.\n",
    "        cutoff: float. Fraction of total score to use as cutoff when deciding whether to traverse deeper.\n",
    "        file_obj: File-like object (supports ``.write``), optional. Output will be written to this object if provided.\n",
    "        tab_character: str. Character to use to indicate indentation.\n",
    "\n",
    "    Internal args (used during recursion, do not touch);\n",
    "        __level: int.\n",
    "        __lca_obj: ``LCA``.\n",
    "        __total_score: float.\n",
    "        __first: bool.\n",
    "\n",
    "    Returns:\n",
    "        Nothing. Prints to ``sys.stdout`` or ``file_obj``\n",
    "\n",
    "    \"\"\"\n",
    "    activity = bd.get_activity(activity)\n",
    "    if file_obj is None:\n",
    "        file_obj = sys.stdout\n",
    "\n",
    "    if __lca_obj is None:\n",
    "        __lca_obj = bc.LCA({activity: amount}, lcia_method)\n",
    "        __lca_obj.lci()\n",
    "        __lca_obj.lcia()\n",
    "        __total_score = __lca_obj.score\n",
    "    elif __total_score is None:\n",
    "        raise ValueError\n",
    "    else:\n",
    "        __lca_obj.redo_lcia({activity.id: amount})\n",
    "        if abs(__lca_obj.score) <= abs(__total_score * cutoff):\n",
    "            return\n",
    "    if __first:\n",
    "        file_obj.write(\"Fraction of score | Absolute score | Amount | Activity\\n\")\n",
    "    message = \"{}{:04.3g} | {:5.4n} | {:5.4n} | {:.70}\".format(\n",
    "        tab_character * __level,\n",
    "        __lca_obj.score / __total_score,\n",
    "        __lca_obj.score,\n",
    "        float(amount),\n",
    "        str(activity),\n",
    "    )\n",
    "    file_obj.write(message + \"\\n\")\n",
    "    if __level < max_level:\n",
    "        prod_exchanges = list(activity.production())\n",
    "        if not prod_exchanges:\n",
    "            prod_amount = 1\n",
    "        elif len(prod_exchanges) > 1:\n",
    "            warn(\"Hit multiple production exchanges; aborting in this branch\")\n",
    "            return\n",
    "        else:\n",
    "            prod_amount = __lca_obj.technosphere_matrix[\n",
    "                __lca_obj.dicts.product[prod_exchanges[0].input.id],\n",
    "                __lca_obj.dicts.activity[prod_exchanges[0].output.id],\n",
    "            ]\n",
    "\n",
    "        for exc in activity.technosphere():\n",
    "            if exc.input.id == exc.output.id:\n",
    "                continue\n",
    "\n",
    "            # Everything except this section stays the same\n",
    "            # <<<\n",
    "            sign = -1 if exc.get('type') in ('technosphere', 'generic technosphere') else 1\n",
    "            tm_amount = __lca_obj.technosphere_matrix[\n",
    "                __lca_obj.dicts.product[exc.input.id],\n",
    "                __lca_obj.dicts.activity[exc.output.id],\n",
    "            ] * sign\n",
    "            # >>>\n",
    "            print_recursive_calculation_sample_values(\n",
    "                activity=exc.input,\n",
    "                lcia_method=lcia_method,\n",
    "                amount=amount * tm_amount / prod_amount,  # And here we use `tm_amount` instead of exc['amount']\n",
    "                max_level=max_level,\n",
    "                cutoff=cutoff,\n",
    "                file_obj=file_obj,\n",
    "                tab_character=tab_character,\n",
    "                __first=False,\n",
    "                __lca_obj=__lca_obj,\n",
    "                __total_score=__total_score,\n",
    "                __level=__level + 1,\n",
    "            )"
   ]
  },
  {
   "cell_type": "code",
   "execution_count": 21,
   "id": "2505e945-d4d0-4308-bff2-c4d2e340bab2",
   "metadata": {},
   "outputs": [
    {
     "name": "stdout",
     "output_type": "stream",
     "text": [
      "Fraction of score | Absolute score | Amount | Activity\n",
      "0001 |   134 |     1 | 'tissue paper production, virgin' (kilogram, GLO, None)\n",
      "  0.0297 | 3.984 | 1.684 | 'market for chemical, organic' (kilogram, GLO, None)\n",
      "    0.0297 | 3.984 | 1.684 | 'chemical production, organic' (kilogram, GLO, None)\n",
      "  0.258 | 34.64 | 17.26 | 'market for chemical, inorganic' (kilogram, GLO, None)\n",
      "    0.258 | 34.64 | 17.26 | 'chemical production, inorganic' (kilogram, GLO, None)\n",
      "      0.026 | 3.489 | 0.4632 | 'market for titanium dioxide' (kilogram, RoW, None)\n",
      "      0.0322 | 4.313 | 1.287 | 'market for sodium chlorate, powder' (kilogram, RoW, None)\n",
      "        0.0314 | 4.212 | 1.284 | 'sodium chlorate production, powder' (kilogram, RoW, None)\n",
      "  0.278 | 37.31 | 17.42 | 'market for rosin size, for paper production' (kilogram, RER, None)\n",
      "    0.273 | 36.65 | 17.42 | 'rosin size production, for paper production' (kilogram, RER, None)\n",
      "      0.0318 | 4.258 | 2.494 | 'market for sodium hydroxide, without water, in 50% solution state' (k\n",
      "        0.0311 | 4.174 | 2.494 | 'sodium hydroxide to generic market for neutralising agent' (kilogram,\n",
      "          0.0311 | 4.174 | 2.494 | 'market for neutralising agent, sodium hydroxide-equivalent' (kilogram\n",
      "      0.242 | 32.39 | 13.55 | 'market for soap' (kilogram, GLO, None)\n",
      "        0.0856 | 11.47 | 4.479 | 'soap production' (kilogram, RER, None)\n",
      "          0.0386 | 5.171 | 3.354 | 'market for palm oil, crude' (kilogram, GLO, None)\n",
      "        0.147 | 19.71 | 9.069 | 'soap production' (kilogram, RoW, None)\n",
      "          0.0304 | 4.079 | 1.109 | 'market for coconut oil, crude' (kilogram, GLO, None)\n",
      "          0.0645 | 8.642 | 5.605 | 'market for palm oil, crude' (kilogram, GLO, None)\n",
      "  0.394 | 52.86 | 35.17 | 'market for rosin size, for paper production' (kilogram, RoW, None)\n",
      "    0.363 | 48.59 | 35.17 | 'rosin size production, for paper production' (kilogram, RoW, None)\n",
      "      0.153 | 20.55 | 12.04 | 'market for sodium hydroxide, without water, in 50% solution state' (k\n",
      "        0.15 | 20.15 | 12.04 | 'sodium hydroxide to generic market for neutralising agent' (kilogram,\n",
      "          0.15 | 20.15 | 12.04 | 'market for neutralising agent, sodium hydroxide-equivalent' (kilogram\n",
      "      0.209 | 28.04 | 11.73 | 'market for soap' (kilogram, GLO, None)\n",
      "        0.0741 |  9.93 | 3.877 | 'soap production' (kilogram, RER, None)\n",
      "          0.0334 | 4.476 | 2.903 | 'market for palm oil, crude' (kilogram, GLO, None)\n",
      "        0.127 | 17.07 |  7.85 | 'soap production' (kilogram, RoW, None)\n",
      "          0.0263 | 3.531 | 0.9604 | 'market for coconut oil, crude' (kilogram, GLO, None)\n",
      "          0.0558 | 7.481 | 4.852 | 'market for palm oil, crude' (kilogram, GLO, None)\n"
     ]
    }
   ],
   "source": [
    "print_recursive_calculation_sample_values(\n",
    "    tissue,\n",
    "    ipcc,\n",
    "    amount=1,\n",
    "    max_level=5,\n",
    "    cutoff=0.025,\n",
    "    __lca_obj=mc,\n",
    "    __total_score=mc.score,\n",
    ")"
   ]
  },
  {
   "cell_type": "markdown",
   "id": "023f76d0-06dd-4244-a353-e991825755da",
   "metadata": {},
   "source": [
    "We can now find interesting results more quickly. This function will be updated in `bw2analyzer` real soon now™."
   ]
  }
 ],
 "metadata": {
  "kernelspec": {
   "display_name": "Python 3 (ipykernel)",
   "language": "python",
   "name": "python3"
  },
  "language_info": {
   "codemirror_mode": {
    "name": "ipython",
    "version": 3
   },
   "file_extension": ".py",
   "mimetype": "text/x-python",
   "name": "python",
   "nbconvert_exporter": "python",
   "pygments_lexer": "ipython3",
   "version": "3.10.4"
  }
 },
 "nbformat": 4,
 "nbformat_minor": 5
}
