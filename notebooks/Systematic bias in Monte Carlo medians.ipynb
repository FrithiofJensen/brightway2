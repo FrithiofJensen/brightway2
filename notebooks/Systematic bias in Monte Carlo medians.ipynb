{
 "cells": [
  {
   "cell_type": "markdown",
   "id": "1011e5f0-2409-432d-8bdc-865b6b09166d",
   "metadata": {},
   "source": [
    "# Systematic bias in Monte Carlo median scores\n",
    "\n",
    "Based on [this SO question](https://stackoverflow.com/questions/72660400/variation-between-montecarlo-mean-score-and-static-lca-score/72662031?noredirect=1#comment128732500_72662031). Reproduce questions results:"
   ]
  },
  {
   "cell_type": "code",
   "execution_count": 169,
   "id": "8054a49f-b8a4-49f2-945e-bc5a0fcc0940",
   "metadata": {},
   "outputs": [],
   "source": [
    "import bw2calc as bc\n",
    "import bw2data as bd\n",
    "import bw2analyzer as ba\n",
    "import seaborn as sb\n",
    "import pandas as pd\n",
    "import numpy as np\n",
    "from matplotlib import pyplot as plt"
   ]
  },
  {
   "cell_type": "code",
   "execution_count": 4,
   "id": "570792c3-2b88-46e7-b4fa-db2ded07d2be",
   "metadata": {},
   "outputs": [],
   "source": [
    "bd.projects.set_current('GSA for archetypes')  # Some project with ecoinvent 3.8, any system model"
   ]
  },
  {
   "cell_type": "code",
   "execution_count": 6,
   "id": "bc6d0f5c-2f49-4551-8495-d8a0ddba6f7c",
   "metadata": {},
   "outputs": [],
   "source": [
    "ei = bd.Database('ecoinvent 3.8 cutoff')"
   ]
  },
  {
   "cell_type": "code",
   "execution_count": 8,
   "id": "d16f0d13-eee7-4b05-8d6e-645694612433",
   "metadata": {},
   "outputs": [],
   "source": [
    "cc = ('EF v3.0 no LT', 'climate change no LT', 'global warming potential (GWP100) no LT')"
   ]
  },
  {
   "cell_type": "code",
   "execution_count": 9,
   "id": "9e12e7ec-c3a8-47ba-a63e-fedc70a08bee",
   "metadata": {},
   "outputs": [],
   "source": [
    "act = ei.get(name='battery cell production, Li-ion, NMC111', location='CN')"
   ]
  },
  {
   "cell_type": "code",
   "execution_count": 10,
   "id": "220220de-76c2-4bdf-beea-387f0ad082f8",
   "metadata": {},
   "outputs": [
    {
     "data": {
      "text/plain": [
       "18.151654396465364"
      ]
     },
     "execution_count": 10,
     "metadata": {},
     "output_type": "execute_result"
    }
   ],
   "source": [
    "static = bc.LCA({act: 1}, cc)\n",
    "static.lci()\n",
    "static.lcia()\n",
    "static.score"
   ]
  },
  {
   "cell_type": "code",
   "execution_count": 152,
   "id": "bfc3e048-89a4-4ac4-bc47-2c7b976ffb1c",
   "metadata": {},
   "outputs": [],
   "source": [
    "mc = bc.LCA({act: 1}, cc, use_distributions=True)\n",
    "mc.lci()\n",
    "mc.lcia()"
   ]
  },
  {
   "cell_type": "code",
   "execution_count": 156,
   "id": "c068ee94-cfc2-47bf-8106-41e66fe66769",
   "metadata": {},
   "outputs": [],
   "source": [
    "results = np.array([mc.score for _ in zip(mc, range(50))])"
   ]
  },
  {
   "cell_type": "code",
   "execution_count": 157,
   "id": "8295a572-66fa-459f-ab1c-878595d9d83b",
   "metadata": {},
   "outputs": [
    {
     "data": {
      "text/plain": [
       "(20.56367951612979, 20.70542128862659)"
      ]
     },
     "execution_count": 157,
     "metadata": {},
     "output_type": "execute_result"
    }
   ],
   "source": [
    "np.mean(results), np.median(results)"
   ]
  },
  {
   "cell_type": "markdown",
   "id": "b7df03fc-c91d-4762-9a0c-19ec27f030a4",
   "metadata": {},
   "source": [
    "## Make sure our theory on multiplying lognormals is correct\n",
    "\n",
    "Should be ~1"
   ]
  },
  {
   "cell_type": "code",
   "execution_count": 27,
   "id": "808c63cd-8233-4ddc-8e41-7726e4517c86",
   "metadata": {},
   "outputs": [
    {
     "data": {
      "text/plain": [
       "0.9986066394872015"
      ]
     },
     "execution_count": 27,
     "metadata": {},
     "output_type": "execute_result"
    }
   ],
   "source": [
    "np.median(np.random.lognormal(size=1000) * np.random.lognormal(size=1000))"
   ]
  },
  {
   "cell_type": "markdown",
   "id": "75e695af-3b46-4ad7-8120-f902158615a3",
   "metadata": {},
   "source": [
    "## Try building a much smaller system and check behaviour"
   ]
  },
  {
   "cell_type": "code",
   "execution_count": 158,
   "id": "ae343a7e-edff-428f-bb96-8d6c47e65899",
   "metadata": {},
   "outputs": [],
   "source": [
    "def build_matrix(a, b, c, d):\n",
    "    return np.matrix([[a, b], [c, d]])\n",
    "\n",
    "def build_random_matrix(sigma=0.1):\n",
    "    b = -1 * np.random.lognormal(mean=np.log(0.1), sigma=sigma)    \n",
    "    c = -1 * np.random.lognormal(mean=np.log(0.5), sigma=sigma)\n",
    "    return build_matrix(1, b, c, 1)\n",
    "\n",
    "def solve_uncertain(sigma=0.1, verbose=False):\n",
    "    matrix = build_random_matrix(sigma=sigma)\n",
    "    if verbose:\n",
    "        print(matrix)\n",
    "    supply = np.linalg.solve(matrix, np.array([1, 0]))\n",
    "    if verbose:\n",
    "        print(supply)\n",
    "    biosphere = build_matrix(0, np.random.lognormal(mean=np.log(5), sigma=sigma), 0, 0)\n",
    "    if verbose:\n",
    "        print(biosphere)\n",
    "    return (biosphere @ supply).sum()\n",
    "\n",
    "def solve_certain():\n",
    "    supply = np.linalg.solve(build_matrix(1, -0.1, -0.5, 1), np.array([1, 0]))\n",
    "    biosphere = build_matrix(0, 5, 0, 0)\n",
    "    return (biosphere @ supply).sum()"
   ]
  },
  {
   "cell_type": "code",
   "execution_count": 109,
   "id": "38bc8231-7b32-4dc8-b67f-2a469cb188b4",
   "metadata": {},
   "outputs": [
    {
     "data": {
      "text/plain": [
       "2.631578947368421"
      ]
     },
     "execution_count": 109,
     "metadata": {},
     "output_type": "execute_result"
    }
   ],
   "source": [
    "solve_certain()"
   ]
  },
  {
   "cell_type": "markdown",
   "id": "1fa00087-5c25-40fd-a53f-91f2f699cbbd",
   "metadata": {},
   "source": [
    "In a 2x2 matrix with cycles we don't see the same behaviour"
   ]
  },
  {
   "cell_type": "code",
   "execution_count": 166,
   "id": "3e0c646e-4cc6-442c-b467-6c9a9e519152",
   "metadata": {},
   "outputs": [
    {
     "data": {
      "text/plain": [
       "2.6271094851619856"
      ]
     },
     "execution_count": 166,
     "metadata": {},
     "output_type": "execute_result"
    }
   ],
   "source": [
    "np.median([solve_uncertain(sigma=0.1) for _ in range(10000)])"
   ]
  },
  {
   "cell_type": "markdown",
   "id": "1e5b6698-32a8-443d-84d7-5227639fb35a",
   "metadata": {},
   "source": [
    "## Do large $\\sigma$ values matter?"
   ]
  },
  {
   "cell_type": "code",
   "execution_count": 172,
   "id": "a6b3db0e-ed61-4648-9f6a-1f4f16e69ee3",
   "metadata": {},
   "outputs": [],
   "source": [
    "xs = np.linspace(0.001, 0.75, 8)"
   ]
  },
  {
   "cell_type": "code",
   "execution_count": 173,
   "id": "2f543e96-9f72-498c-9d41-4213cbe82049",
   "metadata": {},
   "outputs": [],
   "source": [
    "ys = [np.median([solve_uncertain(sigma=sigma) for _ in range(10000)]) for sigma in xs]"
   ]
  },
  {
   "cell_type": "code",
   "execution_count": 174,
   "id": "e2595ac1-96d4-4cc8-80c1-7b8bc410ec49",
   "metadata": {},
   "outputs": [
    {
     "data": {
      "text/plain": [
       "<matplotlib.collections.PathCollection at 0x143a8a050>"
      ]
     },
     "execution_count": 174,
     "metadata": {},
     "output_type": "execute_result"
    },
    {
     "data": {
      "image/png": "[encoded data removed]",
      "text/plain": [
       "<Figure size 640x480 with 1 Axes>"
      ]
     },
     "metadata": {},
     "output_type": "display_data"
    }
   ],
   "source": [
    "plt.scatter(xs, ys)"
   ]
  },
  {
   "cell_type": "markdown",
   "id": "45c82067-73ee-48c6-bbcf-a3f877e797fa",
   "metadata": {},
   "source": [
    "Doesn't seem like it, these differences are too small compared to what we see with ecoinvent."
   ]
  },
  {
   "cell_type": "markdown",
   "id": "9518bdbc-0cab-40d3-826e-c3b30bff3292",
   "metadata": {},
   "source": [
    "## How big is the bias?"
   ]
  },
  {
   "cell_type": "code",
   "execution_count": 148,
   "id": "8e1a274f-8d13-4119-a8b0-b3558e897a49",
   "metadata": {},
   "outputs": [
    {
     "data": {
      "text/plain": [
       "<seaborn.axisgrid.FacetGrid at 0x138c73130>"
      ]
     },
     "execution_count": 148,
     "metadata": {},
     "output_type": "execute_result"
    },
    {
     "data": {
      "image/png": "[encoded data removed]",
      "text/plain": [
       "<Figure size 500x500 with 1 Axes>"
      ]
     },
     "metadata": {},
     "output_type": "display_data"
    }
   ],
   "source": [
    "sb.displot(results)"
   ]
  },
  {
   "cell_type": "markdown",
   "id": "fd717756-8e09-48a7-9b4c-46e41b9a939d",
   "metadata": {},
   "source": [
    "Actually rather substantial..."
   ]
  },
  {
   "cell_type": "markdown",
   "id": "2c8d4634-a57f-4c4a-a9d8-e159e430bbcd",
   "metadata": {},
   "source": [
    "## What about the other geometric and Gaussian distributions?\n",
    "\n",
    "Try to remove them."
   ]
  },
  {
   "cell_type": "code",
   "execution_count": 152,
   "id": "347ffacd-e6fa-4dce-9a7c-09bfea8ffc8a",
   "metadata": {},
   "outputs": [],
   "source": [
    "mc = bc.LCA({act: 1}, cc, use_distributions=True)\n",
    "mc.lci()\n",
    "mc.lcia()"
   ]
  },
  {
   "cell_type": "code",
   "execution_count": 154,
   "id": "e2d9bd60-72f0-4359-89f8-8b67136a9a1f",
   "metadata": {},
   "outputs": [],
   "source": [
    "for grp_list in mc.technosphere_mm.packages.values():\n",
    "    for group in grp_list:\n",
    "        try:\n",
    "            group.rng.params[group.rng.params['uncertainty_type'] > 2]['uncertainty_type'] = 0\n",
    "        except AttributeError:\n",
    "            pass"
   ]
  },
  {
   "cell_type": "code",
   "execution_count": 155,
   "id": "b9fb681d-c6ba-475f-a103-2513629f7ad0",
   "metadata": {},
   "outputs": [],
   "source": [
    "for grp_list in mc.biosphere_mm.packages.values():\n",
    "    for group in grp_list:\n",
    "        try:\n",
    "            group.rng.params[group.rng.params['uncertainty_type'] > 2]['uncertainty_type'] = 0\n",
    "        except AttributeError:\n",
    "            pass"
   ]
  },
  {
   "cell_type": "code",
   "execution_count": 156,
   "id": "b972a52c-0edc-40f9-a11d-52125b400673",
   "metadata": {},
   "outputs": [],
   "source": [
    "results = np.array([mc.score for _ in zip(mc, range(50))])"
   ]
  },
  {
   "cell_type": "markdown",
   "id": "ec202e37-990b-4403-a8fb-eebea0f48472",
   "metadata": {},
   "source": [
    "Doesn't seem to help."
   ]
  },
  {
   "cell_type": "code",
   "execution_count": 157,
   "id": "95748f7b-bcc6-4bd9-90b2-b15c566b390c",
   "metadata": {},
   "outputs": [
    {
     "data": {
      "text/plain": [
       "(20.56367951612979, 20.70542128862659)"
      ]
     },
     "execution_count": 157,
     "metadata": {},
     "output_type": "execute_result"
    }
   ],
   "source": [
    "np.mean(results), np.median(results)"
   ]
  },
  {
   "cell_type": "markdown",
   "id": "f4fec012-946a-4ad6-abc3-9dd37602e02e",
   "metadata": {},
   "source": [
    "## Can we find out where the numbers are larger?"
   ]
  },
  {
   "cell_type": "code",
   "execution_count": 24,
   "id": "2500400b-0044-4279-a23d-a37f5da192a2",
   "metadata": {},
   "outputs": [
    {
     "name": "stdout",
     "output_type": "stream",
     "text": [
      "Fraction of score | Absolute score | Amount | Activity\n",
      "0001 | 21.84 |     1 | 'battery cell production, Li-ion, NMC111' (kilogram, CN, None)\n",
      "  0.646 | 14.11 | 0.394 | 'market for cathode, NMC111, for Li-ion battery' (kilogram, CN, None)\n",
      "    0.646 |  14.1 | 0.394 | 'cathode production, NMC111, for Li-ion battery' (kilogram, CN, None)\n",
      "      0.0104 | 0.2274 | 0.1736 | 'market group for electricity, medium voltage' (kilowatt hour, CN, Non\n",
      "      0.0193 | 0.4215 | 10.19 | 'market for heat, district or industrial, natural gas' (megajoule, RoW\n",
      "      0.619 | 13.51 | 0.3743 | 'market for NMC111 oxide' (kilogram, CN, None)\n",
      "        0.619 | 13.51 | 0.3743 | 'NMC111 oxide production, for Li-ion battery' (kilogram, CN, None)\n",
      "  0.0789 | 1.722 | 0.2101 | 'market for anode, graphite, for Li-ion battery' (kilogram, CN, None)\n",
      "    0.0787 |  1.72 | 0.2101 | 'anode production, graphite, for Li-ion battery' (kilogram, CN, None)\n",
      "      0.0666 | 1.455 | 0.1975 | 'market for synthetic graphite, battery grade' (kilogram, CN, None)\n",
      "        0.0665 | 1.453 | 0.1975 | 'synthetic graphite production, battery grade' (kilogram, CN, None)\n",
      "  0.0803 | 1.755 | 1.339 | 'market group for electricity, medium voltage' (kilowatt hour, CN, Non\n",
      "    0.0737 | 1.609 | 1.226 | 'market for electricity, medium voltage' (kilowatt hour, CN-SGCC, None\n",
      "      0.0735 | 1.605 |  1.23 | 'electricity voltage transformation from high to medium voltage' (kilo\n",
      "        0.0602 | 1.315 | 1.237 | 'market for electricity, high voltage' (kilowatt hour, CN-SGCC, None)\n",
      "  0.0365 | 0.796 | 0.1378 | 'market for electrolyte, for Li-ion battery' (kilogram, GLO, None)\n",
      "    0.0365 | 0.796 | 0.1378 | 'electrolyte production, for Li-ion battery' (kilogram, GLO, None)\n",
      "      0.0208 | 0.4534 | 0.01736 | 'market for lithium hexafluorophosphate' (kilogram, GLO, None)\n",
      "        0.0196 | 0.4281 | 0.0165 | 'lithium hexafluorophosphate production' (kilogram, RoW, None)\n",
      "  0.0185 | 0.404 | 0.02837 | 'market for aluminium, wrought alloy' (kilogram, GLO, None)\n",
      "    0.0181 | 0.3951 | 0.01975 | 'aluminium ingot, primary, to aluminium, wrought alloy market' (kilogr\n",
      "      0.0159 | 0.3463 | 0.01534 | 'market for aluminium, primary, ingot' (kilogram, RoW, None)\n",
      "        0.012 | 0.2624 | 0.01079 | 'aluminium production, primary, ingot' (kilogram, CN, None)\n",
      "  0.0118 | 0.2573 | 0.03446 | 'market for copper, anode' (kilogram, GLO, None)\n",
      "  0.0384 | 0.8382 | 0.03409 | 'market for aluminium collector foil, for Li-ion battery' (kilogram, G\n",
      "    0.0381 | 0.8326 | 0.03409 | 'aluminium collector foil production, for Li-ion battery' (kilogram, G\n",
      "      0.0222 | 0.4854 | 0.03409 | 'market for aluminium, wrought alloy' (kilogram, GLO, None)\n",
      "        0.0217 | 0.4746 | 0.02372 | 'aluminium ingot, primary, to aluminium, wrought alloy market' (kilogr\n",
      "  0.0238 | 0.5195 | 12.56 | 'market for heat, district or industrial, natural gas' (megajoule, RoW\n",
      "    0.0106 | 0.2311 | 4.551 | 'heat and power co-generation, natural gas, conventional power plant, \n",
      "  0.0528 | 1.152 | 0.1132 | 'market for copper collector foil, for Li-ion battery' (kilogram, GLO,\n",
      "    0.0522 | 1.139 | 0.1132 | 'copper collector foil production, for Li-ion battery' (kilogram, GLO,\n",
      "      0.0445 | 0.9724 | 0.1132 | 'market for copper, cathode' (kilogram, GLO, None)\n",
      "        0.0317 | 0.6914 | 0.06851 | 'electrorefining of copper, anode' (kilogram, GLO, None)\n"
     ]
    }
   ],
   "source": [
    "ba.utils.print_recursive_calculation(act, cc, max_level=4, use_matrix_values=True, _lca_obj=mc, _total_score=mc.score)"
   ]
  },
  {
   "cell_type": "code",
   "execution_count": 25,
   "id": "75ab7cd6-c37e-49ce-9e6a-683187bb1b9b",
   "metadata": {},
   "outputs": [
    {
     "name": "stdout",
     "output_type": "stream",
     "text": [
      "Fraction of score | Absolute score | Amount | Activity\n",
      "0001 | 18.15 |     1 | 'battery cell production, Li-ion, NMC111' (kilogram, CN, None)\n",
      "  0.668 | 12.12 |  0.41 | 'market for cathode, NMC111, for Li-ion battery' (kilogram, CN, None)\n",
      "    0.667 | 12.11 |  0.41 | 'cathode production, NMC111, for Li-ion battery' (kilogram, CN, None)\n",
      "      0.0106 | 0.1916 | 0.1806 | 'market group for electricity, medium voltage' (kilowatt hour, CN, Non\n",
      "      0.0226 | 0.4107 |  10.6 | 'market for heat, district or industrial, natural gas' (megajoule, RoW\n",
      "      0.622 | 11.29 | 0.3895 | 'market for NMC111 oxide' (kilogram, CN, None)\n",
      "        0.622 | 11.29 | 0.3895 | 'NMC111 oxide production, for Li-ion battery' (kilogram, CN, None)\n",
      "  0.0697 | 1.265 |   0.2 | 'market for anode, graphite, for Li-ion battery' (kilogram, CN, None)\n",
      "    0.0696 | 1.263 |   0.2 | 'anode production, graphite, for Li-ion battery' (kilogram, CN, None)\n",
      "      0.0583 | 1.059 | 0.188 | 'market for synthetic graphite, battery grade' (kilogram, CN, None)\n",
      "        0.0582 | 1.057 | 0.188 | 'synthetic graphite production, battery grade' (kilogram, CN, None)\n",
      "  0.0694 |  1.26 | 1.188 | 'market group for electricity, medium voltage' (kilowatt hour, CN, Non\n",
      "    0.0655 | 1.189 | 1.087 | 'market for electricity, medium voltage' (kilowatt hour, CN-SGCC, None\n",
      "      0.0652 | 1.183 | 1.091 | 'electricity voltage transformation from high to medium voltage' (kilo\n",
      "        0.0652 | 1.183 | 1.097 | 'market for electricity, high voltage' (kilowatt hour, CN-SGCC, None)\n",
      "  0.0387 | 0.7022 | 0.146 | 'market for electrolyte, for Li-ion battery' (kilogram, GLO, None)\n",
      "    0.0387 | 0.7022 | 0.146 | 'electrolyte production, for Li-ion battery' (kilogram, GLO, None)\n",
      "      0.021 | 0.3815 | 0.0184 | 'market for lithium hexafluorophosphate' (kilogram, GLO, None)\n",
      "        0.0198 | 0.3601 | 0.01749 | 'lithium hexafluorophosphate production' (kilogram, RoW, None)\n",
      "  0.0219 | 0.3975 | 0.0283 | 'market for aluminium, wrought alloy' (kilogram, GLO, None)\n",
      "    0.0215 | 0.3903 | 0.0197 | 'aluminium ingot, primary, to aluminium, wrought alloy market' (kilogr\n",
      "      0.019 | 0.3456 | 0.0153 | 'market for aluminium, primary, ingot' (kilogram, RoW, None)\n",
      "        0.0143 | 0.2602 | 0.01076 | 'aluminium production, primary, ingot' (kilogram, CN, None)\n",
      "  0.011 | 0.199 | 0.0335 | 'market for copper, anode' (kilogram, GLO, None)\n",
      "  0.0264 | 0.4797 |  0.03 | 'market for aluminium collector foil, for Li-ion battery' (kilogram, G\n",
      "    0.0262 | 0.4761 |  0.03 | 'aluminium collector foil production, for Li-ion battery' (kilogram, G\n",
      "      0.0232 | 0.4214 |  0.03 | 'market for aluminium, wrought alloy' (kilogram, GLO, None)\n",
      "        0.0228 | 0.4138 | 0.02088 | 'aluminium ingot, primary, to aluminium, wrought alloy market' (kilogr\n",
      "  0.0267 | 0.4845 | 12.51 | 'market for heat, district or industrial, natural gas' (megajoule, RoW\n",
      "    0.0112 | 0.2038 | 4.533 | 'heat and power co-generation, natural gas, conventional power plant, \n",
      "  0.0566 | 1.028 |  0.12 | 'market for copper collector foil, for Li-ion battery' (kilogram, GLO,\n",
      "    0.0559 | 1.014 |  0.12 | 'copper collector foil production, for Li-ion battery' (kilogram, GLO,\n",
      "      0.0442 | 0.8025 |  0.12 | 'market for copper, cathode' (kilogram, GLO, None)\n",
      "        0.0329 | 0.5979 | 0.0726 | 'electrorefining of copper, anode' (kilogram, GLO, None)\n"
     ]
    }
   ],
   "source": [
    "ba.utils.print_recursive_calculation(act, cc, max_level=4)"
   ]
  },
  {
   "cell_type": "markdown",
   "id": "17cad88a-df3f-48d0-9b32-cac8662ed0c7",
   "metadata": {},
   "source": [
    "Not immediately, and this is only one iteration."
   ]
  },
  {
   "cell_type": "code",
   "execution_count": null,
   "id": "e473ffd2-9d1a-467e-afa9-ffd2d269e770",
   "metadata": {},
   "outputs": [],
   "source": []
  }
 ],
 "metadata": {
  "kernelspec": {
   "display_name": "Python 3 (ipykernel)",
   "language": "python",
   "name": "python3"
  },
  "language_info": {
   "codemirror_mode": {
    "name": "ipython",
    "version": 3
   },
   "file_extension": ".py",
   "mimetype": "text/x-python",
   "name": "python",
   "nbconvert_exporter": "python",
   "pygments_lexer": "ipython3",
   "version": "3.10.4"
  }
 },
 "nbformat": 4,
 "nbformat_minor": 5
}
