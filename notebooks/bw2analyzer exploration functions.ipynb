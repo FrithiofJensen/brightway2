{
 "cells": [
  {
   "cell_type": "markdown",
   "id": "fluid-frank",
   "metadata": {},
   "source": [
    "# bw2analyzer exploration functions\n",
    "\n",
    "This notebook shows some new exploration functions addedd to `bw2analyzer`."
   ]
  },
  {
   "cell_type": "code",
   "execution_count": 1,
   "id": "prerequisite-extent",
   "metadata": {},
   "outputs": [],
   "source": [
    "import bw2data as bd\n",
    "import bw2analyzer as ba\n",
    "import bw2calc as bc\n",
    "import bw2io as bi"
   ]
  },
  {
   "cell_type": "markdown",
   "id": "occupied-classics",
   "metadata": {},
   "source": [
    "We use `ecoinvent` as an example database, but the functions shown here are generic."
   ]
  },
  {
   "cell_type": "code",
   "execution_count": 2,
   "id": "harmful-claim",
   "metadata": {},
   "outputs": [],
   "source": [
    "bd.projects.set_current(\"ecoinvent 3.7.1 bw2\")"
   ]
  },
  {
   "cell_type": "markdown",
   "id": "silver-gossip",
   "metadata": {},
   "source": [
    "## `print_recursive_supply_chain`\n",
    "\n",
    "Sometimes it is convenient to print the supply chain of an activity. This function is only for exploration; use `bw2calc.GraphTraversal` in production."
   ]
  },
  {
   "cell_type": "code",
   "execution_count": 3,
   "id": "expressed-forth",
   "metadata": {},
   "outputs": [],
   "source": [
    "ei = bd.Database(\"ecoinvent 3.7.1\")"
   ]
  },
  {
   "cell_type": "code",
   "execution_count": 4,
   "id": "circular-baking",
   "metadata": {},
   "outputs": [
    {
     "data": {
      "text/plain": [
       "'heat and power co-generation, natural gas, conventional power plant, 100MW electrical' (kilowatt hour, PT, None)"
      ]
     },
     "execution_count": 4,
     "metadata": {},
     "output_type": "execute_result"
    }
   ],
   "source": [
    "act = bd.get_activity(('ecoinvent 3.7.1', 'b28714960dbd0334840bbcecaf2c88c8'))\n",
    "act"
   ]
  },
  {
   "cell_type": "code",
   "execution_count": 5,
   "id": "split-location",
   "metadata": {},
   "outputs": [
    {
     "name": "stdout",
     "output_type": "stream",
     "text": [
      "1: 'heat and power co-generation, natural gas, conventional power plant, \n",
      "  0.246: 'market group for natural gas, high pressure' (cubic meter, Europe wit\n",
      "    0.00324: 'market for natural gas, high pressure' (cubic meter, AT, None)\n",
      "    0.0141: 'market for natural gas, high pressure' (cubic meter, BE, None)\n",
      "    0.00525: 'market for natural gas, high pressure' (cubic meter, CZ, None)\n",
      "    0.0496: 'market for natural gas, high pressure' (cubic meter, DE, None)\n",
      "    0.000666: 'market for natural gas, high pressure' (cubic meter, DK, None)\n",
      "    0.00749: 'market for natural gas, high pressure' (cubic meter, ES, None)\n",
      "    0.00166: 'market for natural gas, high pressure' (cubic meter, FI, None)\n",
      "    0.0145: 'market for natural gas, high pressure' (cubic meter, FR, None)\n",
      "    0.036: 'market for natural gas, high pressure' (cubic meter, GB, None)\n",
      "    0.0013: 'market for natural gas, high pressure' (cubic meter, GR, None)\n",
      "    0.0028: 'market for natural gas, high pressure' (cubic meter, HU, None)\n",
      "    0.00232: 'market for natural gas, high pressure' (cubic meter, IE, None)\n",
      "    0.0247: 'market for natural gas, high pressure' (cubic meter, IT, None)\n",
      "    0.0191: 'market for natural gas, high pressure' (cubic meter, NL, None)\n",
      "    0.0545: 'market for natural gas, high pressure' (cubic meter, NO, None)\n",
      "    0.00544: 'market for natural gas, high pressure' (cubic meter, PL, None)\n",
      "    0.000518: 'market for natural gas, high pressure' (cubic meter, SE, None)\n",
      "    0.00261: 'market for natural gas, high pressure' (cubic meter, SK, None)\n",
      "  0.0575: 'market for water, completely softened' (kilogram, RER, None)\n",
      "    0.0575: 'water production, completely softened' (kilogram, RER, None)\n",
      "  1.92: 'market for water, decarbonised' (kilogram, RoW, None)\n",
      "    2.4e-07: 'diethyl ether production' (kilogram, GLO, None)\n",
      "    1.92: 'water production, decarbonised' (kilogram, RoW, None)\n",
      "  -9.59e-06: 'market for residue from cooling tower' (kilogram, RoW, None)\n",
      "    9.59e-06: 'treatment of residue from cooling tower, sanitary landfill' (kilogram\n",
      "    -1.26e-08: 'market for transport, freight, lorry, unspecified' (ton kilometer, ZA\n",
      "    -1.73e-07: 'market for transport, freight, lorry, unspecified' (ton kilometer, Ro\n",
      "    -2.66e-08: 'market for transport, freight train' (ton kilometer, CN, None)\n",
      "    -5.95e-09: 'market for transport, freight train' (ton kilometer, Europe without S\n",
      "    -7.38e-09: 'market for transport, freight train' (ton kilometer, IN, None)\n",
      "    -2.91e-08: 'market for transport, freight train' (ton kilometer, US, None)\n",
      "    -1.87e-09: 'market for transport, freight train' (ton kilometer, ZA, None)\n",
      "    -3.65e-08: 'market for transport, freight train' (ton kilometer, RoW, None)\n",
      "  5.33e-10: 'gas power plant construction, 100MW electrical' (unit, RER, None)\n",
      "    1.28e-05: 'market for aluminium, cast alloy' (kilogram, GLO, None)\n",
      "    9.7e-07: 'market for concrete, normal' (cubic meter, CH, None)\n",
      "    8e-05: 'market for stone wool, packed' (kilogram, GLO, None)\n",
      "    8e-05: 'market for polyethylene, low density, granulate' (kilogram, GLO, None\n",
      "    0.000126: 'market group for electricity, medium voltage' (kilowatt hour, RER, No\n",
      "    2.72e-05: 'market for aluminium, wrought alloy' (kilogram, GLO, None)\n",
      "    0.00588: 'market group for heat, district or industrial, other than natural gas\n",
      "    4e-05: 'market for copper, cathode' (kilogram, GLO, None)\n",
      "    0.00618: 'market for diesel, burned in building machine' (megajoule, GLO, None)\n",
      "    0.000293: 'market for reinforcing steel' (kilogram, GLO, None)\n"
     ]
    }
   ],
   "source": [
    "ba.print_recursive_supply_chain(act)"
   ]
  },
  {
   "cell_type": "markdown",
   "id": "settled-operation",
   "metadata": {},
   "source": [
    "This function also supports:\n",
    "\n",
    "* Using a custom string instead of tabs for indentation\n",
    "* Writing to a file-like object instead of printing to `stdout`\n",
    "* Rescaling all amounts to an arbitrary value\n",
    "* Using a cutoff to limit what is returned\n",
    "* Specifying an arbitrary maximum recursion depth\n",
    "\n",
    "Here is a silly example of most of these options:"
   ]
  },
  {
   "cell_type": "code",
   "execution_count": 6,
   "id": "functioning-network",
   "metadata": {},
   "outputs": [
    {
     "name": "stdout",
     "output_type": "stream",
     "text": [
      "2: 'heat and power co-generation, natural gas, conventional power plant, \n",
      "🐶0.492: 'market group for natural gas, high pressure' (cubic meter, Europe wit\n",
      "🐶🐶0.0282: 'market for natural gas, high pressure' (cubic meter, BE, None)\n",
      "🐶🐶0.0993: 'market for natural gas, high pressure' (cubic meter, DE, None)\n",
      "🐶🐶🐶0.0604: 'transport, pipeline, long distance, natural gas' (ton kilometer, DE, \n",
      "🐶🐶🐶0.0213: 'natural gas, high pressure, import from NL' (cubic meter, DE, None)\n",
      "🐶🐶🐶0.0379: 'natural gas, high pressure, import from RU' (cubic meter, DE, None)\n",
      "🐶🐶🐶🐶0.127: 'transport, pipeline, long distance, natural gas' (ton kilometer, RU, \n",
      "🐶🐶🐶🐶0.0332: 'transport, pipeline, long distance, natural gas' (ton kilometer, RER \n",
      "🐶🐶🐶🐶0.0379: 'natural gas production' (cubic meter, RU, None)\n",
      "🐶🐶🐶🐶🐶0.0376: 'market for drying, natural gas' (cubic meter, GLO, None)\n",
      "🐶🐶🐶0.0319: 'natural gas, high pressure, import from NO' (cubic meter, DE, None)\n",
      "🐶🐶🐶🐶0.0319: 'petroleum and gas production, off-shore' (cubic meter, NO, None)\n",
      "🐶🐶0.029: 'market for natural gas, high pressure' (cubic meter, FR, None)\n",
      "🐶🐶🐶0.021: 'market for transport, pipeline, long distance, natural gas' (ton kilo\n",
      "🐶🐶0.072: 'market for natural gas, high pressure' (cubic meter, GB, None)\n",
      "🐶🐶🐶0.0317: 'natural gas, high pressure, import from NO' (cubic meter, GB, None)\n",
      "🐶🐶🐶🐶0.0317: 'petroleum and gas production, off-shore' (cubic meter, NO, None)\n",
      "🐶🐶🐶0.0284: 'petroleum and gas production, off-shore' (cubic meter, GB, None)\n",
      "🐶🐶0.0494: 'market for natural gas, high pressure' (cubic meter, IT, None)\n",
      "🐶🐶🐶0.0265: 'natural gas, high pressure, import from RU' (cubic meter, IT, None)\n",
      "🐶🐶🐶🐶0.089: 'transport, pipeline, long distance, natural gas' (ton kilometer, RU, \n",
      "🐶🐶🐶🐶0.0348: 'transport, pipeline, long distance, natural gas' (ton kilometer, RER \n",
      "🐶🐶🐶🐶0.0265: 'natural gas production' (cubic meter, RU, None)\n",
      "🐶🐶🐶🐶🐶0.0263: 'market for drying, natural gas' (cubic meter, GLO, None)\n",
      "🐶🐶0.0382: 'market for natural gas, high pressure' (cubic meter, NL, None)\n",
      "🐶🐶0.109: 'market for natural gas, high pressure' (cubic meter, NO, None)\n",
      "🐶🐶🐶0.055: 'transport, pipeline, onshore, long distance, natural gas' (ton kilome\n",
      "🐶🐶🐶0.0275: 'transport, pipeline, offshore, long distance, natural gas' (ton kilom\n",
      "🐶🐶🐶0.109: 'petroleum and gas production, off-shore' (cubic meter, NO, None)\n",
      "🐶🐶🐶🐶0.065: 'drying, natural gas' (cubic meter, NO, None)\n",
      "🐶🐶🐶🐶0.051: 'sweet gas, burned in gas turbine' (megajoule, NO, None)\n",
      "🐶0.115: 'market for water, completely softened' (kilogram, RER, None)\n",
      "🐶🐶0.115: 'water production, completely softened' (kilogram, RER, None)\n",
      "🐶3.84: 'market for water, decarbonised' (kilogram, RoW, None)\n",
      "🐶🐶3.84: 'water production, decarbonised' (kilogram, RoW, None)\n"
     ]
    }
   ],
   "source": [
    "ba.print_recursive_supply_chain(act, max_level=5, cutoff=0.02, tab_character=\"🐶\", amount=2)"
   ]
  },
  {
   "cell_type": "markdown",
   "id": "nervous-reward",
   "metadata": {},
   "source": [
    "## `print_recursive_calculation`\n",
    "\n",
    "We can do the same thing, but filter not by the amounts consumed but their respective environmental impacts."
   ]
  },
  {
   "cell_type": "code",
   "execution_count": 7,
   "id": "stopped-sussex",
   "metadata": {},
   "outputs": [],
   "source": [
    "ipcc = ('IPCC 2013', 'climate change', 'GWP 100a')"
   ]
  },
  {
   "cell_type": "code",
   "execution_count": 8,
   "id": "french-practice",
   "metadata": {},
   "outputs": [
    {
     "name": "stdout",
     "output_type": "stream",
     "text": [
      "Fraction of score | Absolute score | Amount | Activity\n",
      "0001 | 0.609 |     1 | 'heat and power co-generation, natural gas, conventional power plant, \n",
      "  0.148 | 0.09043 | 0.2459 | 'market group for natural gas, high pressure' (cubic meter, Europe wit\n",
      "    0.0102 | 0.006202 | 0.01408 | 'market for natural gas, high pressure' (cubic meter, BE, None)\n",
      "    0.0393 | 0.02394 | 0.04963 | 'market for natural gas, high pressure' (cubic meter, DE, None)\n",
      "      0.0244 | 0.01485 | 0.01894 | 'natural gas, high pressure, import from RU' (cubic meter, DE, None)\n",
      "    0.0241 | 0.0147 | 0.02472 | 'market for natural gas, high pressure' (cubic meter, IT, None)\n",
      "      0.0176 | 0.01075 | 0.01325 | 'natural gas, high pressure, import from RU' (cubic meter, IT, None)\n",
      "    0.0127 | 0.007755 | 0.05454 | 'market for natural gas, high pressure' (cubic meter, NO, None)\n"
     ]
    }
   ],
   "source": [
    "ba.print_recursive_calculation(act, ipcc)"
   ]
  },
  {
   "cell_type": "markdown",
   "id": "warming-attempt",
   "metadata": {},
   "source": [
    "This function supports the same arguments as `print_recursive_supply_chain`."
   ]
  },
  {
   "cell_type": "markdown",
   "id": "familiar-performance",
   "metadata": {},
   "source": [
    "## `find_differences_in_inputs`\n",
    "\n",
    "Some databases have multiple activities that seem similar, but it is hard to tell how different they really are. `find_differences_in_inputs` is one of three functions that helps distinguish between different activities. It will look through the database that the activity came from, find all other activities with the same name and reference product, and see if their inputs are substantially different.\n",
    "\n",
    "In our example activity, there are 60 different activities with the same name and reference product, so we limit the result to certain locations."
   ]
  },
  {
   "cell_type": "code",
   "execution_count": 9,
   "id": "manual-thanks",
   "metadata": {},
   "outputs": [],
   "source": [
    "canada = ['CA-BC', 'CA-AB', 'CA-NS', 'CA-MB', 'CA-QC', 'CA-PE', 'CA-ON', 'CA-NB', 'CA-SK', 'CA-NT']"
   ]
  },
  {
   "cell_type": "code",
   "execution_count": 10,
   "id": "international-valentine",
   "metadata": {},
   "outputs": [
    {
     "data": {
      "text/plain": [
       "{'heat and power co-generation, natural gas, conventional power plant, 100MW electrical' (kilowatt hour, PT, None): {'natural gas, high pressure': 0.245885675976663,\n",
       "  'water, completely softened': 0.0575372481785392,\n",
       "  'water, decarbonised': 1.91790827261797,\n",
       "  'residue from cooling tower': -9.58954136308986e-06,\n",
       "  'Hexane': 7.60450630093026e-06,\n",
       "  'Sulfur dioxide': 5.4852176596874e-06,\n",
       "  'Water': 0.05863365240771915,\n",
       "  'Acetic acid': 1.16033450493388e-06,\n",
       "  'Formaldehyde': 3.09742186027802e-07,\n",
       "  'Butane': 8.87991530222121e-06,\n",
       "  'Propane': 6.76062666097835e-06,\n",
       "  'Carbon monoxide, fossil': 0.000191790827261797,\n",
       "  'Carbon dioxide, fossil': 0.512081508788999,\n",
       "  'Dinitrogen monoxide': 9.36898191173883e-06,\n",
       "  'Water, cooling, unspecified natural origin': 0.0566582068869226,\n",
       "  'Particulates, < 2.5 um': 4.70846480927712e-06,\n",
       "  'PAH, polycyclic aromatic hydrocarbons': 7.67163309047189e-08,\n",
       "  'Nitrogen oxides': 0.000351936168025398,\n",
       "  'Propionic acid': 1.53432661809438e-07,\n",
       "  'Pentane': 1.10279725675534e-05,\n",
       "  'Ethane': 1.31376716674331e-05,\n",
       "  'Methane, fossil': 9.31144466356026e-06},\n",
       " 'heat and power co-generation, natural gas, conventional power plant, 100MW electrical' (kilowatt hour, CA-BC, None): {'residue from cooling tower': -9.39203129022735e-06,\n",
       "  'natural gas, high pressure': 0.240821315134035,\n",
       "  'water, completely softened': 0.0563521877413641,\n",
       "  'water, decarbonised': 1.87840625804547,\n",
       "  'Dinitrogen monoxide': 9.17601457055212e-06,\n",
       "  'Particulates, < 2.5 um': 4.61148736350163e-06,\n",
       "  'Nitrogen oxides': 0.000344687548351344,\n",
       "  'PAH, polycyclic aromatic hydrocarbons': 7.51362503218188e-08,\n",
       "  'Propionic acid': 1.50272500643637e-07,\n",
       "  'Ethane': 1.28670828676115e-05,\n",
       "  'Methane, fossil': 9.11966238281076e-06,\n",
       "  'Pentane': 1.08008359837615e-05,\n",
       "  'Sulfur dioxide': 5.37224189801004e-06,\n",
       "  'Hexane': 7.44788081315029e-06,\n",
       "  'Butane': 8.69702097475052e-06,\n",
       "  'Formaldehyde': 3.03362610674344e-07,\n",
       "  'Acetic acid': 1.13643578611751e-06,\n",
       "  'Water': 0.057426009985546686,\n",
       "  'Carbon monoxide, fossil': 0.000187840625804547,\n",
       "  'Propane': 6.62138205961028e-06,\n",
       "  'Carbon dioxide, fossil': 0.501534470898141,\n",
       "  'Water, cooling, unspecified natural origin': 0.0554912515397599},\n",
       " 'heat and power co-generation, natural gas, conventional power plant, 100MW electrical' (kilowatt hour, CA-SK, None): {'water, completely softened': 0.0563521877413641,\n",
       "  'residue from cooling tower': -9.39203129022735e-06,\n",
       "  'natural gas, high pressure': 0.240821315134035,\n",
       "  'water, decarbonised': 1.87840625804547,\n",
       "  'Propane': 6.62138205961028e-06,\n",
       "  'Water': 0.057426009985546686,\n",
       "  'Dinitrogen monoxide': 9.17601457055212e-06,\n",
       "  'Carbon monoxide, fossil': 0.000187840625804547,\n",
       "  'PAH, polycyclic aromatic hydrocarbons': 7.51362503218188e-08,\n",
       "  'Water, cooling, unspecified natural origin': 0.0554912515397599,\n",
       "  'Carbon dioxide, fossil': 0.501534470898141,\n",
       "  'Nitrogen oxides': 0.000344687548351344,\n",
       "  'Particulates, < 2.5 um': 4.61148736350163e-06,\n",
       "  'Propionic acid': 1.50272500643637e-07,\n",
       "  'Methane, fossil': 9.11966238281076e-06,\n",
       "  'Pentane': 1.08008359837615e-05,\n",
       "  'Ethane': 1.28670828676115e-05,\n",
       "  'Sulfur dioxide': 5.37224189801004e-06,\n",
       "  'Hexane': 7.44788081315029e-06,\n",
       "  'Acetic acid': 1.13643578611751e-06,\n",
       "  'Formaldehyde': 3.03362610674344e-07,\n",
       "  'Butane': 8.69702097475052e-06},\n",
       " 'heat and power co-generation, natural gas, conventional power plant, 100MW electrical' (kilowatt hour, CA-ON, None): {'water, completely softened': 0.0563521877413641,\n",
       "  'residue from cooling tower': -9.39203129022735e-06,\n",
       "  'natural gas, high pressure': 0.240821315134035,\n",
       "  'water, decarbonised': 1.87840625804547,\n",
       "  'Methane, fossil': 9.11966238281076e-06,\n",
       "  'Ethane': 1.28670828676115e-05,\n",
       "  'Butane': 8.69702097475052e-06,\n",
       "  'Hexane': 7.44788081315029e-06,\n",
       "  'Sulfur dioxide': 5.37224189801004e-06,\n",
       "  'Acetic acid': 1.13643578611751e-06,\n",
       "  'Formaldehyde': 3.03362610674344e-07,\n",
       "  'Water': 0.057426009985546686,\n",
       "  'Propane': 6.62138205961028e-06,\n",
       "  'Dinitrogen monoxide': 9.17601457055212e-06,\n",
       "  'Carbon dioxide, fossil': 0.501534470898141,\n",
       "  'Carbon monoxide, fossil': 0.000187840625804547,\n",
       "  'Water, cooling, unspecified natural origin': 0.0554912515397599,\n",
       "  'Nitrogen oxides': 0.000344687548351344,\n",
       "  'PAH, polycyclic aromatic hydrocarbons': 7.51362503218188e-08,\n",
       "  'Particulates, < 2.5 um': 4.61148736350163e-06,\n",
       "  'Propionic acid': 1.50272500643637e-07,\n",
       "  'Pentane': 1.08008359837615e-05},\n",
       " 'heat and power co-generation, natural gas, conventional power plant, 100MW electrical' (kilowatt hour, CA-NS, None): {'residue from cooling tower': -9.63010190773385e-06,\n",
       "  'natural gas, high pressure': 0.246925689941893,\n",
       "  'water, completely softened': 0.0577806114464031,\n",
       "  'water, decarbonised': 1.92602038154677,\n",
       "  'Hexane': 7.63667081283295e-06,\n",
       "  'Particulates, < 2.5 um': 4.72838003669732e-06,\n",
       "  'Sulfur dioxide': 5.50841829122376e-06,\n",
       "  'Carbon dioxide, fossil': 0.514247441872988,\n",
       "  'Ethane': 1.31932396135954e-05,\n",
       "  'Dinitrogen monoxide': 9.40860956385601e-06,\n",
       "  'Methane, fossil': 9.35082895240958e-06,\n",
       "  'Pentane': 1.1074617193894e-05,\n",
       "  'Carbon monoxide, fossil': 0.000192602038154677,\n",
       "  'Propane': 6.78922184495237e-06,\n",
       "  'Water': 0.05888165309785411,\n",
       "  'Acetic acid': 1.1652423308358e-06,\n",
       "  'Formaldehyde': 3.11052291619803e-07,\n",
       "  'Nitrogen oxides': 0.000353424740013832,\n",
       "  'Butane': 8.91747436656155e-06,\n",
       "  'Water, cooling, unspecified natural origin': 0.0568978521048609},\n",
       " 'heat and power co-generation, natural gas, conventional power plant, 100MW electrical' (kilowatt hour, CA-MB, None): {'residue from cooling tower': -9.63010190773385e-06,\n",
       "  'natural gas, high pressure': 0.246925689941893,\n",
       "  'water, completely softened': 0.0577806114464031,\n",
       "  'water, decarbonised': 1.92602038154677,\n",
       "  'Hexane': 7.63667081283295e-06,\n",
       "  'Particulates, < 2.5 um': 4.72838003669732e-06,\n",
       "  'Sulfur dioxide': 5.50841829122376e-06,\n",
       "  'Carbon dioxide, fossil': 0.514247441872988,\n",
       "  'Ethane': 1.31932396135954e-05,\n",
       "  'Dinitrogen monoxide': 9.40860956385601e-06,\n",
       "  'Methane, fossil': 9.35082895240958e-06,\n",
       "  'Pentane': 1.1074617193894e-05,\n",
       "  'Carbon monoxide, fossil': 0.000192602038154677,\n",
       "  'Propane': 6.78922184495237e-06,\n",
       "  'Water': 0.05888165309785411,\n",
       "  'Acetic acid': 1.1652423308358e-06,\n",
       "  'Formaldehyde': 3.11052291619803e-07,\n",
       "  'Nitrogen oxides': 0.000353424740013832,\n",
       "  'Butane': 8.91747436656155e-06,\n",
       "  'Water, cooling, unspecified natural origin': 0.0568978521048609},\n",
       " 'heat and power co-generation, natural gas, conventional power plant, 100MW electrical' (kilowatt hour, CA-NB, None): {'natural gas, high pressure': 0.240821315134035,\n",
       "  'water, decarbonised': 1.87840625804547,\n",
       "  'water, completely softened': 0.0563521877413641,\n",
       "  'residue from cooling tower': -9.39203129022735e-06,\n",
       "  'Butane': 8.69702097475052e-06,\n",
       "  'Sulfur dioxide': 5.37224189801004e-06,\n",
       "  'Hexane': 7.44788081315029e-06,\n",
       "  'Acetic acid': 1.13643578611751e-06,\n",
       "  'Formaldehyde': 3.03362610674344e-07,\n",
       "  'Propane': 6.62138205961028e-06,\n",
       "  'Water': 0.057426009985546686,\n",
       "  'Carbon dioxide, fossil': 0.501534470898141,\n",
       "  'Dinitrogen monoxide': 9.17601457055212e-06,\n",
       "  'Carbon monoxide, fossil': 0.000187840625804547,\n",
       "  'Water, cooling, unspecified natural origin': 0.0554912515397599,\n",
       "  'PAH, polycyclic aromatic hydrocarbons': 7.51362503218188e-08,\n",
       "  'Nitrogen oxides': 0.000344687548351344,\n",
       "  'Particulates, < 2.5 um': 4.61148736350163e-06,\n",
       "  'Propionic acid': 1.50272500643637e-07,\n",
       "  'Methane, fossil': 9.11966238281076e-06,\n",
       "  'Pentane': 1.08008359837615e-05,\n",
       "  'Ethane': 1.28670828676115e-05},\n",
       " 'heat and power co-generation, natural gas, conventional power plant, 100MW electrical' (kilowatt hour, CA-AB, None): {'residue from cooling tower': -9.39203129022735e-06,\n",
       "  'natural gas, high pressure': 0.240821315134035,\n",
       "  'water, completely softened': 0.0563521877413641,\n",
       "  'water, decarbonised': 1.87840625804547,\n",
       "  'Hexane': 7.44788081315029e-06,\n",
       "  'Water': 0.057426009985546686,\n",
       "  'Formaldehyde': 3.03362610674344e-07,\n",
       "  'Acetic acid': 1.13643578611751e-06,\n",
       "  'Carbon monoxide, fossil': 0.000187840625804547,\n",
       "  'Propane': 6.62138205961028e-06,\n",
       "  'Carbon dioxide, fossil': 0.501534470898141,\n",
       "  'Dinitrogen monoxide': 9.17601457055212e-06,\n",
       "  'Particulates, < 2.5 um': 4.61148736350163e-06,\n",
       "  'Nitrogen oxides': 0.000344687548351344,\n",
       "  'PAH, polycyclic aromatic hydrocarbons': 7.51362503218188e-08,\n",
       "  'Water, cooling, unspecified natural origin': 0.0554912515397599,\n",
       "  'Propionic acid': 1.50272500643637e-07,\n",
       "  'Pentane': 1.08008359837615e-05,\n",
       "  'Methane, fossil': 9.11966238281076e-06,\n",
       "  'Ethane': 1.28670828676115e-05,\n",
       "  'Sulfur dioxide': 5.37224189801004e-06,\n",
       "  'Butane': 8.69702097475052e-06},\n",
       " 'heat and power co-generation, natural gas, conventional power plant, 100MW electrical' (kilowatt hour, CA-NT, None): {'water, completely softened': 0.0563521877413641,\n",
       "  'natural gas, high pressure': 0.240821315134035,\n",
       "  'water, decarbonised': 1.87840625804547,\n",
       "  'residue from cooling tower': -9.39203129022735e-06,\n",
       "  'Dinitrogen monoxide': 9.17601457055212e-06,\n",
       "  'PAH, polycyclic aromatic hydrocarbons': 7.51362503218188e-08,\n",
       "  'Nitrogen oxides': 0.000344687548351344,\n",
       "  'Water, cooling, unspecified natural origin': 0.0554912515397599,\n",
       "  'Carbon dioxide, fossil': 0.501534470898141,\n",
       "  'Propionic acid': 1.50272500643637e-07,\n",
       "  'Particulates, < 2.5 um': 4.61148736350163e-06,\n",
       "  'Pentane': 1.08008359837615e-05,\n",
       "  'Ethane': 1.28670828676115e-05,\n",
       "  'Methane, fossil': 9.11966238281076e-06,\n",
       "  'Sulfur dioxide': 5.37224189801004e-06,\n",
       "  'Hexane': 7.44788081315029e-06,\n",
       "  'Acetic acid': 1.13643578611751e-06,\n",
       "  'Formaldehyde': 3.03362610674344e-07,\n",
       "  'Butane': 8.69702097475052e-06,\n",
       "  'Water': 0.057426009985546686,\n",
       "  'Propane': 6.62138205961028e-06,\n",
       "  'Carbon monoxide, fossil': 0.000187840625804547},\n",
       " 'heat and power co-generation, natural gas, conventional power plant, 100MW electrical' (kilowatt hour, CA-QC, None): {'natural gas, high pressure': 0.240821315134035,\n",
       "  'water, decarbonised': 1.87840625804547,\n",
       "  'water, completely softened': 0.0563521877413641,\n",
       "  'residue from cooling tower': -9.39203129022735e-06,\n",
       "  'Acetic acid': 1.13643578611751e-06,\n",
       "  'Butane': 8.69702097475052e-06,\n",
       "  'Formaldehyde': 3.03362610674344e-07,\n",
       "  'Hexane': 7.44788081315029e-06,\n",
       "  'Sulfur dioxide': 5.37224189801004e-06,\n",
       "  'Pentane': 1.08008359837615e-05,\n",
       "  'Methane, fossil': 9.11966238281076e-06,\n",
       "  'Ethane': 1.28670828676115e-05,\n",
       "  'Propionic acid': 1.50272500643637e-07,\n",
       "  'Nitrogen oxides': 0.000344687548351344,\n",
       "  'Particulates, < 2.5 um': 4.61148736350163e-06,\n",
       "  'PAH, polycyclic aromatic hydrocarbons': 7.51362503218188e-08,\n",
       "  'Water, cooling, unspecified natural origin': 0.0554912515397599,\n",
       "  'Dinitrogen monoxide': 9.17601457055212e-06,\n",
       "  'Carbon dioxide, fossil': 0.501534470898141,\n",
       "  'Water': 0.057426009985546686,\n",
       "  'Propane': 6.62138205961028e-06,\n",
       "  'Carbon monoxide, fossil': 0.000187840625804547},\n",
       " 'heat and power co-generation, natural gas, conventional power plant, 100MW electrical' (kilowatt hour, CA-PE, None): {'water, decarbonised': 1.92602038154677,\n",
       "  'residue from cooling tower': -9.63010190773385e-06,\n",
       "  'water, completely softened': 0.0577806114464031,\n",
       "  'natural gas, high pressure': 0.246925689941893,\n",
       "  'Particulates, < 2.5 um': 4.72838003669732e-06,\n",
       "  'Hexane': 7.63667081283295e-06,\n",
       "  'Water, cooling, unspecified natural origin': 0.0568978521048609,\n",
       "  'Butane': 8.91747436656155e-06,\n",
       "  'Nitrogen oxides': 0.000353424740013832,\n",
       "  'Formaldehyde': 3.11052291619803e-07,\n",
       "  'Acetic acid': 1.1652423308358e-06,\n",
       "  'Water': 0.05888165309785411,\n",
       "  'Propane': 6.78922184495237e-06,\n",
       "  'Carbon monoxide, fossil': 0.000192602038154677,\n",
       "  'Pentane': 1.1074617193894e-05,\n",
       "  'Methane, fossil': 9.35082895240958e-06,\n",
       "  'Dinitrogen monoxide': 9.40860956385601e-06,\n",
       "  'Ethane': 1.31932396135954e-05,\n",
       "  'Carbon dioxide, fossil': 0.514247441872988,\n",
       "  'Sulfur dioxide': 5.50841829122376e-06}}"
      ]
     },
     "execution_count": 10,
     "metadata": {},
     "output_type": "execute_result"
    }
   ],
   "source": [
    "result = ba.find_differences_in_inputs(act, locations=canada)\n",
    "result"
   ]
  },
  {
   "cell_type": "markdown",
   "id": "going-greene",
   "metadata": {},
   "source": [
    "This function compares the net amount of each flow, and adds up multiple exchanges which reference the same flow. The above printed result is still a bit hard to interpret; returning this analysis result as a dataframe can allow for quick interpretation of the results:"
   ]
  },
  {
   "cell_type": "code",
   "execution_count": 29,
   "id": "double-opportunity",
   "metadata": {},
   "outputs": [
    {
     "data": {
      "text/html": [
       "<div>\n",
       "<style scoped>\n",
       "    .dataframe tbody tr th:only-of-type {\n",
       "        vertical-align: middle;\n",
       "    }\n",
       "\n",
       "    .dataframe tbody tr th {\n",
       "        vertical-align: top;\n",
       "    }\n",
       "\n",
       "    .dataframe thead th {\n",
       "        text-align: right;\n",
       "    }\n",
       "</style>\n",
       "<table border=\"1\" class=\"dataframe\">\n",
       "  <thead>\n",
       "    <tr style=\"text-align: right;\">\n",
       "      <th></th>\n",
       "      <th>natural gas, high pressure</th>\n",
       "      <th>water, completely softened</th>\n",
       "      <th>water, decarbonised</th>\n",
       "      <th>residue from cooling tower</th>\n",
       "      <th>Hexane</th>\n",
       "      <th>Sulfur dioxide</th>\n",
       "      <th>Water</th>\n",
       "      <th>Acetic acid</th>\n",
       "      <th>Formaldehyde</th>\n",
       "      <th>Butane</th>\n",
       "      <th>...</th>\n",
       "      <th>Carbon dioxide, fossil</th>\n",
       "      <th>Dinitrogen monoxide</th>\n",
       "      <th>Water, cooling, unspecified natural origin</th>\n",
       "      <th>Particulates, &lt; 2.5 um</th>\n",
       "      <th>PAH, polycyclic aromatic hydrocarbons</th>\n",
       "      <th>Nitrogen oxides</th>\n",
       "      <th>Propionic acid</th>\n",
       "      <th>Pentane</th>\n",
       "      <th>Ethane</th>\n",
       "      <th>Methane, fossil</th>\n",
       "    </tr>\n",
       "    <tr>\n",
       "      <th>location</th>\n",
       "      <th></th>\n",
       "      <th></th>\n",
       "      <th></th>\n",
       "      <th></th>\n",
       "      <th></th>\n",
       "      <th></th>\n",
       "      <th></th>\n",
       "      <th></th>\n",
       "      <th></th>\n",
       "      <th></th>\n",
       "      <th></th>\n",
       "      <th></th>\n",
       "      <th></th>\n",
       "      <th></th>\n",
       "      <th></th>\n",
       "      <th></th>\n",
       "      <th></th>\n",
       "      <th></th>\n",
       "      <th></th>\n",
       "      <th></th>\n",
       "      <th></th>\n",
       "    </tr>\n",
       "  </thead>\n",
       "  <tbody>\n",
       "    <tr>\n",
       "      <th>PT</th>\n",
       "      <td>0.245886</td>\n",
       "      <td>0.057537</td>\n",
       "      <td>1.917908</td>\n",
       "      <td>-0.000010</td>\n",
       "      <td>0.000008</td>\n",
       "      <td>0.000005</td>\n",
       "      <td>0.058634</td>\n",
       "      <td>0.000001</td>\n",
       "      <td>3.097422e-07</td>\n",
       "      <td>0.000009</td>\n",
       "      <td>...</td>\n",
       "      <td>0.512082</td>\n",
       "      <td>0.000009</td>\n",
       "      <td>0.056658</td>\n",
       "      <td>0.000005</td>\n",
       "      <td>7.671633e-08</td>\n",
       "      <td>0.000352</td>\n",
       "      <td>1.534327e-07</td>\n",
       "      <td>0.000011</td>\n",
       "      <td>0.000013</td>\n",
       "      <td>0.000009</td>\n",
       "    </tr>\n",
       "    <tr>\n",
       "      <th>CA-NB</th>\n",
       "      <td>0.240821</td>\n",
       "      <td>0.056352</td>\n",
       "      <td>1.878406</td>\n",
       "      <td>-0.000009</td>\n",
       "      <td>0.000007</td>\n",
       "      <td>0.000005</td>\n",
       "      <td>0.057426</td>\n",
       "      <td>0.000001</td>\n",
       "      <td>3.033626e-07</td>\n",
       "      <td>0.000009</td>\n",
       "      <td>...</td>\n",
       "      <td>0.501534</td>\n",
       "      <td>0.000009</td>\n",
       "      <td>0.055491</td>\n",
       "      <td>0.000005</td>\n",
       "      <td>7.513625e-08</td>\n",
       "      <td>0.000345</td>\n",
       "      <td>1.502725e-07</td>\n",
       "      <td>0.000011</td>\n",
       "      <td>0.000013</td>\n",
       "      <td>0.000009</td>\n",
       "    </tr>\n",
       "    <tr>\n",
       "      <th>CA-SK</th>\n",
       "      <td>0.240821</td>\n",
       "      <td>0.056352</td>\n",
       "      <td>1.878406</td>\n",
       "      <td>-0.000009</td>\n",
       "      <td>0.000007</td>\n",
       "      <td>0.000005</td>\n",
       "      <td>0.057426</td>\n",
       "      <td>0.000001</td>\n",
       "      <td>3.033626e-07</td>\n",
       "      <td>0.000009</td>\n",
       "      <td>...</td>\n",
       "      <td>0.501534</td>\n",
       "      <td>0.000009</td>\n",
       "      <td>0.055491</td>\n",
       "      <td>0.000005</td>\n",
       "      <td>7.513625e-08</td>\n",
       "      <td>0.000345</td>\n",
       "      <td>1.502725e-07</td>\n",
       "      <td>0.000011</td>\n",
       "      <td>0.000013</td>\n",
       "      <td>0.000009</td>\n",
       "    </tr>\n",
       "    <tr>\n",
       "      <th>CA-MB</th>\n",
       "      <td>0.246926</td>\n",
       "      <td>0.057781</td>\n",
       "      <td>1.926020</td>\n",
       "      <td>-0.000010</td>\n",
       "      <td>0.000008</td>\n",
       "      <td>0.000006</td>\n",
       "      <td>0.058882</td>\n",
       "      <td>0.000001</td>\n",
       "      <td>3.110523e-07</td>\n",
       "      <td>0.000009</td>\n",
       "      <td>...</td>\n",
       "      <td>0.514247</td>\n",
       "      <td>0.000009</td>\n",
       "      <td>0.056898</td>\n",
       "      <td>0.000005</td>\n",
       "      <td>NaN</td>\n",
       "      <td>0.000353</td>\n",
       "      <td>NaN</td>\n",
       "      <td>0.000011</td>\n",
       "      <td>0.000013</td>\n",
       "      <td>0.000009</td>\n",
       "    </tr>\n",
       "    <tr>\n",
       "      <th>CA-NT</th>\n",
       "      <td>0.240821</td>\n",
       "      <td>0.056352</td>\n",
       "      <td>1.878406</td>\n",
       "      <td>-0.000009</td>\n",
       "      <td>0.000007</td>\n",
       "      <td>0.000005</td>\n",
       "      <td>0.057426</td>\n",
       "      <td>0.000001</td>\n",
       "      <td>3.033626e-07</td>\n",
       "      <td>0.000009</td>\n",
       "      <td>...</td>\n",
       "      <td>0.501534</td>\n",
       "      <td>0.000009</td>\n",
       "      <td>0.055491</td>\n",
       "      <td>0.000005</td>\n",
       "      <td>7.513625e-08</td>\n",
       "      <td>0.000345</td>\n",
       "      <td>1.502725e-07</td>\n",
       "      <td>0.000011</td>\n",
       "      <td>0.000013</td>\n",
       "      <td>0.000009</td>\n",
       "    </tr>\n",
       "    <tr>\n",
       "      <th>CA-AB</th>\n",
       "      <td>0.240821</td>\n",
       "      <td>0.056352</td>\n",
       "      <td>1.878406</td>\n",
       "      <td>-0.000009</td>\n",
       "      <td>0.000007</td>\n",
       "      <td>0.000005</td>\n",
       "      <td>0.057426</td>\n",
       "      <td>0.000001</td>\n",
       "      <td>3.033626e-07</td>\n",
       "      <td>0.000009</td>\n",
       "      <td>...</td>\n",
       "      <td>0.501534</td>\n",
       "      <td>0.000009</td>\n",
       "      <td>0.055491</td>\n",
       "      <td>0.000005</td>\n",
       "      <td>7.513625e-08</td>\n",
       "      <td>0.000345</td>\n",
       "      <td>1.502725e-07</td>\n",
       "      <td>0.000011</td>\n",
       "      <td>0.000013</td>\n",
       "      <td>0.000009</td>\n",
       "    </tr>\n",
       "    <tr>\n",
       "      <th>CA-PE</th>\n",
       "      <td>0.246926</td>\n",
       "      <td>0.057781</td>\n",
       "      <td>1.926020</td>\n",
       "      <td>-0.000010</td>\n",
       "      <td>0.000008</td>\n",
       "      <td>0.000006</td>\n",
       "      <td>0.058882</td>\n",
       "      <td>0.000001</td>\n",
       "      <td>3.110523e-07</td>\n",
       "      <td>0.000009</td>\n",
       "      <td>...</td>\n",
       "      <td>0.514247</td>\n",
       "      <td>0.000009</td>\n",
       "      <td>0.056898</td>\n",
       "      <td>0.000005</td>\n",
       "      <td>NaN</td>\n",
       "      <td>0.000353</td>\n",
       "      <td>NaN</td>\n",
       "      <td>0.000011</td>\n",
       "      <td>0.000013</td>\n",
       "      <td>0.000009</td>\n",
       "    </tr>\n",
       "    <tr>\n",
       "      <th>CA-ON</th>\n",
       "      <td>0.240821</td>\n",
       "      <td>0.056352</td>\n",
       "      <td>1.878406</td>\n",
       "      <td>-0.000009</td>\n",
       "      <td>0.000007</td>\n",
       "      <td>0.000005</td>\n",
       "      <td>0.057426</td>\n",
       "      <td>0.000001</td>\n",
       "      <td>3.033626e-07</td>\n",
       "      <td>0.000009</td>\n",
       "      <td>...</td>\n",
       "      <td>0.501534</td>\n",
       "      <td>0.000009</td>\n",
       "      <td>0.055491</td>\n",
       "      <td>0.000005</td>\n",
       "      <td>7.513625e-08</td>\n",
       "      <td>0.000345</td>\n",
       "      <td>1.502725e-07</td>\n",
       "      <td>0.000011</td>\n",
       "      <td>0.000013</td>\n",
       "      <td>0.000009</td>\n",
       "    </tr>\n",
       "    <tr>\n",
       "      <th>CA-QC</th>\n",
       "      <td>0.240821</td>\n",
       "      <td>0.056352</td>\n",
       "      <td>1.878406</td>\n",
       "      <td>-0.000009</td>\n",
       "      <td>0.000007</td>\n",
       "      <td>0.000005</td>\n",
       "      <td>0.057426</td>\n",
       "      <td>0.000001</td>\n",
       "      <td>3.033626e-07</td>\n",
       "      <td>0.000009</td>\n",
       "      <td>...</td>\n",
       "      <td>0.501534</td>\n",
       "      <td>0.000009</td>\n",
       "      <td>0.055491</td>\n",
       "      <td>0.000005</td>\n",
       "      <td>7.513625e-08</td>\n",
       "      <td>0.000345</td>\n",
       "      <td>1.502725e-07</td>\n",
       "      <td>0.000011</td>\n",
       "      <td>0.000013</td>\n",
       "      <td>0.000009</td>\n",
       "    </tr>\n",
       "    <tr>\n",
       "      <th>CA-NS</th>\n",
       "      <td>0.246926</td>\n",
       "      <td>0.057781</td>\n",
       "      <td>1.926020</td>\n",
       "      <td>-0.000010</td>\n",
       "      <td>0.000008</td>\n",
       "      <td>0.000006</td>\n",
       "      <td>0.058882</td>\n",
       "      <td>0.000001</td>\n",
       "      <td>3.110523e-07</td>\n",
       "      <td>0.000009</td>\n",
       "      <td>...</td>\n",
       "      <td>0.514247</td>\n",
       "      <td>0.000009</td>\n",
       "      <td>0.056898</td>\n",
       "      <td>0.000005</td>\n",
       "      <td>NaN</td>\n",
       "      <td>0.000353</td>\n",
       "      <td>NaN</td>\n",
       "      <td>0.000011</td>\n",
       "      <td>0.000013</td>\n",
       "      <td>0.000009</td>\n",
       "    </tr>\n",
       "    <tr>\n",
       "      <th>CA-BC</th>\n",
       "      <td>0.240821</td>\n",
       "      <td>0.056352</td>\n",
       "      <td>1.878406</td>\n",
       "      <td>-0.000009</td>\n",
       "      <td>0.000007</td>\n",
       "      <td>0.000005</td>\n",
       "      <td>0.057426</td>\n",
       "      <td>0.000001</td>\n",
       "      <td>3.033626e-07</td>\n",
       "      <td>0.000009</td>\n",
       "      <td>...</td>\n",
       "      <td>0.501534</td>\n",
       "      <td>0.000009</td>\n",
       "      <td>0.055491</td>\n",
       "      <td>0.000005</td>\n",
       "      <td>7.513625e-08</td>\n",
       "      <td>0.000345</td>\n",
       "      <td>1.502725e-07</td>\n",
       "      <td>0.000011</td>\n",
       "      <td>0.000013</td>\n",
       "      <td>0.000009</td>\n",
       "    </tr>\n",
       "  </tbody>\n",
       "</table>\n",
       "<p>11 rows × 22 columns</p>\n",
       "</div>"
      ],
      "text/plain": [
       "          natural gas, high pressure  water, completely softened  \\\n",
       "location                                                           \n",
       "PT                          0.245886                    0.057537   \n",
       "CA-NB                       0.240821                    0.056352   \n",
       "CA-SK                       0.240821                    0.056352   \n",
       "CA-MB                       0.246926                    0.057781   \n",
       "CA-NT                       0.240821                    0.056352   \n",
       "CA-AB                       0.240821                    0.056352   \n",
       "CA-PE                       0.246926                    0.057781   \n",
       "CA-ON                       0.240821                    0.056352   \n",
       "CA-QC                       0.240821                    0.056352   \n",
       "CA-NS                       0.246926                    0.057781   \n",
       "CA-BC                       0.240821                    0.056352   \n",
       "\n",
       "          water, decarbonised  residue from cooling tower    Hexane  \\\n",
       "location                                                              \n",
       "PT                   1.917908                   -0.000010  0.000008   \n",
       "CA-NB                1.878406                   -0.000009  0.000007   \n",
       "CA-SK                1.878406                   -0.000009  0.000007   \n",
       "CA-MB                1.926020                   -0.000010  0.000008   \n",
       "CA-NT                1.878406                   -0.000009  0.000007   \n",
       "CA-AB                1.878406                   -0.000009  0.000007   \n",
       "CA-PE                1.926020                   -0.000010  0.000008   \n",
       "CA-ON                1.878406                   -0.000009  0.000007   \n",
       "CA-QC                1.878406                   -0.000009  0.000007   \n",
       "CA-NS                1.926020                   -0.000010  0.000008   \n",
       "CA-BC                1.878406                   -0.000009  0.000007   \n",
       "\n",
       "          Sulfur dioxide     Water  Acetic acid  Formaldehyde    Butane  ...  \\\n",
       "location                                                                 ...   \n",
       "PT              0.000005  0.058634     0.000001  3.097422e-07  0.000009  ...   \n",
       "CA-NB           0.000005  0.057426     0.000001  3.033626e-07  0.000009  ...   \n",
       "CA-SK           0.000005  0.057426     0.000001  3.033626e-07  0.000009  ...   \n",
       "CA-MB           0.000006  0.058882     0.000001  3.110523e-07  0.000009  ...   \n",
       "CA-NT           0.000005  0.057426     0.000001  3.033626e-07  0.000009  ...   \n",
       "CA-AB           0.000005  0.057426     0.000001  3.033626e-07  0.000009  ...   \n",
       "CA-PE           0.000006  0.058882     0.000001  3.110523e-07  0.000009  ...   \n",
       "CA-ON           0.000005  0.057426     0.000001  3.033626e-07  0.000009  ...   \n",
       "CA-QC           0.000005  0.057426     0.000001  3.033626e-07  0.000009  ...   \n",
       "CA-NS           0.000006  0.058882     0.000001  3.110523e-07  0.000009  ...   \n",
       "CA-BC           0.000005  0.057426     0.000001  3.033626e-07  0.000009  ...   \n",
       "\n",
       "          Carbon dioxide, fossil  Dinitrogen monoxide  \\\n",
       "location                                                \n",
       "PT                      0.512082             0.000009   \n",
       "CA-NB                   0.501534             0.000009   \n",
       "CA-SK                   0.501534             0.000009   \n",
       "CA-MB                   0.514247             0.000009   \n",
       "CA-NT                   0.501534             0.000009   \n",
       "CA-AB                   0.501534             0.000009   \n",
       "CA-PE                   0.514247             0.000009   \n",
       "CA-ON                   0.501534             0.000009   \n",
       "CA-QC                   0.501534             0.000009   \n",
       "CA-NS                   0.514247             0.000009   \n",
       "CA-BC                   0.501534             0.000009   \n",
       "\n",
       "          Water, cooling, unspecified natural origin  Particulates, < 2.5 um  \\\n",
       "location                                                                       \n",
       "PT                                          0.056658                0.000005   \n",
       "CA-NB                                       0.055491                0.000005   \n",
       "CA-SK                                       0.055491                0.000005   \n",
       "CA-MB                                       0.056898                0.000005   \n",
       "CA-NT                                       0.055491                0.000005   \n",
       "CA-AB                                       0.055491                0.000005   \n",
       "CA-PE                                       0.056898                0.000005   \n",
       "CA-ON                                       0.055491                0.000005   \n",
       "CA-QC                                       0.055491                0.000005   \n",
       "CA-NS                                       0.056898                0.000005   \n",
       "CA-BC                                       0.055491                0.000005   \n",
       "\n",
       "          PAH, polycyclic aromatic hydrocarbons  Nitrogen oxides  \\\n",
       "location                                                           \n",
       "PT                                 7.671633e-08         0.000352   \n",
       "CA-NB                              7.513625e-08         0.000345   \n",
       "CA-SK                              7.513625e-08         0.000345   \n",
       "CA-MB                                       NaN         0.000353   \n",
       "CA-NT                              7.513625e-08         0.000345   \n",
       "CA-AB                              7.513625e-08         0.000345   \n",
       "CA-PE                                       NaN         0.000353   \n",
       "CA-ON                              7.513625e-08         0.000345   \n",
       "CA-QC                              7.513625e-08         0.000345   \n",
       "CA-NS                                       NaN         0.000353   \n",
       "CA-BC                              7.513625e-08         0.000345   \n",
       "\n",
       "          Propionic acid   Pentane    Ethane  Methane, fossil  \n",
       "location                                                       \n",
       "PT          1.534327e-07  0.000011  0.000013         0.000009  \n",
       "CA-NB       1.502725e-07  0.000011  0.000013         0.000009  \n",
       "CA-SK       1.502725e-07  0.000011  0.000013         0.000009  \n",
       "CA-MB                NaN  0.000011  0.000013         0.000009  \n",
       "CA-NT       1.502725e-07  0.000011  0.000013         0.000009  \n",
       "CA-AB       1.502725e-07  0.000011  0.000013         0.000009  \n",
       "CA-PE                NaN  0.000011  0.000013         0.000009  \n",
       "CA-ON       1.502725e-07  0.000011  0.000013         0.000009  \n",
       "CA-QC       1.502725e-07  0.000011  0.000013         0.000009  \n",
       "CA-NS                NaN  0.000011  0.000013         0.000009  \n",
       "CA-BC       1.502725e-07  0.000011  0.000013         0.000009  \n",
       "\n",
       "[11 rows x 22 columns]"
      ]
     },
     "execution_count": 29,
     "metadata": {},
     "output_type": "execute_result"
    }
   ],
   "source": [
    "ba.find_differences_in_inputs(act, locations=canada, as_dataframe=True)"
   ]
  },
  {
   "cell_type": "markdown",
   "id": "potential-lender",
   "metadata": {},
   "source": [
    "It is even easier to see clear patterns when the data is normalized:"
   ]
  },
  {
   "cell_type": "code",
   "execution_count": 14,
   "id": "covered-alias",
   "metadata": {},
   "outputs": [
    {
     "data": {
      "text/html": [
       "<div>\n",
       "<style scoped>\n",
       "    .dataframe tbody tr th:only-of-type {\n",
       "        vertical-align: middle;\n",
       "    }\n",
       "\n",
       "    .dataframe tbody tr th {\n",
       "        vertical-align: top;\n",
       "    }\n",
       "\n",
       "    .dataframe thead th {\n",
       "        text-align: right;\n",
       "    }\n",
       "</style>\n",
       "<table border=\"1\" class=\"dataframe\">\n",
       "  <thead>\n",
       "    <tr style=\"text-align: right;\">\n",
       "      <th></th>\n",
       "      <th>natural gas, high pressure</th>\n",
       "      <th>water, completely softened</th>\n",
       "      <th>water, decarbonised</th>\n",
       "      <th>residue from cooling tower</th>\n",
       "      <th>Hexane</th>\n",
       "      <th>Sulfur dioxide</th>\n",
       "      <th>Water</th>\n",
       "      <th>Acetic acid</th>\n",
       "      <th>Formaldehyde</th>\n",
       "      <th>Butane</th>\n",
       "      <th>...</th>\n",
       "      <th>Carbon dioxide, fossil</th>\n",
       "      <th>Dinitrogen monoxide</th>\n",
       "      <th>Water, cooling, unspecified natural origin</th>\n",
       "      <th>Particulates, &lt; 2.5 um</th>\n",
       "      <th>PAH, polycyclic aromatic hydrocarbons</th>\n",
       "      <th>Nitrogen oxides</th>\n",
       "      <th>Propionic acid</th>\n",
       "      <th>Pentane</th>\n",
       "      <th>Ethane</th>\n",
       "      <th>Methane, fossil</th>\n",
       "    </tr>\n",
       "    <tr>\n",
       "      <th>location</th>\n",
       "      <th></th>\n",
       "      <th></th>\n",
       "      <th></th>\n",
       "      <th></th>\n",
       "      <th></th>\n",
       "      <th></th>\n",
       "      <th></th>\n",
       "      <th></th>\n",
       "      <th></th>\n",
       "      <th></th>\n",
       "      <th></th>\n",
       "      <th></th>\n",
       "      <th></th>\n",
       "      <th></th>\n",
       "      <th></th>\n",
       "      <th></th>\n",
       "      <th></th>\n",
       "      <th></th>\n",
       "      <th></th>\n",
       "      <th></th>\n",
       "      <th></th>\n",
       "    </tr>\n",
       "  </thead>\n",
       "  <tbody>\n",
       "    <tr>\n",
       "      <th>PT</th>\n",
       "      <td>1.000000</td>\n",
       "      <td>1.000000</td>\n",
       "      <td>1.000000</td>\n",
       "      <td>1.000000</td>\n",
       "      <td>1.000000</td>\n",
       "      <td>1.000000</td>\n",
       "      <td>1.000000</td>\n",
       "      <td>1.000000</td>\n",
       "      <td>1.000000</td>\n",
       "      <td>1.000000</td>\n",
       "      <td>...</td>\n",
       "      <td>1.000000</td>\n",
       "      <td>1.000000</td>\n",
       "      <td>1.000000</td>\n",
       "      <td>1.000000</td>\n",
       "      <td>1.000000</td>\n",
       "      <td>1.000000</td>\n",
       "      <td>1.000000</td>\n",
       "      <td>1.000000</td>\n",
       "      <td>1.000000</td>\n",
       "      <td>1.000000</td>\n",
       "    </tr>\n",
       "    <tr>\n",
       "      <th>CA-NB</th>\n",
       "      <td>0.979404</td>\n",
       "      <td>0.979404</td>\n",
       "      <td>0.979404</td>\n",
       "      <td>0.979404</td>\n",
       "      <td>0.979404</td>\n",
       "      <td>0.979404</td>\n",
       "      <td>0.979404</td>\n",
       "      <td>0.979404</td>\n",
       "      <td>0.979404</td>\n",
       "      <td>0.979404</td>\n",
       "      <td>...</td>\n",
       "      <td>0.979404</td>\n",
       "      <td>0.979404</td>\n",
       "      <td>0.979404</td>\n",
       "      <td>0.979404</td>\n",
       "      <td>0.979404</td>\n",
       "      <td>0.979404</td>\n",
       "      <td>0.979404</td>\n",
       "      <td>0.979404</td>\n",
       "      <td>0.979404</td>\n",
       "      <td>0.979404</td>\n",
       "    </tr>\n",
       "    <tr>\n",
       "      <th>CA-MB</th>\n",
       "      <td>1.004230</td>\n",
       "      <td>1.004230</td>\n",
       "      <td>1.004230</td>\n",
       "      <td>1.004230</td>\n",
       "      <td>1.004230</td>\n",
       "      <td>1.004230</td>\n",
       "      <td>1.004230</td>\n",
       "      <td>1.004230</td>\n",
       "      <td>1.004230</td>\n",
       "      <td>1.004230</td>\n",
       "      <td>...</td>\n",
       "      <td>1.004230</td>\n",
       "      <td>1.004230</td>\n",
       "      <td>1.004230</td>\n",
       "      <td>1.004230</td>\n",
       "      <td>NaN</td>\n",
       "      <td>1.004230</td>\n",
       "      <td>NaN</td>\n",
       "      <td>1.004230</td>\n",
       "      <td>1.004230</td>\n",
       "      <td>1.004230</td>\n",
       "    </tr>\n",
       "    <tr>\n",
       "      <th>CA-NS</th>\n",
       "      <td>1.004230</td>\n",
       "      <td>1.004230</td>\n",
       "      <td>1.004230</td>\n",
       "      <td>1.004230</td>\n",
       "      <td>1.004230</td>\n",
       "      <td>1.004230</td>\n",
       "      <td>1.004230</td>\n",
       "      <td>1.004230</td>\n",
       "      <td>1.004230</td>\n",
       "      <td>1.004230</td>\n",
       "      <td>...</td>\n",
       "      <td>1.004230</td>\n",
       "      <td>1.004230</td>\n",
       "      <td>1.004230</td>\n",
       "      <td>1.004230</td>\n",
       "      <td>NaN</td>\n",
       "      <td>1.004230</td>\n",
       "      <td>NaN</td>\n",
       "      <td>1.004230</td>\n",
       "      <td>1.004230</td>\n",
       "      <td>1.004230</td>\n",
       "    </tr>\n",
       "    <tr>\n",
       "      <th>CA-AB</th>\n",
       "      <td>0.979404</td>\n",
       "      <td>0.979404</td>\n",
       "      <td>0.979404</td>\n",
       "      <td>0.979404</td>\n",
       "      <td>0.979404</td>\n",
       "      <td>0.979404</td>\n",
       "      <td>0.979404</td>\n",
       "      <td>0.979404</td>\n",
       "      <td>0.979404</td>\n",
       "      <td>0.979404</td>\n",
       "      <td>...</td>\n",
       "      <td>0.979404</td>\n",
       "      <td>0.979404</td>\n",
       "      <td>0.979404</td>\n",
       "      <td>0.979404</td>\n",
       "      <td>0.979404</td>\n",
       "      <td>0.979404</td>\n",
       "      <td>0.979404</td>\n",
       "      <td>0.979404</td>\n",
       "      <td>0.979404</td>\n",
       "      <td>0.979404</td>\n",
       "    </tr>\n",
       "    <tr>\n",
       "      <th>CA-BC</th>\n",
       "      <td>0.979404</td>\n",
       "      <td>0.979404</td>\n",
       "      <td>0.979404</td>\n",
       "      <td>0.979404</td>\n",
       "      <td>0.979404</td>\n",
       "      <td>0.979404</td>\n",
       "      <td>0.979404</td>\n",
       "      <td>0.979404</td>\n",
       "      <td>0.979404</td>\n",
       "      <td>0.979404</td>\n",
       "      <td>...</td>\n",
       "      <td>0.979404</td>\n",
       "      <td>0.979404</td>\n",
       "      <td>0.979404</td>\n",
       "      <td>0.979404</td>\n",
       "      <td>0.979404</td>\n",
       "      <td>0.979404</td>\n",
       "      <td>0.979404</td>\n",
       "      <td>0.979404</td>\n",
       "      <td>0.979404</td>\n",
       "      <td>0.979404</td>\n",
       "    </tr>\n",
       "    <tr>\n",
       "      <th>CA-ON</th>\n",
       "      <td>0.979404</td>\n",
       "      <td>0.979404</td>\n",
       "      <td>0.979404</td>\n",
       "      <td>0.979404</td>\n",
       "      <td>0.979404</td>\n",
       "      <td>0.979404</td>\n",
       "      <td>0.979404</td>\n",
       "      <td>0.979404</td>\n",
       "      <td>0.979404</td>\n",
       "      <td>0.979404</td>\n",
       "      <td>...</td>\n",
       "      <td>0.979404</td>\n",
       "      <td>0.979404</td>\n",
       "      <td>0.979404</td>\n",
       "      <td>0.979404</td>\n",
       "      <td>0.979404</td>\n",
       "      <td>0.979404</td>\n",
       "      <td>0.979404</td>\n",
       "      <td>0.979404</td>\n",
       "      <td>0.979404</td>\n",
       "      <td>0.979404</td>\n",
       "    </tr>\n",
       "    <tr>\n",
       "      <th>CA-QC</th>\n",
       "      <td>0.979404</td>\n",
       "      <td>0.979404</td>\n",
       "      <td>0.979404</td>\n",
       "      <td>0.979404</td>\n",
       "      <td>0.979404</td>\n",
       "      <td>0.979404</td>\n",
       "      <td>0.979404</td>\n",
       "      <td>0.979404</td>\n",
       "      <td>0.979404</td>\n",
       "      <td>0.979404</td>\n",
       "      <td>...</td>\n",
       "      <td>0.979404</td>\n",
       "      <td>0.979404</td>\n",
       "      <td>0.979404</td>\n",
       "      <td>0.979404</td>\n",
       "      <td>0.979404</td>\n",
       "      <td>0.979404</td>\n",
       "      <td>0.979404</td>\n",
       "      <td>0.979404</td>\n",
       "      <td>0.979404</td>\n",
       "      <td>0.979404</td>\n",
       "    </tr>\n",
       "    <tr>\n",
       "      <th>CA-PE</th>\n",
       "      <td>1.004230</td>\n",
       "      <td>1.004230</td>\n",
       "      <td>1.004230</td>\n",
       "      <td>1.004230</td>\n",
       "      <td>1.004230</td>\n",
       "      <td>1.004230</td>\n",
       "      <td>1.004230</td>\n",
       "      <td>1.004230</td>\n",
       "      <td>1.004230</td>\n",
       "      <td>1.004230</td>\n",
       "      <td>...</td>\n",
       "      <td>1.004230</td>\n",
       "      <td>1.004230</td>\n",
       "      <td>1.004230</td>\n",
       "      <td>1.004230</td>\n",
       "      <td>NaN</td>\n",
       "      <td>1.004230</td>\n",
       "      <td>NaN</td>\n",
       "      <td>1.004230</td>\n",
       "      <td>1.004230</td>\n",
       "      <td>1.004230</td>\n",
       "    </tr>\n",
       "    <tr>\n",
       "      <th>CA-NT</th>\n",
       "      <td>0.979404</td>\n",
       "      <td>0.979404</td>\n",
       "      <td>0.979404</td>\n",
       "      <td>0.979404</td>\n",
       "      <td>0.979404</td>\n",
       "      <td>0.979404</td>\n",
       "      <td>0.979404</td>\n",
       "      <td>0.979404</td>\n",
       "      <td>0.979404</td>\n",
       "      <td>0.979404</td>\n",
       "      <td>...</td>\n",
       "      <td>0.979404</td>\n",
       "      <td>0.979404</td>\n",
       "      <td>0.979404</td>\n",
       "      <td>0.979404</td>\n",
       "      <td>0.979404</td>\n",
       "      <td>0.979404</td>\n",
       "      <td>0.979404</td>\n",
       "      <td>0.979404</td>\n",
       "      <td>0.979404</td>\n",
       "      <td>0.979404</td>\n",
       "    </tr>\n",
       "    <tr>\n",
       "      <th>CA-SK</th>\n",
       "      <td>0.979404</td>\n",
       "      <td>0.979404</td>\n",
       "      <td>0.979404</td>\n",
       "      <td>0.979404</td>\n",
       "      <td>0.979404</td>\n",
       "      <td>0.979404</td>\n",
       "      <td>0.979404</td>\n",
       "      <td>0.979404</td>\n",
       "      <td>0.979404</td>\n",
       "      <td>0.979404</td>\n",
       "      <td>...</td>\n",
       "      <td>0.979404</td>\n",
       "      <td>0.979404</td>\n",
       "      <td>0.979404</td>\n",
       "      <td>0.979404</td>\n",
       "      <td>0.979404</td>\n",
       "      <td>0.979404</td>\n",
       "      <td>0.979404</td>\n",
       "      <td>0.979404</td>\n",
       "      <td>0.979404</td>\n",
       "      <td>0.979404</td>\n",
       "    </tr>\n",
       "  </tbody>\n",
       "</table>\n",
       "<p>11 rows × 22 columns</p>\n",
       "</div>"
      ],
      "text/plain": [
       "          natural gas, high pressure  water, completely softened  \\\n",
       "location                                                           \n",
       "PT                          1.000000                    1.000000   \n",
       "CA-NB                       0.979404                    0.979404   \n",
       "CA-MB                       1.004230                    1.004230   \n",
       "CA-NS                       1.004230                    1.004230   \n",
       "CA-AB                       0.979404                    0.979404   \n",
       "CA-BC                       0.979404                    0.979404   \n",
       "CA-ON                       0.979404                    0.979404   \n",
       "CA-QC                       0.979404                    0.979404   \n",
       "CA-PE                       1.004230                    1.004230   \n",
       "CA-NT                       0.979404                    0.979404   \n",
       "CA-SK                       0.979404                    0.979404   \n",
       "\n",
       "          water, decarbonised  residue from cooling tower    Hexane  \\\n",
       "location                                                              \n",
       "PT                   1.000000                    1.000000  1.000000   \n",
       "CA-NB                0.979404                    0.979404  0.979404   \n",
       "CA-MB                1.004230                    1.004230  1.004230   \n",
       "CA-NS                1.004230                    1.004230  1.004230   \n",
       "CA-AB                0.979404                    0.979404  0.979404   \n",
       "CA-BC                0.979404                    0.979404  0.979404   \n",
       "CA-ON                0.979404                    0.979404  0.979404   \n",
       "CA-QC                0.979404                    0.979404  0.979404   \n",
       "CA-PE                1.004230                    1.004230  1.004230   \n",
       "CA-NT                0.979404                    0.979404  0.979404   \n",
       "CA-SK                0.979404                    0.979404  0.979404   \n",
       "\n",
       "          Sulfur dioxide     Water  Acetic acid  Formaldehyde    Butane  ...  \\\n",
       "location                                                                 ...   \n",
       "PT              1.000000  1.000000     1.000000      1.000000  1.000000  ...   \n",
       "CA-NB           0.979404  0.979404     0.979404      0.979404  0.979404  ...   \n",
       "CA-MB           1.004230  1.004230     1.004230      1.004230  1.004230  ...   \n",
       "CA-NS           1.004230  1.004230     1.004230      1.004230  1.004230  ...   \n",
       "CA-AB           0.979404  0.979404     0.979404      0.979404  0.979404  ...   \n",
       "CA-BC           0.979404  0.979404     0.979404      0.979404  0.979404  ...   \n",
       "CA-ON           0.979404  0.979404     0.979404      0.979404  0.979404  ...   \n",
       "CA-QC           0.979404  0.979404     0.979404      0.979404  0.979404  ...   \n",
       "CA-PE           1.004230  1.004230     1.004230      1.004230  1.004230  ...   \n",
       "CA-NT           0.979404  0.979404     0.979404      0.979404  0.979404  ...   \n",
       "CA-SK           0.979404  0.979404     0.979404      0.979404  0.979404  ...   \n",
       "\n",
       "          Carbon dioxide, fossil  Dinitrogen monoxide  \\\n",
       "location                                                \n",
       "PT                      1.000000             1.000000   \n",
       "CA-NB                   0.979404             0.979404   \n",
       "CA-MB                   1.004230             1.004230   \n",
       "CA-NS                   1.004230             1.004230   \n",
       "CA-AB                   0.979404             0.979404   \n",
       "CA-BC                   0.979404             0.979404   \n",
       "CA-ON                   0.979404             0.979404   \n",
       "CA-QC                   0.979404             0.979404   \n",
       "CA-PE                   1.004230             1.004230   \n",
       "CA-NT                   0.979404             0.979404   \n",
       "CA-SK                   0.979404             0.979404   \n",
       "\n",
       "          Water, cooling, unspecified natural origin  Particulates, < 2.5 um  \\\n",
       "location                                                                       \n",
       "PT                                          1.000000                1.000000   \n",
       "CA-NB                                       0.979404                0.979404   \n",
       "CA-MB                                       1.004230                1.004230   \n",
       "CA-NS                                       1.004230                1.004230   \n",
       "CA-AB                                       0.979404                0.979404   \n",
       "CA-BC                                       0.979404                0.979404   \n",
       "CA-ON                                       0.979404                0.979404   \n",
       "CA-QC                                       0.979404                0.979404   \n",
       "CA-PE                                       1.004230                1.004230   \n",
       "CA-NT                                       0.979404                0.979404   \n",
       "CA-SK                                       0.979404                0.979404   \n",
       "\n",
       "          PAH, polycyclic aromatic hydrocarbons  Nitrogen oxides  \\\n",
       "location                                                           \n",
       "PT                                     1.000000         1.000000   \n",
       "CA-NB                                  0.979404         0.979404   \n",
       "CA-MB                                       NaN         1.004230   \n",
       "CA-NS                                       NaN         1.004230   \n",
       "CA-AB                                  0.979404         0.979404   \n",
       "CA-BC                                  0.979404         0.979404   \n",
       "CA-ON                                  0.979404         0.979404   \n",
       "CA-QC                                  0.979404         0.979404   \n",
       "CA-PE                                       NaN         1.004230   \n",
       "CA-NT                                  0.979404         0.979404   \n",
       "CA-SK                                  0.979404         0.979404   \n",
       "\n",
       "          Propionic acid   Pentane    Ethane  Methane, fossil  \n",
       "location                                                       \n",
       "PT              1.000000  1.000000  1.000000         1.000000  \n",
       "CA-NB           0.979404  0.979404  0.979404         0.979404  \n",
       "CA-MB                NaN  1.004230  1.004230         1.004230  \n",
       "CA-NS                NaN  1.004230  1.004230         1.004230  \n",
       "CA-AB           0.979404  0.979404  0.979404         0.979404  \n",
       "CA-BC           0.979404  0.979404  0.979404         0.979404  \n",
       "CA-ON           0.979404  0.979404  0.979404         0.979404  \n",
       "CA-QC           0.979404  0.979404  0.979404         0.979404  \n",
       "CA-PE                NaN  1.004230  1.004230         1.004230  \n",
       "CA-NT           0.979404  0.979404  0.979404         0.979404  \n",
       "CA-SK           0.979404  0.979404  0.979404         0.979404  \n",
       "\n",
       "[11 rows x 22 columns]"
      ]
     },
     "execution_count": 14,
     "metadata": {},
     "output_type": "execute_result"
    }
   ],
   "source": [
    "df / df.iloc[0]"
   ]
  },
  {
   "cell_type": "markdown",
   "id": "affecting-circumstances",
   "metadata": {},
   "source": [
    "## `compare_activities_by_lcia_score`"
   ]
  },
  {
   "cell_type": "markdown",
   "id": "duplicate-caribbean",
   "metadata": {},
   "source": [
    "A common question when trying to choose between different activities with similar sounding names is: Does it matter which one we choose? Are they actually any different? `compare_activities_by_lcia_score` allows for a comparison of any activities. If we look at very similar activities, we don't see a real difference:"
   ]
  },
  {
   "cell_type": "code",
   "execution_count": 31,
   "id": "assigned-tourism",
   "metadata": {},
   "outputs": [
    {
     "data": {
      "text/plain": [
       "['heat and power co-generation, natural gas, conventional power plant, 100MW electrical' (kilowatt hour, CA-SK, None),\n",
       " 'heat and power co-generation, natural gas, conventional power plant, 100MW electrical' (kilowatt hour, CA-NT, None),\n",
       " 'heat and power co-generation, natural gas, conventional power plant, 100MW electrical' (kilowatt hour, CA-PE, None),\n",
       " 'heat and power co-generation, natural gas, conventional power plant, 100MW electrical' (kilowatt hour, CA-AB, None),\n",
       " 'heat and power co-generation, natural gas, conventional power plant, 100MW electrical' (kilowatt hour, CA-QC, None),\n",
       " 'heat and power co-generation, natural gas, conventional power plant, 100MW electrical' (kilowatt hour, CA-NB, None),\n",
       " 'heat and power co-generation, natural gas, conventional power plant, 100MW electrical' (kilowatt hour, CA-MB, None),\n",
       " 'heat and power co-generation, natural gas, conventional power plant, 100MW electrical' (kilowatt hour, CA-ON, None),\n",
       " 'heat and power co-generation, natural gas, conventional power plant, 100MW electrical' (kilowatt hour, CA-BC, None),\n",
       " 'heat and power co-generation, natural gas, conventional power plant, 100MW electrical' (kilowatt hour, CA-NS, None)]"
      ]
     },
     "execution_count": 31,
     "metadata": {},
     "output_type": "execute_result"
    }
   ],
   "source": [
    "justin = [\n",
    "    a for a in ei \n",
    "    if a['name'] == act['name'] \n",
    "    and a['reference product'] == act['reference product']\n",
    "    and a['location'] in canada\n",
    "]\n",
    "justin"
   ]
  },
  {
   "cell_type": "code",
   "execution_count": 33,
   "id": "shared-brunswick",
   "metadata": {},
   "outputs": [
    {
     "name": "stdout",
     "output_type": "stream",
     "text": [
      "All activities similar\n"
     ]
    }
   ],
   "source": [
    "ba.compare_activities_by_lcia_score(\n",
    "    [\n",
    "        a for a in justin \n",
    "        if a['location'] != 'CA-QC'  # Je me souviens ;)\n",
    "    ],\n",
    "    ipcc\n",
    ")"
   ]
  },
  {
   "cell_type": "markdown",
   "id": "nutritional-lancaster",
   "metadata": {},
   "source": [
    "Allowing for Québec already produces different results:"
   ]
  },
  {
   "cell_type": "code",
   "execution_count": 34,
   "id": "accessory-boston",
   "metadata": {},
   "outputs": [
    {
     "name": "stdout",
     "output_type": "stream",
     "text": [
      "Differences observed. LCA scores:\n",
      "\t0.564 -> 'heat and power co-generation, natural gas, conventional power plant, 100MW electrical' (kilowatt hour, CA-SK, None)\n",
      "\t0.564 -> 'heat and power co-generation, natural gas, conventional power plant, 100MW electrical' (kilowatt hour, CA-NT, None)\n",
      "\t0.578 -> 'heat and power co-generation, natural gas, conventional power plant, 100MW electrical' (kilowatt hour, CA-PE, None)\n",
      "\t0.556 -> 'heat and power co-generation, natural gas, conventional power plant, 100MW electrical' (kilowatt hour, CA-AB, None)\n",
      "\t0.706 -> 'heat and power co-generation, natural gas, conventional power plant, 100MW electrical' (kilowatt hour, CA-QC, None)\n",
      "\t0.564 -> 'heat and power co-generation, natural gas, conventional power plant, 100MW electrical' (kilowatt hour, CA-NB, None)\n",
      "\t0.578 -> 'heat and power co-generation, natural gas, conventional power plant, 100MW electrical' (kilowatt hour, CA-MB, None)\n",
      "\t0.564 -> 'heat and power co-generation, natural gas, conventional power plant, 100MW electrical' (kilowatt hour, CA-ON, None)\n",
      "\t0.564 -> 'heat and power co-generation, natural gas, conventional power plant, 100MW electrical' (kilowatt hour, CA-BC, None)\n",
      "\t0.578 -> 'heat and power co-generation, natural gas, conventional power plant, 100MW electrical' (kilowatt hour, CA-NS, None)\n"
     ]
    }
   ],
   "source": [
    "ba.compare_activities_by_lcia_score(\n",
    "    justin,\n",
    "    ipcc\n",
    ")"
   ]
  },
  {
   "cell_type": "markdown",
   "id": "flying-philippines",
   "metadata": {},
   "source": [
    "Note that the Brightway developers take no position on Québec, Canada, Justin, or the correctness of the results provided above!"
   ]
  },
  {
   "cell_type": "markdown",
   "id": "declared-oklahoma",
   "metadata": {},
   "source": [
    "You can set the cutoff for what a \"real\" difference is with the `band` argument. Just for fun, let's look at many different CHP activities."
   ]
  },
  {
   "cell_type": "code",
   "execution_count": 17,
   "id": "electrical-plenty",
   "metadata": {},
   "outputs": [
    {
     "data": {
      "text/plain": [
       "{'heat and power co-generation, natural gas, 160kW electrical, Jakobsberg',\n",
       " 'heat and power co-generation, natural gas, 160kW electrical, lambda=1',\n",
       " 'heat and power co-generation, natural gas, 1MW electrical, lean burn',\n",
       " 'heat and power co-generation, natural gas, 200kW electrical, lean burn',\n",
       " 'heat and power co-generation, natural gas, 500kW electrical, lean burn',\n",
       " 'heat and power co-generation, natural gas, 50kW electrical, lean burn',\n",
       " 'heat and power co-generation, natural gas, combined cycle power plant, 400MW electrical',\n",
       " 'heat and power co-generation, natural gas, conventional power plant, 100MW electrical',\n",
       " 'heat and power co-generation, natural gas, mini-plant 2KW electrical'}"
      ]
     },
     "execution_count": 17,
     "metadata": {},
     "output_type": "execute_result"
    }
   ],
   "source": [
    "{act['name'] for act in ei if act['name'].startswith('heat and power co-generation, natural gas')}"
   ]
  },
  {
   "cell_type": "code",
   "execution_count": 35,
   "id": "correct-general",
   "metadata": {},
   "outputs": [
    {
     "name": "stdout",
     "output_type": "stream",
     "text": [
      "All activities similar\n"
     ]
    }
   ],
   "source": [
    "ba.compare_activities_by_lcia_score(\n",
    "    [a for a in ei \n",
    "     if a['name'].startswith('heat and power co-generation, natural gas')\n",
    "     and a['reference product'] == act['reference product']\n",
    "    ], \n",
    "    ipcc,\n",
    "    band=1\n",
    ")"
   ]
  },
  {
   "cell_type": "code",
   "execution_count": 18,
   "id": "laden-interim",
   "metadata": {},
   "outputs": [
    {
     "name": "stdout",
     "output_type": "stream",
     "text": [
      "Differences observed. LCA scores:\n",
      "\t0.615 -> 'heat and power co-generation, natural gas, conventional power plant, 100MW electrical' (kilowatt hour, GR, None)\n",
      "\t0.360 -> 'heat and power co-generation, natural gas, combined cycle power plant, 400MW electrical' (kilowatt hour, IR, None)\n",
      "\t0.627 -> 'heat and power co-generation, natural gas, combined cycle power plant, 400MW electrical' (kilowatt hour, HU, None)\n",
      "\t0.608 -> 'heat and power co-generation, natural gas, combined cycle power plant, 400MW electrical' (kilowatt hour, SK, None)\n",
      "\t0.516 -> 'heat and power co-generation, natural gas, combined cycle power plant, 400MW electrical' (kilowatt hour, LV, None)\n",
      "\t0.562 -> 'heat and power co-generation, natural gas, conventional power plant, 100MW electrical' (kilowatt hour, SI, None)\n",
      "\t0.699 -> 'heat and power co-generation, natural gas, conventional power plant, 100MW electrical' (kilowatt hour, TR, None)\n",
      "\t0.688 -> 'heat and power co-generation, natural gas, conventional power plant, 100MW electrical' (kilowatt hour, FR, None)\n",
      "\t0.435 -> 'heat and power co-generation, natural gas, combined cycle power plant, 400MW electrical' (kilowatt hour, US-TRE, None)\n",
      "\t0.687 -> 'heat and power co-generation, natural gas, conventional power plant, 100MW electrical' (kilowatt hour, IT, None)\n",
      "\t0.956 -> 'heat and power co-generation, natural gas, conventional power plant, 100MW electrical' (kilowatt hour, UA, None)\n",
      "\t0.564 -> 'heat and power co-generation, natural gas, conventional power plant, 100MW electrical' (kilowatt hour, CA-NB, None)\n",
      "\t0.535 -> 'heat and power co-generation, natural gas, combined cycle power plant, 400MW electrical' (kilowatt hour, HR, None)\n",
      "\t0.684 -> 'heat and power co-generation, natural gas, conventional power plant, 100MW electrical' (kilowatt hour, HR, None)\n",
      "\t0.590 -> 'heat and power co-generation, natural gas, conventional power plant, 100MW electrical' (kilowatt hour, US-WECC, None)\n",
      "\t0.731 -> 'heat and power co-generation, natural gas, conventional power plant, 100MW electrical' (kilowatt hour, US-ASCC, None)\n",
      "\t0.527 -> 'heat and power co-generation, natural gas, combined cycle power plant, 400MW electrical' (kilowatt hour, AT, None)\n",
      "\t0.519 -> 'heat and power co-generation, natural gas, conventional power plant, 100MW electrical' (kilowatt hour, NL, None)\n",
      "\t0.578 -> 'heat and power co-generation, natural gas, conventional power plant, 100MW electrical' (kilowatt hour, CA-PE, None)\n",
      "\t0.264 -> 'heat and power co-generation, natural gas, combined cycle power plant, 400MW electrical' (kilowatt hour, PT, None)\n",
      "\t0.659 -> 'heat and power co-generation, natural gas, conventional power plant, 100MW electrical' (kilowatt hour, HU, None)\n",
      "\t0.441 -> 'heat and power co-generation, natural gas, combined cycle power plant, 400MW electrical' (kilowatt hour, LU, None)\n",
      "\t0.492 -> 'heat and power co-generation, natural gas, combined cycle power plant, 400MW electrical' (kilowatt hour, KR, None)\n",
      "\t0.609 -> 'heat and power co-generation, natural gas, conventional power plant, 100MW electrical' (kilowatt hour, PT, None)\n",
      "\t0.588 -> 'heat and power co-generation, natural gas, 1MW electrical, lean burn' (kilowatt hour, CH, None)\n",
      "\t0.563 -> 'heat and power co-generation, natural gas, conventional power plant, 100MW electrical' (kilowatt hour, EE, None)\n",
      "\t0.435 -> 'heat and power co-generation, natural gas, combined cycle power plant, 400MW electrical' (kilowatt hour, US-FRCC, None)\n",
      "\t0.435 -> 'heat and power co-generation, natural gas, combined cycle power plant, 400MW electrical' (kilowatt hour, US-WECC, None)\n",
      "\t0.698 -> 'heat and power co-generation, natural gas, conventional power plant, 100MW electrical' (kilowatt hour, LU, None)\n",
      "\t0.538 -> 'heat and power co-generation, natural gas, combined cycle power plant, 400MW electrical' (kilowatt hour, AU, None)\n",
      "\t0.458 -> 'heat and power co-generation, natural gas, combined cycle power plant, 400MW electrical' (kilowatt hour, RO, None)\n",
      "\t0.747 -> 'heat and power co-generation, natural gas, conventional power plant, 100MW electrical' (kilowatt hour, LV, None)\n",
      "\t0.808 -> 'heat and power co-generation, natural gas, conventional power plant, 100MW electrical' (kilowatt hour, SK, None)\n",
      "\t0.552 -> 'heat and power co-generation, natural gas, conventional power plant, 100MW electrical' (kilowatt hour, BE, None)\n",
      "\t0.556 -> 'heat and power co-generation, natural gas, conventional power plant, 100MW electrical' (kilowatt hour, NO, None)\n",
      "\t0.803 -> 'heat and power co-generation, natural gas, conventional power plant, 100MW electrical' (kilowatt hour, RS, None)\n",
      "\t0.677 -> 'heat and power co-generation, natural gas, conventional power plant, 100MW electrical' (kilowatt hour, BA, None)\n",
      "\t0.564 -> 'heat and power co-generation, natural gas, conventional power plant, 100MW electrical' (kilowatt hour, CA-NT, None)\n",
      "\t0.590 -> 'heat and power co-generation, natural gas, 1MW electrical, lean burn' (kilowatt hour, RoW, None)\n",
      "\t0.546 -> 'heat and power co-generation, natural gas, combined cycle power plant, 400MW electrical' (kilowatt hour, PL, None)\n",
      "\t0.512 -> 'heat and power co-generation, natural gas, combined cycle power plant, 400MW electrical' (kilowatt hour, US-SERC, None)\n",
      "\t0.442 -> 'heat and power co-generation, natural gas, combined cycle power plant, 400MW electrical' (kilowatt hour, DK, None)\n",
      "\t0.546 -> 'heat and power co-generation, natural gas, conventional power plant, 100MW electrical' (kilowatt hour, KR, None)\n",
      "\t0.379 -> 'heat and power co-generation, natural gas, combined cycle power plant, 400MW electrical' (kilowatt hour, GB, None)\n",
      "\t0.755 -> 'heat and power co-generation, natural gas, conventional power plant, 100MW electrical' (kilowatt hour, AT, None)\n",
      "\t0.511 -> 'heat and power co-generation, natural gas, combined cycle power plant, 400MW electrical' (kilowatt hour, GR, None)\n",
      "\t0.561 -> 'heat and power co-generation, natural gas, conventional power plant, 100MW electrical' (kilowatt hour, FI, None)\n",
      "\t0.496 -> 'heat and power co-generation, natural gas, combined cycle power plant, 400MW electrical' (kilowatt hour, NO, None)\n",
      "\t0.437 -> 'heat and power co-generation, natural gas, combined cycle power plant, 400MW electrical' (kilowatt hour, US-MRO, None)\n",
      "\t0.564 -> 'heat and power co-generation, natural gas, conventional power plant, 100MW electrical' (kilowatt hour, CA-BC, None)\n",
      "\t0.418 -> 'heat and power co-generation, natural gas, combined cycle power plant, 400MW electrical' (kilowatt hour, BE, None)\n",
      "\t0.657 -> 'heat and power co-generation, natural gas, conventional power plant, 100MW electrical' (kilowatt hour, RoW, None)\n",
      "\t0.584 -> 'heat and power co-generation, natural gas, 1MW electrical, lean burn' (kilowatt hour, Europe without Switzerland, None)\n",
      "\t0.431 -> 'heat and power co-generation, natural gas, combined cycle power plant, 400MW electrical' (kilowatt hour, ES, None)\n",
      "\t0.590 -> 'heat and power co-generation, natural gas, conventional power plant, 100MW electrical' (kilowatt hour, US-NPCC, None)\n",
      "\t0.441 -> 'heat and power co-generation, natural gas, combined cycle power plant, 400MW electrical' (kilowatt hour, TR, None)\n",
      "\t0.590 -> 'heat and power co-generation, natural gas, conventional power plant, 100MW electrical' (kilowatt hour, US-RFC, None)\n",
      "\t0.857 -> 'heat and power co-generation, natural gas, conventional power plant, 100MW electrical' (kilowatt hour, RU, None)\n",
      "\t0.578 -> 'heat and power co-generation, natural gas, conventional power plant, 100MW electrical' (kilowatt hour, CA-MB, None)\n",
      "\t0.425 -> 'heat and power co-generation, natural gas, combined cycle power plant, 400MW electrical' (kilowatt hour, FI, None)\n",
      "\t0.645 -> 'heat and power co-generation, natural gas, 200kW electrical, lean burn' (kilowatt hour, RoW, None)\n",
      "\t0.564 -> 'heat and power co-generation, natural gas, conventional power plant, 100MW electrical' (kilowatt hour, CA-SK, None)\n",
      "\t0.590 -> 'heat and power co-generation, natural gas, conventional power plant, 100MW electrical' (kilowatt hour, US-SERC, None)\n",
      "\t0.509 -> 'heat and power co-generation, natural gas, conventional power plant, 100MW electrical' (kilowatt hour, AU, None)\n",
      "\t0.486 -> 'heat and power co-generation, natural gas, combined cycle power plant, 400MW electrical' (kilowatt hour, LT, None)\n",
      "\t0.476 -> 'heat and power co-generation, natural gas, conventional power plant, 100MW electrical' (kilowatt hour, IR, None)\n",
      "\t0.615 -> 'heat and power co-generation, natural gas, 500kW electrical, lean burn' (kilowatt hour, RoW, None)\n",
      "\t0.770 -> 'heat and power co-generation, natural gas, conventional power plant, 100MW electrical' (kilowatt hour, PL, None)\n",
      "\t0.598 -> 'heat and power co-generation, natural gas, combined cycle power plant, 400MW electrical' (kilowatt hour, BG, None)\n",
      "\t0.526 -> 'heat and power co-generation, natural gas, conventional power plant, 100MW electrical' (kilowatt hour, CO, None)\n",
      "\t0.500 -> 'heat and power co-generation, natural gas, combined cycle power plant, 400MW electrical' (kilowatt hour, IT, None)\n",
      "\t0.571 -> 'heat and power co-generation, natural gas, combined cycle power plant, 400MW electrical' (kilowatt hour, US-ASCC, None)\n",
      "\t0.876 -> 'heat and power co-generation, natural gas, conventional power plant, 100MW electrical' (kilowatt hour, CZ, None)\n",
      "\t0.492 -> 'heat and power co-generation, natural gas, combined cycle power plant, 400MW electrical' (kilowatt hour, SA, None)\n",
      "\t0.590 -> 'heat and power co-generation, natural gas, conventional power plant, 100MW electrical' (kilowatt hour, US-TRE, None)\n",
      "\t0.435 -> 'heat and power co-generation, natural gas, combined cycle power plant, 400MW electrical' (kilowatt hour, US-NPCC, None)\n",
      "\t0.496 -> 'heat and power co-generation, natural gas, combined cycle power plant, 400MW electrical' (kilowatt hour, MK, None)\n",
      "\t0.578 -> 'heat and power co-generation, natural gas, conventional power plant, 100MW electrical' (kilowatt hour, CA-NS, None)\n",
      "\t0.552 -> 'heat and power co-generation, natural gas, combined cycle power plant, 400MW electrical' (kilowatt hour, RU, None)\n",
      "\t0.590 -> 'heat and power co-generation, natural gas, conventional power plant, 100MW electrical' (kilowatt hour, US-MRO, None)\n",
      "\t0.698 -> 'heat and power co-generation, natural gas, conventional power plant, 100MW electrical' (kilowatt hour, RO, None)\n",
      "\t0.554 -> 'heat and power co-generation, natural gas, combined cycle power plant, 400MW electrical' (kilowatt hour, RoW, None)\n",
      "\t0.962 -> 'heat and power co-generation, natural gas, conventional power plant, 100MW electrical' (kilowatt hour, BG, None)\n",
      "\t0.564 -> 'heat and power co-generation, natural gas, conventional power plant, 100MW electrical' (kilowatt hour, CA-ON, None)\n",
      "\t0.673 -> 'heat and power co-generation, natural gas, conventional power plant, 100MW electrical' (kilowatt hour, SA, None)\n",
      "\t0.643 -> 'heat and power co-generation, natural gas, 200kW electrical, lean burn' (kilowatt hour, CH, None)\n",
      "\t0.435 -> 'heat and power co-generation, natural gas, combined cycle power plant, 400MW electrical' (kilowatt hour, US-RFC, None)\n",
      "\t0.519 -> 'heat and power co-generation, natural gas, conventional power plant, 100MW electrical' (kilowatt hour, ES, None)\n",
      "\t0.556 -> 'heat and power co-generation, natural gas, conventional power plant, 100MW electrical' (kilowatt hour, CA-AB, None)\n",
      "\t0.331 -> 'heat and power co-generation, natural gas, conventional power plant, 100MW electrical' (kilowatt hour, AR, None)\n",
      "\t0.636 -> 'heat and power co-generation, natural gas, conventional power plant, 100MW electrical' (kilowatt hour, LT, None)\n",
      "\t0.595 -> 'heat and power co-generation, natural gas, conventional power plant, 100MW electrical' (kilowatt hour, SE, None)\n",
      "\t0.393 -> 'heat and power co-generation, natural gas, combined cycle power plant, 400MW electrical' (kilowatt hour, NL, None)\n",
      "\t0.567 -> 'heat and power co-generation, natural gas, conventional power plant, 100MW electrical' (kilowatt hour, PE, None)\n",
      "\t0.489 -> 'heat and power co-generation, natural gas, conventional power plant, 100MW electrical' (kilowatt hour, TW, None)\n",
      "\t0.590 -> 'heat and power co-generation, natural gas, conventional power plant, 100MW electrical' (kilowatt hour, US-FRCC, None)\n",
      "\t0.667 -> 'heat and power co-generation, natural gas, conventional power plant, 100MW electrical' (kilowatt hour, MK, None)\n",
      "\t0.706 -> 'heat and power co-generation, natural gas, conventional power plant, 100MW electrical' (kilowatt hour, CA-QC, None)\n",
      "\t0.456 -> 'heat and power co-generation, natural gas, conventional power plant, 100MW electrical' (kilowatt hour, GB, None)\n",
      "\t0.505 -> 'heat and power co-generation, natural gas, conventional power plant, 100MW electrical' (kilowatt hour, DK, None)\n",
      "\t0.613 -> 'heat and power co-generation, natural gas, 500kW electrical, lean burn' (kilowatt hour, CH, None)\n",
      "\t0.415 -> 'heat and power co-generation, natural gas, combined cycle power plant, 400MW electrical' (kilowatt hour, DE, None)\n",
      "\t0.548 -> 'heat and power co-generation, natural gas, conventional power plant, 100MW electrical' (kilowatt hour, DE, None)\n",
      "\t0.457 -> 'heat and power co-generation, natural gas, conventional power plant, 100MW electrical' (kilowatt hour, IE, None)\n"
     ]
    }
   ],
   "source": [
    "ba.compare_activities_by_lcia_score(\n",
    "    [a for a in ei \n",
    "     if a['name'].startswith('heat and power co-generation, natural gas')\n",
    "     and a['reference product'] == act['reference product']\n",
    "    ], \n",
    "    ipcc,\n",
    "    band=0.25\n",
    ")"
   ]
  },
  {
   "cell_type": "markdown",
   "id": "bridal-industry",
   "metadata": {},
   "source": [
    "## `compare_activities_by_grouped_leaves`\n",
    "\n",
    "Knowing that there are differences isn't always super helpful - one wants to *why* there are differences. We can't really go through the supply chains of many different activities manually, and keep all the differences straight. The function `compare_activities_by_grouped_leaves` will sum the *impacts* of the different supply chain activities by their [Common Product Classification](https://unstats.un.org/unsd/classifications/Econ/cpc) code. This will only work on databases which provide CPC codes in the same format as ecoinvent.\n",
    "\n",
    "This function has multiple output formats. The default is a Python tuple of `(labels, data)`, but this is not shown here, as it is intended for programmatic use. Humans would choose either an HTML table:"
   ]
  },
  {
   "cell_type": "code",
   "execution_count": 21,
   "id": "disabled-albert",
   "metadata": {},
   "outputs": [
    {
     "name": "stdout",
     "output_type": "stream",
     "text": [
      "Omitting activity name common prefix: 'heat and power co-generation, natural gas, '\n"
     ]
    },
    {
     "data": {
      "text/html": [
       "<table>\n",
       "<thead>\n",
       "<tr><th>activity                                    </th><th>product  </th><th>location  </th><th>unit         </th><th style=\"text-align: right;\">  total</th><th style=\"text-align: right;\">  direct emissions</th><th style=\"text-align: right;\">  12020: Natural gas, liquefied or in the gaseous st</th><th style=\"text-align: right;\">  65131: Transport services via pipeline of petroleu</th><th style=\"text-align: right;\">  17100: Electrical energy</th><th style=\"text-align: right;\">  17300: Steam and hot water</th><th style=\"text-align: right;\">  53262: Power plants</th><th style=\"text-align: right;\">  65212: Coastal and transoceanic water transport se</th><th style=\"text-align: right;\">  39990: Other wastes n.e.c.</th><th style=\"text-align: right;\">  86211: Support services to oil and gas extraction</th><th style=\"text-align: right;\">  8621: Support services to mining</th><th style=\"text-align: right;\">  4124: Bars and rods, hot-rolled, of iron or steel</th><th style=\"text-align: right;\">  53241: Long-distance pipelines</th><th style=\"text-align: right;\">  15310: Natural sands</th><th style=\"text-align: right;\">  54330: Excavating and earthmoving services</th><th style=\"text-align: right;\">  34710: Polymers of ethylene, in primary forms</th><th style=\"text-align: right;\">  4128: Tubes, pipes and hollow profiles, of steel</th><th style=\"text-align: right;\">  53251: Local pipelines</th><th style=\"text-align: right;\">  531: Buildings</th><th style=\"text-align: right;\">  374: Plaster, lime and cement</th><th style=\"text-align: right;\">  18000: Natural water</th><th style=\"text-align: right;\">  6424: Air transport services of passengers</th><th style=\"text-align: right;\">  39270: Waste, parings and scrap of plastics</th></tr>\n",
       "</thead>\n",
       "<tbody>\n",
       "<tr><td>conventional power plant, 100MW electrical  </td><td>         </td><td>US-NPCC   </td><td>kilowatt hour</td><td style=\"text-align: right;\">  0.590</td><td style=\"text-align: right;\">             0.818</td><td style=\"text-align: right;\">                                               0.097</td><td style=\"text-align: right;\">                                               0.013</td><td style=\"text-align: right;\">                     0.036</td><td style=\"text-align: right;\">                       0.021</td><td style=\"text-align: right;\">                0.007</td><td style=\"text-align: right;\">                                               0.000</td><td style=\"text-align: right;\">                       0.002</td><td style=\"text-align: right;\">                                              0.002</td><td style=\"text-align: right;\">                             0.000</td><td style=\"text-align: right;\">                                              0.000</td><td style=\"text-align: right;\">                           0.003</td><td style=\"text-align: right;\">                 0.000</td><td style=\"text-align: right;\">                                       0.000</td><td style=\"text-align: right;\">                                          0.000</td><td style=\"text-align: right;\">                                             0.000</td><td style=\"text-align: right;\">                   0.000</td><td style=\"text-align: right;\">           0.000</td><td style=\"text-align: right;\">                          0.000</td><td style=\"text-align: right;\">                 0.000</td><td style=\"text-align: right;\">                                       0.000</td><td style=\"text-align: right;\">                                        0.000</td></tr>\n",
       "<tr><td>conventional power plant, 100MW electrical  </td><td>         </td><td>EE        </td><td>kilowatt hour</td><td style=\"text-align: right;\">  0.563</td><td style=\"text-align: right;\">             0.847</td><td style=\"text-align: right;\">                                               0.093</td><td style=\"text-align: right;\">                                               0.047</td><td style=\"text-align: right;\">                     0.000</td><td style=\"text-align: right;\">                       0.001</td><td style=\"text-align: right;\">                0.005</td><td style=\"text-align: right;\">                                               0.000</td><td style=\"text-align: right;\">                       0.000</td><td style=\"text-align: right;\">                                              0.000</td><td style=\"text-align: right;\">                             0.000</td><td style=\"text-align: right;\">                                              0.000</td><td style=\"text-align: right;\">                           0.000</td><td style=\"text-align: right;\">                 0.000</td><td style=\"text-align: right;\">                                       0.000</td><td style=\"text-align: right;\">                                          0.000</td><td style=\"text-align: right;\">                                             0.000</td><td style=\"text-align: right;\">                   0.001</td><td style=\"text-align: right;\">           0.000</td><td style=\"text-align: right;\">                          0.000</td><td style=\"text-align: right;\">                 0.000</td><td style=\"text-align: right;\">                                       0.000</td><td style=\"text-align: right;\">                                        0.000</td></tr>\n",
       "<tr><td>combined cycle power plant, 400MW electrical</td><td>         </td><td>RoW       </td><td>kilowatt hour</td><td style=\"text-align: right;\">  0.554</td><td style=\"text-align: right;\">             0.837</td><td style=\"text-align: right;\">                                               0.093</td><td style=\"text-align: right;\">                                               0.020</td><td style=\"text-align: right;\">                     0.011</td><td style=\"text-align: right;\">                       0.000</td><td style=\"text-align: right;\">                0.004</td><td style=\"text-align: right;\">                                               0.006</td><td style=\"text-align: right;\">                       0.000</td><td style=\"text-align: right;\">                                              0.004</td><td style=\"text-align: right;\">                             0.000</td><td style=\"text-align: right;\">                                              0.003</td><td style=\"text-align: right;\">                           0.001</td><td style=\"text-align: right;\">                 0.001</td><td style=\"text-align: right;\">                                       0.001</td><td style=\"text-align: right;\">                                          0.001</td><td style=\"text-align: right;\">                                             0.001</td><td style=\"text-align: right;\">                   0.000</td><td style=\"text-align: right;\">           0.001</td><td style=\"text-align: right;\">                          0.000</td><td style=\"text-align: right;\">                 0.000</td><td style=\"text-align: right;\">                                       0.000</td><td style=\"text-align: right;\">                                        0.000</td></tr>\n",
       "<tr><td>combined cycle power plant, 400MW electrical</td><td>         </td><td>KR        </td><td>kilowatt hour</td><td style=\"text-align: right;\">  0.492</td><td style=\"text-align: right;\">             0.880</td><td style=\"text-align: right;\">                                               0.083</td><td style=\"text-align: right;\">                                               0.000</td><td style=\"text-align: right;\">                     0.012</td><td style=\"text-align: right;\">                       0.000</td><td style=\"text-align: right;\">                0.003</td><td style=\"text-align: right;\">                                               0.002</td><td style=\"text-align: right;\">                       0.006</td><td style=\"text-align: right;\">                                              0.006</td><td style=\"text-align: right;\">                             0.005</td><td style=\"text-align: right;\">                                              0.000</td><td style=\"text-align: right;\">                           0.000</td><td style=\"text-align: right;\">                 0.000</td><td style=\"text-align: right;\">                                       0.000</td><td style=\"text-align: right;\">                                          0.000</td><td style=\"text-align: right;\">                                             0.000</td><td style=\"text-align: right;\">                   0.000</td><td style=\"text-align: right;\">           0.000</td><td style=\"text-align: right;\">                          0.000</td><td style=\"text-align: right;\">                 0.000</td><td style=\"text-align: right;\">                                       0.000</td><td style=\"text-align: right;\">                                        0.000</td></tr>\n",
       "<tr><td>combined cycle power plant, 400MW electrical</td><td>         </td><td>US-WECC   </td><td>kilowatt hour</td><td style=\"text-align: right;\">  0.435</td><td style=\"text-align: right;\">             0.820</td><td style=\"text-align: right;\">                                               0.097</td><td style=\"text-align: right;\">                                               0.013</td><td style=\"text-align: right;\">                     0.037</td><td style=\"text-align: right;\">                       0.021</td><td style=\"text-align: right;\">                0.005</td><td style=\"text-align: right;\">                                               0.000</td><td style=\"text-align: right;\">                       0.002</td><td style=\"text-align: right;\">                                              0.002</td><td style=\"text-align: right;\">                             0.000</td><td style=\"text-align: right;\">                                              0.000</td><td style=\"text-align: right;\">                           0.003</td><td style=\"text-align: right;\">                 0.000</td><td style=\"text-align: right;\">                                       0.000</td><td style=\"text-align: right;\">                                          0.000</td><td style=\"text-align: right;\">                                             0.000</td><td style=\"text-align: right;\">                   0.000</td><td style=\"text-align: right;\">           0.000</td><td style=\"text-align: right;\">                          0.000</td><td style=\"text-align: right;\">                 0.000</td><td style=\"text-align: right;\">                                       0.000</td><td style=\"text-align: right;\">                                        0.000</td></tr>\n",
       "</tbody>\n",
       "</table>"
      ],
      "text/plain": [
       "'<table>\\n<thead>\\n<tr><th>activity                                    </th><th>product  </th><th>location  </th><th>unit         </th><th style=\"text-align: right;\">  total</th><th style=\"text-align: right;\">  direct emissions</th><th style=\"text-align: right;\">  12020: Natural gas, liquefied or in the gaseous st</th><th style=\"text-align: right;\">  65131: Transport services via pipeline of petroleu</th><th style=\"text-align: right;\">  17100: Electrical energy</th><th style=\"text-align: right;\">  17300: Steam and hot water</th><th style=\"text-align: right;\">  53262: Power plants</th><th style=\"text-align: right;\">  65212: Coastal and transoceanic water transport se</th><th style=\"text-align: right;\">  39990: Other wastes n.e.c.</th><th style=\"text-align: right;\">  86211: Support services to oil and gas extraction</th><th style=\"text-align: right;\">  8621: Support services to mining</th><th style=\"text-align: right;\">  4124: Bars and rods, hot-rolled, of iron or steel</th><th style=\"text-align: right;\">  53241: Long-distance pipelines</th><th style=\"text-align: right;\">  15310: Natural sands</th><th style=\"text-align: right;\">  54330: Excavating and earthmoving services</th><th style=\"text-align: right;\">  34710: Polymers of ethylene, in primary forms</th><th style=\"text-align: right;\">  4128: Tubes, pipes and hollow profiles, of steel</th><th style=\"text-align: right;\">  53251: Local pipelines</th><th style=\"text-align: right;\">  531: Buildings</th><th style=\"text-align: right;\">  374: Plaster, lime and cement</th><th style=\"text-align: right;\">  18000: Natural water</th><th style=\"text-align: right;\">  6424: Air transport services of passengers</th><th style=\"text-align: right;\">  39270: Waste, parings and scrap of plastics</th></tr>\\n</thead>\\n<tbody>\\n<tr><td>conventional power plant, 100MW electrical  </td><td>         </td><td>US-NPCC   </td><td>kilowatt hour</td><td style=\"text-align: right;\">  0.590</td><td style=\"text-align: right;\">             0.818</td><td style=\"text-align: right;\">                                               0.097</td><td style=\"text-align: right;\">                                               0.013</td><td style=\"text-align: right;\">                     0.036</td><td style=\"text-align: right;\">                       0.021</td><td style=\"text-align: right;\">                0.007</td><td style=\"text-align: right;\">                                               0.000</td><td style=\"text-align: right;\">                       0.002</td><td style=\"text-align: right;\">                                              0.002</td><td style=\"text-align: right;\">                             0.000</td><td style=\"text-align: right;\">                                              0.000</td><td style=\"text-align: right;\">                           0.003</td><td style=\"text-align: right;\">                 0.000</td><td style=\"text-align: right;\">                                       0.000</td><td style=\"text-align: right;\">                                          0.000</td><td style=\"text-align: right;\">                                             0.000</td><td style=\"text-align: right;\">                   0.000</td><td style=\"text-align: right;\">           0.000</td><td style=\"text-align: right;\">                          0.000</td><td style=\"text-align: right;\">                 0.000</td><td style=\"text-align: right;\">                                       0.000</td><td style=\"text-align: right;\">                                        0.000</td></tr>\\n<tr><td>conventional power plant, 100MW electrical  </td><td>         </td><td>EE        </td><td>kilowatt hour</td><td style=\"text-align: right;\">  0.563</td><td style=\"text-align: right;\">             0.847</td><td style=\"text-align: right;\">                                               0.093</td><td style=\"text-align: right;\">                                               0.047</td><td style=\"text-align: right;\">                     0.000</td><td style=\"text-align: right;\">                       0.001</td><td style=\"text-align: right;\">                0.005</td><td style=\"text-align: right;\">                                               0.000</td><td style=\"text-align: right;\">                       0.000</td><td style=\"text-align: right;\">                                              0.000</td><td style=\"text-align: right;\">                             0.000</td><td style=\"text-align: right;\">                                              0.000</td><td style=\"text-align: right;\">                           0.000</td><td style=\"text-align: right;\">                 0.000</td><td style=\"text-align: right;\">                                       0.000</td><td style=\"text-align: right;\">                                          0.000</td><td style=\"text-align: right;\">                                             0.000</td><td style=\"text-align: right;\">                   0.001</td><td style=\"text-align: right;\">           0.000</td><td style=\"text-align: right;\">                          0.000</td><td style=\"text-align: right;\">                 0.000</td><td style=\"text-align: right;\">                                       0.000</td><td style=\"text-align: right;\">                                        0.000</td></tr>\\n<tr><td>combined cycle power plant, 400MW electrical</td><td>         </td><td>RoW       </td><td>kilowatt hour</td><td style=\"text-align: right;\">  0.554</td><td style=\"text-align: right;\">             0.837</td><td style=\"text-align: right;\">                                               0.093</td><td style=\"text-align: right;\">                                               0.020</td><td style=\"text-align: right;\">                     0.011</td><td style=\"text-align: right;\">                       0.000</td><td style=\"text-align: right;\">                0.004</td><td style=\"text-align: right;\">                                               0.006</td><td style=\"text-align: right;\">                       0.000</td><td style=\"text-align: right;\">                                              0.004</td><td style=\"text-align: right;\">                             0.000</td><td style=\"text-align: right;\">                                              0.003</td><td style=\"text-align: right;\">                           0.001</td><td style=\"text-align: right;\">                 0.001</td><td style=\"text-align: right;\">                                       0.001</td><td style=\"text-align: right;\">                                          0.001</td><td style=\"text-align: right;\">                                             0.001</td><td style=\"text-align: right;\">                   0.000</td><td style=\"text-align: right;\">           0.001</td><td style=\"text-align: right;\">                          0.000</td><td style=\"text-align: right;\">                 0.000</td><td style=\"text-align: right;\">                                       0.000</td><td style=\"text-align: right;\">                                        0.000</td></tr>\\n<tr><td>combined cycle power plant, 400MW electrical</td><td>         </td><td>KR        </td><td>kilowatt hour</td><td style=\"text-align: right;\">  0.492</td><td style=\"text-align: right;\">             0.880</td><td style=\"text-align: right;\">                                               0.083</td><td style=\"text-align: right;\">                                               0.000</td><td style=\"text-align: right;\">                     0.012</td><td style=\"text-align: right;\">                       0.000</td><td style=\"text-align: right;\">                0.003</td><td style=\"text-align: right;\">                                               0.002</td><td style=\"text-align: right;\">                       0.006</td><td style=\"text-align: right;\">                                              0.006</td><td style=\"text-align: right;\">                             0.005</td><td style=\"text-align: right;\">                                              0.000</td><td style=\"text-align: right;\">                           0.000</td><td style=\"text-align: right;\">                 0.000</td><td style=\"text-align: right;\">                                       0.000</td><td style=\"text-align: right;\">                                          0.000</td><td style=\"text-align: right;\">                                             0.000</td><td style=\"text-align: right;\">                   0.000</td><td style=\"text-align: right;\">           0.000</td><td style=\"text-align: right;\">                          0.000</td><td style=\"text-align: right;\">                 0.000</td><td style=\"text-align: right;\">                                       0.000</td><td style=\"text-align: right;\">                                        0.000</td></tr>\\n<tr><td>combined cycle power plant, 400MW electrical</td><td>         </td><td>US-WECC   </td><td>kilowatt hour</td><td style=\"text-align: right;\">  0.435</td><td style=\"text-align: right;\">             0.820</td><td style=\"text-align: right;\">                                               0.097</td><td style=\"text-align: right;\">                                               0.013</td><td style=\"text-align: right;\">                     0.037</td><td style=\"text-align: right;\">                       0.021</td><td style=\"text-align: right;\">                0.005</td><td style=\"text-align: right;\">                                               0.000</td><td style=\"text-align: right;\">                       0.002</td><td style=\"text-align: right;\">                                              0.002</td><td style=\"text-align: right;\">                             0.000</td><td style=\"text-align: right;\">                                              0.000</td><td style=\"text-align: right;\">                           0.003</td><td style=\"text-align: right;\">                 0.000</td><td style=\"text-align: right;\">                                       0.000</td><td style=\"text-align: right;\">                                          0.000</td><td style=\"text-align: right;\">                                             0.000</td><td style=\"text-align: right;\">                   0.000</td><td style=\"text-align: right;\">           0.000</td><td style=\"text-align: right;\">                          0.000</td><td style=\"text-align: right;\">                 0.000</td><td style=\"text-align: right;\">                                       0.000</td><td style=\"text-align: right;\">                                        0.000</td></tr>\\n</tbody>\\n</table>'"
      ]
     },
     "execution_count": 21,
     "metadata": {},
     "output_type": "execute_result"
    }
   ],
   "source": [
    "ba.compare_activities_by_grouped_leaves(\n",
    "    [a for a in ei \n",
    "     if a['name'].startswith('heat and power co-generation, natural gas')\n",
    "     and a['reference product'] == act['reference product']\n",
    "    ][:5], \n",
    "    ipcc,\n",
    "    output_format=\"html\",\n",
    ")"
   ]
  },
  {
   "cell_type": "markdown",
   "id": "important-investigation",
   "metadata": {},
   "source": [
    "Or as a pandas `DataFrame`:"
   ]
  },
  {
   "cell_type": "code",
   "execution_count": 22,
   "id": "prostate-syntax",
   "metadata": {},
   "outputs": [
    {
     "name": "stdout",
     "output_type": "stream",
     "text": [
      "Omitting activity name common prefix: 'heat and power co-generation, natural gas, '\n"
     ]
    },
    {
     "data": {
      "text/html": [
       "<div>\n",
       "<style scoped>\n",
       "    .dataframe tbody tr th:only-of-type {\n",
       "        vertical-align: middle;\n",
       "    }\n",
       "\n",
       "    .dataframe tbody tr th {\n",
       "        vertical-align: top;\n",
       "    }\n",
       "\n",
       "    .dataframe thead th {\n",
       "        text-align: right;\n",
       "    }\n",
       "</style>\n",
       "<table border=\"1\" class=\"dataframe\">\n",
       "  <thead>\n",
       "    <tr style=\"text-align: right;\">\n",
       "      <th></th>\n",
       "      <th>activity</th>\n",
       "      <th>product</th>\n",
       "      <th>location</th>\n",
       "      <th>unit</th>\n",
       "      <th>total</th>\n",
       "      <th>direct emissions</th>\n",
       "      <th>17100: Electrical energy</th>\n",
       "      <th>65131: Transport services via pipeline of petroleum and natural gas</th>\n",
       "      <th>12020: Natural gas, liquefied or in the gaseous state</th>\n",
       "      <th>17300: Steam and hot water</th>\n",
       "      <th>8621: Support services to mining</th>\n",
       "      <th>86211: Support services to oil and gas extraction</th>\n",
       "      <th>53262: Power plants</th>\n",
       "      <th>39990: Other wastes n.e.c.</th>\n",
       "      <th>53241: Long-distance pipelines</th>\n",
       "      <th>65212: Coastal and transoceanic water transport services of freight by tankers</th>\n",
       "      <th>53251: Local pipelines</th>\n",
       "      <th>18000: Natural water</th>\n",
       "      <th>39910: Municipal waste</th>\n",
       "    </tr>\n",
       "  </thead>\n",
       "  <tbody>\n",
       "    <tr>\n",
       "      <th>0</th>\n",
       "      <td>conventional power plant, 100MW electrical</td>\n",
       "      <td></td>\n",
       "      <td>IT</td>\n",
       "      <td>kilowatt hour</td>\n",
       "      <td>0.686884</td>\n",
       "      <td>0.775616</td>\n",
       "      <td>0.081627</td>\n",
       "      <td>0.048086</td>\n",
       "      <td>0.045734</td>\n",
       "      <td>0.001161</td>\n",
       "      <td>0.010525</td>\n",
       "      <td>0.011150</td>\n",
       "      <td>0.004583</td>\n",
       "      <td>0.002157</td>\n",
       "      <td>0.003408</td>\n",
       "      <td>0.000407</td>\n",
       "      <td>0.000705</td>\n",
       "      <td>0.000242</td>\n",
       "      <td>0.000112</td>\n",
       "    </tr>\n",
       "    <tr>\n",
       "      <th>1</th>\n",
       "      <td>combined cycle power plant, 400MW electrical</td>\n",
       "      <td></td>\n",
       "      <td>HU</td>\n",
       "      <td>kilowatt hour</td>\n",
       "      <td>0.627076</td>\n",
       "      <td>0.689001</td>\n",
       "      <td>0.113822</td>\n",
       "      <td>0.096907</td>\n",
       "      <td>0.050409</td>\n",
       "      <td>0.001160</td>\n",
       "      <td>0.017464</td>\n",
       "      <td>0.013518</td>\n",
       "      <td>0.001168</td>\n",
       "      <td>0.002902</td>\n",
       "      <td>0.004554</td>\n",
       "      <td>0.000000</td>\n",
       "      <td>0.001518</td>\n",
       "      <td>0.000215</td>\n",
       "      <td>0.000186</td>\n",
       "    </tr>\n",
       "    <tr>\n",
       "      <th>2</th>\n",
       "      <td>conventional power plant, 100MW electrical</td>\n",
       "      <td></td>\n",
       "      <td>US-FRCC</td>\n",
       "      <td>kilowatt hour</td>\n",
       "      <td>0.590461</td>\n",
       "      <td>0.817801</td>\n",
       "      <td>0.036404</td>\n",
       "      <td>0.012908</td>\n",
       "      <td>0.096847</td>\n",
       "      <td>0.020536</td>\n",
       "      <td>0.000000</td>\n",
       "      <td>0.002113</td>\n",
       "      <td>0.007319</td>\n",
       "      <td>0.001556</td>\n",
       "      <td>0.002603</td>\n",
       "      <td>0.000000</td>\n",
       "      <td>0.000388</td>\n",
       "      <td>0.000259</td>\n",
       "      <td>0.000000</td>\n",
       "    </tr>\n",
       "    <tr>\n",
       "      <th>3</th>\n",
       "      <td>conventional power plant, 100MW electrical</td>\n",
       "      <td></td>\n",
       "      <td>CA-NB</td>\n",
       "      <td>kilowatt hour</td>\n",
       "      <td>0.563542</td>\n",
       "      <td>0.896115</td>\n",
       "      <td>0.019113</td>\n",
       "      <td>0.045732</td>\n",
       "      <td>0.024807</td>\n",
       "      <td>0.000000</td>\n",
       "      <td>0.000000</td>\n",
       "      <td>0.002101</td>\n",
       "      <td>0.007472</td>\n",
       "      <td>0.001457</td>\n",
       "      <td>0.001792</td>\n",
       "      <td>0.000000</td>\n",
       "      <td>0.000363</td>\n",
       "      <td>0.000146</td>\n",
       "      <td>0.000000</td>\n",
       "    </tr>\n",
       "    <tr>\n",
       "      <th>4</th>\n",
       "      <td>conventional power plant, 100MW electrical</td>\n",
       "      <td></td>\n",
       "      <td>TW</td>\n",
       "      <td>kilowatt hour</td>\n",
       "      <td>0.488965</td>\n",
       "      <td>0.877332</td>\n",
       "      <td>0.012010</td>\n",
       "      <td>0.000000</td>\n",
       "      <td>0.082746</td>\n",
       "      <td>0.000000</td>\n",
       "      <td>0.005302</td>\n",
       "      <td>0.005740</td>\n",
       "      <td>0.005966</td>\n",
       "      <td>0.006390</td>\n",
       "      <td>0.000000</td>\n",
       "      <td>0.002335</td>\n",
       "      <td>0.000332</td>\n",
       "      <td>0.000274</td>\n",
       "      <td>0.000000</td>\n",
       "    </tr>\n",
       "  </tbody>\n",
       "</table>\n",
       "</div>"
      ],
      "text/plain": [
       "                                       activity product location  \\\n",
       "0    conventional power plant, 100MW electrical               IT   \n",
       "1  combined cycle power plant, 400MW electrical               HU   \n",
       "2    conventional power plant, 100MW electrical          US-FRCC   \n",
       "3    conventional power plant, 100MW electrical            CA-NB   \n",
       "4    conventional power plant, 100MW electrical               TW   \n",
       "\n",
       "            unit     total  direct emissions  17100: Electrical energy  \\\n",
       "0  kilowatt hour  0.686884          0.775616                  0.081627   \n",
       "1  kilowatt hour  0.627076          0.689001                  0.113822   \n",
       "2  kilowatt hour  0.590461          0.817801                  0.036404   \n",
       "3  kilowatt hour  0.563542          0.896115                  0.019113   \n",
       "4  kilowatt hour  0.488965          0.877332                  0.012010   \n",
       "\n",
       "   65131: Transport services via pipeline of petroleum and natural gas  \\\n",
       "0                                           0.048086                     \n",
       "1                                           0.096907                     \n",
       "2                                           0.012908                     \n",
       "3                                           0.045732                     \n",
       "4                                           0.000000                     \n",
       "\n",
       "   12020: Natural gas, liquefied or in the gaseous state  \\\n",
       "0                                           0.045734       \n",
       "1                                           0.050409       \n",
       "2                                           0.096847       \n",
       "3                                           0.024807       \n",
       "4                                           0.082746       \n",
       "\n",
       "   17300: Steam and hot water  8621: Support services to mining  \\\n",
       "0                    0.001161                          0.010525   \n",
       "1                    0.001160                          0.017464   \n",
       "2                    0.020536                          0.000000   \n",
       "3                    0.000000                          0.000000   \n",
       "4                    0.000000                          0.005302   \n",
       "\n",
       "   86211: Support services to oil and gas extraction  53262: Power plants  \\\n",
       "0                                           0.011150             0.004583   \n",
       "1                                           0.013518             0.001168   \n",
       "2                                           0.002113             0.007319   \n",
       "3                                           0.002101             0.007472   \n",
       "4                                           0.005740             0.005966   \n",
       "\n",
       "   39990: Other wastes n.e.c.  53241: Long-distance pipelines  \\\n",
       "0                    0.002157                        0.003408   \n",
       "1                    0.002902                        0.004554   \n",
       "2                    0.001556                        0.002603   \n",
       "3                    0.001457                        0.001792   \n",
       "4                    0.006390                        0.000000   \n",
       "\n",
       "   65212: Coastal and transoceanic water transport services of freight by tankers  \\\n",
       "0                                           0.000407                                \n",
       "1                                           0.000000                                \n",
       "2                                           0.000000                                \n",
       "3                                           0.000000                                \n",
       "4                                           0.002335                                \n",
       "\n",
       "   53251: Local pipelines  18000: Natural water  39910: Municipal waste  \n",
       "0                0.000705              0.000242                0.000112  \n",
       "1                0.001518              0.000215                0.000186  \n",
       "2                0.000388              0.000259                0.000000  \n",
       "3                0.000363              0.000146                0.000000  \n",
       "4                0.000332              0.000274                0.000000  "
      ]
     },
     "execution_count": 22,
     "metadata": {},
     "output_type": "execute_result"
    }
   ],
   "source": [
    "df = ba.compare_activities_by_grouped_leaves(\n",
    "    [a for a in ei \n",
    "     if a['name'].startswith('heat and power co-generation, natural gas')\n",
    "     and a['reference product'] == act['reference product']\n",
    "    ][:5], \n",
    "    ipcc,\n",
    "    output_format=\"pandas\",\n",
    ")\n",
    "df"
   ]
  },
  {
   "cell_type": "markdown",
   "id": "aging-basement",
   "metadata": {},
   "source": [
    "What is included in this result? Direct emissions are those coming from the functional unit. Then, the function goes through the supply chain of each activity, and applies a cutoff criteria. If a given input matches the cutoff criteria (either it is too deep in the supply chain, or its impact is too small), we look up that inputs CPC code, and add it to any existing inputs with the same CPC code. We can also add impacts from direct emissions of an activity, even if it doesn't meet the cutoff criteria (if we didn't do this, the shares wouldn't sum to one).\n",
    "\n",
    "As in the above functions, you can control how deep the search goes with the `max_level` and `cutoff` arguments. You can also switch from the default result type, which is fractional share of total impact, to absolute impact amounts, with the `mode` argument."
   ]
  },
  {
   "cell_type": "markdown",
   "id": "coral-spending",
   "metadata": {},
   "source": [
    "You can also use this function to explore the supply chain of a single activity. This is helpful when databases like ecoinvent provide many similar input activities (e.g. many electricity providers); it can be helpful to group by the product classification."
   ]
  },
  {
   "cell_type": "code",
   "execution_count": 26,
   "id": "detailed-guide",
   "metadata": {},
   "outputs": [
    {
     "data": {
      "text/plain": [
       "'offset printing, per kg printed paper' (kilogram, CH, None)"
      ]
     },
     "execution_count": 26,
     "metadata": {},
     "output_type": "execute_result"
    }
   ],
   "source": [
    "offset_printing = bd.get_activity(('ecoinvent 3.7.1', 'ff315bbf13be4ced226551a12cfdca53'))\n",
    "offset_printing"
   ]
  },
  {
   "cell_type": "code",
   "execution_count": 27,
   "id": "synthetic-amount",
   "metadata": {},
   "outputs": [
    {
     "name": "stdout",
     "output_type": "stream",
     "text": [
      "Omitting activity name common prefix: 'offset printing, per kg printed '\n"
     ]
    },
    {
     "data": {
      "text/html": [
       "<table>\n",
       "<thead>\n",
       "<tr><th>activity  </th><th>product  </th><th>location  </th><th>unit    </th><th style=\"text-align: right;\">  total</th><th style=\"text-align: right;\">  direct emissions</th><th style=\"text-align: right;\">  32113: Mechanical wood pulp; semi-chemical wood pu</th><th style=\"text-align: right;\">  41431: Unwrought aluminium</th><th style=\"text-align: right;\">  17100: Electrical energy</th><th style=\"text-align: right;\">  34790: Other plastics in primary forms; ion exchan</th><th style=\"text-align: right;\">  17300: Steam and hot water</th><th style=\"text-align: right;\">  6511: Road transport services of freight</th><th style=\"text-align: right;\">  32151: Corrugated paper and paperboard</th><th style=\"text-align: right;\">  34: Basic chemicals</th><th style=\"text-align: right;\">  32112: Chemical wood pulp, other than dissolving g</th><th style=\"text-align: right;\">  15400: Clays</th><th style=\"text-align: right;\">  23220: Starches; inulin; wheat gluten; dextrins an</th><th style=\"text-align: right;\">  34240: Phosphates of triammonium; salts and peroxy</th><th style=\"text-align: right;\">  341: Basic organic chemicals</th><th style=\"text-align: right;\">  031: Wood in the rough</th><th style=\"text-align: right;\">  34231: Chemical elements n.e.c.; inorganic acids e</th><th style=\"text-align: right;\">  11040: Brown coal briquettes and similar solid fue</th><th style=\"text-align: right;\">  12020: Natural gas, liquefied or in the gaseous st</th><th style=\"text-align: right;\">  35110: Paints and varnishes and related products</th><th style=\"text-align: right;\">  342: Basic inorganic chemicals n.e.c.</th><th style=\"text-align: right;\">  4153: Semi-finished products of aluminium or alumi</th><th style=\"text-align: right;\">  53269: Other constructions for manufacturing</th><th style=\"text-align: right;\">  6512: Railway transport services of freight</th><th style=\"text-align: right;\">  33370: Fuel oils n.e.c.</th><th style=\"text-align: right;\">  34210: Hydrogen, nitrogen, oxygen, carbon dioxide </th><th style=\"text-align: right;\">  69120: Gas distribution through mains (on own acco</th><th style=\"text-align: right;\">  65229: Other inland water transport services of fr</th><th style=\"text-align: right;\">  161: Chemical and fertilizer minerals</th><th style=\"text-align: right;\">  37420: Quicklime, slaked lime and hydraulic lime</th><th style=\"text-align: right;\">  34139: Other alcohols, phenols, phenol-alcohols, a</th><th style=\"text-align: right;\">  34280: Hydrogen peroxide; phosphides; carbides; hy</th><th style=\"text-align: right;\">  34710: Polymers of ethylene, in primary forms</th><th style=\"text-align: right;\">  14290: Other non-ferrous metal ores and concentrat</th><th style=\"text-align: right;\">  11010: Hard coal</th><th style=\"text-align: right;\">  266: Woven fabrics (except special fabrics) of cot</th><th style=\"text-align: right;\">  21611: Soya bean oil, crude</th><th style=\"text-align: right;\">  39283: Non-agglomerated wood waste and scrap</th><th style=\"text-align: right;\">  39950: Wastes from chemical or allied industries</th><th style=\"text-align: right;\">  33350: White spirit and special boiling point indu</th><th style=\"text-align: right;\">  39920: Sewage sludge</th><th style=\"text-align: right;\">  532: Civil engineering works</th><th style=\"text-align: right;\">  21651: Palm oil, crude</th><th style=\"text-align: right;\">  34170: Ethers, alcohol peroxides, ether peroxides,</th><th style=\"text-align: right;\">  65119: Other road transport services of freight</th><th style=\"text-align: right;\">  34540: Oils and other products of the distillation</th><th style=\"text-align: right;\">  34800: Synthetic rubber and factice derived from o</th><th style=\"text-align: right;\">  36330: Plates, sheets, film, foil and strip, of pl</th><th style=\"text-align: right;\">  53252: Local cables and related works</th><th style=\"text-align: right;\">  444: Machinery for mining, quarrying and construct</th><th style=\"text-align: right;\">  39: Wastes or scraps</th><th style=\"text-align: right;\">  35130: Printing ink</th><th style=\"text-align: right;\">  89200: Moulding, pressing, stamping, extruding and</th><th style=\"text-align: right;\">  39910: Municipal waste</th></tr>\n",
       "</thead>\n",
       "<tbody>\n",
       "<tr><td>paper     </td><td>         </td><td>CH        </td><td>kilogram</td><td style=\"text-align: right;\">  2.092</td><td style=\"text-align: right;\">             0.000</td><td style=\"text-align: right;\">                                               0.227</td><td style=\"text-align: right;\">                       0.162</td><td style=\"text-align: right;\">                     0.135</td><td style=\"text-align: right;\">                                               0.058</td><td style=\"text-align: right;\">                       0.043</td><td style=\"text-align: right;\">                                     0.040</td><td style=\"text-align: right;\">                                   0.031</td><td style=\"text-align: right;\">                0.029</td><td style=\"text-align: right;\">                                               0.028</td><td style=\"text-align: right;\">         0.024</td><td style=\"text-align: right;\">                                               0.021</td><td style=\"text-align: right;\">                                               0.019</td><td style=\"text-align: right;\">                         0.018</td><td style=\"text-align: right;\">                   0.017</td><td style=\"text-align: right;\">                                               0.016</td><td style=\"text-align: right;\">                                               0.015</td><td style=\"text-align: right;\">                                               0.014</td><td style=\"text-align: right;\">                                             0.011</td><td style=\"text-align: right;\">                                  0.009</td><td style=\"text-align: right;\">                                               0.008</td><td style=\"text-align: right;\">                                         0.007</td><td style=\"text-align: right;\">                                        0.006</td><td style=\"text-align: right;\">                    0.005</td><td style=\"text-align: right;\">                                               0.005</td><td style=\"text-align: right;\">                                               0.004</td><td style=\"text-align: right;\">                                               0.003</td><td style=\"text-align: right;\">                                  0.003</td><td style=\"text-align: right;\">                                             0.003</td><td style=\"text-align: right;\">                                               0.002</td><td style=\"text-align: right;\">                                               0.002</td><td style=\"text-align: right;\">                                          0.002</td><td style=\"text-align: right;\">                                               0.002</td><td style=\"text-align: right;\">             0.002</td><td style=\"text-align: right;\">                                               0.001</td><td style=\"text-align: right;\">                        0.001</td><td style=\"text-align: right;\">                                         0.001</td><td style=\"text-align: right;\">                                             0.001</td><td style=\"text-align: right;\">                                               0.001</td><td style=\"text-align: right;\">                 0.001</td><td style=\"text-align: right;\">                         0.001</td><td style=\"text-align: right;\">                   0.001</td><td style=\"text-align: right;\">                                               0.001</td><td style=\"text-align: right;\">                                            0.000</td><td style=\"text-align: right;\">                                               0.000</td><td style=\"text-align: right;\">                                               0.000</td><td style=\"text-align: right;\">                                               0.000</td><td style=\"text-align: right;\">                                  0.000</td><td style=\"text-align: right;\">                                               0.000</td><td style=\"text-align: right;\">                 0.000</td><td style=\"text-align: right;\">                0.000</td><td style=\"text-align: right;\">                                               0.000</td><td style=\"text-align: right;\">                  -0.011</td></tr>\n",
       "</tbody>\n",
       "</table>"
      ],
      "text/plain": [
       "'<table>\\n<thead>\\n<tr><th>activity  </th><th>product  </th><th>location  </th><th>unit    </th><th style=\"text-align: right;\">  total</th><th style=\"text-align: right;\">  direct emissions</th><th style=\"text-align: right;\">  32113: Mechanical wood pulp; semi-chemical wood pu</th><th style=\"text-align: right;\">  41431: Unwrought aluminium</th><th style=\"text-align: right;\">  17100: Electrical energy</th><th style=\"text-align: right;\">  34790: Other plastics in primary forms; ion exchan</th><th style=\"text-align: right;\">  17300: Steam and hot water</th><th style=\"text-align: right;\">  6511: Road transport services of freight</th><th style=\"text-align: right;\">  32151: Corrugated paper and paperboard</th><th style=\"text-align: right;\">  34: Basic chemicals</th><th style=\"text-align: right;\">  32112: Chemical wood pulp, other than dissolving g</th><th style=\"text-align: right;\">  15400: Clays</th><th style=\"text-align: right;\">  23220: Starches; inulin; wheat gluten; dextrins an</th><th style=\"text-align: right;\">  34240: Phosphates of triammonium; salts and peroxy</th><th style=\"text-align: right;\">  341: Basic organic chemicals</th><th style=\"text-align: right;\">  031: Wood in the rough</th><th style=\"text-align: right;\">  34231: Chemical elements n.e.c.; inorganic acids e</th><th style=\"text-align: right;\">  11040: Brown coal briquettes and similar solid fue</th><th style=\"text-align: right;\">  12020: Natural gas, liquefied or in the gaseous st</th><th style=\"text-align: right;\">  35110: Paints and varnishes and related products</th><th style=\"text-align: right;\">  342: Basic inorganic chemicals n.e.c.</th><th style=\"text-align: right;\">  4153: Semi-finished products of aluminium or alumi</th><th style=\"text-align: right;\">  53269: Other constructions for manufacturing</th><th style=\"text-align: right;\">  6512: Railway transport services of freight</th><th style=\"text-align: right;\">  33370: Fuel oils n.e.c.</th><th style=\"text-align: right;\">  34210: Hydrogen, nitrogen, oxygen, carbon dioxide </th><th style=\"text-align: right;\">  69120: Gas distribution through mains (on own acco</th><th style=\"text-align: right;\">  65229: Other inland water transport services of fr</th><th style=\"text-align: right;\">  161: Chemical and fertilizer minerals</th><th style=\"text-align: right;\">  37420: Quicklime, slaked lime and hydraulic lime</th><th style=\"text-align: right;\">  34139: Other alcohols, phenols, phenol-alcohols, a</th><th style=\"text-align: right;\">  34280: Hydrogen peroxide; phosphides; carbides; hy</th><th style=\"text-align: right;\">  34710: Polymers of ethylene, in primary forms</th><th style=\"text-align: right;\">  14290: Other non-ferrous metal ores and concentrat</th><th style=\"text-align: right;\">  11010: Hard coal</th><th style=\"text-align: right;\">  266: Woven fabrics (except special fabrics) of cot</th><th style=\"text-align: right;\">  21611: Soya bean oil, crude</th><th style=\"text-align: right;\">  39283: Non-agglomerated wood waste and scrap</th><th style=\"text-align: right;\">  39950: Wastes from chemical or allied industries</th><th style=\"text-align: right;\">  33350: White spirit and special boiling point indu</th><th style=\"text-align: right;\">  39920: Sewage sludge</th><th style=\"text-align: right;\">  532: Civil engineering works</th><th style=\"text-align: right;\">  21651: Palm oil, crude</th><th style=\"text-align: right;\">  34170: Ethers, alcohol peroxides, ether peroxides,</th><th style=\"text-align: right;\">  65119: Other road transport services of freight</th><th style=\"text-align: right;\">  34540: Oils and other products of the distillation</th><th style=\"text-align: right;\">  34800: Synthetic rubber and factice derived from o</th><th style=\"text-align: right;\">  36330: Plates, sheets, film, foil and strip, of pl</th><th style=\"text-align: right;\">  53252: Local cables and related works</th><th style=\"text-align: right;\">  444: Machinery for mining, quarrying and construct</th><th style=\"text-align: right;\">  39: Wastes or scraps</th><th style=\"text-align: right;\">  35130: Printing ink</th><th style=\"text-align: right;\">  89200: Moulding, pressing, stamping, extruding and</th><th style=\"text-align: right;\">  39910: Municipal waste</th></tr>\\n</thead>\\n<tbody>\\n<tr><td>paper     </td><td>         </td><td>CH        </td><td>kilogram</td><td style=\"text-align: right;\">  2.092</td><td style=\"text-align: right;\">             0.000</td><td style=\"text-align: right;\">                                               0.227</td><td style=\"text-align: right;\">                       0.162</td><td style=\"text-align: right;\">                     0.135</td><td style=\"text-align: right;\">                                               0.058</td><td style=\"text-align: right;\">                       0.043</td><td style=\"text-align: right;\">                                     0.040</td><td style=\"text-align: right;\">                                   0.031</td><td style=\"text-align: right;\">                0.029</td><td style=\"text-align: right;\">                                               0.028</td><td style=\"text-align: right;\">         0.024</td><td style=\"text-align: right;\">                                               0.021</td><td style=\"text-align: right;\">                                               0.019</td><td style=\"text-align: right;\">                         0.018</td><td style=\"text-align: right;\">                   0.017</td><td style=\"text-align: right;\">                                               0.016</td><td style=\"text-align: right;\">                                               0.015</td><td style=\"text-align: right;\">                                               0.014</td><td style=\"text-align: right;\">                                             0.011</td><td style=\"text-align: right;\">                                  0.009</td><td style=\"text-align: right;\">                                               0.008</td><td style=\"text-align: right;\">                                         0.007</td><td style=\"text-align: right;\">                                        0.006</td><td style=\"text-align: right;\">                    0.005</td><td style=\"text-align: right;\">                                               0.005</td><td style=\"text-align: right;\">                                               0.004</td><td style=\"text-align: right;\">                                               0.003</td><td style=\"text-align: right;\">                                  0.003</td><td style=\"text-align: right;\">                                             0.003</td><td style=\"text-align: right;\">                                               0.002</td><td style=\"text-align: right;\">                                               0.002</td><td style=\"text-align: right;\">                                          0.002</td><td style=\"text-align: right;\">                                               0.002</td><td style=\"text-align: right;\">             0.002</td><td style=\"text-align: right;\">                                               0.001</td><td style=\"text-align: right;\">                        0.001</td><td style=\"text-align: right;\">                                         0.001</td><td style=\"text-align: right;\">                                             0.001</td><td style=\"text-align: right;\">                                               0.001</td><td style=\"text-align: right;\">                 0.001</td><td style=\"text-align: right;\">                         0.001</td><td style=\"text-align: right;\">                   0.001</td><td style=\"text-align: right;\">                                               0.001</td><td style=\"text-align: right;\">                                            0.000</td><td style=\"text-align: right;\">                                               0.000</td><td style=\"text-align: right;\">                                               0.000</td><td style=\"text-align: right;\">                                               0.000</td><td style=\"text-align: right;\">                                  0.000</td><td style=\"text-align: right;\">                                               0.000</td><td style=\"text-align: right;\">                 0.000</td><td style=\"text-align: right;\">                0.000</td><td style=\"text-align: right;\">                                               0.000</td><td style=\"text-align: right;\">                  -0.011</td></tr>\\n</tbody>\\n</table>'"
      ]
     },
     "execution_count": 27,
     "metadata": {},
     "output_type": "execute_result"
    }
   ],
   "source": [
    "ba.compare_activities_by_grouped_leaves(\n",
    "    [offset_printing], \n",
    "    ipcc,\n",
    "    output_format=\"html\",\n",
    ")"
   ]
  },
  {
   "cell_type": "markdown",
   "id": "bibliographic-edition",
   "metadata": {},
   "source": [
    "In this particular instance, it was interesting for me to see the high fraction of impact coming from use of aluinium, which (probably) isn't the first thing one thinks of when considering printing."
   ]
  },
  {
   "cell_type": "code",
   "execution_count": null,
   "id": "oriented-making",
   "metadata": {},
   "outputs": [],
   "source": []
  },
  {
   "cell_type": "code",
   "execution_count": null,
   "id": "printable-standing",
   "metadata": {},
   "outputs": [],
   "source": []
  },
  {
   "cell_type": "code",
   "execution_count": null,
   "id": "brilliant-wallet",
   "metadata": {},
   "outputs": [],
   "source": []
  },
  {
   "cell_type": "code",
   "execution_count": 39,
   "id": "adverse-engine",
   "metadata": {},
   "outputs": [
    {
     "data": {
      "text/html": [
       "<div>\n",
       "<style scoped>\n",
       "    .dataframe tbody tr th:only-of-type {\n",
       "        vertical-align: middle;\n",
       "    }\n",
       "\n",
       "    .dataframe tbody tr th {\n",
       "        vertical-align: top;\n",
       "    }\n",
       "\n",
       "    .dataframe thead th {\n",
       "        text-align: right;\n",
       "    }\n",
       "</style>\n",
       "<table border=\"1\" class=\"dataframe\">\n",
       "  <thead>\n",
       "    <tr style=\"text-align: right;\">\n",
       "      <th></th>\n",
       "      <th>natural gas, high pressure</th>\n",
       "      <th>water, completely softened</th>\n",
       "      <th>water, decarbonised</th>\n",
       "      <th>residue from cooling tower</th>\n",
       "      <th>Hexane</th>\n",
       "      <th>Sulfur dioxide</th>\n",
       "      <th>Water</th>\n",
       "      <th>Acetic acid</th>\n",
       "      <th>Formaldehyde</th>\n",
       "      <th>Butane</th>\n",
       "      <th>...</th>\n",
       "      <th>Carbon dioxide, fossil</th>\n",
       "      <th>Dinitrogen monoxide</th>\n",
       "      <th>Water, cooling, unspecified natural origin</th>\n",
       "      <th>Particulates, &lt; 2.5 um</th>\n",
       "      <th>Nitrogen oxides</th>\n",
       "      <th>Pentane</th>\n",
       "      <th>Ethane</th>\n",
       "      <th>Methane, fossil</th>\n",
       "      <th>PAH, polycyclic aromatic hydrocarbons</th>\n",
       "      <th>Propionic acid</th>\n",
       "    </tr>\n",
       "    <tr>\n",
       "      <th>location</th>\n",
       "      <th></th>\n",
       "      <th></th>\n",
       "      <th></th>\n",
       "      <th></th>\n",
       "      <th></th>\n",
       "      <th></th>\n",
       "      <th></th>\n",
       "      <th></th>\n",
       "      <th></th>\n",
       "      <th></th>\n",
       "      <th></th>\n",
       "      <th></th>\n",
       "      <th></th>\n",
       "      <th></th>\n",
       "      <th></th>\n",
       "      <th></th>\n",
       "      <th></th>\n",
       "      <th></th>\n",
       "      <th></th>\n",
       "      <th></th>\n",
       "      <th></th>\n",
       "    </tr>\n",
       "  </thead>\n",
       "  <tbody>\n",
       "    <tr>\n",
       "      <th>PT</th>\n",
       "      <td>0.245886</td>\n",
       "      <td>0.057537</td>\n",
       "      <td>1.917908</td>\n",
       "      <td>-0.000010</td>\n",
       "      <td>0.000008</td>\n",
       "      <td>0.000005</td>\n",
       "      <td>0.058634</td>\n",
       "      <td>0.000001</td>\n",
       "      <td>3.097422e-07</td>\n",
       "      <td>0.000009</td>\n",
       "      <td>...</td>\n",
       "      <td>0.512082</td>\n",
       "      <td>0.000009</td>\n",
       "      <td>0.056658</td>\n",
       "      <td>0.000005</td>\n",
       "      <td>0.000352</td>\n",
       "      <td>0.000011</td>\n",
       "      <td>0.000013</td>\n",
       "      <td>0.000009</td>\n",
       "      <td>7.671633e-08</td>\n",
       "      <td>1.534327e-07</td>\n",
       "    </tr>\n",
       "    <tr>\n",
       "      <th>CA-MB</th>\n",
       "      <td>0.246926</td>\n",
       "      <td>0.057781</td>\n",
       "      <td>1.926020</td>\n",
       "      <td>-0.000010</td>\n",
       "      <td>0.000008</td>\n",
       "      <td>0.000006</td>\n",
       "      <td>0.058882</td>\n",
       "      <td>0.000001</td>\n",
       "      <td>3.110523e-07</td>\n",
       "      <td>0.000009</td>\n",
       "      <td>...</td>\n",
       "      <td>0.514247</td>\n",
       "      <td>0.000009</td>\n",
       "      <td>0.056898</td>\n",
       "      <td>0.000005</td>\n",
       "      <td>0.000353</td>\n",
       "      <td>0.000011</td>\n",
       "      <td>0.000013</td>\n",
       "      <td>0.000009</td>\n",
       "      <td>NaN</td>\n",
       "      <td>NaN</td>\n",
       "    </tr>\n",
       "    <tr>\n",
       "      <th>CA-AB</th>\n",
       "      <td>0.240821</td>\n",
       "      <td>0.056352</td>\n",
       "      <td>1.878406</td>\n",
       "      <td>-0.000009</td>\n",
       "      <td>0.000007</td>\n",
       "      <td>0.000005</td>\n",
       "      <td>0.057426</td>\n",
       "      <td>0.000001</td>\n",
       "      <td>3.033626e-07</td>\n",
       "      <td>0.000009</td>\n",
       "      <td>...</td>\n",
       "      <td>0.501534</td>\n",
       "      <td>0.000009</td>\n",
       "      <td>0.055491</td>\n",
       "      <td>0.000005</td>\n",
       "      <td>0.000345</td>\n",
       "      <td>0.000011</td>\n",
       "      <td>0.000013</td>\n",
       "      <td>0.000009</td>\n",
       "      <td>7.513625e-08</td>\n",
       "      <td>1.502725e-07</td>\n",
       "    </tr>\n",
       "    <tr>\n",
       "      <th>CA-QC</th>\n",
       "      <td>0.240821</td>\n",
       "      <td>0.056352</td>\n",
       "      <td>1.878406</td>\n",
       "      <td>-0.000009</td>\n",
       "      <td>0.000007</td>\n",
       "      <td>0.000005</td>\n",
       "      <td>0.057426</td>\n",
       "      <td>0.000001</td>\n",
       "      <td>3.033626e-07</td>\n",
       "      <td>0.000009</td>\n",
       "      <td>...</td>\n",
       "      <td>0.501534</td>\n",
       "      <td>0.000009</td>\n",
       "      <td>0.055491</td>\n",
       "      <td>0.000005</td>\n",
       "      <td>0.000345</td>\n",
       "      <td>0.000011</td>\n",
       "      <td>0.000013</td>\n",
       "      <td>0.000009</td>\n",
       "      <td>7.513625e-08</td>\n",
       "      <td>1.502725e-07</td>\n",
       "    </tr>\n",
       "    <tr>\n",
       "      <th>CA-NS</th>\n",
       "      <td>0.246926</td>\n",
       "      <td>0.057781</td>\n",
       "      <td>1.926020</td>\n",
       "      <td>-0.000010</td>\n",
       "      <td>0.000008</td>\n",
       "      <td>0.000006</td>\n",
       "      <td>0.058882</td>\n",
       "      <td>0.000001</td>\n",
       "      <td>3.110523e-07</td>\n",
       "      <td>0.000009</td>\n",
       "      <td>...</td>\n",
       "      <td>0.514247</td>\n",
       "      <td>0.000009</td>\n",
       "      <td>0.056898</td>\n",
       "      <td>0.000005</td>\n",
       "      <td>0.000353</td>\n",
       "      <td>0.000011</td>\n",
       "      <td>0.000013</td>\n",
       "      <td>0.000009</td>\n",
       "      <td>NaN</td>\n",
       "      <td>NaN</td>\n",
       "    </tr>\n",
       "    <tr>\n",
       "      <th>CA-NB</th>\n",
       "      <td>0.240821</td>\n",
       "      <td>0.056352</td>\n",
       "      <td>1.878406</td>\n",
       "      <td>-0.000009</td>\n",
       "      <td>0.000007</td>\n",
       "      <td>0.000005</td>\n",
       "      <td>0.057426</td>\n",
       "      <td>0.000001</td>\n",
       "      <td>3.033626e-07</td>\n",
       "      <td>0.000009</td>\n",
       "      <td>...</td>\n",
       "      <td>0.501534</td>\n",
       "      <td>0.000009</td>\n",
       "      <td>0.055491</td>\n",
       "      <td>0.000005</td>\n",
       "      <td>0.000345</td>\n",
       "      <td>0.000011</td>\n",
       "      <td>0.000013</td>\n",
       "      <td>0.000009</td>\n",
       "      <td>7.513625e-08</td>\n",
       "      <td>1.502725e-07</td>\n",
       "    </tr>\n",
       "    <tr>\n",
       "      <th>CA-BC</th>\n",
       "      <td>0.240821</td>\n",
       "      <td>0.056352</td>\n",
       "      <td>1.878406</td>\n",
       "      <td>-0.000009</td>\n",
       "      <td>0.000007</td>\n",
       "      <td>0.000005</td>\n",
       "      <td>0.057426</td>\n",
       "      <td>0.000001</td>\n",
       "      <td>3.033626e-07</td>\n",
       "      <td>0.000009</td>\n",
       "      <td>...</td>\n",
       "      <td>0.501534</td>\n",
       "      <td>0.000009</td>\n",
       "      <td>0.055491</td>\n",
       "      <td>0.000005</td>\n",
       "      <td>0.000345</td>\n",
       "      <td>0.000011</td>\n",
       "      <td>0.000013</td>\n",
       "      <td>0.000009</td>\n",
       "      <td>7.513625e-08</td>\n",
       "      <td>1.502725e-07</td>\n",
       "    </tr>\n",
       "    <tr>\n",
       "      <th>CA-SK</th>\n",
       "      <td>0.240821</td>\n",
       "      <td>0.056352</td>\n",
       "      <td>1.878406</td>\n",
       "      <td>-0.000009</td>\n",
       "      <td>0.000007</td>\n",
       "      <td>0.000005</td>\n",
       "      <td>0.057426</td>\n",
       "      <td>0.000001</td>\n",
       "      <td>3.033626e-07</td>\n",
       "      <td>0.000009</td>\n",
       "      <td>...</td>\n",
       "      <td>0.501534</td>\n",
       "      <td>0.000009</td>\n",
       "      <td>0.055491</td>\n",
       "      <td>0.000005</td>\n",
       "      <td>0.000345</td>\n",
       "      <td>0.000011</td>\n",
       "      <td>0.000013</td>\n",
       "      <td>0.000009</td>\n",
       "      <td>7.513625e-08</td>\n",
       "      <td>1.502725e-07</td>\n",
       "    </tr>\n",
       "    <tr>\n",
       "      <th>CA-NT</th>\n",
       "      <td>0.240821</td>\n",
       "      <td>0.056352</td>\n",
       "      <td>1.878406</td>\n",
       "      <td>-0.000009</td>\n",
       "      <td>0.000007</td>\n",
       "      <td>0.000005</td>\n",
       "      <td>0.057426</td>\n",
       "      <td>0.000001</td>\n",
       "      <td>3.033626e-07</td>\n",
       "      <td>0.000009</td>\n",
       "      <td>...</td>\n",
       "      <td>0.501534</td>\n",
       "      <td>0.000009</td>\n",
       "      <td>0.055491</td>\n",
       "      <td>0.000005</td>\n",
       "      <td>0.000345</td>\n",
       "      <td>0.000011</td>\n",
       "      <td>0.000013</td>\n",
       "      <td>0.000009</td>\n",
       "      <td>7.513625e-08</td>\n",
       "      <td>1.502725e-07</td>\n",
       "    </tr>\n",
       "    <tr>\n",
       "      <th>CA-PE</th>\n",
       "      <td>0.246926</td>\n",
       "      <td>0.057781</td>\n",
       "      <td>1.926020</td>\n",
       "      <td>-0.000010</td>\n",
       "      <td>0.000008</td>\n",
       "      <td>0.000006</td>\n",
       "      <td>0.058882</td>\n",
       "      <td>0.000001</td>\n",
       "      <td>3.110523e-07</td>\n",
       "      <td>0.000009</td>\n",
       "      <td>...</td>\n",
       "      <td>0.514247</td>\n",
       "      <td>0.000009</td>\n",
       "      <td>0.056898</td>\n",
       "      <td>0.000005</td>\n",
       "      <td>0.000353</td>\n",
       "      <td>0.000011</td>\n",
       "      <td>0.000013</td>\n",
       "      <td>0.000009</td>\n",
       "      <td>NaN</td>\n",
       "      <td>NaN</td>\n",
       "    </tr>\n",
       "    <tr>\n",
       "      <th>CA-ON</th>\n",
       "      <td>0.240821</td>\n",
       "      <td>0.056352</td>\n",
       "      <td>1.878406</td>\n",
       "      <td>-0.000009</td>\n",
       "      <td>0.000007</td>\n",
       "      <td>0.000005</td>\n",
       "      <td>0.057426</td>\n",
       "      <td>0.000001</td>\n",
       "      <td>3.033626e-07</td>\n",
       "      <td>0.000009</td>\n",
       "      <td>...</td>\n",
       "      <td>0.501534</td>\n",
       "      <td>0.000009</td>\n",
       "      <td>0.055491</td>\n",
       "      <td>0.000005</td>\n",
       "      <td>0.000345</td>\n",
       "      <td>0.000011</td>\n",
       "      <td>0.000013</td>\n",
       "      <td>0.000009</td>\n",
       "      <td>7.513625e-08</td>\n",
       "      <td>1.502725e-07</td>\n",
       "    </tr>\n",
       "  </tbody>\n",
       "</table>\n",
       "<p>11 rows × 22 columns</p>\n",
       "</div>"
      ],
      "text/plain": [
       "          natural gas, high pressure  water, completely softened  \\\n",
       "location                                                           \n",
       "PT                          0.245886                    0.057537   \n",
       "CA-MB                       0.246926                    0.057781   \n",
       "CA-AB                       0.240821                    0.056352   \n",
       "CA-QC                       0.240821                    0.056352   \n",
       "CA-NS                       0.246926                    0.057781   \n",
       "CA-NB                       0.240821                    0.056352   \n",
       "CA-BC                       0.240821                    0.056352   \n",
       "CA-SK                       0.240821                    0.056352   \n",
       "CA-NT                       0.240821                    0.056352   \n",
       "CA-PE                       0.246926                    0.057781   \n",
       "CA-ON                       0.240821                    0.056352   \n",
       "\n",
       "          water, decarbonised  residue from cooling tower    Hexane  \\\n",
       "location                                                              \n",
       "PT                   1.917908                   -0.000010  0.000008   \n",
       "CA-MB                1.926020                   -0.000010  0.000008   \n",
       "CA-AB                1.878406                   -0.000009  0.000007   \n",
       "CA-QC                1.878406                   -0.000009  0.000007   \n",
       "CA-NS                1.926020                   -0.000010  0.000008   \n",
       "CA-NB                1.878406                   -0.000009  0.000007   \n",
       "CA-BC                1.878406                   -0.000009  0.000007   \n",
       "CA-SK                1.878406                   -0.000009  0.000007   \n",
       "CA-NT                1.878406                   -0.000009  0.000007   \n",
       "CA-PE                1.926020                   -0.000010  0.000008   \n",
       "CA-ON                1.878406                   -0.000009  0.000007   \n",
       "\n",
       "          Sulfur dioxide     Water  Acetic acid  Formaldehyde    Butane  ...  \\\n",
       "location                                                                 ...   \n",
       "PT              0.000005  0.058634     0.000001  3.097422e-07  0.000009  ...   \n",
       "CA-MB           0.000006  0.058882     0.000001  3.110523e-07  0.000009  ...   \n",
       "CA-AB           0.000005  0.057426     0.000001  3.033626e-07  0.000009  ...   \n",
       "CA-QC           0.000005  0.057426     0.000001  3.033626e-07  0.000009  ...   \n",
       "CA-NS           0.000006  0.058882     0.000001  3.110523e-07  0.000009  ...   \n",
       "CA-NB           0.000005  0.057426     0.000001  3.033626e-07  0.000009  ...   \n",
       "CA-BC           0.000005  0.057426     0.000001  3.033626e-07  0.000009  ...   \n",
       "CA-SK           0.000005  0.057426     0.000001  3.033626e-07  0.000009  ...   \n",
       "CA-NT           0.000005  0.057426     0.000001  3.033626e-07  0.000009  ...   \n",
       "CA-PE           0.000006  0.058882     0.000001  3.110523e-07  0.000009  ...   \n",
       "CA-ON           0.000005  0.057426     0.000001  3.033626e-07  0.000009  ...   \n",
       "\n",
       "          Carbon dioxide, fossil  Dinitrogen monoxide  \\\n",
       "location                                                \n",
       "PT                      0.512082             0.000009   \n",
       "CA-MB                   0.514247             0.000009   \n",
       "CA-AB                   0.501534             0.000009   \n",
       "CA-QC                   0.501534             0.000009   \n",
       "CA-NS                   0.514247             0.000009   \n",
       "CA-NB                   0.501534             0.000009   \n",
       "CA-BC                   0.501534             0.000009   \n",
       "CA-SK                   0.501534             0.000009   \n",
       "CA-NT                   0.501534             0.000009   \n",
       "CA-PE                   0.514247             0.000009   \n",
       "CA-ON                   0.501534             0.000009   \n",
       "\n",
       "          Water, cooling, unspecified natural origin  Particulates, < 2.5 um  \\\n",
       "location                                                                       \n",
       "PT                                          0.056658                0.000005   \n",
       "CA-MB                                       0.056898                0.000005   \n",
       "CA-AB                                       0.055491                0.000005   \n",
       "CA-QC                                       0.055491                0.000005   \n",
       "CA-NS                                       0.056898                0.000005   \n",
       "CA-NB                                       0.055491                0.000005   \n",
       "CA-BC                                       0.055491                0.000005   \n",
       "CA-SK                                       0.055491                0.000005   \n",
       "CA-NT                                       0.055491                0.000005   \n",
       "CA-PE                                       0.056898                0.000005   \n",
       "CA-ON                                       0.055491                0.000005   \n",
       "\n",
       "          Nitrogen oxides   Pentane    Ethane  Methane, fossil  \\\n",
       "location                                                         \n",
       "PT               0.000352  0.000011  0.000013         0.000009   \n",
       "CA-MB            0.000353  0.000011  0.000013         0.000009   \n",
       "CA-AB            0.000345  0.000011  0.000013         0.000009   \n",
       "CA-QC            0.000345  0.000011  0.000013         0.000009   \n",
       "CA-NS            0.000353  0.000011  0.000013         0.000009   \n",
       "CA-NB            0.000345  0.000011  0.000013         0.000009   \n",
       "CA-BC            0.000345  0.000011  0.000013         0.000009   \n",
       "CA-SK            0.000345  0.000011  0.000013         0.000009   \n",
       "CA-NT            0.000345  0.000011  0.000013         0.000009   \n",
       "CA-PE            0.000353  0.000011  0.000013         0.000009   \n",
       "CA-ON            0.000345  0.000011  0.000013         0.000009   \n",
       "\n",
       "          PAH, polycyclic aromatic hydrocarbons  Propionic acid  \n",
       "location                                                         \n",
       "PT                                 7.671633e-08    1.534327e-07  \n",
       "CA-MB                                       NaN             NaN  \n",
       "CA-AB                              7.513625e-08    1.502725e-07  \n",
       "CA-QC                              7.513625e-08    1.502725e-07  \n",
       "CA-NS                                       NaN             NaN  \n",
       "CA-NB                              7.513625e-08    1.502725e-07  \n",
       "CA-BC                              7.513625e-08    1.502725e-07  \n",
       "CA-SK                              7.513625e-08    1.502725e-07  \n",
       "CA-NT                              7.513625e-08    1.502725e-07  \n",
       "CA-PE                                       NaN             NaN  \n",
       "CA-ON                              7.513625e-08    1.502725e-07  \n",
       "\n",
       "[11 rows x 22 columns]"
      ]
     },
     "execution_count": 39,
     "metadata": {},
     "output_type": "execute_result"
    }
   ],
   "source": [
    "df.set_index('location')"
   ]
  },
  {
   "cell_type": "code",
   "execution_count": 34,
   "id": "chubby-encoding",
   "metadata": {},
   "outputs": [
    {
     "data": {
      "text/plain": [
       "location                                            PT\n",
       "natural gas, high pressure                    0.245886\n",
       "water, completely softened                    0.057537\n",
       "water, decarbonised                           1.917908\n",
       "residue from cooling tower                    -0.00001\n",
       "Hexane                                        0.000008\n",
       "Sulfur dioxide                                0.000005\n",
       "Water                                         0.058634\n",
       "Acetic acid                                   0.000001\n",
       "Formaldehyde                                       0.0\n",
       "Butane                                        0.000009\n",
       "Propane                                       0.000007\n",
       "Carbon monoxide, fossil                       0.000192\n",
       "Carbon dioxide, fossil                        0.512082\n",
       "Dinitrogen monoxide                           0.000009\n",
       "Water, cooling, unspecified natural origin    0.056658\n",
       "Particulates, < 2.5 um                        0.000005\n",
       "Nitrogen oxides                               0.000352\n",
       "Pentane                                       0.000011\n",
       "Ethane                                        0.000013\n",
       "Methane, fossil                               0.000009\n",
       "PAH, polycyclic aromatic hydrocarbons              0.0\n",
       "Propionic acid                                     0.0\n",
       "Name: 0, dtype: object"
      ]
     },
     "execution_count": 34,
     "metadata": {},
     "output_type": "execute_result"
    }
   ],
   "source": [
    "df.iloc[0]"
   ]
  },
  {
   "cell_type": "code",
   "execution_count": 20,
   "id": "arbitrary-jersey",
   "metadata": {},
   "outputs": [
    {
     "data": {
      "text/plain": [
       "'heat and power co-generation, natural gas, conventional power plant, 100MW electrical' (kilowatt hour, PT, None)"
      ]
     },
     "execution_count": 20,
     "metadata": {},
     "output_type": "execute_result"
    }
   ],
   "source": [
    "act"
   ]
  },
  {
   "cell_type": "code",
   "execution_count": 17,
   "id": "changed-orleans",
   "metadata": {},
   "outputs": [
    {
     "data": {
      "text/plain": [
       "60"
      ]
     },
     "execution_count": 17,
     "metadata": {},
     "output_type": "execute_result"
    }
   ],
   "source": [
    "len(result)"
   ]
  },
  {
   "cell_type": "markdown",
   "id": "thorough-debate",
   "metadata": {},
   "source": [
    "Hmmm... that is frustrating, but unforunately common. Let's try \"carboard\" on its own."
   ]
  },
  {
   "cell_type": "code",
   "execution_count": 6,
   "id": "elegant-decimal",
   "metadata": {},
   "outputs": [
    {
     "data": {
      "text/plain": [
       "['treatment of waste plaster-cardboard sandwich, recycling' (kilogram, CH, None),\n",
       " 'market for waste plaster-cardboard sandwich' (kilogram, GLO, None),\n",
       " 'treatment of waste plaster-cardboard sandwich, sorting plant' (kilogram, CH, None),\n",
       " 'treatment of waste plaster-cardboard sandwich, collection for final disposal' (kilogram, CH, None),\n",
       " 'mandarin production, sorted and graded' (kilogram, ZA, None),\n",
       " 'mandarin production, sorted and graded' (kilogram, ZA, None),\n",
       " 'treatment of waste paperboard, unsorted, sorting' (kilogram, RoW, None),\n",
       " 'tree seedling production, in unheated greenhouse' (unit, RER, None),\n",
       " 'tree seedling production, in heated greenhouse' (unit, RER, None),\n",
       " 'tree seedling production, in unheated greenhouse' (unit, RoW, None),\n",
       " 'tree seedling production, in heated greenhouse' (unit, RoW, None),\n",
       " 'treatment of waste paperboard, unsorted, sorting' (kilogram, CH, None),\n",
       " 'treatment of waste paperboard, unsorted, sorting' (kilogram, Europe without Switzerland, None),\n",
       " 'treatment of waste polyethylene, for recycling, unsorted, sorting' (kilogram, CH, None),\n",
       " 'treatment of waste polyethylene terephthalate, for recycling, unsorted, sorting' (kilogram, CH, None),\n",
       " 'treatment of waste paperboard, open burning' (kilogram, GLO, None),\n",
       " 'treatment of waste paperboard, unsanitary landfill, dry infiltration class (100mm)' (kilogram, GLO, None),\n",
       " 'treatment of waste paperboard, unsanitary landfill, wet infiltration class (500mm)' (kilogram, GLO, None),\n",
       " 'treatment of waste paperboard, unsanitary landfill, very wet infiltration class (1000mm)' (kilogram, GLO, None),\n",
       " 'treatment of waste paperboard, unsanitary landfill, moist infiltration class (300mm)' (kilogram, GLO, None),\n",
       " 'treatment of waste paperboard, open dump, very wet infiltration class (1000mm)' (kilogram, GLO, None),\n",
       " 'treatment of waste paperboard, open dump, moist infiltration class (300mm)' (kilogram, GLO, None),\n",
       " 'treatment of waste paperboard, open dump, dry infiltration class (100mm)' (kilogram, GLO, None),\n",
       " 'treatment of waste paperboard, open dump, wet infiltration class (500mm)' (kilogram, GLO, None),\n",
       " 'printer production, laser, colour' (unit, GLO, None)]"
      ]
     },
     "execution_count": 6,
     "metadata": {},
     "output_type": "execute_result"
    }
   ],
   "source": [
    "ei.search(\"cardboard\")"
   ]
  },
  {
   "cell_type": "markdown",
   "id": "clear-activation",
   "metadata": {},
   "source": [
    "Aapparently, the word \"cardboard\" is [deprecated](https://en.wikipedia.org/wiki/Paperboard), and we should say \"paperboard\" instead. What about \"paperboard\"?"
   ]
  },
  {
   "cell_type": "code",
   "execution_count": 7,
   "id": "chicken-publicity",
   "metadata": {},
   "outputs": [
    {
     "data": {
      "text/plain": [
       "['market for waste paperboard' (kilogram, IN, None),\n",
       " 'market for waste paperboard' (kilogram, ZA, None),\n",
       " 'market for waste paperboard' (kilogram, PE, None),\n",
       " 'market for waste paperboard' (kilogram, CO, None),\n",
       " 'market for waste paperboard' (kilogram, BR, None),\n",
       " 'market for waste paperboard' (kilogram, CY, None),\n",
       " 'market for waste paperboard' (kilogram, MT, None),\n",
       " 'market for waste paperboard' (kilogram, SE, None),\n",
       " 'market for waste paperboard' (kilogram, NL, None),\n",
       " 'market for waste paperboard' (kilogram, RS, None),\n",
       " 'market for waste paperboard' (kilogram, FI, None),\n",
       " 'market for waste paperboard' (kilogram, BA, None),\n",
       " 'market for waste paperboard' (kilogram, DK, None),\n",
       " 'market for waste paperboard' (kilogram, GB, None),\n",
       " 'market for waste paperboard' (kilogram, MK, None),\n",
       " 'market for waste paperboard' (kilogram, IS, None),\n",
       " 'market for waste paperboard' (kilogram, LU, None),\n",
       " 'market for waste paperboard' (kilogram, SI, None),\n",
       " 'market for waste paperboard' (kilogram, IT, None),\n",
       " 'market for waste paperboard' (kilogram, DE, None),\n",
       " 'market for waste paperboard' (kilogram, SK, None),\n",
       " 'market for waste paperboard' (kilogram, XK, None),\n",
       " 'market for waste paperboard' (kilogram, PT, None),\n",
       " 'market for waste paperboard' (kilogram, AT, None),\n",
       " 'market for waste paperboard' (kilogram, BE, None)]"
      ]
     },
     "execution_count": 7,
     "metadata": {},
     "output_type": "execute_result"
    }
   ],
   "source": [
    "ei.search(\"paperboard\")"
   ]
  },
  {
   "cell_type": "markdown",
   "id": "reverse-roman",
   "metadata": {},
   "source": [
    "Not particularly helpful... maybe try from the other direction?"
   ]
  },
  {
   "cell_type": "code",
   "execution_count": 8,
   "id": "hidden-mining",
   "metadata": {},
   "outputs": [
    {
     "data": {
      "text/plain": [
       "['packaging box factory construction' (unit, RoW, None),\n",
       " 'packaging box factory construction' (unit, RER, None),\n",
       " 'corrugated board box production' (kilogram, RER, None),\n",
       " 'market for corrugated board box' (kilogram, CA-QC, None),\n",
       " 'market for packaging box factory' (unit, GLO, None),\n",
       " 'corrugated board box production' (kilogram, RoW, None),\n",
       " 'market for corrugated board box' (kilogram, RoW, None),\n",
       " 'corrugated board box production' (kilogram, CA-QC, None),\n",
       " 'market for corrugated board box' (kilogram, RER, None),\n",
       " 'carton board box production service, with gravure printing' (kilogram, CA-QC, None),\n",
       " 'carton board box production service, with offset printing' (kilogram, CA-QC, None),\n",
       " 'carton board box production service, with gravure printing' (kilogram, RoW, None),\n",
       " 'carton board box production service, with gravure printing' (kilogram, CH, None),\n",
       " 'market for carton board box production, with gravure printing' (kilogram, GLO, None),\n",
       " 'carton board box production service, with offset printing' (kilogram, CH, None),\n",
       " 'carton board box production service, with offset printing' (kilogram, RoW, None),\n",
       " 'market for carton board box production, with offset printing' (kilogram, GLO, None),\n",
       " 'corrugated board box production' (cubic meter, RoW, None),\n",
       " 'corrugated board box production' (cubic meter, RER, None),\n",
       " 'photovoltaics, electric installation for 570kWp module, open ground' (unit, GLO, None),\n",
       " 'folding boxboard carton production' (kilogram, RER, None),\n",
       " 'folding boxboard carton production' (kilogram, RER, None),\n",
       " 'folding boxboard carton production' (kilogram, RER, None),\n",
       " 'folding boxboard carton production' (kilogram, RoW, None),\n",
       " 'folding boxboard carton production' (kilogram, RoW, None)]"
      ]
     },
     "execution_count": 8,
     "metadata": {},
     "output_type": "execute_result"
    }
   ],
   "source": [
    "ei.search(\"box\")"
   ]
  },
  {
   "cell_type": "markdown",
   "id": "christian-vertex",
   "metadata": {},
   "source": [
    "## A note on ecoinvent locations\n",
    "\n",
    "The ecoinvent centre at some early point decided to invent its own location codes, and these are preserved for backwards compatibility, even though they are non-trivial for new users. You can read a technical manual on their [definition here](https://geography.ecoinvent.org/). For example, `RER` is the continent of Europe, and `RoW` is the \"rest-of-the-world\", which is defined as any place not covered by a country- or region-specific dataset for that particular activity. As this is a dynamic concept, there are [over 200 RoW possible definitions](https://geography.ecoinvent.org/rows/)."
   ]
  },
  {
   "cell_type": "markdown",
   "id": "decent-attention",
   "metadata": {},
   "source": [
    "## A note on market versus transforming activities\n",
    "\n",
    "TBD"
   ]
  },
  {
   "cell_type": "markdown",
   "id": "acceptable-browse",
   "metadata": {},
   "source": [
    "## List comprehensions: An alternative to the `search` function\n",
    "\n",
    "We can also use Python list comprehensions to do more powerful searches (more conditions, more data fields, etc.)."
   ]
  },
  {
   "cell_type": "code",
   "execution_count": 9,
   "id": "fossil-formation",
   "metadata": {},
   "outputs": [
    {
     "data": {
      "text/plain": [
       "['polycarboxylates production, 40% active substance' (kilogram, RER, None),\n",
       " 'folding boxboard carton production' (kilogram, RER, None),\n",
       " 'packaging box factory construction' (unit, RER, None),\n",
       " 'market for folding boxboard carton' (kilogram, RER, None),\n",
       " 'corrugated board box production' (kilogram, RER, None),\n",
       " 'decarboxylative cyclization of adipic acid' (kilogram, RER, None),\n",
       " 'folding boxboard carton production' (kilogram, RER, None),\n",
       " 'corrugated board box production' (cubic meter, RER, None),\n",
       " 'folding boxboard carton production' (kilogram, RER, None),\n",
       " 'market for corrugated board box' (kilogram, RER, None),\n",
       " 'carboxymethyl cellulose production, powder' (kilogram, RER, None),\n",
       " 'decarboxylative cyclization of adipic acid' (kilogram, RER, None),\n",
       " 'market for polycarboxylates, 40% active substance' (kilogram, RER, None)]"
      ]
     },
     "execution_count": 9,
     "metadata": {},
     "output_type": "execute_result"
    }
   ],
   "source": [
    "[act for act in ei if 'box' in act['name'] and act['location'] == 'RER']"
   ]
  },
  {
   "cell_type": "markdown",
   "id": "dirty-thunder",
   "metadata": {},
   "source": [
    "## General conclusions from searching\n",
    "\n",
    "ecoinvent, and probably any similar technical database, can be tricky to use at first glance. The terms present are probably not what use in general speech, and finding what you want takes some time and creativity."
   ]
  },
  {
   "cell_type": "markdown",
   "id": "tutorial-repair",
   "metadata": {},
   "source": [
    "## Refining a list of possible activities\n",
    "\n",
    "We aren't yet sure which of the following we want:\n",
    "\n",
    "* 'corrugated board box production'\n",
    "* 'carton board box production service, with gravure printing'\n",
    "* 'carton board box production service, with offset printing'\n",
    "* 'folding boxboard carton production'\n",
    "\n",
    "Of course, we can look up the specific definitions, but we aren't sure how exactly they are implemented in ecoinvent. One trick is that we can see if they have different environmental impacts - if not, then it doesn't matter which one we choose."
   ]
  },
  {
   "cell_type": "code",
   "execution_count": 10,
   "id": "electrical-auditor",
   "metadata": {},
   "outputs": [],
   "source": [
    "NAMES = [\n",
    "    'corrugated board box production',\n",
    "    'carton board box production service, with gravure printing',\n",
    "    'carton board box production service, with offset printing',\n",
    "    'folding boxboard carton production',\n",
    "]\n",
    "\n",
    "boxes = [act for act in ei \n",
    "         if act['name'] in NAMES\n",
    "         and act['unit'] == 'kilogram']"
   ]
  },
  {
   "cell_type": "markdown",
   "id": "iraqi-location",
   "metadata": {},
   "source": [
    "## `reference product` and multifunctional activities\n",
    "\n",
    "TBD"
   ]
  },
  {
   "cell_type": "code",
   "execution_count": 11,
   "id": "european-liberia",
   "metadata": {},
   "outputs": [
    {
     "data": {
      "text/plain": [
       "['folding boxboard carton',\n",
       " 'corrugated board box',\n",
       " 'bark chips, wet, measured as dry mass',\n",
       " 'carton board box production, with offset printing',\n",
       " 'carton board box production, with gravure printing',\n",
       " 'corrugated board box',\n",
       " 'carton board box production, with gravure printing',\n",
       " 'turpentine',\n",
       " 'folding boxboard carton',\n",
       " 'carton board box production, with offset printing',\n",
       " 'turpentine',\n",
       " 'bark chips, wet, measured as dry mass',\n",
       " 'carton board box production, with offset printing',\n",
       " 'carton board box production, with gravure printing',\n",
       " 'corrugated board box']"
      ]
     },
     "execution_count": 11,
     "metadata": {},
     "output_type": "execute_result"
    }
   ],
   "source": [
    "[x['reference product'] for x in boxes]"
   ]
  },
  {
   "cell_type": "code",
   "execution_count": 12,
   "id": "brief-toronto",
   "metadata": {},
   "outputs": [],
   "source": [
    "boxes = [act for act in ei \n",
    "         if act['name'] in NAMES\n",
    "         and act['unit'] == 'kilogram'\n",
    "         and 'box' in act['reference product']]"
   ]
  },
  {
   "cell_type": "code",
   "execution_count": 13,
   "id": "related-printer",
   "metadata": {},
   "outputs": [
    {
     "data": {
      "text/plain": [
       "[('corrugated board box production', 'corrugated board box', 'RoW'),\n",
       " ('carton board box production service, with gravure printing',\n",
       "  'carton board box production, with gravure printing',\n",
       "  'CA-QC'),\n",
       " ('carton board box production service, with gravure printing',\n",
       "  'carton board box production, with gravure printing',\n",
       "  'RoW'),\n",
       " ('corrugated board box production', 'corrugated board box', 'RER'),\n",
       " ('folding boxboard carton production', 'folding boxboard carton', 'RER'),\n",
       " ('carton board box production service, with offset printing',\n",
       "  'carton board box production, with offset printing',\n",
       "  'RoW'),\n",
       " ('carton board box production service, with offset printing',\n",
       "  'carton board box production, with offset printing',\n",
       "  'CA-QC'),\n",
       " ('folding boxboard carton production', 'folding boxboard carton', 'RoW'),\n",
       " ('carton board box production service, with offset printing',\n",
       "  'carton board box production, with offset printing',\n",
       "  'CH'),\n",
       " ('corrugated board box production', 'corrugated board box', 'CA-QC'),\n",
       " ('carton board box production service, with gravure printing',\n",
       "  'carton board box production, with gravure printing',\n",
       "  'CH')]"
      ]
     },
     "execution_count": 13,
     "metadata": {},
     "output_type": "execute_result"
    }
   ],
   "source": [
    "[(x['name'], x['reference product'], x['location']) for x in boxes]"
   ]
  },
  {
   "cell_type": "markdown",
   "id": "dressed-position",
   "metadata": {},
   "source": [
    "## ecoinvent documentation\n",
    "\n",
    "TBD"
   ]
  },
  {
   "cell_type": "code",
   "execution_count": 14,
   "id": "proud-independence",
   "metadata": {},
   "outputs": [
    {
     "data": {
      "text/plain": [
       "[('corrugated board box production',\n",
       "  'Geography:  This dataset is a weighted average built from the following geographies: US, RER, CA-QC.\\nTechnology:  Average of present used technology\\nTime period:  The production volume is valid for the year 2014. Inventory data are a weighted average stemming from different years between 2008 and 2014.'),\n",
       " ('carton board box production service, with gravure printing',\n",
       "  'This dataset represents gravure printing of carton board box in Quebec. \\nChild dataset exchanges identical to GLO dataset. Created to enable linking to regional markets (e.g. for electricity). Data quality indicators adjusted accordingly.\\nThe input of cartonboard is not included into this module allowing the user to establish its own cartonboard boxes. Per kg of used cartonboard, 0.80 kg of this module are needed.\\n[This dataset was already contained in the ecoinvent database version 2. It was not individually updated during the transfer to ecoinvent version 3. Life Cycle Impact Assessment results may still have changed, as they are affected by changes in the supply chain, i.e. in other datasets. This dataset was generated following the ecoinvent quality guidelines for version 2. It may have been subject to central changes described in the ecoinvent version 3 change report (http://www.ecoinvent.org/database/ecoinvent-version-3/reports-of-changes/), and the results of the central updates were reviewed extensively. The changes added e.g. consistent water flows and other information throughout the database. The documentation of this dataset can be found in the ecoinvent reports of version 2, which are still available via the ecoinvent website. The change report linked above covers all central changes that were made during the conversion process.]\\nGeography:  Child dataset exchanges identical to GLO dataset. Created to enable linking to regional markets (e.g. for electricity). Data quality indicators adjusted accordingly.\\nTechnology:  Data of the used technology within the examined Swiss production plant'),\n",
       " ('carton board box production service, with gravure printing',\n",
       "  'The input of cartonboard is not included into this module allowing the user to establish its own cartonboard boxes. Per kg of used cartonboard, 0.80 kg of this module are needed.\\n[This dataset was already contained in the ecoinvent database version 2. It was not individually updated during the transfer to ecoinvent version 3. Life Cycle Impact Assessment results may still have changed, as they are affected by changes in the supply chain, i.e. in other datasets. This dataset was generated following the ecoinvent quality guidelines for version 2. It may have been subject to central changes described in the ecoinvent version 3 change report (http://www.ecoinvent.org/database/ecoinvent-version-3/reports-of-changes/), and the results of the central updates were reviewed extensively. The changes added e.g. consistent water flows and other information throughout the database. The documentation of this dataset can be found in the ecoinvent reports of version 2, which are still available via the ecoinvent website. The change report linked above covers all central changes that were made during the conversion process.]\\nGeography:  Data from one modern Swiss plant\\nTechnology:  Data of the used technology within the examined Swiss production plant'),\n",
       " ('corrugated board box production',\n",
       "  'For this dataset the European average of recycled and virgin paper inputs (wellenstoff, semichemical fluting, kraftliner, testliner) was used.\\nThe production volume is valid for the year 2015. Inventory data were collected for the year 2014.\\nCorrugated Board is manufactured from several specially conditioned layers of recycled or virgin papers, with the Fluting Medium being the middle layer and Linerboard used for the outside layers. Reels of Fluting Medium and Linerboard are fed into a machine which is called a Corrugator (FEFCO. 2015). In integrated plants such as the ones represented here, the finished board is further folded into boxes.\\nImage: https://db3.ecoinvent.org/images/fb7c96f2-1933-4a81-a33a-515d0a5fb151\\nGeography:  Data for main producers in Europe (France, Germany, Italy, Poland, Spain, United Kingdom).\\nTechnology:  Average of present used technology')]"
      ]
     },
     "execution_count": 14,
     "metadata": {},
     "output_type": "execute_result"
    }
   ],
   "source": [
    "[(x['name'], x['comment']) for x in boxes][:4]"
   ]
  },
  {
   "cell_type": "markdown",
   "id": "concrete-bristol",
   "metadata": {},
   "source": [
    "## Recommended Life Cycle Impact Assessment category\n",
    "\n",
    "Make your life a bit easier, just use the latest IPCC factors with a 100 year time scale.\n",
    "\n",
    "In this case study, as we are looking at biogenic carbon storage, we need to add non-fossil CO2 to the existing implementation."
   ]
  },
  {
   "cell_type": "code",
   "execution_count": 109,
   "id": "activated-tamil",
   "metadata": {},
   "outputs": [],
   "source": [
    "ipcc_original = ('IPCC 2013', 'climate change', 'GWP 100a')\n",
    "ipcc = ('IPCC 2013', 'climate change', 'GWP 100a', 'complete')"
   ]
  },
  {
   "cell_type": "code",
   "execution_count": 110,
   "id": "persistent-composer",
   "metadata": {},
   "outputs": [],
   "source": [
    "bio = bd.Database(\"biosphere3\")\n",
    "all_co2 = {x for x in bio if \"carbon dioxide\" in x['name'].lower()}"
   ]
  },
  {
   "cell_type": "code",
   "execution_count": 111,
   "id": "delayed-lightweight",
   "metadata": {},
   "outputs": [],
   "source": [
    "in_ipcc = {bd.get_activity(x) for x, _ in bd.Method(ipcc_original).load()}"
   ]
  },
  {
   "cell_type": "code",
   "execution_count": 112,
   "id": "finnish-retail",
   "metadata": {},
   "outputs": [
    {
     "data": {
      "text/plain": [
       "{'Carbon dioxide, non-fossil' (kilogram, None, ('air', 'low population density, long-term')),\n",
       " 'Carbon dioxide, non-fossil' (kilogram, None, ('air', 'lower stratosphere + upper troposphere')),\n",
       " 'Carbon dioxide, non-fossil, from calcination' (kilogram, None, ['air']),\n",
       " 'Carbon dioxide, non-fossil' (kilogram, None, ('air', 'urban air close to ground')),\n",
       " 'Carbon dioxide, in air' (kilogram, None, ('natural resource', 'in air')),\n",
       " 'Carbon dioxide, non-fossil' (kilogram, None, ('air', 'non-urban air or from high stacks')),\n",
       " 'Carbon dioxide, non-fossil' (kilogram, None, ('air',))}"
      ]
     },
     "execution_count": 112,
     "metadata": {},
     "output_type": "execute_result"
    }
   ],
   "source": [
    "all_co2.difference(in_ipcc)"
   ]
  },
  {
   "cell_type": "code",
   "execution_count": 113,
   "id": "accessible-avenue",
   "metadata": {},
   "outputs": [],
   "source": [
    "gwp_complete_data = bd.Method(ipcc_original).load()"
   ]
  },
  {
   "cell_type": "code",
   "execution_count": 101,
   "id": "united-minnesota",
   "metadata": {},
   "outputs": [],
   "source": [
    "for flow in all_co2.difference(in_ipcc):\n",
    "    if flow['categories'][0] == 'air':\n",
    "        gwp_complete_data.append((flow.key, 1))\n",
    "    else:\n",
    "        gwp_complete_data.append((flow.key, -1))"
   ]
  },
  {
   "cell_type": "code",
   "execution_count": 107,
   "id": "marine-blood",
   "metadata": {},
   "outputs": [],
   "source": [
    "gwp_complete = bd.Method(ipcc)\n",
    "gwp_complete.register(\n",
    "    description=\"IPCC 2013 100 year with biogenic carbon sources and sinks\",\n",
    "    unit='kg CO2-Eq',\n",
    ")\n",
    "gwp_complete.write(gwp_complete_data)"
   ]
  },
  {
   "cell_type": "markdown",
   "id": "guilty-headline",
   "metadata": {},
   "source": [
    "## Comparing activities by LCA score"
   ]
  },
  {
   "cell_type": "code",
   "execution_count": 16,
   "id": "headed-hamilton",
   "metadata": {},
   "outputs": [
    {
     "name": "stdout",
     "output_type": "stream",
     "text": [
      "Differences observed. LCA scores:\n",
      "\t1.005'corrugated board box production' (kilogram, RoW, None)\n",
      "\t0.259'carton board box production service, with gravure printing' (kilogram, CA-QC, None)\n",
      "\t0.734'carton board box production service, with gravure printing' (kilogram, RoW, None)\n",
      "\t0.935'corrugated board box production' (kilogram, RER, None)\n",
      "\t1.778'folding boxboard carton production' (kilogram, RER, None)\n",
      "\t0.592'carton board box production service, with offset printing' (kilogram, RoW, None)\n",
      "\t0.372'carton board box production service, with offset printing' (kilogram, CA-QC, None)\n",
      "\t2.361'folding boxboard carton production' (kilogram, RoW, None)\n",
      "\t0.272'carton board box production service, with offset printing' (kilogram, CH, None)\n",
      "\t0.496'corrugated board box production' (kilogram, CA-QC, None)\n",
      "\t0.253'carton board box production service, with gravure printing' (kilogram, CH, None)\n"
     ]
    }
   ],
   "source": [
    "ba.compare_activities_by_lcia_score(boxes, ipcc)"
   ]
  },
  {
   "cell_type": "markdown",
   "id": "honest-grounds",
   "metadata": {},
   "source": [
    "We have substantial differences for the *same* activity in *different* locations. We can now drill down and see where these differences come from. The following function will dive into the supply chain to see where differences arise, but this means it takes a bit longer than a simpler analysis."
   ]
  },
  {
   "cell_type": "code",
   "execution_count": 17,
   "id": "worst-angel",
   "metadata": {},
   "outputs": [
    {
     "data": {
      "text/html": [
       "<table>\n",
       "<thead>\n",
       "<tr><th>activity                                                  </th><th>product                                           </th><th>location  </th><th>unit    </th><th style=\"text-align: right;\">  total</th><th style=\"text-align: right;\">  17100: Electrical energy</th><th style=\"text-align: right;\">  17300: Steam and hot water</th><th style=\"text-align: right;\">  32151: Corrugated paper and paperboard</th><th style=\"text-align: right;\">  35110: Paints and varnishes and related products</th><th style=\"text-align: right;\">  32153: Cartons, boxes, cases, record sleeves and o</th><th style=\"text-align: right;\">  39910: Municipal waste</th><th style=\"text-align: right;\">  39240: Waste and scrap of paper or paperboard</th><th style=\"text-align: right;\">  35321: Soap; organic surface-active products and p</th><th style=\"text-align: right;\">  69120: Gas distribution through mains (on own acco</th><th style=\"text-align: right;\">  23220: Starches; inulin; wheat gluten; dextrins an</th><th style=\"text-align: right;\">  12020: Natural gas, liquefied or in the gaseous st</th><th style=\"text-align: right;\">  32113: Mechanical wood pulp; semi-chemical wood pu</th><th style=\"text-align: right;\">  32112: Chemical wood pulp, other than dissolving g</th><th style=\"text-align: right;\">  34710: Polymers of ethylene, in primary forms</th><th style=\"text-align: right;\">  341: Basic organic chemicals</th><th style=\"text-align: right;\">  39920: Sewage sludge</th><th style=\"text-align: right;\">  33421: Ethylene, propylene, butylene, butadiene</th><th style=\"text-align: right;\">  6511: Road transport services of freight</th><th style=\"text-align: right;\">  53269: Other constructions for manufacturing</th><th style=\"text-align: right;\">  21611: Soya bean oil, crude</th><th style=\"text-align: right;\">  333: Petroleum oils and oils obtained from bitumin</th><th style=\"text-align: right;\">  37420: Quicklime, slaked lime and hydraulic lime</th><th style=\"text-align: right;\">  031: Wood in the rough</th><th style=\"text-align: right;\">  31230: Wood in chips or particles</th><th style=\"text-align: right;\">  34231: Chemical elements n.e.c.; inorganic acids e</th><th style=\"text-align: right;\">  321: Pulp, paper and paperboard</th><th style=\"text-align: right;\">  65229: Other inland water transport services of fr</th><th style=\"text-align: right;\">  34790: Other plastics in primary forms; ion exchan</th><th style=\"text-align: right;\">  01122: Maize (corn), other</th><th style=\"text-align: right;\">  34210: Hydrogen, nitrogen, oxygen, carbon dioxide </th><th style=\"text-align: right;\">  531: Buildings</th><th style=\"text-align: right;\">  35130: Printing ink</th><th style=\"text-align: right;\">  6512: Railway transport services of freight</th><th style=\"text-align: right;\">  21651: Palm oil, crude</th><th style=\"text-align: right;\">  34240: Phosphates of triammonium; salts and peroxy</th><th style=\"text-align: right;\">  11010: Hard coal</th><th style=\"text-align: right;\">  41431: Unwrought aluminium</th><th style=\"text-align: right;\">  41122: Alloy steel in ingots or other primary form</th><th style=\"text-align: right;\">  33370: Fuel oils n.e.c.</th><th style=\"text-align: right;\">  34540: Oils and other products of the distillation</th><th style=\"text-align: right;\">  34: Basic chemicals</th><th style=\"text-align: right;\">  34280: Hydrogen peroxide; phosphides; carbides; hy</th><th style=\"text-align: right;\">  15400: Clays</th><th style=\"text-align: right;\">  11040: Brown coal briquettes and similar solid fue</th><th style=\"text-align: right;\">  3928: Sawdust and wood waste and scrap</th><th style=\"text-align: right;\">  36330: Plates, sheets, film, foil and strip, of pl</th><th style=\"text-align: right;\">  543: Site preparation services</th><th style=\"text-align: right;\">  39283: Non-agglomerated wood waste and scrap</th><th style=\"text-align: right;\">  65119: Other road transport services of freight</th><th style=\"text-align: right;\">  34270: Cyanides, cyanide oxides and complex cyanid</th><th style=\"text-align: right;\">  39270: Waste, parings and scrap of plastics</th><th style=\"text-align: right;\">  342: Basic inorganic chemicals n.e.c.</th><th style=\"text-align: right;\">  39990: Other wastes n.e.c.</th><th style=\"text-align: right;\">  39: Wastes or scraps</th><th style=\"text-align: right;\">  353: Soap, cleaning preparations, perfumes and toi</th><th style=\"text-align: right;\">  53252: Local cables and related works</th><th style=\"text-align: right;\">  34663: Herbicides, anti-sprouting products and pla</th><th style=\"text-align: right;\">  4121: Flat-rolled products of steel, not further w</th><th style=\"text-align: right;\">  347: Plastics in primary forms</th><th style=\"text-align: right;\">  161: Chemical and fertilizer minerals</th><th style=\"text-align: right;\">  34139: Other alcohols, phenols, phenol-alcohols, a</th><th style=\"text-align: right;\">  482: Instruments and appliances for measuring, che</th><th style=\"text-align: right;\">  3466: Insecticides, fungicides, herbicides and dis</th><th style=\"text-align: right;\">  65213: Coastal and transoceanic water transport se</th><th style=\"text-align: right;\">  33380: Lubricants</th><th style=\"text-align: right;\">  53290: Other civil engineering works</th><th style=\"text-align: right;\">  374: Plaster, lime and cement</th><th style=\"text-align: right;\">  34611: Urea</th><th style=\"text-align: right;\">  18000: Natural water</th><th style=\"text-align: right;\">  14290: Other non-ferrous metal ores and concentrat</th><th style=\"text-align: right;\">  4153: Semi-finished products of aluminium or alumi</th><th style=\"text-align: right;\">  33360: Gas oil</th><th style=\"text-align: right;\">  11050: Peat</th><th style=\"text-align: right;\">  53262: Power plants</th><th style=\"text-align: right;\">  65219: Other coastal and transoceanic water transp</th><th style=\"text-align: right;\">  34720: Polymers of styrene, in primary forms</th><th style=\"text-align: right;\">  334: Petroleum gases and other gaseous hydrocarbon</th><th style=\"text-align: right;\">  34651: Ammonia, anhydrous</th><th style=\"text-align: right;\">  266: Woven fabrics (except special fabrics) of cot</th><th style=\"text-align: right;\">  35499: Other chemical products n.e.c.</th><th style=\"text-align: right;\">  34250: Salts of oxometallic or peroxometallic acid</th><th style=\"text-align: right;\">  43420: Industrial or laboratory furnaces and ovens</th><th style=\"text-align: right;\">  39281: Wood pellets</th><th style=\"text-align: right;\">  431: Engines and turbines and parts thereof</th><th style=\"text-align: right;\">  391: Wastes from food and tobacco industry</th><th style=\"text-align: right;\">  34520: Sulphur, except sublimed sulphur, precipita</th><th style=\"text-align: right;\">  461: Electric motors, generators and transformers,</th><th style=\"text-align: right;\">  34140: Carboxylic acids and their anhydrides, hali</th><th style=\"text-align: right;\">  53253: Sewage and water treatment plants</th><th style=\"text-align: right;\">  16390: Other minerals n.e.c.</th><th style=\"text-align: right;\">  34232: Phosphoric acid</th><th style=\"text-align: right;\">  34170: Ethers, alcohol peroxides, ether peroxides,</th><th style=\"text-align: right;\">  34615: Mixtures of ammonium nitrate with calcium c</th><th style=\"text-align: right;\">  42210: Reservoirs, tanks, vats and similar contain</th><th style=\"text-align: right;\">  34653: Ammonium chloride; nitrites</th><th style=\"text-align: right;\">  34220: Zinc oxide; zinc peroxide; chromium oxides </th><th style=\"text-align: right;\">  39950: Wastes from chemical or allied industries</th><th style=\"text-align: right;\">  64119: Other land transportation services of passe</th><th style=\"text-align: right;\">  34150: Amine-function compounds; oxygen-function a</th><th style=\"text-align: right;\">  16200: Salt and pure sodium chloride; sea water</th><th style=\"text-align: right;\">  39310: Slag, dross, scalings and other waste from </th><th style=\"text-align: right;\">  31700: Packing cases, boxes, crates, drums and sim</th><th style=\"text-align: right;\">  6424: Air transport services of passengers</th><th style=\"text-align: right;\">  94231: General waste collection services, resident</th></tr>\n",
       "</thead>\n",
       "<tbody>\n",
       "<tr><td>carton board box production service, with gravure printing</td><td>carton board box production, with gravure printing</td><td>CH        </td><td>kilogram</td><td style=\"text-align: right;\">  0.253</td><td style=\"text-align: right;\">                     0.276</td><td style=\"text-align: right;\">                       0.033</td><td style=\"text-align: right;\">                                   0.000</td><td style=\"text-align: right;\">                                             0.280</td><td style=\"text-align: right;\">                                               0.000</td><td style=\"text-align: right;\">                   0.097</td><td style=\"text-align: right;\">                                          0.000</td><td style=\"text-align: right;\">                                               0.000</td><td style=\"text-align: right;\">                                               0.000</td><td style=\"text-align: right;\">                                               0.000</td><td style=\"text-align: right;\">                                               0.000</td><td style=\"text-align: right;\">                                               0.000</td><td style=\"text-align: right;\">                                               0.000</td><td style=\"text-align: right;\">                                          0.058</td><td style=\"text-align: right;\">                         0.056</td><td style=\"text-align: right;\">                 0.000</td><td style=\"text-align: right;\">                                            0.000</td><td style=\"text-align: right;\">                                     0.003</td><td style=\"text-align: right;\">                                         0.007</td><td style=\"text-align: right;\">                        0.041</td><td style=\"text-align: right;\">                                               0.040</td><td style=\"text-align: right;\">                                             0.001</td><td style=\"text-align: right;\">                   0.000</td><td style=\"text-align: right;\">                              0.000</td><td style=\"text-align: right;\">                                               0.035</td><td style=\"text-align: right;\">                            0.000</td><td style=\"text-align: right;\">                                               0.000</td><td style=\"text-align: right;\">                                               0.000</td><td style=\"text-align: right;\">                       0.000</td><td style=\"text-align: right;\">                                               0.000</td><td style=\"text-align: right;\">           0.021</td><td style=\"text-align: right;\">                0.000</td><td style=\"text-align: right;\">                                        0.000</td><td style=\"text-align: right;\">                   0.016</td><td style=\"text-align: right;\">                                               0.000</td><td style=\"text-align: right;\">             0.000</td><td style=\"text-align: right;\">                       0.000</td><td style=\"text-align: right;\">                                               0.011</td><td style=\"text-align: right;\">                    0.000</td><td style=\"text-align: right;\">                                               0.010</td><td style=\"text-align: right;\">                0.000</td><td style=\"text-align: right;\">                                               0.000</td><td style=\"text-align: right;\">         0.000</td><td style=\"text-align: right;\">                                               0.000</td><td style=\"text-align: right;\">                                   0.000</td><td style=\"text-align: right;\">                                               0.000</td><td style=\"text-align: right;\">                           0.000</td><td style=\"text-align: right;\">                                         0.000</td><td style=\"text-align: right;\">                                            0.000</td><td style=\"text-align: right;\">                                               0.000</td><td style=\"text-align: right;\">                                        0.000</td><td style=\"text-align: right;\">                                  0.000</td><td style=\"text-align: right;\">                       0.000</td><td style=\"text-align: right;\">                 0.000</td><td style=\"text-align: right;\">                                               0.000</td><td style=\"text-align: right;\">                                  0.001</td><td style=\"text-align: right;\">                                               0.000</td><td style=\"text-align: right;\">                                               0.001</td><td style=\"text-align: right;\">                           0.000</td><td style=\"text-align: right;\">                                  0.000</td><td style=\"text-align: right;\">                                               0.000</td><td style=\"text-align: right;\">                                               0.001</td><td style=\"text-align: right;\">                                               0.000</td><td style=\"text-align: right;\">                                               0.000</td><td style=\"text-align: right;\">              0.000</td><td style=\"text-align: right;\">                                 0.001</td><td style=\"text-align: right;\">                          0.001</td><td style=\"text-align: right;\">        0.000</td><td style=\"text-align: right;\">                 0.000</td><td style=\"text-align: right;\">                                               0.000</td><td style=\"text-align: right;\">                                               0.000</td><td style=\"text-align: right;\">           0.000</td><td style=\"text-align: right;\">        0.000</td><td style=\"text-align: right;\">                0.000</td><td style=\"text-align: right;\">                                               0.000</td><td style=\"text-align: right;\">                                         0.000</td><td style=\"text-align: right;\">                                               0.000</td><td style=\"text-align: right;\">                      0.000</td><td style=\"text-align: right;\">                                               0.000</td><td style=\"text-align: right;\">                                  0.000</td><td style=\"text-align: right;\">                                               0.000</td><td style=\"text-align: right;\">                                               0.000</td><td style=\"text-align: right;\">                0.000</td><td style=\"text-align: right;\">                                        0.000</td><td style=\"text-align: right;\">                                       0.000</td><td style=\"text-align: right;\">                                               0.000</td><td style=\"text-align: right;\">                                               0.000</td><td style=\"text-align: right;\">                                               0.000</td><td style=\"text-align: right;\">                                     0.000</td><td style=\"text-align: right;\">                         0.000</td><td style=\"text-align: right;\">                   0.000</td><td style=\"text-align: right;\">                                               0.000</td><td style=\"text-align: right;\">                                               0.000</td><td style=\"text-align: right;\">                                               0.000</td><td style=\"text-align: right;\">                               0.000</td><td style=\"text-align: right;\">                                               0.000</td><td style=\"text-align: right;\">                                             0.000</td><td style=\"text-align: right;\">                                               0.000</td><td style=\"text-align: right;\">                                               0.000</td><td style=\"text-align: right;\">                                            0.000</td><td style=\"text-align: right;\">                                               0.000</td><td style=\"text-align: right;\">                                               0.000</td><td style=\"text-align: right;\">                                       0.000</td><td style=\"text-align: right;\">                                              -0.001</td></tr>\n",
       "<tr><td>carton board box production service, with gravure printing</td><td>carton board box production, with gravure printing</td><td>CA-QC     </td><td>kilogram</td><td style=\"text-align: right;\">  0.259</td><td style=\"text-align: right;\">                     0.131</td><td style=\"text-align: right;\">                       0.143</td><td style=\"text-align: right;\">                                   0.000</td><td style=\"text-align: right;\">                                             0.281</td><td style=\"text-align: right;\">                                               0.000</td><td style=\"text-align: right;\">                   0.124</td><td style=\"text-align: right;\">                                          0.000</td><td style=\"text-align: right;\">                                               0.000</td><td style=\"text-align: right;\">                                               0.000</td><td style=\"text-align: right;\">                                               0.000</td><td style=\"text-align: right;\">                                               0.000</td><td style=\"text-align: right;\">                                               0.000</td><td style=\"text-align: right;\">                                               0.000</td><td style=\"text-align: right;\">                                          0.056</td><td style=\"text-align: right;\">                         0.055</td><td style=\"text-align: right;\">                 0.000</td><td style=\"text-align: right;\">                                            0.000</td><td style=\"text-align: right;\">                                     0.007</td><td style=\"text-align: right;\">                                         0.042</td><td style=\"text-align: right;\">                        0.040</td><td style=\"text-align: right;\">                                               0.039</td><td style=\"text-align: right;\">                                             0.000</td><td style=\"text-align: right;\">                   0.000</td><td style=\"text-align: right;\">                              0.000</td><td style=\"text-align: right;\">                                               0.033</td><td style=\"text-align: right;\">                            0.000</td><td style=\"text-align: right;\">                                               0.000</td><td style=\"text-align: right;\">                                               0.000</td><td style=\"text-align: right;\">                       0.000</td><td style=\"text-align: right;\">                                               0.000</td><td style=\"text-align: right;\">           0.000</td><td style=\"text-align: right;\">                0.000</td><td style=\"text-align: right;\">                                        0.001</td><td style=\"text-align: right;\">                   0.016</td><td style=\"text-align: right;\">                                               0.000</td><td style=\"text-align: right;\">             0.007</td><td style=\"text-align: right;\">                       0.000</td><td style=\"text-align: right;\">                                               0.000</td><td style=\"text-align: right;\">                    0.000</td><td style=\"text-align: right;\">                                               0.010</td><td style=\"text-align: right;\">                0.000</td><td style=\"text-align: right;\">                                               0.000</td><td style=\"text-align: right;\">         0.000</td><td style=\"text-align: right;\">                                               0.000</td><td style=\"text-align: right;\">                                   0.000</td><td style=\"text-align: right;\">                                               0.000</td><td style=\"text-align: right;\">                           0.000</td><td style=\"text-align: right;\">                                         0.000</td><td style=\"text-align: right;\">                                            0.003</td><td style=\"text-align: right;\">                                               0.000</td><td style=\"text-align: right;\">                                        0.000</td><td style=\"text-align: right;\">                                  0.000</td><td style=\"text-align: right;\">                       0.000</td><td style=\"text-align: right;\">                 0.001</td><td style=\"text-align: right;\">                                               0.000</td><td style=\"text-align: right;\">                                  0.000</td><td style=\"text-align: right;\">                                               0.000</td><td style=\"text-align: right;\">                                               0.000</td><td style=\"text-align: right;\">                           0.000</td><td style=\"text-align: right;\">                                  0.001</td><td style=\"text-align: right;\">                                               0.000</td><td style=\"text-align: right;\">                                               0.000</td><td style=\"text-align: right;\">                                               0.000</td><td style=\"text-align: right;\">                                               0.000</td><td style=\"text-align: right;\">              0.000</td><td style=\"text-align: right;\">                                 0.001</td><td style=\"text-align: right;\">                          0.000</td><td style=\"text-align: right;\">        0.000</td><td style=\"text-align: right;\">                 0.000</td><td style=\"text-align: right;\">                                               0.000</td><td style=\"text-align: right;\">                                               0.000</td><td style=\"text-align: right;\">           0.000</td><td style=\"text-align: right;\">        0.000</td><td style=\"text-align: right;\">                0.000</td><td style=\"text-align: right;\">                                               0.000</td><td style=\"text-align: right;\">                                         0.000</td><td style=\"text-align: right;\">                                               0.000</td><td style=\"text-align: right;\">                      0.000</td><td style=\"text-align: right;\">                                               0.000</td><td style=\"text-align: right;\">                                  0.000</td><td style=\"text-align: right;\">                                               0.000</td><td style=\"text-align: right;\">                                               0.000</td><td style=\"text-align: right;\">                0.000</td><td style=\"text-align: right;\">                                        0.000</td><td style=\"text-align: right;\">                                       0.000</td><td style=\"text-align: right;\">                                               0.000</td><td style=\"text-align: right;\">                                               0.000</td><td style=\"text-align: right;\">                                               0.000</td><td style=\"text-align: right;\">                                     0.000</td><td style=\"text-align: right;\">                         0.000</td><td style=\"text-align: right;\">                   0.000</td><td style=\"text-align: right;\">                                               0.000</td><td style=\"text-align: right;\">                                               0.000</td><td style=\"text-align: right;\">                                               0.000</td><td style=\"text-align: right;\">                               0.000</td><td style=\"text-align: right;\">                                               0.000</td><td style=\"text-align: right;\">                                             0.000</td><td style=\"text-align: right;\">                                               0.000</td><td style=\"text-align: right;\">                                               0.000</td><td style=\"text-align: right;\">                                            0.000</td><td style=\"text-align: right;\">                                               0.000</td><td style=\"text-align: right;\">                                               0.000</td><td style=\"text-align: right;\">                                       0.000</td><td style=\"text-align: right;\">                                              -0.005</td></tr>\n",
       "<tr><td>carton board box production service, with offset printing </td><td>carton board box production, with offset printing </td><td>CH        </td><td>kilogram</td><td style=\"text-align: right;\">  0.272</td><td style=\"text-align: right;\">                     0.171</td><td style=\"text-align: right;\">                       0.111</td><td style=\"text-align: right;\">                                   0.000</td><td style=\"text-align: right;\">                                             0.137</td><td style=\"text-align: right;\">                                               0.000</td><td style=\"text-align: right;\">                   0.070</td><td style=\"text-align: right;\">                                          0.000</td><td style=\"text-align: right;\">                                               0.077</td><td style=\"text-align: right;\">                                               0.022</td><td style=\"text-align: right;\">                                               0.006</td><td style=\"text-align: right;\">                                               0.003</td><td style=\"text-align: right;\">                                               0.068</td><td style=\"text-align: right;\">                                               0.009</td><td style=\"text-align: right;\">                                          0.043</td><td style=\"text-align: right;\">                         0.015</td><td style=\"text-align: right;\">                 0.000</td><td style=\"text-align: right;\">                                            0.053</td><td style=\"text-align: right;\">                                     0.009</td><td style=\"text-align: right;\">                                         0.007</td><td style=\"text-align: right;\">                        0.020</td><td style=\"text-align: right;\">                                               0.000</td><td style=\"text-align: right;\">                                             0.001</td><td style=\"text-align: right;\">                   0.009</td><td style=\"text-align: right;\">                              0.000</td><td style=\"text-align: right;\">                                               0.028</td><td style=\"text-align: right;\">                            0.000</td><td style=\"text-align: right;\">                                               0.000</td><td style=\"text-align: right;\">                                               0.018</td><td style=\"text-align: right;\">                       0.000</td><td style=\"text-align: right;\">                                               0.003</td><td style=\"text-align: right;\">           0.019</td><td style=\"text-align: right;\">                0.000</td><td style=\"text-align: right;\">                                        0.001</td><td style=\"text-align: right;\">                   0.008</td><td style=\"text-align: right;\">                                               0.006</td><td style=\"text-align: right;\">             0.000</td><td style=\"text-align: right;\">                       0.000</td><td style=\"text-align: right;\">                                               0.010</td><td style=\"text-align: right;\">                    0.002</td><td style=\"text-align: right;\">                                               0.005</td><td style=\"text-align: right;\">                0.009</td><td style=\"text-align: right;\">                                               0.001</td><td style=\"text-align: right;\">         0.007</td><td style=\"text-align: right;\">                                               0.007</td><td style=\"text-align: right;\">                                   0.000</td><td style=\"text-align: right;\">                                               0.000</td><td style=\"text-align: right;\">                           0.000</td><td style=\"text-align: right;\">                                         0.000</td><td style=\"text-align: right;\">                                            0.000</td><td style=\"text-align: right;\">                                               0.000</td><td style=\"text-align: right;\">                                        0.000</td><td style=\"text-align: right;\">                                  0.003</td><td style=\"text-align: right;\">                       0.000</td><td style=\"text-align: right;\">                 0.002</td><td style=\"text-align: right;\">                                               0.000</td><td style=\"text-align: right;\">                                  0.001</td><td style=\"text-align: right;\">                                               0.000</td><td style=\"text-align: right;\">                                               0.001</td><td style=\"text-align: right;\">                           0.000</td><td style=\"text-align: right;\">                                  0.001</td><td style=\"text-align: right;\">                                               0.000</td><td style=\"text-align: right;\">                                               0.001</td><td style=\"text-align: right;\">                                               0.000</td><td style=\"text-align: right;\">                                               0.000</td><td style=\"text-align: right;\">              0.001</td><td style=\"text-align: right;\">                                 0.001</td><td style=\"text-align: right;\">                          0.000</td><td style=\"text-align: right;\">        0.000</td><td style=\"text-align: right;\">                 0.000</td><td style=\"text-align: right;\">                                               0.001</td><td style=\"text-align: right;\">                                               0.000</td><td style=\"text-align: right;\">           0.000</td><td style=\"text-align: right;\">        0.000</td><td style=\"text-align: right;\">                0.000</td><td style=\"text-align: right;\">                                               0.000</td><td style=\"text-align: right;\">                                         0.000</td><td style=\"text-align: right;\">                                               0.000</td><td style=\"text-align: right;\">                      0.000</td><td style=\"text-align: right;\">                                               0.000</td><td style=\"text-align: right;\">                                  0.000</td><td style=\"text-align: right;\">                                               0.000</td><td style=\"text-align: right;\">                                               0.000</td><td style=\"text-align: right;\">                0.000</td><td style=\"text-align: right;\">                                        0.000</td><td style=\"text-align: right;\">                                       0.000</td><td style=\"text-align: right;\">                                               0.000</td><td style=\"text-align: right;\">                                               0.000</td><td style=\"text-align: right;\">                                               0.000</td><td style=\"text-align: right;\">                                     0.000</td><td style=\"text-align: right;\">                         0.000</td><td style=\"text-align: right;\">                   0.000</td><td style=\"text-align: right;\">                                               0.000</td><td style=\"text-align: right;\">                                               0.000</td><td style=\"text-align: right;\">                                               0.000</td><td style=\"text-align: right;\">                               0.000</td><td style=\"text-align: right;\">                                               0.000</td><td style=\"text-align: right;\">                                             0.000</td><td style=\"text-align: right;\">                                               0.000</td><td style=\"text-align: right;\">                                               0.000</td><td style=\"text-align: right;\">                                            0.000</td><td style=\"text-align: right;\">                                               0.000</td><td style=\"text-align: right;\">                                               0.000</td><td style=\"text-align: right;\">                                       0.000</td><td style=\"text-align: right;\">                                              -0.001</td></tr>\n",
       "<tr><td>carton board box production service, with offset printing </td><td>carton board box production, with offset printing </td><td>CA-QC     </td><td>kilogram</td><td style=\"text-align: right;\">  0.372</td><td style=\"text-align: right;\">                     0.095</td><td style=\"text-align: right;\">                       0.306</td><td style=\"text-align: right;\">                                   0.000</td><td style=\"text-align: right;\">                                             0.103</td><td style=\"text-align: right;\">                                               0.000</td><td style=\"text-align: right;\">                   0.067</td><td style=\"text-align: right;\">                                          0.000</td><td style=\"text-align: right;\">                                               0.056</td><td style=\"text-align: right;\">                                               0.000</td><td style=\"text-align: right;\">                                               0.005</td><td style=\"text-align: right;\">                                               0.069</td><td style=\"text-align: right;\">                                               0.050</td><td style=\"text-align: right;\">                                               0.009</td><td style=\"text-align: right;\">                                          0.031</td><td style=\"text-align: right;\">                         0.011</td><td style=\"text-align: right;\">                 0.000</td><td style=\"text-align: right;\">                                            0.039</td><td style=\"text-align: right;\">                                     0.011</td><td style=\"text-align: right;\">                                         0.030</td><td style=\"text-align: right;\">                        0.014</td><td style=\"text-align: right;\">                                               0.000</td><td style=\"text-align: right;\">                                             0.001</td><td style=\"text-align: right;\">                   0.006</td><td style=\"text-align: right;\">                              0.000</td><td style=\"text-align: right;\">                                               0.020</td><td style=\"text-align: right;\">                            0.000</td><td style=\"text-align: right;\">                                               0.000</td><td style=\"text-align: right;\">                                               0.013</td><td style=\"text-align: right;\">                       0.000</td><td style=\"text-align: right;\">                                               0.003</td><td style=\"text-align: right;\">           0.000</td><td style=\"text-align: right;\">                0.000</td><td style=\"text-align: right;\">                                        0.003</td><td style=\"text-align: right;\">                   0.006</td><td style=\"text-align: right;\">                                               0.007</td><td style=\"text-align: right;\">             0.007</td><td style=\"text-align: right;\">                       0.000</td><td style=\"text-align: right;\">                                               0.000</td><td style=\"text-align: right;\">                    0.001</td><td style=\"text-align: right;\">                                               0.004</td><td style=\"text-align: right;\">                0.006</td><td style=\"text-align: right;\">                                               0.001</td><td style=\"text-align: right;\">         0.005</td><td style=\"text-align: right;\">                                               0.004</td><td style=\"text-align: right;\">                                   0.000</td><td style=\"text-align: right;\">                                               0.000</td><td style=\"text-align: right;\">                           0.000</td><td style=\"text-align: right;\">                                         0.000</td><td style=\"text-align: right;\">                                            0.002</td><td style=\"text-align: right;\">                                               0.000</td><td style=\"text-align: right;\">                                        0.000</td><td style=\"text-align: right;\">                                  0.002</td><td style=\"text-align: right;\">                       0.000</td><td style=\"text-align: right;\">                 0.002</td><td style=\"text-align: right;\">                                               0.000</td><td style=\"text-align: right;\">                                  0.000</td><td style=\"text-align: right;\">                                               0.000</td><td style=\"text-align: right;\">                                               0.000</td><td style=\"text-align: right;\">                           0.000</td><td style=\"text-align: right;\">                                  0.001</td><td style=\"text-align: right;\">                                               0.000</td><td style=\"text-align: right;\">                                               0.000</td><td style=\"text-align: right;\">                                               0.000</td><td style=\"text-align: right;\">                                               0.001</td><td style=\"text-align: right;\">              0.001</td><td style=\"text-align: right;\">                                 0.000</td><td style=\"text-align: right;\">                          0.000</td><td style=\"text-align: right;\">        0.000</td><td style=\"text-align: right;\">                 0.000</td><td style=\"text-align: right;\">                                               0.000</td><td style=\"text-align: right;\">                                               0.000</td><td style=\"text-align: right;\">           0.000</td><td style=\"text-align: right;\">        0.000</td><td style=\"text-align: right;\">                0.000</td><td style=\"text-align: right;\">                                               0.000</td><td style=\"text-align: right;\">                                         0.000</td><td style=\"text-align: right;\">                                               0.000</td><td style=\"text-align: right;\">                      0.000</td><td style=\"text-align: right;\">                                               0.000</td><td style=\"text-align: right;\">                                  0.000</td><td style=\"text-align: right;\">                                               0.000</td><td style=\"text-align: right;\">                                               0.000</td><td style=\"text-align: right;\">                0.000</td><td style=\"text-align: right;\">                                        0.000</td><td style=\"text-align: right;\">                                       0.000</td><td style=\"text-align: right;\">                                               0.000</td><td style=\"text-align: right;\">                                               0.000</td><td style=\"text-align: right;\">                                               0.000</td><td style=\"text-align: right;\">                                     0.000</td><td style=\"text-align: right;\">                         0.000</td><td style=\"text-align: right;\">                   0.000</td><td style=\"text-align: right;\">                                               0.000</td><td style=\"text-align: right;\">                                               0.000</td><td style=\"text-align: right;\">                                               0.000</td><td style=\"text-align: right;\">                               0.000</td><td style=\"text-align: right;\">                                               0.000</td><td style=\"text-align: right;\">                                             0.000</td><td style=\"text-align: right;\">                                               0.000</td><td style=\"text-align: right;\">                                               0.000</td><td style=\"text-align: right;\">                                            0.000</td><td style=\"text-align: right;\">                                               0.000</td><td style=\"text-align: right;\">                                               0.000</td><td style=\"text-align: right;\">                                       0.000</td><td style=\"text-align: right;\">                                              -0.003</td></tr>\n",
       "<tr><td>corrugated board box production                           </td><td>corrugated board box                              </td><td>CA-QC     </td><td>kilogram</td><td style=\"text-align: right;\">  0.496</td><td style=\"text-align: right;\">                     0.048</td><td style=\"text-align: right;\">                       0.380</td><td style=\"text-align: right;\">                                   0.103</td><td style=\"text-align: right;\">                                             0.000</td><td style=\"text-align: right;\">                                               0.000</td><td style=\"text-align: right;\">                   0.060</td><td style=\"text-align: right;\">                                          0.101</td><td style=\"text-align: right;\">                                               0.000</td><td style=\"text-align: right;\">                                               0.011</td><td style=\"text-align: right;\">                                               0.008</td><td style=\"text-align: right;\">                                               0.000</td><td style=\"text-align: right;\">                                               0.000</td><td style=\"text-align: right;\">                                               0.001</td><td style=\"text-align: right;\">                                          0.000</td><td style=\"text-align: right;\">                         0.010</td><td style=\"text-align: right;\">                 0.042</td><td style=\"text-align: right;\">                                            0.000</td><td style=\"text-align: right;\">                                     0.003</td><td style=\"text-align: right;\">                                         0.028</td><td style=\"text-align: right;\">                        0.000</td><td style=\"text-align: right;\">                                               0.000</td><td style=\"text-align: right;\">                                             0.006</td><td style=\"text-align: right;\">                   0.038</td><td style=\"text-align: right;\">                              0.035</td><td style=\"text-align: right;\">                                               0.008</td><td style=\"text-align: right;\">                            0.002</td><td style=\"text-align: right;\">                                               0.000</td><td style=\"text-align: right;\">                                               0.008</td><td style=\"text-align: right;\">                       0.022</td><td style=\"text-align: right;\">                                               0.003</td><td style=\"text-align: right;\">           0.000</td><td style=\"text-align: right;\">                0.020</td><td style=\"text-align: right;\">                                        0.000</td><td style=\"text-align: right;\">                   0.000</td><td style=\"text-align: right;\">                                               0.016</td><td style=\"text-align: right;\">             0.002</td><td style=\"text-align: right;\">                       0.000</td><td style=\"text-align: right;\">                                               0.000</td><td style=\"text-align: right;\">                    0.010</td><td style=\"text-align: right;\">                                               0.000</td><td style=\"text-align: right;\">                0.005</td><td style=\"text-align: right;\">                                               0.003</td><td style=\"text-align: right;\">         0.001</td><td style=\"text-align: right;\">                                               0.000</td><td style=\"text-align: right;\">                                   0.000</td><td style=\"text-align: right;\">                                               0.000</td><td style=\"text-align: right;\">                           0.004</td><td style=\"text-align: right;\">                                         0.000</td><td style=\"text-align: right;\">                                            0.001</td><td style=\"text-align: right;\">                                               0.001</td><td style=\"text-align: right;\">                                        0.000</td><td style=\"text-align: right;\">                                  0.000</td><td style=\"text-align: right;\">                       0.001</td><td style=\"text-align: right;\">                 0.001</td><td style=\"text-align: right;\">                                               0.002</td><td style=\"text-align: right;\">                                  0.000</td><td style=\"text-align: right;\">                                               0.001</td><td style=\"text-align: right;\">                                               0.000</td><td style=\"text-align: right;\">                           0.001</td><td style=\"text-align: right;\">                                  0.000</td><td style=\"text-align: right;\">                                               0.001</td><td style=\"text-align: right;\">                                               0.000</td><td style=\"text-align: right;\">                                               0.001</td><td style=\"text-align: right;\">                                               0.000</td><td style=\"text-align: right;\">              0.001</td><td style=\"text-align: right;\">                                 0.000</td><td style=\"text-align: right;\">                          0.000</td><td style=\"text-align: right;\">        0.001</td><td style=\"text-align: right;\">                 0.001</td><td style=\"text-align: right;\">                                               0.000</td><td style=\"text-align: right;\">                                               0.000</td><td style=\"text-align: right;\">           0.000</td><td style=\"text-align: right;\">        0.000</td><td style=\"text-align: right;\">                0.000</td><td style=\"text-align: right;\">                                               0.000</td><td style=\"text-align: right;\">                                         0.000</td><td style=\"text-align: right;\">                                               0.000</td><td style=\"text-align: right;\">                      0.000</td><td style=\"text-align: right;\">                                               0.000</td><td style=\"text-align: right;\">                                  0.000</td><td style=\"text-align: right;\">                                               0.000</td><td style=\"text-align: right;\">                                               0.000</td><td style=\"text-align: right;\">                0.000</td><td style=\"text-align: right;\">                                        0.000</td><td style=\"text-align: right;\">                                       0.000</td><td style=\"text-align: right;\">                                               0.000</td><td style=\"text-align: right;\">                                               0.000</td><td style=\"text-align: right;\">                                               0.000</td><td style=\"text-align: right;\">                                     0.000</td><td style=\"text-align: right;\">                         0.000</td><td style=\"text-align: right;\">                   0.000</td><td style=\"text-align: right;\">                                               0.000</td><td style=\"text-align: right;\">                                               0.000</td><td style=\"text-align: right;\">                                               0.000</td><td style=\"text-align: right;\">                               0.000</td><td style=\"text-align: right;\">                                               0.000</td><td style=\"text-align: right;\">                                             0.000</td><td style=\"text-align: right;\">                                               0.000</td><td style=\"text-align: right;\">                                               0.000</td><td style=\"text-align: right;\">                                            0.000</td><td style=\"text-align: right;\">                                               0.000</td><td style=\"text-align: right;\">                                               0.000</td><td style=\"text-align: right;\">                                       0.000</td><td style=\"text-align: right;\">                                               0.000</td></tr>\n",
       "<tr><td>carton board box production service, with offset printing </td><td>carton board box production, with offset printing </td><td>RoW       </td><td>kilogram</td><td style=\"text-align: right;\">  0.592</td><td style=\"text-align: right;\">                     0.434</td><td style=\"text-align: right;\">                       0.194</td><td style=\"text-align: right;\">                                   0.000</td><td style=\"text-align: right;\">                                             0.064</td><td style=\"text-align: right;\">                                               0.000</td><td style=\"text-align: right;\">                  -0.051</td><td style=\"text-align: right;\">                                          0.000</td><td style=\"text-align: right;\">                                               0.035</td><td style=\"text-align: right;\">                                               0.000</td><td style=\"text-align: right;\">                                               0.002</td><td style=\"text-align: right;\">                                               0.001</td><td style=\"text-align: right;\">                                               0.052</td><td style=\"text-align: right;\">                                               0.001</td><td style=\"text-align: right;\">                                          0.020</td><td style=\"text-align: right;\">                         0.006</td><td style=\"text-align: right;\">                 0.000</td><td style=\"text-align: right;\">                                            0.024</td><td style=\"text-align: right;\">                                     0.007</td><td style=\"text-align: right;\">                                         0.018</td><td style=\"text-align: right;\">                        0.009</td><td style=\"text-align: right;\">                                               0.000</td><td style=\"text-align: right;\">                                             0.000</td><td style=\"text-align: right;\">                   0.004</td><td style=\"text-align: right;\">                              0.000</td><td style=\"text-align: right;\">                                               0.013</td><td style=\"text-align: right;\">                            0.000</td><td style=\"text-align: right;\">                                               0.000</td><td style=\"text-align: right;\">                                               0.008</td><td style=\"text-align: right;\">                       0.000</td><td style=\"text-align: right;\">                                               0.002</td><td style=\"text-align: right;\">           0.000</td><td style=\"text-align: right;\">                0.000</td><td style=\"text-align: right;\">                                        0.002</td><td style=\"text-align: right;\">                   0.004</td><td style=\"text-align: right;\">                                               0.005</td><td style=\"text-align: right;\">             0.014</td><td style=\"text-align: right;\">                       0.000</td><td style=\"text-align: right;\">                                               0.000</td><td style=\"text-align: right;\">                    0.001</td><td style=\"text-align: right;\">                                               0.002</td><td style=\"text-align: right;\">                0.002</td><td style=\"text-align: right;\">                                               0.000</td><td style=\"text-align: right;\">         0.003</td><td style=\"text-align: right;\">                                               0.003</td><td style=\"text-align: right;\">                                   0.000</td><td style=\"text-align: right;\">                                               0.000</td><td style=\"text-align: right;\">                           0.000</td><td style=\"text-align: right;\">                                         0.000</td><td style=\"text-align: right;\">                                            0.001</td><td style=\"text-align: right;\">                                               0.000</td><td style=\"text-align: right;\">                                        0.000</td><td style=\"text-align: right;\">                                  0.000</td><td style=\"text-align: right;\">                       0.000</td><td style=\"text-align: right;\">                 0.001</td><td style=\"text-align: right;\">                                               0.000</td><td style=\"text-align: right;\">                                  0.000</td><td style=\"text-align: right;\">                                               0.000</td><td style=\"text-align: right;\">                                               0.000</td><td style=\"text-align: right;\">                           0.000</td><td style=\"text-align: right;\">                                  0.001</td><td style=\"text-align: right;\">                                               0.000</td><td style=\"text-align: right;\">                                               0.000</td><td style=\"text-align: right;\">                                               0.000</td><td style=\"text-align: right;\">                                               0.001</td><td style=\"text-align: right;\">              0.000</td><td style=\"text-align: right;\">                                 0.000</td><td style=\"text-align: right;\">                          0.000</td><td style=\"text-align: right;\">        0.000</td><td style=\"text-align: right;\">                 0.000</td><td style=\"text-align: right;\">                                               0.000</td><td style=\"text-align: right;\">                                               0.000</td><td style=\"text-align: right;\">           0.000</td><td style=\"text-align: right;\">        0.000</td><td style=\"text-align: right;\">                0.000</td><td style=\"text-align: right;\">                                               0.000</td><td style=\"text-align: right;\">                                         0.000</td><td style=\"text-align: right;\">                                               0.000</td><td style=\"text-align: right;\">                      0.000</td><td style=\"text-align: right;\">                                               0.000</td><td style=\"text-align: right;\">                                  0.000</td><td style=\"text-align: right;\">                                               0.000</td><td style=\"text-align: right;\">                                               0.000</td><td style=\"text-align: right;\">                0.000</td><td style=\"text-align: right;\">                                        0.000</td><td style=\"text-align: right;\">                                       0.000</td><td style=\"text-align: right;\">                                               0.000</td><td style=\"text-align: right;\">                                               0.000</td><td style=\"text-align: right;\">                                               0.000</td><td style=\"text-align: right;\">                                     0.000</td><td style=\"text-align: right;\">                         0.000</td><td style=\"text-align: right;\">                   0.000</td><td style=\"text-align: right;\">                                               0.000</td><td style=\"text-align: right;\">                                               0.000</td><td style=\"text-align: right;\">                                               0.000</td><td style=\"text-align: right;\">                               0.000</td><td style=\"text-align: right;\">                                               0.000</td><td style=\"text-align: right;\">                                             0.000</td><td style=\"text-align: right;\">                                               0.000</td><td style=\"text-align: right;\">                                               0.000</td><td style=\"text-align: right;\">                                            0.000</td><td style=\"text-align: right;\">                                               0.000</td><td style=\"text-align: right;\">                                               0.000</td><td style=\"text-align: right;\">                                       0.000</td><td style=\"text-align: right;\">                                               0.000</td></tr>\n",
       "<tr><td>carton board box production service, with gravure printing</td><td>carton board box production, with gravure printing</td><td>RoW       </td><td>kilogram</td><td style=\"text-align: right;\">  0.734</td><td style=\"text-align: right;\">                     0.646</td><td style=\"text-align: right;\">                       0.073</td><td style=\"text-align: right;\">                                   0.000</td><td style=\"text-align: right;\">                                             0.099</td><td style=\"text-align: right;\">                                               0.000</td><td style=\"text-align: right;\">                  -0.058</td><td style=\"text-align: right;\">                                          0.000</td><td style=\"text-align: right;\">                                               0.000</td><td style=\"text-align: right;\">                                               0.000</td><td style=\"text-align: right;\">                                               0.000</td><td style=\"text-align: right;\">                                               0.000</td><td style=\"text-align: right;\">                                               0.000</td><td style=\"text-align: right;\">                                               0.000</td><td style=\"text-align: right;\">                                          0.020</td><td style=\"text-align: right;\">                         0.033</td><td style=\"text-align: right;\">                 0.000</td><td style=\"text-align: right;\">                                            0.000</td><td style=\"text-align: right;\">                                     0.003</td><td style=\"text-align: right;\">                                         0.015</td><td style=\"text-align: right;\">                        0.014</td><td style=\"text-align: right;\">                                               0.000</td><td style=\"text-align: right;\">                                             0.000</td><td style=\"text-align: right;\">                   0.000</td><td style=\"text-align: right;\">                              0.000</td><td style=\"text-align: right;\">                                               0.012</td><td style=\"text-align: right;\">                            0.000</td><td style=\"text-align: right;\">                                               0.000</td><td style=\"text-align: right;\">                                               0.000</td><td style=\"text-align: right;\">                       0.000</td><td style=\"text-align: right;\">                                               0.000</td><td style=\"text-align: right;\">           0.000</td><td style=\"text-align: right;\">                0.000</td><td style=\"text-align: right;\">                                        0.000</td><td style=\"text-align: right;\">                   0.005</td><td style=\"text-align: right;\">                                               0.000</td><td style=\"text-align: right;\">             0.008</td><td style=\"text-align: right;\">                       0.000</td><td style=\"text-align: right;\">                                               0.000</td><td style=\"text-align: right;\">                    0.000</td><td style=\"text-align: right;\">                                               0.004</td><td style=\"text-align: right;\">                0.000</td><td style=\"text-align: right;\">                                               0.000</td><td style=\"text-align: right;\">         0.000</td><td style=\"text-align: right;\">                                               0.000</td><td style=\"text-align: right;\">                                   0.000</td><td style=\"text-align: right;\">                                               0.000</td><td style=\"text-align: right;\">                           0.000</td><td style=\"text-align: right;\">                                         0.000</td><td style=\"text-align: right;\">                                            0.001</td><td style=\"text-align: right;\">                                               0.000</td><td style=\"text-align: right;\">                                        0.000</td><td style=\"text-align: right;\">                                  0.000</td><td style=\"text-align: right;\">                       0.000</td><td style=\"text-align: right;\">                 0.000</td><td style=\"text-align: right;\">                                               0.000</td><td style=\"text-align: right;\">                                  0.000</td><td style=\"text-align: right;\">                                               0.000</td><td style=\"text-align: right;\">                                               0.000</td><td style=\"text-align: right;\">                           0.000</td><td style=\"text-align: right;\">                                  0.000</td><td style=\"text-align: right;\">                                               0.000</td><td style=\"text-align: right;\">                                               0.000</td><td style=\"text-align: right;\">                                               0.000</td><td style=\"text-align: right;\">                                               0.000</td><td style=\"text-align: right;\">              0.000</td><td style=\"text-align: right;\">                                 0.000</td><td style=\"text-align: right;\">                          0.000</td><td style=\"text-align: right;\">        0.000</td><td style=\"text-align: right;\">                 0.000</td><td style=\"text-align: right;\">                                               0.000</td><td style=\"text-align: right;\">                                               0.000</td><td style=\"text-align: right;\">           0.000</td><td style=\"text-align: right;\">        0.000</td><td style=\"text-align: right;\">                0.000</td><td style=\"text-align: right;\">                                               0.000</td><td style=\"text-align: right;\">                                         0.000</td><td style=\"text-align: right;\">                                               0.000</td><td style=\"text-align: right;\">                      0.000</td><td style=\"text-align: right;\">                                               0.000</td><td style=\"text-align: right;\">                                  0.000</td><td style=\"text-align: right;\">                                               0.000</td><td style=\"text-align: right;\">                                               0.000</td><td style=\"text-align: right;\">                0.000</td><td style=\"text-align: right;\">                                        0.000</td><td style=\"text-align: right;\">                                       0.000</td><td style=\"text-align: right;\">                                               0.000</td><td style=\"text-align: right;\">                                               0.000</td><td style=\"text-align: right;\">                                               0.000</td><td style=\"text-align: right;\">                                     0.000</td><td style=\"text-align: right;\">                         0.000</td><td style=\"text-align: right;\">                   0.000</td><td style=\"text-align: right;\">                                               0.000</td><td style=\"text-align: right;\">                                               0.000</td><td style=\"text-align: right;\">                                               0.000</td><td style=\"text-align: right;\">                               0.000</td><td style=\"text-align: right;\">                                               0.000</td><td style=\"text-align: right;\">                                             0.000</td><td style=\"text-align: right;\">                                               0.000</td><td style=\"text-align: right;\">                                               0.000</td><td style=\"text-align: right;\">                                            0.000</td><td style=\"text-align: right;\">                                               0.000</td><td style=\"text-align: right;\">                                               0.000</td><td style=\"text-align: right;\">                                       0.000</td><td style=\"text-align: right;\">                                               0.000</td></tr>\n",
       "<tr><td>corrugated board box production                           </td><td>corrugated board box                              </td><td>RER       </td><td>kilogram</td><td style=\"text-align: right;\">  0.935</td><td style=\"text-align: right;\">                     0.144</td><td style=\"text-align: right;\">                       0.018</td><td style=\"text-align: right;\">                                   0.318</td><td style=\"text-align: right;\">                                             0.001</td><td style=\"text-align: right;\">                                               0.049</td><td style=\"text-align: right;\">                   0.025</td><td style=\"text-align: right;\">                                          0.067</td><td style=\"text-align: right;\">                                               0.000</td><td style=\"text-align: right;\">                                               0.073</td><td style=\"text-align: right;\">                                               0.071</td><td style=\"text-align: right;\">                                               0.000</td><td style=\"text-align: right;\">                                               0.000</td><td style=\"text-align: right;\">                                               0.000</td><td style=\"text-align: right;\">                                          0.000</td><td style=\"text-align: right;\">                         0.005</td><td style=\"text-align: right;\">                 0.052</td><td style=\"text-align: right;\">                                            0.000</td><td style=\"text-align: right;\">                                     0.043</td><td style=\"text-align: right;\">                                         0.012</td><td style=\"text-align: right;\">                        0.000</td><td style=\"text-align: right;\">                                               0.000</td><td style=\"text-align: right;\">                                             0.003</td><td style=\"text-align: right;\">                   0.014</td><td style=\"text-align: right;\">                              0.005</td><td style=\"text-align: right;\">                                               0.005</td><td style=\"text-align: right;\">                            0.003</td><td style=\"text-align: right;\">                                               0.028</td><td style=\"text-align: right;\">                                               0.000</td><td style=\"text-align: right;\">                       0.000</td><td style=\"text-align: right;\">                                               0.001</td><td style=\"text-align: right;\">           0.000</td><td style=\"text-align: right;\">                0.004</td><td style=\"text-align: right;\">                                        0.006</td><td style=\"text-align: right;\">                   0.000</td><td style=\"text-align: right;\">                                               0.003</td><td style=\"text-align: right;\">             0.004</td><td style=\"text-align: right;\">                       0.000</td><td style=\"text-align: right;\">                                               0.000</td><td style=\"text-align: right;\">                    0.001</td><td style=\"text-align: right;\">                                               0.000</td><td style=\"text-align: right;\">                0.002</td><td style=\"text-align: right;\">                                               0.001</td><td style=\"text-align: right;\">         0.001</td><td style=\"text-align: right;\">                                               0.005</td><td style=\"text-align: right;\">                                   0.000</td><td style=\"text-align: right;\">                                               0.005</td><td style=\"text-align: right;\">                           0.000</td><td style=\"text-align: right;\">                                         0.000</td><td style=\"text-align: right;\">                                            0.000</td><td style=\"text-align: right;\">                                               0.001</td><td style=\"text-align: right;\">                                        0.000</td><td style=\"text-align: right;\">                                  0.000</td><td style=\"text-align: right;\">                       0.000</td><td style=\"text-align: right;\">                 0.001</td><td style=\"text-align: right;\">                                               0.001</td><td style=\"text-align: right;\">                                  0.000</td><td style=\"text-align: right;\">                                               0.001</td><td style=\"text-align: right;\">                                               0.000</td><td style=\"text-align: right;\">                           0.001</td><td style=\"text-align: right;\">                                  0.000</td><td style=\"text-align: right;\">                                               0.000</td><td style=\"text-align: right;\">                                               0.000</td><td style=\"text-align: right;\">                                               0.000</td><td style=\"text-align: right;\">                                               0.000</td><td style=\"text-align: right;\">              0.000</td><td style=\"text-align: right;\">                                 0.000</td><td style=\"text-align: right;\">                          0.000</td><td style=\"text-align: right;\">        0.000</td><td style=\"text-align: right;\">                 0.000</td><td style=\"text-align: right;\">                                               0.000</td><td style=\"text-align: right;\">                                               0.000</td><td style=\"text-align: right;\">           0.000</td><td style=\"text-align: right;\">        0.000</td><td style=\"text-align: right;\">                0.000</td><td style=\"text-align: right;\">                                               0.000</td><td style=\"text-align: right;\">                                         0.000</td><td style=\"text-align: right;\">                                               0.000</td><td style=\"text-align: right;\">                      0.000</td><td style=\"text-align: right;\">                                               0.000</td><td style=\"text-align: right;\">                                  0.000</td><td style=\"text-align: right;\">                                               0.000</td><td style=\"text-align: right;\">                                               0.000</td><td style=\"text-align: right;\">                0.000</td><td style=\"text-align: right;\">                                        0.000</td><td style=\"text-align: right;\">                                       0.000</td><td style=\"text-align: right;\">                                               0.000</td><td style=\"text-align: right;\">                                               0.000</td><td style=\"text-align: right;\">                                               0.000</td><td style=\"text-align: right;\">                                     0.000</td><td style=\"text-align: right;\">                         0.000</td><td style=\"text-align: right;\">                   0.000</td><td style=\"text-align: right;\">                                               0.000</td><td style=\"text-align: right;\">                                               0.000</td><td style=\"text-align: right;\">                                               0.000</td><td style=\"text-align: right;\">                               0.000</td><td style=\"text-align: right;\">                                               0.000</td><td style=\"text-align: right;\">                                             0.000</td><td style=\"text-align: right;\">                                               0.000</td><td style=\"text-align: right;\">                                               0.000</td><td style=\"text-align: right;\">                                            0.000</td><td style=\"text-align: right;\">                                               0.000</td><td style=\"text-align: right;\">                                               0.000</td><td style=\"text-align: right;\">                                       0.000</td><td style=\"text-align: right;\">                                               0.000</td></tr>\n",
       "<tr><td>corrugated board box production                           </td><td>corrugated board box                              </td><td>RoW       </td><td>kilogram</td><td style=\"text-align: right;\">  1.005</td><td style=\"text-align: right;\">                     0.199</td><td style=\"text-align: right;\">                       0.028</td><td style=\"text-align: right;\">                                   0.293</td><td style=\"text-align: right;\">                                             0.001</td><td style=\"text-align: right;\">                                               0.043</td><td style=\"text-align: right;\">                   0.035</td><td style=\"text-align: right;\">                                          0.063</td><td style=\"text-align: right;\">                                               0.000</td><td style=\"text-align: right;\">                                               0.069</td><td style=\"text-align: right;\">                                               0.066</td><td style=\"text-align: right;\">                                               0.000</td><td style=\"text-align: right;\">                                               0.000</td><td style=\"text-align: right;\">                                               0.000</td><td style=\"text-align: right;\">                                          0.000</td><td style=\"text-align: right;\">                         0.005</td><td style=\"text-align: right;\">                 0.053</td><td style=\"text-align: right;\">                                            0.000</td><td style=\"text-align: right;\">                                     0.032</td><td style=\"text-align: right;\">                                         0.012</td><td style=\"text-align: right;\">                        0.000</td><td style=\"text-align: right;\">                                               0.000</td><td style=\"text-align: right;\">                                             0.002</td><td style=\"text-align: right;\">                   0.011</td><td style=\"text-align: right;\">                              0.011</td><td style=\"text-align: right;\">                                               0.005</td><td style=\"text-align: right;\">                            0.002</td><td style=\"text-align: right;\">                                               0.000</td><td style=\"text-align: right;\">                                               0.000</td><td style=\"text-align: right;\">                       0.000</td><td style=\"text-align: right;\">                                               0.001</td><td style=\"text-align: right;\">           0.000</td><td style=\"text-align: right;\">                0.004</td><td style=\"text-align: right;\">                                        0.017</td><td style=\"text-align: right;\">                   0.000</td><td style=\"text-align: right;\">                                               0.003</td><td style=\"text-align: right;\">             0.004</td><td style=\"text-align: right;\">                       0.000</td><td style=\"text-align: right;\">                                               0.000</td><td style=\"text-align: right;\">                    0.001</td><td style=\"text-align: right;\">                                               0.000</td><td style=\"text-align: right;\">                0.003</td><td style=\"text-align: right;\">                                               0.001</td><td style=\"text-align: right;\">         0.000</td><td style=\"text-align: right;\">                                               0.004</td><td style=\"text-align: right;\">                                   0.000</td><td style=\"text-align: right;\">                                               0.005</td><td style=\"text-align: right;\">                           0.000</td><td style=\"text-align: right;\">                                         0.000</td><td style=\"text-align: right;\">                                            0.000</td><td style=\"text-align: right;\">                                               0.001</td><td style=\"text-align: right;\">                                        0.000</td><td style=\"text-align: right;\">                                  0.000</td><td style=\"text-align: right;\">                       0.000</td><td style=\"text-align: right;\">                 0.000</td><td style=\"text-align: right;\">                                               0.001</td><td style=\"text-align: right;\">                                  0.000</td><td style=\"text-align: right;\">                                               0.001</td><td style=\"text-align: right;\">                                               0.000</td><td style=\"text-align: right;\">                           0.001</td><td style=\"text-align: right;\">                                  0.000</td><td style=\"text-align: right;\">                                               0.000</td><td style=\"text-align: right;\">                                               0.000</td><td style=\"text-align: right;\">                                               0.000</td><td style=\"text-align: right;\">                                               0.000</td><td style=\"text-align: right;\">              0.000</td><td style=\"text-align: right;\">                                 0.000</td><td style=\"text-align: right;\">                          0.000</td><td style=\"text-align: right;\">        0.000</td><td style=\"text-align: right;\">                 0.000</td><td style=\"text-align: right;\">                                               0.000</td><td style=\"text-align: right;\">                                               0.000</td><td style=\"text-align: right;\">           0.000</td><td style=\"text-align: right;\">        0.000</td><td style=\"text-align: right;\">                0.000</td><td style=\"text-align: right;\">                                               0.000</td><td style=\"text-align: right;\">                                         0.000</td><td style=\"text-align: right;\">                                               0.000</td><td style=\"text-align: right;\">                      0.000</td><td style=\"text-align: right;\">                                               0.000</td><td style=\"text-align: right;\">                                  0.000</td><td style=\"text-align: right;\">                                               0.000</td><td style=\"text-align: right;\">                                               0.000</td><td style=\"text-align: right;\">                0.000</td><td style=\"text-align: right;\">                                        0.000</td><td style=\"text-align: right;\">                                       0.000</td><td style=\"text-align: right;\">                                               0.000</td><td style=\"text-align: right;\">                                               0.000</td><td style=\"text-align: right;\">                                               0.000</td><td style=\"text-align: right;\">                                     0.000</td><td style=\"text-align: right;\">                         0.000</td><td style=\"text-align: right;\">                   0.000</td><td style=\"text-align: right;\">                                               0.000</td><td style=\"text-align: right;\">                                               0.000</td><td style=\"text-align: right;\">                                               0.000</td><td style=\"text-align: right;\">                               0.000</td><td style=\"text-align: right;\">                                               0.000</td><td style=\"text-align: right;\">                                             0.000</td><td style=\"text-align: right;\">                                               0.000</td><td style=\"text-align: right;\">                                               0.000</td><td style=\"text-align: right;\">                                            0.000</td><td style=\"text-align: right;\">                                               0.000</td><td style=\"text-align: right;\">                                               0.000</td><td style=\"text-align: right;\">                                       0.000</td><td style=\"text-align: right;\">                                               0.000</td></tr>\n",
       "<tr><td>folding boxboard carton production                        </td><td>folding boxboard carton                           </td><td>RER       </td><td>kilogram</td><td style=\"text-align: right;\">  1.778</td><td style=\"text-align: right;\">                     0.482</td><td style=\"text-align: right;\">                       0.022</td><td style=\"text-align: right;\">                                   0.000</td><td style=\"text-align: right;\">                                             0.014</td><td style=\"text-align: right;\">                                               0.165</td><td style=\"text-align: right;\">                   0.000</td><td style=\"text-align: right;\">                                          0.002</td><td style=\"text-align: right;\">                                               0.000</td><td style=\"text-align: right;\">                                               0.000</td><td style=\"text-align: right;\">                                               0.018</td><td style=\"text-align: right;\">                                               0.018</td><td style=\"text-align: right;\">                                               0.000</td><td style=\"text-align: right;\">                                               0.038</td><td style=\"text-align: right;\">                                          0.000</td><td style=\"text-align: right;\">                         0.002</td><td style=\"text-align: right;\">                 0.001</td><td style=\"text-align: right;\">                                            0.000</td><td style=\"text-align: right;\">                                     0.012</td><td style=\"text-align: right;\">                                         0.011</td><td style=\"text-align: right;\">                        0.000</td><td style=\"text-align: right;\">                                               0.000</td><td style=\"text-align: right;\">                                             0.040</td><td style=\"text-align: right;\">                   0.010</td><td style=\"text-align: right;\">                              0.007</td><td style=\"text-align: right;\">                                               0.006</td><td style=\"text-align: right;\">                            0.028</td><td style=\"text-align: right;\">                                               0.001</td><td style=\"text-align: right;\">                                               0.023</td><td style=\"text-align: right;\">                       0.000</td><td style=\"text-align: right;\">                                               0.021</td><td style=\"text-align: right;\">           0.000</td><td style=\"text-align: right;\">                0.009</td><td style=\"text-align: right;\">                                        0.007</td><td style=\"text-align: right;\">                   0.000</td><td style=\"text-align: right;\">                                               0.007</td><td style=\"text-align: right;\">             0.000</td><td style=\"text-align: right;\">                       0.008</td><td style=\"text-align: right;\">                                               0.000</td><td style=\"text-align: right;\">                    0.001</td><td style=\"text-align: right;\">                                               0.000</td><td style=\"text-align: right;\">                0.005</td><td style=\"text-align: right;\">                                               0.007</td><td style=\"text-align: right;\">         0.000</td><td style=\"text-align: right;\">                                               0.000</td><td style=\"text-align: right;\">                                   0.006</td><td style=\"text-align: right;\">                                               0.002</td><td style=\"text-align: right;\">                           0.000</td><td style=\"text-align: right;\">                                         0.004</td><td style=\"text-align: right;\">                                            0.000</td><td style=\"text-align: right;\">                                               0.003</td><td style=\"text-align: right;\">                                        0.003</td><td style=\"text-align: right;\">                                  0.000</td><td style=\"text-align: right;\">                       0.002</td><td style=\"text-align: right;\">                 0.000</td><td style=\"text-align: right;\">                                               0.000</td><td style=\"text-align: right;\">                                  0.000</td><td style=\"text-align: right;\">                                               0.000</td><td style=\"text-align: right;\">                                               0.000</td><td style=\"text-align: right;\">                           0.001</td><td style=\"text-align: right;\">                                  0.000</td><td style=\"text-align: right;\">                                               0.000</td><td style=\"text-align: right;\">                                               0.000</td><td style=\"text-align: right;\">                                               0.000</td><td style=\"text-align: right;\">                                               0.000</td><td style=\"text-align: right;\">              0.000</td><td style=\"text-align: right;\">                                 0.000</td><td style=\"text-align: right;\">                          0.000</td><td style=\"text-align: right;\">        0.000</td><td style=\"text-align: right;\">                 0.000</td><td style=\"text-align: right;\">                                               0.000</td><td style=\"text-align: right;\">                                               0.001</td><td style=\"text-align: right;\">           0.000</td><td style=\"text-align: right;\">        0.000</td><td style=\"text-align: right;\">                0.000</td><td style=\"text-align: right;\">                                               0.000</td><td style=\"text-align: right;\">                                         0.000</td><td style=\"text-align: right;\">                                               0.000</td><td style=\"text-align: right;\">                      0.000</td><td style=\"text-align: right;\">                                               0.000</td><td style=\"text-align: right;\">                                  0.000</td><td style=\"text-align: right;\">                                               0.000</td><td style=\"text-align: right;\">                                               0.000</td><td style=\"text-align: right;\">                0.000</td><td style=\"text-align: right;\">                                        0.000</td><td style=\"text-align: right;\">                                       0.000</td><td style=\"text-align: right;\">                                               0.000</td><td style=\"text-align: right;\">                                               0.000</td><td style=\"text-align: right;\">                                               0.000</td><td style=\"text-align: right;\">                                     0.000</td><td style=\"text-align: right;\">                         0.000</td><td style=\"text-align: right;\">                   0.000</td><td style=\"text-align: right;\">                                               0.000</td><td style=\"text-align: right;\">                                               0.000</td><td style=\"text-align: right;\">                                               0.000</td><td style=\"text-align: right;\">                               0.000</td><td style=\"text-align: right;\">                                               0.000</td><td style=\"text-align: right;\">                                             0.000</td><td style=\"text-align: right;\">                                               0.000</td><td style=\"text-align: right;\">                                               0.000</td><td style=\"text-align: right;\">                                            0.000</td><td style=\"text-align: right;\">                                               0.000</td><td style=\"text-align: right;\">                                               0.000</td><td style=\"text-align: right;\">                                       0.000</td><td style=\"text-align: right;\">                                               0.000</td></tr>\n",
       "<tr><td>folding boxboard carton production                        </td><td>folding boxboard carton                           </td><td>RoW       </td><td>kilogram</td><td style=\"text-align: right;\">  2.361</td><td style=\"text-align: right;\">                     0.575</td><td style=\"text-align: right;\">                       0.016</td><td style=\"text-align: right;\">                                   0.000</td><td style=\"text-align: right;\">                                             0.014</td><td style=\"text-align: right;\">                                               0.124</td><td style=\"text-align: right;\">                   0.000</td><td style=\"text-align: right;\">                                          0.002</td><td style=\"text-align: right;\">                                               0.000</td><td style=\"text-align: right;\">                                               0.000</td><td style=\"text-align: right;\">                                               0.014</td><td style=\"text-align: right;\">                                               0.012</td><td style=\"text-align: right;\">                                               0.000</td><td style=\"text-align: right;\">                                               0.068</td><td style=\"text-align: right;\">                                          0.000</td><td style=\"text-align: right;\">                         0.001</td><td style=\"text-align: right;\">                 0.001</td><td style=\"text-align: right;\">                                            0.000</td><td style=\"text-align: right;\">                                     0.009</td><td style=\"text-align: right;\">                                         0.008</td><td style=\"text-align: right;\">                        0.000</td><td style=\"text-align: right;\">                                               0.000</td><td style=\"text-align: right;\">                                             0.032</td><td style=\"text-align: right;\">                   0.004</td><td style=\"text-align: right;\">                              0.002</td><td style=\"text-align: right;\">                                               0.002</td><td style=\"text-align: right;\">                            0.021</td><td style=\"text-align: right;\">                                               0.001</td><td style=\"text-align: right;\">                                               0.017</td><td style=\"text-align: right;\">                       0.000</td><td style=\"text-align: right;\">                                               0.017</td><td style=\"text-align: right;\">           0.000</td><td style=\"text-align: right;\">                0.007</td><td style=\"text-align: right;\">                                        0.006</td><td style=\"text-align: right;\">                   0.000</td><td style=\"text-align: right;\">                                               0.004</td><td style=\"text-align: right;\">             0.000</td><td style=\"text-align: right;\">                       0.013</td><td style=\"text-align: right;\">                                               0.000</td><td style=\"text-align: right;\">                    0.000</td><td style=\"text-align: right;\">                                               0.000</td><td style=\"text-align: right;\">                0.004</td><td style=\"text-align: right;\">                                               0.005</td><td style=\"text-align: right;\">         0.000</td><td style=\"text-align: right;\">                                               0.000</td><td style=\"text-align: right;\">                                   0.005</td><td style=\"text-align: right;\">                                               0.002</td><td style=\"text-align: right;\">                           0.000</td><td style=\"text-align: right;\">                                         0.003</td><td style=\"text-align: right;\">                                            0.000</td><td style=\"text-align: right;\">                                               0.002</td><td style=\"text-align: right;\">                                        0.002</td><td style=\"text-align: right;\">                                  0.000</td><td style=\"text-align: right;\">                       0.002</td><td style=\"text-align: right;\">                 0.000</td><td style=\"text-align: right;\">                                               0.000</td><td style=\"text-align: right;\">                                  0.000</td><td style=\"text-align: right;\">                                               0.000</td><td style=\"text-align: right;\">                                               0.000</td><td style=\"text-align: right;\">                           0.001</td><td style=\"text-align: right;\">                                  0.000</td><td style=\"text-align: right;\">                                               0.000</td><td style=\"text-align: right;\">                                               0.000</td><td style=\"text-align: right;\">                                               0.000</td><td style=\"text-align: right;\">                                               0.000</td><td style=\"text-align: right;\">              0.000</td><td style=\"text-align: right;\">                                 0.000</td><td style=\"text-align: right;\">                          0.000</td><td style=\"text-align: right;\">        0.000</td><td style=\"text-align: right;\">                 0.000</td><td style=\"text-align: right;\">                                               0.000</td><td style=\"text-align: right;\">                                               0.000</td><td style=\"text-align: right;\">           0.000</td><td style=\"text-align: right;\">        0.000</td><td style=\"text-align: right;\">                0.000</td><td style=\"text-align: right;\">                                               0.000</td><td style=\"text-align: right;\">                                         0.000</td><td style=\"text-align: right;\">                                               0.000</td><td style=\"text-align: right;\">                      0.000</td><td style=\"text-align: right;\">                                               0.000</td><td style=\"text-align: right;\">                                  0.000</td><td style=\"text-align: right;\">                                               0.000</td><td style=\"text-align: right;\">                                               0.000</td><td style=\"text-align: right;\">                0.000</td><td style=\"text-align: right;\">                                        0.000</td><td style=\"text-align: right;\">                                       0.000</td><td style=\"text-align: right;\">                                               0.000</td><td style=\"text-align: right;\">                                               0.000</td><td style=\"text-align: right;\">                                               0.000</td><td style=\"text-align: right;\">                                     0.000</td><td style=\"text-align: right;\">                         0.000</td><td style=\"text-align: right;\">                   0.000</td><td style=\"text-align: right;\">                                               0.000</td><td style=\"text-align: right;\">                                               0.000</td><td style=\"text-align: right;\">                                               0.000</td><td style=\"text-align: right;\">                               0.000</td><td style=\"text-align: right;\">                                               0.000</td><td style=\"text-align: right;\">                                             0.000</td><td style=\"text-align: right;\">                                               0.000</td><td style=\"text-align: right;\">                                               0.000</td><td style=\"text-align: right;\">                                            0.000</td><td style=\"text-align: right;\">                                               0.000</td><td style=\"text-align: right;\">                                               0.000</td><td style=\"text-align: right;\">                                       0.000</td><td style=\"text-align: right;\">                                               0.000</td></tr>\n",
       "</tbody>\n",
       "</table>"
      ],
      "text/plain": [
       "'<table>\\n<thead>\\n<tr><th>activity                                                  </th><th>product                                           </th><th>location  </th><th>unit    </th><th style=\"text-align: right;\">  total</th><th style=\"text-align: right;\">  17100: Electrical energy</th><th style=\"text-align: right;\">  17300: Steam and hot water</th><th style=\"text-align: right;\">  32151: Corrugated paper and paperboard</th><th style=\"text-align: right;\">  35110: Paints and varnishes and related products</th><th style=\"text-align: right;\">  32153: Cartons, boxes, cases, record sleeves and o</th><th style=\"text-align: right;\">  39910: Municipal waste</th><th style=\"text-align: right;\">  39240: Waste and scrap of paper or paperboard</th><th style=\"text-align: right;\">  35321: Soap; organic surface-active products and p</th><th style=\"text-align: right;\">  69120: Gas distribution through mains (on own acco</th><th style=\"text-align: right;\">  23220: Starches; inulin; wheat gluten; dextrins an</th><th style=\"text-align: right;\">  12020: Natural gas, liquefied or in the gaseous st</th><th style=\"text-align: right;\">  32113: Mechanical wood pulp; semi-chemical wood pu</th><th style=\"text-align: right;\">  32112: Chemical wood pulp, other than dissolving g</th><th style=\"text-align: right;\">  34710: Polymers of ethylene, in primary forms</th><th style=\"text-align: right;\">  341: Basic organic chemicals</th><th style=\"text-align: right;\">  39920: Sewage sludge</th><th style=\"text-align: right;\">  33421: Ethylene, propylene, butylene, butadiene</th><th style=\"text-align: right;\">  6511: Road transport services of freight</th><th style=\"text-align: right;\">  53269: Other constructions for manufacturing</th><th style=\"text-align: right;\">  21611: Soya bean oil, crude</th><th style=\"text-align: right;\">  333: Petroleum oils and oils obtained from bitumin</th><th style=\"text-align: right;\">  37420: Quicklime, slaked lime and hydraulic lime</th><th style=\"text-align: right;\">  031: Wood in the rough</th><th style=\"text-align: right;\">  31230: Wood in chips or particles</th><th style=\"text-align: right;\">  34231: Chemical elements n.e.c.; inorganic acids e</th><th style=\"text-align: right;\">  321: Pulp, paper and paperboard</th><th style=\"text-align: right;\">  65229: Other inland water transport services of fr</th><th style=\"text-align: right;\">  34790: Other plastics in primary forms; ion exchan</th><th style=\"text-align: right;\">  01122: Maize (corn), other</th><th style=\"text-align: right;\">  34210: Hydrogen, nitrogen, oxygen, carbon dioxide </th><th style=\"text-align: right;\">  531: Buildings</th><th style=\"text-align: right;\">  35130: Printing ink</th><th style=\"text-align: right;\">  6512: Railway transport services of freight</th><th style=\"text-align: right;\">  21651: Palm oil, crude</th><th style=\"text-align: right;\">  34240: Phosphates of triammonium; salts and peroxy</th><th style=\"text-align: right;\">  11010: Hard coal</th><th style=\"text-align: right;\">  41431: Unwrought aluminium</th><th style=\"text-align: right;\">  41122: Alloy steel in ingots or other primary form</th><th style=\"text-align: right;\">  33370: Fuel oils n.e.c.</th><th style=\"text-align: right;\">  34540: Oils and other products of the distillation</th><th style=\"text-align: right;\">  34: Basic chemicals</th><th style=\"text-align: right;\">  34280: Hydrogen peroxide; phosphides; carbides; hy</th><th style=\"text-align: right;\">  15400: Clays</th><th style=\"text-align: right;\">  11040: Brown coal briquettes and similar solid fue</th><th style=\"text-align: right;\">  3928: Sawdust and wood waste and scrap</th><th style=\"text-align: right;\">  36330: Plates, sheets, film, foil and strip, of pl</th><th style=\"text-align: right;\">  543: Site preparation services</th><th style=\"text-align: right;\">  39283: Non-agglomerated wood waste and scrap</th><th style=\"text-align: right;\">  65119: Other road transport services of freight</th><th style=\"text-align: right;\">  34270: Cyanides, cyanide oxides and complex cyanid</th><th style=\"text-align: right;\">  39270: Waste, parings and scrap of plastics</th><th style=\"text-align: right;\">  342: Basic inorganic chemicals n.e.c.</th><th style=\"text-align: right;\">  39990: Other wastes n.e.c.</th><th style=\"text-align: right;\">  39: Wastes or scraps</th><th style=\"text-align: right;\">  353: Soap, cleaning preparations, perfumes and toi</th><th style=\"text-align: right;\">  53252: Local cables and related works</th><th style=\"text-align: right;\">  34663: Herbicides, anti-sprouting products and pla</th><th style=\"text-align: right;\">  4121: Flat-rolled products of steel, not further w</th><th style=\"text-align: right;\">  347: Plastics in primary forms</th><th style=\"text-align: right;\">  161: Chemical and fertilizer minerals</th><th style=\"text-align: right;\">  34139: Other alcohols, phenols, phenol-alcohols, a</th><th style=\"text-align: right;\">  482: Instruments and appliances for measuring, che</th><th style=\"text-align: right;\">  3466: Insecticides, fungicides, herbicides and dis</th><th style=\"text-align: right;\">  65213: Coastal and transoceanic water transport se</th><th style=\"text-align: right;\">  33380: Lubricants</th><th style=\"text-align: right;\">  53290: Other civil engineering works</th><th style=\"text-align: right;\">  374: Plaster, lime and cement</th><th style=\"text-align: right;\">  34611: Urea</th><th style=\"text-align: right;\">  18000: Natural water</th><th style=\"text-align: right;\">  14290: Other non-ferrous metal ores and concentrat</th><th style=\"text-align: right;\">  4153: Semi-finished products of aluminium or alumi</th><th style=\"text-align: right;\">  33360: Gas oil</th><th style=\"text-align: right;\">  11050: Peat</th><th style=\"text-align: right;\">  53262: Power plants</th><th style=\"text-align: right;\">  65219: Other coastal and transoceanic water transp</th><th style=\"text-align: right;\">  34720: Polymers of styrene, in primary forms</th><th style=\"text-align: right;\">  334: Petroleum gases and other gaseous hydrocarbon</th><th style=\"text-align: right;\">  34651: Ammonia, anhydrous</th><th style=\"text-align: right;\">  266: Woven fabrics (except special fabrics) of cot</th><th style=\"text-align: right;\">  35499: Other chemical products n.e.c.</th><th style=\"text-align: right;\">  34250: Salts of oxometallic or peroxometallic acid</th><th style=\"text-align: right;\">  43420: Industrial or laboratory furnaces and ovens</th><th style=\"text-align: right;\">  39281: Wood pellets</th><th style=\"text-align: right;\">  431: Engines and turbines and parts thereof</th><th style=\"text-align: right;\">  391: Wastes from food and tobacco industry</th><th style=\"text-align: right;\">  34520: Sulphur, except sublimed sulphur, precipita</th><th style=\"text-align: right;\">  461: Electric motors, generators and transformers,</th><th style=\"text-align: right;\">  34140: Carboxylic acids and their anhydrides, hali</th><th style=\"text-align: right;\">  53253: Sewage and water treatment plants</th><th style=\"text-align: right;\">  16390: Other minerals n.e.c.</th><th style=\"text-align: right;\">  34232: Phosphoric acid</th><th style=\"text-align: right;\">  34170: Ethers, alcohol peroxides, ether peroxides,</th><th style=\"text-align: right;\">  34615: Mixtures of ammonium nitrate with calcium c</th><th style=\"text-align: right;\">  42210: Reservoirs, tanks, vats and similar contain</th><th style=\"text-align: right;\">  34653: Ammonium chloride; nitrites</th><th style=\"text-align: right;\">  34220: Zinc oxide; zinc peroxide; chromium oxides </th><th style=\"text-align: right;\">  39950: Wastes from chemical or allied industries</th><th style=\"text-align: right;\">  64119: Other land transportation services of passe</th><th style=\"text-align: right;\">  34150: Amine-function compounds; oxygen-function a</th><th style=\"text-align: right;\">  16200: Salt and pure sodium chloride; sea water</th><th style=\"text-align: right;\">  39310: Slag, dross, scalings and other waste from </th><th style=\"text-align: right;\">  31700: Packing cases, boxes, crates, drums and sim</th><th style=\"text-align: right;\">  6424: Air transport services of passengers</th><th style=\"text-align: right;\">  94231: General waste collection services, resident</th></tr>\\n</thead>\\n<tbody>\\n<tr><td>carton board box production service, with gravure printing</td><td>carton board box production, with gravure printing</td><td>CH        </td><td>kilogram</td><td style=\"text-align: right;\">  0.253</td><td style=\"text-align: right;\">                     0.276</td><td style=\"text-align: right;\">                       0.033</td><td style=\"text-align: right;\">                                   0.000</td><td style=\"text-align: right;\">                                             0.280</td><td style=\"text-align: right;\">                                               0.000</td><td style=\"text-align: right;\">                   0.097</td><td style=\"text-align: right;\">                                          0.000</td><td style=\"text-align: right;\">                                               0.000</td><td style=\"text-align: right;\">                                               0.000</td><td style=\"text-align: right;\">                                               0.000</td><td style=\"text-align: right;\">                                               0.000</td><td style=\"text-align: right;\">                                               0.000</td><td style=\"text-align: right;\">                                               0.000</td><td style=\"text-align: right;\">                                          0.058</td><td style=\"text-align: right;\">                         0.056</td><td style=\"text-align: right;\">                 0.000</td><td style=\"text-align: right;\">                                            0.000</td><td style=\"text-align: right;\">                                     0.003</td><td style=\"text-align: right;\">                                         0.007</td><td style=\"text-align: right;\">                        0.041</td><td style=\"text-align: right;\">                                               0.040</td><td style=\"text-align: right;\">                                             0.001</td><td style=\"text-align: right;\">                   0.000</td><td style=\"text-align: right;\">                              0.000</td><td style=\"text-align: right;\">                                               0.035</td><td style=\"text-align: right;\">                            0.000</td><td style=\"text-align: right;\">                                               0.000</td><td style=\"text-align: right;\">                                               0.000</td><td style=\"text-align: right;\">                       0.000</td><td style=\"text-align: right;\">                                               0.000</td><td style=\"text-align: right;\">           0.021</td><td style=\"text-align: right;\">                0.000</td><td style=\"text-align: right;\">                                        0.000</td><td style=\"text-align: right;\">                   0.016</td><td style=\"text-align: right;\">                                               0.000</td><td style=\"text-align: right;\">             0.000</td><td style=\"text-align: right;\">                       0.000</td><td style=\"text-align: right;\">                                               0.011</td><td style=\"text-align: right;\">                    0.000</td><td style=\"text-align: right;\">                                               0.010</td><td style=\"text-align: right;\">                0.000</td><td style=\"text-align: right;\">                                               0.000</td><td style=\"text-align: right;\">         0.000</td><td style=\"text-align: right;\">                                               0.000</td><td style=\"text-align: right;\">                                   0.000</td><td style=\"text-align: right;\">                                               0.000</td><td style=\"text-align: right;\">                           0.000</td><td style=\"text-align: right;\">                                         0.000</td><td style=\"text-align: right;\">                                            0.000</td><td style=\"text-align: right;\">                                               0.000</td><td style=\"text-align: right;\">                                        0.000</td><td style=\"text-align: right;\">                                  0.000</td><td style=\"text-align: right;\">                       0.000</td><td style=\"text-align: right;\">                 0.000</td><td style=\"text-align: right;\">                                               0.000</td><td style=\"text-align: right;\">                                  0.001</td><td style=\"text-align: right;\">                                               0.000</td><td style=\"text-align: right;\">                                               0.001</td><td style=\"text-align: right;\">                           0.000</td><td style=\"text-align: right;\">                                  0.000</td><td style=\"text-align: right;\">                                               0.000</td><td style=\"text-align: right;\">                                               0.001</td><td style=\"text-align: right;\">                                               0.000</td><td style=\"text-align: right;\">                                               0.000</td><td style=\"text-align: right;\">              0.000</td><td style=\"text-align: right;\">                                 0.001</td><td style=\"text-align: right;\">                          0.001</td><td style=\"text-align: right;\">        0.000</td><td style=\"text-align: right;\">                 0.000</td><td style=\"text-align: right;\">                                               0.000</td><td style=\"text-align: right;\">                                               0.000</td><td style=\"text-align: right;\">           0.000</td><td style=\"text-align: right;\">        0.000</td><td style=\"text-align: right;\">                0.000</td><td style=\"text-align: right;\">                                               0.000</td><td style=\"text-align: right;\">                                         0.000</td><td style=\"text-align: right;\">                                               0.000</td><td style=\"text-align: right;\">                      0.000</td><td style=\"text-align: right;\">                                               0.000</td><td style=\"text-align: right;\">                                  0.000</td><td style=\"text-align: right;\">                                               0.000</td><td style=\"text-align: right;\">                                               0.000</td><td style=\"text-align: right;\">                0.000</td><td style=\"text-align: right;\">                                        0.000</td><td style=\"text-align: right;\">                                       0.000</td><td style=\"text-align: right;\">                                               0.000</td><td style=\"text-align: right;\">                                               0.000</td><td style=\"text-align: right;\">                                               0.000</td><td style=\"text-align: right;\">                                     0.000</td><td style=\"text-align: right;\">                         0.000</td><td style=\"text-align: right;\">                   0.000</td><td style=\"text-align: right;\">                                               0.000</td><td style=\"text-align: right;\">                                               0.000</td><td style=\"text-align: right;\">                                               0.000</td><td style=\"text-align: right;\">                               0.000</td><td style=\"text-align: right;\">                                               0.000</td><td style=\"text-align: right;\">                                             0.000</td><td style=\"text-align: right;\">                                               0.000</td><td style=\"text-align: right;\">                                               0.000</td><td style=\"text-align: right;\">                                            0.000</td><td style=\"text-align: right;\">                                               0.000</td><td style=\"text-align: right;\">                                               0.000</td><td style=\"text-align: right;\">                                       0.000</td><td style=\"text-align: right;\">                                              -0.001</td></tr>\\n<tr><td>carton board box production service, with gravure printing</td><td>carton board box production, with gravure printing</td><td>CA-QC     </td><td>kilogram</td><td style=\"text-align: right;\">  0.259</td><td style=\"text-align: right;\">                     0.131</td><td style=\"text-align: right;\">                       0.143</td><td style=\"text-align: right;\">                                   0.000</td><td style=\"text-align: right;\">                                             0.281</td><td style=\"text-align: right;\">                                               0.000</td><td style=\"text-align: right;\">                   0.124</td><td style=\"text-align: right;\">                                          0.000</td><td style=\"text-align: right;\">                                               0.000</td><td style=\"text-align: right;\">                                               0.000</td><td style=\"text-align: right;\">                                               0.000</td><td style=\"text-align: right;\">                                               0.000</td><td style=\"text-align: right;\">                                               0.000</td><td style=\"text-align: right;\">                                               0.000</td><td style=\"text-align: right;\">                                          0.056</td><td style=\"text-align: right;\">                         0.055</td><td style=\"text-align: right;\">                 0.000</td><td style=\"text-align: right;\">                                            0.000</td><td style=\"text-align: right;\">                                     0.007</td><td style=\"text-align: right;\">                                         0.042</td><td style=\"text-align: right;\">                        0.040</td><td style=\"text-align: right;\">                                               0.039</td><td style=\"text-align: right;\">                                             0.000</td><td style=\"text-align: right;\">                   0.000</td><td style=\"text-align: right;\">                              0.000</td><td style=\"text-align: right;\">                                               0.033</td><td style=\"text-align: right;\">                            0.000</td><td style=\"text-align: right;\">                                               0.000</td><td style=\"text-align: right;\">                                               0.000</td><td style=\"text-align: right;\">                       0.000</td><td style=\"text-align: right;\">                                               0.000</td><td style=\"text-align: right;\">           0.000</td><td style=\"text-align: right;\">                0.000</td><td style=\"text-align: right;\">                                        0.001</td><td style=\"text-align: right;\">                   0.016</td><td style=\"text-align: right;\">                                               0.000</td><td style=\"text-align: right;\">             0.007</td><td style=\"text-align: right;\">                       0.000</td><td style=\"text-align: right;\">                                               0.000</td><td style=\"text-align: right;\">                    0.000</td><td style=\"text-align: right;\">                                               0.010</td><td style=\"text-align: right;\">                0.000</td><td style=\"text-align: right;\">                                               0.000</td><td style=\"text-align: right;\">         0.000</td><td style=\"text-align: right;\">                                               0.000</td><td style=\"text-align: right;\">                                   0.000</td><td style=\"text-align: right;\">                                               0.000</td><td style=\"text-align: right;\">                           0.000</td><td style=\"text-align: right;\">                                         0.000</td><td style=\"text-align: right;\">                                            0.003</td><td style=\"text-align: right;\">                                               0.000</td><td style=\"text-align: right;\">                                        0.000</td><td style=\"text-align: right;\">                                  0.000</td><td style=\"text-align: right;\">                       0.000</td><td style=\"text-align: right;\">                 0.001</td><td style=\"text-align: right;\">                                               0.000</td><td style=\"text-align: right;\">                                  0.000</td><td style=\"text-align: right;\">                                               0.000</td><td style=\"text-align: right;\">                                               0.000</td><td style=\"text-align: right;\">                           0.000</td><td style=\"text-align: right;\">                                  0.001</td><td style=\"text-align: right;\">                                               0.000</td><td style=\"text-align: right;\">                                               0.000</td><td style=\"text-align: right;\">                                               0.000</td><td style=\"text-align: right;\">                                               0.000</td><td style=\"text-align: right;\">              0.000</td><td style=\"text-align: right;\">                                 0.001</td><td style=\"text-align: right;\">                          0.000</td><td style=\"text-align: right;\">        0.000</td><td style=\"text-align: right;\">                 0.000</td><td style=\"text-align: right;\">                                               0.000</td><td style=\"text-align: right;\">                                               0.000</td><td style=\"text-align: right;\">           0.000</td><td style=\"text-align: right;\">        0.000</td><td style=\"text-align: right;\">                0.000</td><td style=\"text-align: right;\">                                               0.000</td><td style=\"text-align: right;\">                                         0.000</td><td style=\"text-align: right;\">                                               0.000</td><td style=\"text-align: right;\">                      0.000</td><td style=\"text-align: right;\">                                               0.000</td><td style=\"text-align: right;\">                                  0.000</td><td style=\"text-align: right;\">                                               0.000</td><td style=\"text-align: right;\">                                               0.000</td><td style=\"text-align: right;\">                0.000</td><td style=\"text-align: right;\">                                        0.000</td><td style=\"text-align: right;\">                                       0.000</td><td style=\"text-align: right;\">                                               0.000</td><td style=\"text-align: right;\">                                               0.000</td><td style=\"text-align: right;\">                                               0.000</td><td style=\"text-align: right;\">                                     0.000</td><td style=\"text-align: right;\">                         0.000</td><td style=\"text-align: right;\">                   0.000</td><td style=\"text-align: right;\">                                               0.000</td><td style=\"text-align: right;\">                                               0.000</td><td style=\"text-align: right;\">                                               0.000</td><td style=\"text-align: right;\">                               0.000</td><td style=\"text-align: right;\">                                               0.000</td><td style=\"text-align: right;\">                                             0.000</td><td style=\"text-align: right;\">                                               0.000</td><td style=\"text-align: right;\">                                               0.000</td><td style=\"text-align: right;\">                                            0.000</td><td style=\"text-align: right;\">                                               0.000</td><td style=\"text-align: right;\">                                               0.000</td><td style=\"text-align: right;\">                                       0.000</td><td style=\"text-align: right;\">                                              -0.005</td></tr>\\n<tr><td>carton board box production service, with offset printing </td><td>carton board box production, with offset printing </td><td>CH        </td><td>kilogram</td><td style=\"text-align: right;\">  0.272</td><td style=\"text-align: right;\">                     0.171</td><td style=\"text-align: right;\">                       0.111</td><td style=\"text-align: right;\">                                   0.000</td><td style=\"text-align: right;\">                                             0.137</td><td style=\"text-align: right;\">                                               0.000</td><td style=\"text-align: right;\">                   0.070</td><td style=\"text-align: right;\">                                          0.000</td><td style=\"text-align: right;\">                                               0.077</td><td style=\"text-align: right;\">                                               0.022</td><td style=\"text-align: right;\">                                               0.006</td><td style=\"text-align: right;\">                                               0.003</td><td style=\"text-align: right;\">                                               0.068</td><td style=\"text-align: right;\">                                               0.009</td><td style=\"text-align: right;\">                                          0.043</td><td style=\"text-align: right;\">                         0.015</td><td style=\"text-align: right;\">                 0.000</td><td style=\"text-align: right;\">                                            0.053</td><td style=\"text-align: right;\">                                     0.009</td><td style=\"text-align: right;\">                                         0.007</td><td style=\"text-align: right;\">                        0.020</td><td style=\"text-align: right;\">                                               0.000</td><td style=\"text-align: right;\">                                             0.001</td><td style=\"text-align: right;\">                   0.009</td><td style=\"text-align: right;\">                              0.000</td><td style=\"text-align: right;\">                                               0.028</td><td style=\"text-align: right;\">                            0.000</td><td style=\"text-align: right;\">                                               0.000</td><td style=\"text-align: right;\">                                               0.018</td><td style=\"text-align: right;\">                       0.000</td><td style=\"text-align: right;\">                                               0.003</td><td style=\"text-align: right;\">           0.019</td><td style=\"text-align: right;\">                0.000</td><td style=\"text-align: right;\">                                        0.001</td><td style=\"text-align: right;\">                   0.008</td><td style=\"text-align: right;\">                                               0.006</td><td style=\"text-align: right;\">             0.000</td><td style=\"text-align: right;\">                       0.000</td><td style=\"text-align: right;\">                                               0.010</td><td style=\"text-align: right;\">                    0.002</td><td style=\"text-align: right;\">                                               0.005</td><td style=\"text-align: right;\">                0.009</td><td style=\"text-align: right;\">                                               0.001</td><td style=\"text-align: right;\">         0.007</td><td style=\"text-align: right;\">                                               0.007</td><td style=\"text-align: right;\">                                   0.000</td><td style=\"text-align: right;\">                                               0.000</td><td style=\"text-align: right;\">                           0.000</td><td style=\"text-align: right;\">                                         0.000</td><td style=\"text-align: right;\">                                            0.000</td><td style=\"text-align: right;\">                                               0.000</td><td style=\"text-align: right;\">                                        0.000</td><td style=\"text-align: right;\">                                  0.003</td><td style=\"text-align: right;\">                       0.000</td><td style=\"text-align: right;\">                 0.002</td><td style=\"text-align: right;\">                                               0.000</td><td style=\"text-align: right;\">                                  0.001</td><td style=\"text-align: right;\">                                               0.000</td><td style=\"text-align: right;\">                                               0.001</td><td style=\"text-align: right;\">                           0.000</td><td style=\"text-align: right;\">                                  0.001</td><td style=\"text-align: right;\">                                               0.000</td><td style=\"text-align: right;\">                                               0.001</td><td style=\"text-align: right;\">                                               0.000</td><td style=\"text-align: right;\">                                               0.000</td><td style=\"text-align: right;\">              0.001</td><td style=\"text-align: right;\">                                 0.001</td><td style=\"text-align: right;\">                          0.000</td><td style=\"text-align: right;\">        0.000</td><td style=\"text-align: right;\">                 0.000</td><td style=\"text-align: right;\">                                               0.001</td><td style=\"text-align: right;\">                                               0.000</td><td style=\"text-align: right;\">           0.000</td><td style=\"text-align: right;\">        0.000</td><td style=\"text-align: right;\">                0.000</td><td style=\"text-align: right;\">                                               0.000</td><td style=\"text-align: right;\">                                         0.000</td><td style=\"text-align: right;\">                                               0.000</td><td style=\"text-align: right;\">                      0.000</td><td style=\"text-align: right;\">                                               0.000</td><td style=\"text-align: right;\">                                  0.000</td><td style=\"text-align: right;\">                                               0.000</td><td style=\"text-align: right;\">                                               0.000</td><td style=\"text-align: right;\">                0.000</td><td style=\"text-align: right;\">                                        0.000</td><td style=\"text-align: right;\">                                       0.000</td><td style=\"text-align: right;\">                                               0.000</td><td style=\"text-align: right;\">                                               0.000</td><td style=\"text-align: right;\">                                               0.000</td><td style=\"text-align: right;\">                                     0.000</td><td style=\"text-align: right;\">                         0.000</td><td style=\"text-align: right;\">                   0.000</td><td style=\"text-align: right;\">                                               0.000</td><td style=\"text-align: right;\">                                               0.000</td><td style=\"text-align: right;\">                                               0.000</td><td style=\"text-align: right;\">                               0.000</td><td style=\"text-align: right;\">                                               0.000</td><td style=\"text-align: right;\">                                             0.000</td><td style=\"text-align: right;\">                                               0.000</td><td style=\"text-align: right;\">                                               0.000</td><td style=\"text-align: right;\">                                            0.000</td><td style=\"text-align: right;\">                                               0.000</td><td style=\"text-align: right;\">                                               0.000</td><td style=\"text-align: right;\">                                       0.000</td><td style=\"text-align: right;\">                                              -0.001</td></tr>\\n<tr><td>carton board box production service, with offset printing </td><td>carton board box production, with offset printing </td><td>CA-QC     </td><td>kilogram</td><td style=\"text-align: right;\">  0.372</td><td style=\"text-align: right;\">                     0.095</td><td style=\"text-align: right;\">                       0.306</td><td style=\"text-align: right;\">                                   0.000</td><td style=\"text-align: right;\">                                             0.103</td><td style=\"text-align: right;\">                                               0.000</td><td style=\"text-align: right;\">                   0.067</td><td style=\"text-align: right;\">                                          0.000</td><td style=\"text-align: right;\">                                               0.056</td><td style=\"text-align: right;\">                                               0.000</td><td style=\"text-align: right;\">                                               0.005</td><td style=\"text-align: right;\">                                               0.069</td><td style=\"text-align: right;\">                                               0.050</td><td style=\"text-align: right;\">                                               0.009</td><td style=\"text-align: right;\">                                          0.031</td><td style=\"text-align: right;\">                         0.011</td><td style=\"text-align: right;\">                 0.000</td><td style=\"text-align: right;\">                                            0.039</td><td style=\"text-align: right;\">                                     0.011</td><td style=\"text-align: right;\">                                         0.030</td><td style=\"text-align: right;\">                        0.014</td><td style=\"text-align: right;\">                                               0.000</td><td style=\"text-align: right;\">                                             0.001</td><td style=\"text-align: right;\">                   0.006</td><td style=\"text-align: right;\">                              0.000</td><td style=\"text-align: right;\">                                               0.020</td><td style=\"text-align: right;\">                            0.000</td><td style=\"text-align: right;\">                                               0.000</td><td style=\"text-align: right;\">                                               0.013</td><td style=\"text-align: right;\">                       0.000</td><td style=\"text-align: right;\">                                               0.003</td><td style=\"text-align: right;\">           0.000</td><td style=\"text-align: right;\">                0.000</td><td style=\"text-align: right;\">                                        0.003</td><td style=\"text-align: right;\">                   0.006</td><td style=\"text-align: right;\">                                               0.007</td><td style=\"text-align: right;\">             0.007</td><td style=\"text-align: right;\">                       0.000</td><td style=\"text-align: right;\">                                               0.000</td><td style=\"text-align: right;\">                    0.001</td><td style=\"text-align: right;\">                                               0.004</td><td style=\"text-align: right;\">                0.006</td><td style=\"text-align: right;\">                                               0.001</td><td style=\"text-align: right;\">         0.005</td><td style=\"text-align: right;\">                                               0.004</td><td style=\"text-align: right;\">                                   0.000</td><td style=\"text-align: right;\">                                               0.000</td><td style=\"text-align: right;\">                           0.000</td><td style=\"text-align: right;\">                                         0.000</td><td style=\"text-align: right;\">                                            0.002</td><td style=\"text-align: right;\">                                               0.000</td><td style=\"text-align: right;\">                                        0.000</td><td style=\"text-align: right;\">                                  0.002</td><td style=\"text-align: right;\">                       0.000</td><td style=\"text-align: right;\">                 0.002</td><td style=\"text-align: right;\">                                               0.000</td><td style=\"text-align: right;\">                                  0.000</td><td style=\"text-align: right;\">                                               0.000</td><td style=\"text-align: right;\">                                               0.000</td><td style=\"text-align: right;\">                           0.000</td><td style=\"text-align: right;\">                                  0.001</td><td style=\"text-align: right;\">                                               0.000</td><td style=\"text-align: right;\">                                               0.000</td><td style=\"text-align: right;\">                                               0.000</td><td style=\"text-align: right;\">                                               0.001</td><td style=\"text-align: right;\">              0.001</td><td style=\"text-align: right;\">                                 0.000</td><td style=\"text-align: right;\">                          0.000</td><td style=\"text-align: right;\">        0.000</td><td style=\"text-align: right;\">                 0.000</td><td style=\"text-align: right;\">                                               0.000</td><td style=\"text-align: right;\">                                               0.000</td><td style=\"text-align: right;\">           0.000</td><td style=\"text-align: right;\">        0.000</td><td style=\"text-align: right;\">                0.000</td><td style=\"text-align: right;\">                                               0.000</td><td style=\"text-align: right;\">                                         0.000</td><td style=\"text-align: right;\">                                               0.000</td><td style=\"text-align: right;\">                      0.000</td><td style=\"text-align: right;\">                                               0.000</td><td style=\"text-align: right;\">                                  0.000</td><td style=\"text-align: right;\">                                               0.000</td><td style=\"text-align: right;\">                                               0.000</td><td style=\"text-align: right;\">                0.000</td><td style=\"text-align: right;\">                                        0.000</td><td style=\"text-align: right;\">                                       0.000</td><td style=\"text-align: right;\">                                               0.000</td><td style=\"text-align: right;\">                                               0.000</td><td style=\"text-align: right;\">                                               0.000</td><td style=\"text-align: right;\">                                     0.000</td><td style=\"text-align: right;\">                         0.000</td><td style=\"text-align: right;\">                   0.000</td><td style=\"text-align: right;\">                                               0.000</td><td style=\"text-align: right;\">                                               0.000</td><td style=\"text-align: right;\">                                               0.000</td><td style=\"text-align: right;\">                               0.000</td><td style=\"text-align: right;\">                                               0.000</td><td style=\"text-align: right;\">                                             0.000</td><td style=\"text-align: right;\">                                               0.000</td><td style=\"text-align: right;\">                                               0.000</td><td style=\"text-align: right;\">                                            0.000</td><td style=\"text-align: right;\">                                               0.000</td><td style=\"text-align: right;\">                                               0.000</td><td style=\"text-align: right;\">                                       0.000</td><td style=\"text-align: right;\">                                              -0.003</td></tr>\\n<tr><td>corrugated board box production                           </td><td>corrugated board box                              </td><td>CA-QC     </td><td>kilogram</td><td style=\"text-align: right;\">  0.496</td><td style=\"text-align: right;\">                     0.048</td><td style=\"text-align: right;\">                       0.380</td><td style=\"text-align: right;\">                                   0.103</td><td style=\"text-align: right;\">                                             0.000</td><td style=\"text-align: right;\">                                               0.000</td><td style=\"text-align: right;\">                   0.060</td><td style=\"text-align: right;\">                                          0.101</td><td style=\"text-align: right;\">                                               0.000</td><td style=\"text-align: right;\">                                               0.011</td><td style=\"text-align: right;\">                                               0.008</td><td style=\"text-align: right;\">                                               0.000</td><td style=\"text-align: right;\">                                               0.000</td><td style=\"text-align: right;\">                                               0.001</td><td style=\"text-align: right;\">                                          0.000</td><td style=\"text-align: right;\">                         0.010</td><td style=\"text-align: right;\">                 0.042</td><td style=\"text-align: right;\">                                            0.000</td><td style=\"text-align: right;\">                                     0.003</td><td style=\"text-align: right;\">                                         0.028</td><td style=\"text-align: right;\">                        0.000</td><td style=\"text-align: right;\">                                               0.000</td><td style=\"text-align: right;\">                                             0.006</td><td style=\"text-align: right;\">                   0.038</td><td style=\"text-align: right;\">                              0.035</td><td style=\"text-align: right;\">                                               0.008</td><td style=\"text-align: right;\">                            0.002</td><td style=\"text-align: right;\">                                               0.000</td><td style=\"text-align: right;\">                                               0.008</td><td style=\"text-align: right;\">                       0.022</td><td style=\"text-align: right;\">                                               0.003</td><td style=\"text-align: right;\">           0.000</td><td style=\"text-align: right;\">                0.020</td><td style=\"text-align: right;\">                                        0.000</td><td style=\"text-align: right;\">                   0.000</td><td style=\"text-align: right;\">                                               0.016</td><td style=\"text-align: right;\">             0.002</td><td style=\"text-align: right;\">                       0.000</td><td style=\"text-align: right;\">                                               0.000</td><td style=\"text-align: right;\">                    0.010</td><td style=\"text-align: right;\">                                               0.000</td><td style=\"text-align: right;\">                0.005</td><td style=\"text-align: right;\">                                               0.003</td><td style=\"text-align: right;\">         0.001</td><td style=\"text-align: right;\">                                               0.000</td><td style=\"text-align: right;\">                                   0.000</td><td style=\"text-align: right;\">                                               0.000</td><td style=\"text-align: right;\">                           0.004</td><td style=\"text-align: right;\">                                         0.000</td><td style=\"text-align: right;\">                                            0.001</td><td style=\"text-align: right;\">                                               0.001</td><td style=\"text-align: right;\">                                        0.000</td><td style=\"text-align: right;\">                                  0.000</td><td style=\"text-align: right;\">                       0.001</td><td style=\"text-align: right;\">                 0.001</td><td style=\"text-align: right;\">                                               0.002</td><td style=\"text-align: right;\">                                  0.000</td><td style=\"text-align: right;\">                                               0.001</td><td style=\"text-align: right;\">                                               0.000</td><td style=\"text-align: right;\">                           0.001</td><td style=\"text-align: right;\">                                  0.000</td><td style=\"text-align: right;\">                                               0.001</td><td style=\"text-align: right;\">                                               0.000</td><td style=\"text-align: right;\">                                               0.001</td><td style=\"text-align: right;\">                                               0.000</td><td style=\"text-align: right;\">              0.001</td><td style=\"text-align: right;\">                                 0.000</td><td style=\"text-align: right;\">                          0.000</td><td style=\"text-align: right;\">        0.001</td><td style=\"text-align: right;\">                 0.001</td><td style=\"text-align: right;\">                                               0.000</td><td style=\"text-align: right;\">                                               0.000</td><td style=\"text-align: right;\">           0.000</td><td style=\"text-align: right;\">        0.000</td><td style=\"text-align: right;\">                0.000</td><td style=\"text-align: right;\">                                               0.000</td><td style=\"text-align: right;\">                                         0.000</td><td style=\"text-align: right;\">                                               0.000</td><td style=\"text-align: right;\">                      0.000</td><td style=\"text-align: right;\">                                               0.000</td><td style=\"text-align: right;\">                                  0.000</td><td style=\"text-align: right;\">                                               0.000</td><td style=\"text-align: right;\">                                               0.000</td><td style=\"text-align: right;\">                0.000</td><td style=\"text-align: right;\">                                        0.000</td><td style=\"text-align: right;\">                                       0.000</td><td style=\"text-align: right;\">                                               0.000</td><td style=\"text-align: right;\">                                               0.000</td><td style=\"text-align: right;\">                                               0.000</td><td style=\"text-align: right;\">                                     0.000</td><td style=\"text-align: right;\">                         0.000</td><td style=\"text-align: right;\">                   0.000</td><td style=\"text-align: right;\">                                               0.000</td><td style=\"text-align: right;\">                                               0.000</td><td style=\"text-align: right;\">                                               0.000</td><td style=\"text-align: right;\">                               0.000</td><td style=\"text-align: right;\">                                               0.000</td><td style=\"text-align: right;\">                                             0.000</td><td style=\"text-align: right;\">                                               0.000</td><td style=\"text-align: right;\">                                               0.000</td><td style=\"text-align: right;\">                                            0.000</td><td style=\"text-align: right;\">                                               0.000</td><td style=\"text-align: right;\">                                               0.000</td><td style=\"text-align: right;\">                                       0.000</td><td style=\"text-align: right;\">                                               0.000</td></tr>\\n<tr><td>carton board box production service, with offset printing </td><td>carton board box production, with offset printing </td><td>RoW       </td><td>kilogram</td><td style=\"text-align: right;\">  0.592</td><td style=\"text-align: right;\">                     0.434</td><td style=\"text-align: right;\">                       0.194</td><td style=\"text-align: right;\">                                   0.000</td><td style=\"text-align: right;\">                                             0.064</td><td style=\"text-align: right;\">                                               0.000</td><td style=\"text-align: right;\">                  -0.051</td><td style=\"text-align: right;\">                                          0.000</td><td style=\"text-align: right;\">                                               0.035</td><td style=\"text-align: right;\">                                               0.000</td><td style=\"text-align: right;\">                                               0.002</td><td style=\"text-align: right;\">                                               0.001</td><td style=\"text-align: right;\">                                               0.052</td><td style=\"text-align: right;\">                                               0.001</td><td style=\"text-align: right;\">                                          0.020</td><td style=\"text-align: right;\">                         0.006</td><td style=\"text-align: right;\">                 0.000</td><td style=\"text-align: right;\">                                            0.024</td><td style=\"text-align: right;\">                                     0.007</td><td style=\"text-align: right;\">                                         0.018</td><td style=\"text-align: right;\">                        0.009</td><td style=\"text-align: right;\">                                               0.000</td><td style=\"text-align: right;\">                                             0.000</td><td style=\"text-align: right;\">                   0.004</td><td style=\"text-align: right;\">                              0.000</td><td style=\"text-align: right;\">                                               0.013</td><td style=\"text-align: right;\">                            0.000</td><td style=\"text-align: right;\">                                               0.000</td><td style=\"text-align: right;\">                                               0.008</td><td style=\"text-align: right;\">                       0.000</td><td style=\"text-align: right;\">                                               0.002</td><td style=\"text-align: right;\">           0.000</td><td style=\"text-align: right;\">                0.000</td><td style=\"text-align: right;\">                                        0.002</td><td style=\"text-align: right;\">                   0.004</td><td style=\"text-align: right;\">                                               0.005</td><td style=\"text-align: right;\">             0.014</td><td style=\"text-align: right;\">                       0.000</td><td style=\"text-align: right;\">                                               0.000</td><td style=\"text-align: right;\">                    0.001</td><td style=\"text-align: right;\">                                               0.002</td><td style=\"text-align: right;\">                0.002</td><td style=\"text-align: right;\">                                               0.000</td><td style=\"text-align: right;\">         0.003</td><td style=\"text-align: right;\">                                               0.003</td><td style=\"text-align: right;\">                                   0.000</td><td style=\"text-align: right;\">                                               0.000</td><td style=\"text-align: right;\">                           0.000</td><td style=\"text-align: right;\">                                         0.000</td><td style=\"text-align: right;\">                                            0.001</td><td style=\"text-align: right;\">                                               0.000</td><td style=\"text-align: right;\">                                        0.000</td><td style=\"text-align: right;\">                                  0.000</td><td style=\"text-align: right;\">                       0.000</td><td style=\"text-align: right;\">                 0.001</td><td style=\"text-align: right;\">                                               0.000</td><td style=\"text-align: right;\">                                  0.000</td><td style=\"text-align: right;\">                                               0.000</td><td style=\"text-align: right;\">                                               0.000</td><td style=\"text-align: right;\">                           0.000</td><td style=\"text-align: right;\">                                  0.001</td><td style=\"text-align: right;\">                                               0.000</td><td style=\"text-align: right;\">                                               0.000</td><td style=\"text-align: right;\">                                               0.000</td><td style=\"text-align: right;\">                                               0.001</td><td style=\"text-align: right;\">              0.000</td><td style=\"text-align: right;\">                                 0.000</td><td style=\"text-align: right;\">                          0.000</td><td style=\"text-align: right;\">        0.000</td><td style=\"text-align: right;\">                 0.000</td><td style=\"text-align: right;\">                                               0.000</td><td style=\"text-align: right;\">                                               0.000</td><td style=\"text-align: right;\">           0.000</td><td style=\"text-align: right;\">        0.000</td><td style=\"text-align: right;\">                0.000</td><td style=\"text-align: right;\">                                               0.000</td><td style=\"text-align: right;\">                                         0.000</td><td style=\"text-align: right;\">                                               0.000</td><td style=\"text-align: right;\">                      0.000</td><td style=\"text-align: right;\">                                               0.000</td><td style=\"text-align: right;\">                                  0.000</td><td style=\"text-align: right;\">                                               0.000</td><td style=\"text-align: right;\">                                               0.000</td><td style=\"text-align: right;\">                0.000</td><td style=\"text-align: right;\">                                        0.000</td><td style=\"text-align: right;\">                                       0.000</td><td style=\"text-align: right;\">                                               0.000</td><td style=\"text-align: right;\">                                               0.000</td><td style=\"text-align: right;\">                                               0.000</td><td style=\"text-align: right;\">                                     0.000</td><td style=\"text-align: right;\">                         0.000</td><td style=\"text-align: right;\">                   0.000</td><td style=\"text-align: right;\">                                               0.000</td><td style=\"text-align: right;\">                                               0.000</td><td style=\"text-align: right;\">                                               0.000</td><td style=\"text-align: right;\">                               0.000</td><td style=\"text-align: right;\">                                               0.000</td><td style=\"text-align: right;\">                                             0.000</td><td style=\"text-align: right;\">                                               0.000</td><td style=\"text-align: right;\">                                               0.000</td><td style=\"text-align: right;\">                                            0.000</td><td style=\"text-align: right;\">                                               0.000</td><td style=\"text-align: right;\">                                               0.000</td><td style=\"text-align: right;\">                                       0.000</td><td style=\"text-align: right;\">                                               0.000</td></tr>\\n<tr><td>carton board box production service, with gravure printing</td><td>carton board box production, with gravure printing</td><td>RoW       </td><td>kilogram</td><td style=\"text-align: right;\">  0.734</td><td style=\"text-align: right;\">                     0.646</td><td style=\"text-align: right;\">                       0.073</td><td style=\"text-align: right;\">                                   0.000</td><td style=\"text-align: right;\">                                             0.099</td><td style=\"text-align: right;\">                                               0.000</td><td style=\"text-align: right;\">                  -0.058</td><td style=\"text-align: right;\">                                          0.000</td><td style=\"text-align: right;\">                                               0.000</td><td style=\"text-align: right;\">                                               0.000</td><td style=\"text-align: right;\">                                               0.000</td><td style=\"text-align: right;\">                                               0.000</td><td style=\"text-align: right;\">                                               0.000</td><td style=\"text-align: right;\">                                               0.000</td><td style=\"text-align: right;\">                                          0.020</td><td style=\"text-align: right;\">                         0.033</td><td style=\"text-align: right;\">                 0.000</td><td style=\"text-align: right;\">                                            0.000</td><td style=\"text-align: right;\">                                     0.003</td><td style=\"text-align: right;\">                                         0.015</td><td style=\"text-align: right;\">                        0.014</td><td style=\"text-align: right;\">                                               0.000</td><td style=\"text-align: right;\">                                             0.000</td><td style=\"text-align: right;\">                   0.000</td><td style=\"text-align: right;\">                              0.000</td><td style=\"text-align: right;\">                                               0.012</td><td style=\"text-align: right;\">                            0.000</td><td style=\"text-align: right;\">                                               0.000</td><td style=\"text-align: right;\">                                               0.000</td><td style=\"text-align: right;\">                       0.000</td><td style=\"text-align: right;\">                                               0.000</td><td style=\"text-align: right;\">           0.000</td><td style=\"text-align: right;\">                0.000</td><td style=\"text-align: right;\">                                        0.000</td><td style=\"text-align: right;\">                   0.005</td><td style=\"text-align: right;\">                                               0.000</td><td style=\"text-align: right;\">             0.008</td><td style=\"text-align: right;\">                       0.000</td><td style=\"text-align: right;\">                                               0.000</td><td style=\"text-align: right;\">                    0.000</td><td style=\"text-align: right;\">                                               0.004</td><td style=\"text-align: right;\">                0.000</td><td style=\"text-align: right;\">                                               0.000</td><td style=\"text-align: right;\">         0.000</td><td style=\"text-align: right;\">                                               0.000</td><td style=\"text-align: right;\">                                   0.000</td><td style=\"text-align: right;\">                                               0.000</td><td style=\"text-align: right;\">                           0.000</td><td style=\"text-align: right;\">                                         0.000</td><td style=\"text-align: right;\">                                            0.001</td><td style=\"text-align: right;\">                                               0.000</td><td style=\"text-align: right;\">                                        0.000</td><td style=\"text-align: right;\">                                  0.000</td><td style=\"text-align: right;\">                       0.000</td><td style=\"text-align: right;\">                 0.000</td><td style=\"text-align: right;\">                                               0.000</td><td style=\"text-align: right;\">                                  0.000</td><td style=\"text-align: right;\">                                               0.000</td><td style=\"text-align: right;\">                                               0.000</td><td style=\"text-align: right;\">                           0.000</td><td style=\"text-align: right;\">                                  0.000</td><td style=\"text-align: right;\">                                               0.000</td><td style=\"text-align: right;\">                                               0.000</td><td style=\"text-align: right;\">                                               0.000</td><td style=\"text-align: right;\">                                               0.000</td><td style=\"text-align: right;\">              0.000</td><td style=\"text-align: right;\">                                 0.000</td><td style=\"text-align: right;\">                          0.000</td><td style=\"text-align: right;\">        0.000</td><td style=\"text-align: right;\">                 0.000</td><td style=\"text-align: right;\">                                               0.000</td><td style=\"text-align: right;\">                                               0.000</td><td style=\"text-align: right;\">           0.000</td><td style=\"text-align: right;\">        0.000</td><td style=\"text-align: right;\">                0.000</td><td style=\"text-align: right;\">                                               0.000</td><td style=\"text-align: right;\">                                         0.000</td><td style=\"text-align: right;\">                                               0.000</td><td style=\"text-align: right;\">                      0.000</td><td style=\"text-align: right;\">                                               0.000</td><td style=\"text-align: right;\">                                  0.000</td><td style=\"text-align: right;\">                                               0.000</td><td style=\"text-align: right;\">                                               0.000</td><td style=\"text-align: right;\">                0.000</td><td style=\"text-align: right;\">                                        0.000</td><td style=\"text-align: right;\">                                       0.000</td><td style=\"text-align: right;\">                                               0.000</td><td style=\"text-align: right;\">                                               0.000</td><td style=\"text-align: right;\">                                               0.000</td><td style=\"text-align: right;\">                                     0.000</td><td style=\"text-align: right;\">                         0.000</td><td style=\"text-align: right;\">                   0.000</td><td style=\"text-align: right;\">                                               0.000</td><td style=\"text-align: right;\">                                               0.000</td><td style=\"text-align: right;\">                                               0.000</td><td style=\"text-align: right;\">                               0.000</td><td style=\"text-align: right;\">                                               0.000</td><td style=\"text-align: right;\">                                             0.000</td><td style=\"text-align: right;\">                                               0.000</td><td style=\"text-align: right;\">                                               0.000</td><td style=\"text-align: right;\">                                            0.000</td><td style=\"text-align: right;\">                                               0.000</td><td style=\"text-align: right;\">                                               0.000</td><td style=\"text-align: right;\">                                       0.000</td><td style=\"text-align: right;\">                                               0.000</td></tr>\\n<tr><td>corrugated board box production                           </td><td>corrugated board box                              </td><td>RER       </td><td>kilogram</td><td style=\"text-align: right;\">  0.935</td><td style=\"text-align: right;\">                     0.144</td><td style=\"text-align: right;\">                       0.018</td><td style=\"text-align: right;\">                                   0.318</td><td style=\"text-align: right;\">                                             0.001</td><td style=\"text-align: right;\">                                               0.049</td><td style=\"text-align: right;\">                   0.025</td><td style=\"text-align: right;\">                                          0.067</td><td style=\"text-align: right;\">                                               0.000</td><td style=\"text-align: right;\">                                               0.073</td><td style=\"text-align: right;\">                                               0.071</td><td style=\"text-align: right;\">                                               0.000</td><td style=\"text-align: right;\">                                               0.000</td><td style=\"text-align: right;\">                                               0.000</td><td style=\"text-align: right;\">                                          0.000</td><td style=\"text-align: right;\">                         0.005</td><td style=\"text-align: right;\">                 0.052</td><td style=\"text-align: right;\">                                            0.000</td><td style=\"text-align: right;\">                                     0.043</td><td style=\"text-align: right;\">                                         0.012</td><td style=\"text-align: right;\">                        0.000</td><td style=\"text-align: right;\">                                               0.000</td><td style=\"text-align: right;\">                                             0.003</td><td style=\"text-align: right;\">                   0.014</td><td style=\"text-align: right;\">                              0.005</td><td style=\"text-align: right;\">                                               0.005</td><td style=\"text-align: right;\">                            0.003</td><td style=\"text-align: right;\">                                               0.028</td><td style=\"text-align: right;\">                                               0.000</td><td style=\"text-align: right;\">                       0.000</td><td style=\"text-align: right;\">                                               0.001</td><td style=\"text-align: right;\">           0.000</td><td style=\"text-align: right;\">                0.004</td><td style=\"text-align: right;\">                                        0.006</td><td style=\"text-align: right;\">                   0.000</td><td style=\"text-align: right;\">                                               0.003</td><td style=\"text-align: right;\">             0.004</td><td style=\"text-align: right;\">                       0.000</td><td style=\"text-align: right;\">                                               0.000</td><td style=\"text-align: right;\">                    0.001</td><td style=\"text-align: right;\">                                               0.000</td><td style=\"text-align: right;\">                0.002</td><td style=\"text-align: right;\">                                               0.001</td><td style=\"text-align: right;\">         0.001</td><td style=\"text-align: right;\">                                               0.005</td><td style=\"text-align: right;\">                                   0.000</td><td style=\"text-align: right;\">                                               0.005</td><td style=\"text-align: right;\">                           0.000</td><td style=\"text-align: right;\">                                         0.000</td><td style=\"text-align: right;\">                                            0.000</td><td style=\"text-align: right;\">                                               0.001</td><td style=\"text-align: right;\">                                        0.000</td><td style=\"text-align: right;\">                                  0.000</td><td style=\"text-align: right;\">                       0.000</td><td style=\"text-align: right;\">                 0.001</td><td style=\"text-align: right;\">                                               0.001</td><td style=\"text-align: right;\">                                  0.000</td><td style=\"text-align: right;\">                                               0.001</td><td style=\"text-align: right;\">                                               0.000</td><td style=\"text-align: right;\">                           0.001</td><td style=\"text-align: right;\">                                  0.000</td><td style=\"text-align: right;\">                                               0.000</td><td style=\"text-align: right;\">                                               0.000</td><td style=\"text-align: right;\">                                               0.000</td><td style=\"text-align: right;\">                                               0.000</td><td style=\"text-align: right;\">              0.000</td><td style=\"text-align: right;\">                                 0.000</td><td style=\"text-align: right;\">                          0.000</td><td style=\"text-align: right;\">        0.000</td><td style=\"text-align: right;\">                 0.000</td><td style=\"text-align: right;\">                                               0.000</td><td style=\"text-align: right;\">                                               0.000</td><td style=\"text-align: right;\">           0.000</td><td style=\"text-align: right;\">        0.000</td><td style=\"text-align: right;\">                0.000</td><td style=\"text-align: right;\">                                               0.000</td><td style=\"text-align: right;\">                                         0.000</td><td style=\"text-align: right;\">                                               0.000</td><td style=\"text-align: right;\">                      0.000</td><td style=\"text-align: right;\">                                               0.000</td><td style=\"text-align: right;\">                                  0.000</td><td style=\"text-align: right;\">                                               0.000</td><td style=\"text-align: right;\">                                               0.000</td><td style=\"text-align: right;\">                0.000</td><td style=\"text-align: right;\">                                        0.000</td><td style=\"text-align: right;\">                                       0.000</td><td style=\"text-align: right;\">                                               0.000</td><td style=\"text-align: right;\">                                               0.000</td><td style=\"text-align: right;\">                                               0.000</td><td style=\"text-align: right;\">                                     0.000</td><td style=\"text-align: right;\">                         0.000</td><td style=\"text-align: right;\">                   0.000</td><td style=\"text-align: right;\">                                               0.000</td><td style=\"text-align: right;\">                                               0.000</td><td style=\"text-align: right;\">                                               0.000</td><td style=\"text-align: right;\">                               0.000</td><td style=\"text-align: right;\">                                               0.000</td><td style=\"text-align: right;\">                                             0.000</td><td style=\"text-align: right;\">                                               0.000</td><td style=\"text-align: right;\">                                               0.000</td><td style=\"text-align: right;\">                                            0.000</td><td style=\"text-align: right;\">                                               0.000</td><td style=\"text-align: right;\">                                               0.000</td><td style=\"text-align: right;\">                                       0.000</td><td style=\"text-align: right;\">                                               0.000</td></tr>\\n<tr><td>corrugated board box production                           </td><td>corrugated board box                              </td><td>RoW       </td><td>kilogram</td><td style=\"text-align: right;\">  1.005</td><td style=\"text-align: right;\">                     0.199</td><td style=\"text-align: right;\">                       0.028</td><td style=\"text-align: right;\">                                   0.293</td><td style=\"text-align: right;\">                                             0.001</td><td style=\"text-align: right;\">                                               0.043</td><td style=\"text-align: right;\">                   0.035</td><td style=\"text-align: right;\">                                          0.063</td><td style=\"text-align: right;\">                                               0.000</td><td style=\"text-align: right;\">                                               0.069</td><td style=\"text-align: right;\">                                               0.066</td><td style=\"text-align: right;\">                                               0.000</td><td style=\"text-align: right;\">                                               0.000</td><td style=\"text-align: right;\">                                               0.000</td><td style=\"text-align: right;\">                                          0.000</td><td style=\"text-align: right;\">                         0.005</td><td style=\"text-align: right;\">                 0.053</td><td style=\"text-align: right;\">                                            0.000</td><td style=\"text-align: right;\">                                     0.032</td><td style=\"text-align: right;\">                                         0.012</td><td style=\"text-align: right;\">                        0.000</td><td style=\"text-align: right;\">                                               0.000</td><td style=\"text-align: right;\">                                             0.002</td><td style=\"text-align: right;\">                   0.011</td><td style=\"text-align: right;\">                              0.011</td><td style=\"text-align: right;\">                                               0.005</td><td style=\"text-align: right;\">                            0.002</td><td style=\"text-align: right;\">                                               0.000</td><td style=\"text-align: right;\">                                               0.000</td><td style=\"text-align: right;\">                       0.000</td><td style=\"text-align: right;\">                                               0.001</td><td style=\"text-align: right;\">           0.000</td><td style=\"text-align: right;\">                0.004</td><td style=\"text-align: right;\">                                        0.017</td><td style=\"text-align: right;\">                   0.000</td><td style=\"text-align: right;\">                                               0.003</td><td style=\"text-align: right;\">             0.004</td><td style=\"text-align: right;\">                       0.000</td><td style=\"text-align: right;\">                                               0.000</td><td style=\"text-align: right;\">                    0.001</td><td style=\"text-align: right;\">                                               0.000</td><td style=\"text-align: right;\">                0.003</td><td style=\"text-align: right;\">                                               0.001</td><td style=\"text-align: right;\">         0.000</td><td style=\"text-align: right;\">                                               0.004</td><td style=\"text-align: right;\">                                   0.000</td><td style=\"text-align: right;\">                                               0.005</td><td style=\"text-align: right;\">                           0.000</td><td style=\"text-align: right;\">                                         0.000</td><td style=\"text-align: right;\">                                            0.000</td><td style=\"text-align: right;\">                                               0.001</td><td style=\"text-align: right;\">                                        0.000</td><td style=\"text-align: right;\">                                  0.000</td><td style=\"text-align: right;\">                       0.000</td><td style=\"text-align: right;\">                 0.000</td><td style=\"text-align: right;\">                                               0.001</td><td style=\"text-align: right;\">                                  0.000</td><td style=\"text-align: right;\">                                               0.001</td><td style=\"text-align: right;\">                                               0.000</td><td style=\"text-align: right;\">                           0.001</td><td style=\"text-align: right;\">                                  0.000</td><td style=\"text-align: right;\">                                               0.000</td><td style=\"text-align: right;\">                                               0.000</td><td style=\"text-align: right;\">                                               0.000</td><td style=\"text-align: right;\">                                               0.000</td><td style=\"text-align: right;\">              0.000</td><td style=\"text-align: right;\">                                 0.000</td><td style=\"text-align: right;\">                          0.000</td><td style=\"text-align: right;\">        0.000</td><td style=\"text-align: right;\">                 0.000</td><td style=\"text-align: right;\">                                               0.000</td><td style=\"text-align: right;\">                                               0.000</td><td style=\"text-align: right;\">           0.000</td><td style=\"text-align: right;\">        0.000</td><td style=\"text-align: right;\">                0.000</td><td style=\"text-align: right;\">                                               0.000</td><td style=\"text-align: right;\">                                         0.000</td><td style=\"text-align: right;\">                                               0.000</td><td style=\"text-align: right;\">                      0.000</td><td style=\"text-align: right;\">                                               0.000</td><td style=\"text-align: right;\">                                  0.000</td><td style=\"text-align: right;\">                                               0.000</td><td style=\"text-align: right;\">                                               0.000</td><td style=\"text-align: right;\">                0.000</td><td style=\"text-align: right;\">                                        0.000</td><td style=\"text-align: right;\">                                       0.000</td><td style=\"text-align: right;\">                                               0.000</td><td style=\"text-align: right;\">                                               0.000</td><td style=\"text-align: right;\">                                               0.000</td><td style=\"text-align: right;\">                                     0.000</td><td style=\"text-align: right;\">                         0.000</td><td style=\"text-align: right;\">                   0.000</td><td style=\"text-align: right;\">                                               0.000</td><td style=\"text-align: right;\">                                               0.000</td><td style=\"text-align: right;\">                                               0.000</td><td style=\"text-align: right;\">                               0.000</td><td style=\"text-align: right;\">                                               0.000</td><td style=\"text-align: right;\">                                             0.000</td><td style=\"text-align: right;\">                                               0.000</td><td style=\"text-align: right;\">                                               0.000</td><td style=\"text-align: right;\">                                            0.000</td><td style=\"text-align: right;\">                                               0.000</td><td style=\"text-align: right;\">                                               0.000</td><td style=\"text-align: right;\">                                       0.000</td><td style=\"text-align: right;\">                                               0.000</td></tr>\\n<tr><td>folding boxboard carton production                        </td><td>folding boxboard carton                           </td><td>RER       </td><td>kilogram</td><td style=\"text-align: right;\">  1.778</td><td style=\"text-align: right;\">                     0.482</td><td style=\"text-align: right;\">                       0.022</td><td style=\"text-align: right;\">                                   0.000</td><td style=\"text-align: right;\">                                             0.014</td><td style=\"text-align: right;\">                                               0.165</td><td style=\"text-align: right;\">                   0.000</td><td style=\"text-align: right;\">                                          0.002</td><td style=\"text-align: right;\">                                               0.000</td><td style=\"text-align: right;\">                                               0.000</td><td style=\"text-align: right;\">                                               0.018</td><td style=\"text-align: right;\">                                               0.018</td><td style=\"text-align: right;\">                                               0.000</td><td style=\"text-align: right;\">                                               0.038</td><td style=\"text-align: right;\">                                          0.000</td><td style=\"text-align: right;\">                         0.002</td><td style=\"text-align: right;\">                 0.001</td><td style=\"text-align: right;\">                                            0.000</td><td style=\"text-align: right;\">                                     0.012</td><td style=\"text-align: right;\">                                         0.011</td><td style=\"text-align: right;\">                        0.000</td><td style=\"text-align: right;\">                                               0.000</td><td style=\"text-align: right;\">                                             0.040</td><td style=\"text-align: right;\">                   0.010</td><td style=\"text-align: right;\">                              0.007</td><td style=\"text-align: right;\">                                               0.006</td><td style=\"text-align: right;\">                            0.028</td><td style=\"text-align: right;\">                                               0.001</td><td style=\"text-align: right;\">                                               0.023</td><td style=\"text-align: right;\">                       0.000</td><td style=\"text-align: right;\">                                               0.021</td><td style=\"text-align: right;\">           0.000</td><td style=\"text-align: right;\">                0.009</td><td style=\"text-align: right;\">                                        0.007</td><td style=\"text-align: right;\">                   0.000</td><td style=\"text-align: right;\">                                               0.007</td><td style=\"text-align: right;\">             0.000</td><td style=\"text-align: right;\">                       0.008</td><td style=\"text-align: right;\">                                               0.000</td><td style=\"text-align: right;\">                    0.001</td><td style=\"text-align: right;\">                                               0.000</td><td style=\"text-align: right;\">                0.005</td><td style=\"text-align: right;\">                                               0.007</td><td style=\"text-align: right;\">         0.000</td><td style=\"text-align: right;\">                                               0.000</td><td style=\"text-align: right;\">                                   0.006</td><td style=\"text-align: right;\">                                               0.002</td><td style=\"text-align: right;\">                           0.000</td><td style=\"text-align: right;\">                                         0.004</td><td style=\"text-align: right;\">                                            0.000</td><td style=\"text-align: right;\">                                               0.003</td><td style=\"text-align: right;\">                                        0.003</td><td style=\"text-align: right;\">                                  0.000</td><td style=\"text-align: right;\">                       0.002</td><td style=\"text-align: right;\">                 0.000</td><td style=\"text-align: right;\">                                               0.000</td><td style=\"text-align: right;\">                                  0.000</td><td style=\"text-align: right;\">                                               0.000</td><td style=\"text-align: right;\">                                               0.000</td><td style=\"text-align: right;\">                           0.001</td><td style=\"text-align: right;\">                                  0.000</td><td style=\"text-align: right;\">                                               0.000</td><td style=\"text-align: right;\">                                               0.000</td><td style=\"text-align: right;\">                                               0.000</td><td style=\"text-align: right;\">                                               0.000</td><td style=\"text-align: right;\">              0.000</td><td style=\"text-align: right;\">                                 0.000</td><td style=\"text-align: right;\">                          0.000</td><td style=\"text-align: right;\">        0.000</td><td style=\"text-align: right;\">                 0.000</td><td style=\"text-align: right;\">                                               0.000</td><td style=\"text-align: right;\">                                               0.001</td><td style=\"text-align: right;\">           0.000</td><td style=\"text-align: right;\">        0.000</td><td style=\"text-align: right;\">                0.000</td><td style=\"text-align: right;\">                                               0.000</td><td style=\"text-align: right;\">                                         0.000</td><td style=\"text-align: right;\">                                               0.000</td><td style=\"text-align: right;\">                      0.000</td><td style=\"text-align: right;\">                                               0.000</td><td style=\"text-align: right;\">                                  0.000</td><td style=\"text-align: right;\">                                               0.000</td><td style=\"text-align: right;\">                                               0.000</td><td style=\"text-align: right;\">                0.000</td><td style=\"text-align: right;\">                                        0.000</td><td style=\"text-align: right;\">                                       0.000</td><td style=\"text-align: right;\">                                               0.000</td><td style=\"text-align: right;\">                                               0.000</td><td style=\"text-align: right;\">                                               0.000</td><td style=\"text-align: right;\">                                     0.000</td><td style=\"text-align: right;\">                         0.000</td><td style=\"text-align: right;\">                   0.000</td><td style=\"text-align: right;\">                                               0.000</td><td style=\"text-align: right;\">                                               0.000</td><td style=\"text-align: right;\">                                               0.000</td><td style=\"text-align: right;\">                               0.000</td><td style=\"text-align: right;\">                                               0.000</td><td style=\"text-align: right;\">                                             0.000</td><td style=\"text-align: right;\">                                               0.000</td><td style=\"text-align: right;\">                                               0.000</td><td style=\"text-align: right;\">                                            0.000</td><td style=\"text-align: right;\">                                               0.000</td><td style=\"text-align: right;\">                                               0.000</td><td style=\"text-align: right;\">                                       0.000</td><td style=\"text-align: right;\">                                               0.000</td></tr>\\n<tr><td>folding boxboard carton production                        </td><td>folding boxboard carton                           </td><td>RoW       </td><td>kilogram</td><td style=\"text-align: right;\">  2.361</td><td style=\"text-align: right;\">                     0.575</td><td style=\"text-align: right;\">                       0.016</td><td style=\"text-align: right;\">                                   0.000</td><td style=\"text-align: right;\">                                             0.014</td><td style=\"text-align: right;\">                                               0.124</td><td style=\"text-align: right;\">                   0.000</td><td style=\"text-align: right;\">                                          0.002</td><td style=\"text-align: right;\">                                               0.000</td><td style=\"text-align: right;\">                                               0.000</td><td style=\"text-align: right;\">                                               0.014</td><td style=\"text-align: right;\">                                               0.012</td><td style=\"text-align: right;\">                                               0.000</td><td style=\"text-align: right;\">                                               0.068</td><td style=\"text-align: right;\">                                          0.000</td><td style=\"text-align: right;\">                         0.001</td><td style=\"text-align: right;\">                 0.001</td><td style=\"text-align: right;\">                                            0.000</td><td style=\"text-align: right;\">                                     0.009</td><td style=\"text-align: right;\">                                         0.008</td><td style=\"text-align: right;\">                        0.000</td><td style=\"text-align: right;\">                                               0.000</td><td style=\"text-align: right;\">                                             0.032</td><td style=\"text-align: right;\">                   0.004</td><td style=\"text-align: right;\">                              0.002</td><td style=\"text-align: right;\">                                               0.002</td><td style=\"text-align: right;\">                            0.021</td><td style=\"text-align: right;\">                                               0.001</td><td style=\"text-align: right;\">                                               0.017</td><td style=\"text-align: right;\">                       0.000</td><td style=\"text-align: right;\">                                               0.017</td><td style=\"text-align: right;\">           0.000</td><td style=\"text-align: right;\">                0.007</td><td style=\"text-align: right;\">                                        0.006</td><td style=\"text-align: right;\">                   0.000</td><td style=\"text-align: right;\">                                               0.004</td><td style=\"text-align: right;\">             0.000</td><td style=\"text-align: right;\">                       0.013</td><td style=\"text-align: right;\">                                               0.000</td><td style=\"text-align: right;\">                    0.000</td><td style=\"text-align: right;\">                                               0.000</td><td style=\"text-align: right;\">                0.004</td><td style=\"text-align: right;\">                                               0.005</td><td style=\"text-align: right;\">         0.000</td><td style=\"text-align: right;\">                                               0.000</td><td style=\"text-align: right;\">                                   0.005</td><td style=\"text-align: right;\">                                               0.002</td><td style=\"text-align: right;\">                           0.000</td><td style=\"text-align: right;\">                                         0.003</td><td style=\"text-align: right;\">                                            0.000</td><td style=\"text-align: right;\">                                               0.002</td><td style=\"text-align: right;\">                                        0.002</td><td style=\"text-align: right;\">                                  0.000</td><td style=\"text-align: right;\">                       0.002</td><td style=\"text-align: right;\">                 0.000</td><td style=\"text-align: right;\">                                               0.000</td><td style=\"text-align: right;\">                                  0.000</td><td style=\"text-align: right;\">                                               0.000</td><td style=\"text-align: right;\">                                               0.000</td><td style=\"text-align: right;\">                           0.001</td><td style=\"text-align: right;\">                                  0.000</td><td style=\"text-align: right;\">                                               0.000</td><td style=\"text-align: right;\">                                               0.000</td><td style=\"text-align: right;\">                                               0.000</td><td style=\"text-align: right;\">                                               0.000</td><td style=\"text-align: right;\">              0.000</td><td style=\"text-align: right;\">                                 0.000</td><td style=\"text-align: right;\">                          0.000</td><td style=\"text-align: right;\">        0.000</td><td style=\"text-align: right;\">                 0.000</td><td style=\"text-align: right;\">                                               0.000</td><td style=\"text-align: right;\">                                               0.000</td><td style=\"text-align: right;\">           0.000</td><td style=\"text-align: right;\">        0.000</td><td style=\"text-align: right;\">                0.000</td><td style=\"text-align: right;\">                                               0.000</td><td style=\"text-align: right;\">                                         0.000</td><td style=\"text-align: right;\">                                               0.000</td><td style=\"text-align: right;\">                      0.000</td><td style=\"text-align: right;\">                                               0.000</td><td style=\"text-align: right;\">                                  0.000</td><td style=\"text-align: right;\">                                               0.000</td><td style=\"text-align: right;\">                                               0.000</td><td style=\"text-align: right;\">                0.000</td><td style=\"text-align: right;\">                                        0.000</td><td style=\"text-align: right;\">                                       0.000</td><td style=\"text-align: right;\">                                               0.000</td><td style=\"text-align: right;\">                                               0.000</td><td style=\"text-align: right;\">                                               0.000</td><td style=\"text-align: right;\">                                     0.000</td><td style=\"text-align: right;\">                         0.000</td><td style=\"text-align: right;\">                   0.000</td><td style=\"text-align: right;\">                                               0.000</td><td style=\"text-align: right;\">                                               0.000</td><td style=\"text-align: right;\">                                               0.000</td><td style=\"text-align: right;\">                               0.000</td><td style=\"text-align: right;\">                                               0.000</td><td style=\"text-align: right;\">                                             0.000</td><td style=\"text-align: right;\">                                               0.000</td><td style=\"text-align: right;\">                                               0.000</td><td style=\"text-align: right;\">                                            0.000</td><td style=\"text-align: right;\">                                               0.000</td><td style=\"text-align: right;\">                                               0.000</td><td style=\"text-align: right;\">                                       0.000</td><td style=\"text-align: right;\">                                               0.000</td></tr>\\n</tbody>\\n</table>'"
      ]
     },
     "execution_count": 17,
     "metadata": {},
     "output_type": "execute_result"
    }
   ],
   "source": [
    "ba.table_for_grouped_leaves_compared_activities(boxes, ipcc)"
   ]
  },
  {
   "cell_type": "markdown",
   "id": "primary-chocolate",
   "metadata": {},
   "source": [
    "Note that the values for each category as the *fraction* of total impact."
   ]
  },
  {
   "cell_type": "markdown",
   "id": "adapted-surrey",
   "metadata": {},
   "source": [
    "At this point, one would have to choose one of these product types. For the sake of this example we will go with \"corrugated board box production\". As this is in China, we choose the \"RoW\" location."
   ]
  },
  {
   "cell_type": "code",
   "execution_count": 57,
   "id": "sudden-philosophy",
   "metadata": {},
   "outputs": [
    {
     "data": {
      "text/plain": [
       "'corrugated board box production' (kilogram, RoW, None)"
      ]
     },
     "execution_count": 57,
     "metadata": {},
     "output_type": "execute_result"
    }
   ],
   "source": [
    "box = next(act for act in ei \n",
    "         if act['name'] == 'corrugated board box production'\n",
    "         and act['location'] == 'RoW'\n",
    "         and act['unit'] == 'kilogram')\n",
    "box"
   ]
  },
  {
   "cell_type": "markdown",
   "id": "numeric-speech",
   "metadata": {},
   "source": [
    "## Examining a specific supply chain\n",
    "\n",
    "TBD"
   ]
  },
  {
   "cell_type": "code",
   "execution_count": 58,
   "id": "controlling-defense",
   "metadata": {},
   "outputs": [
    {
     "name": "stdout",
     "output_type": "stream",
     "text": [
      "1: 'corrugated board box production' (kilogram, RoW, None)\n",
      "  0.465: 'market for containerboard, fluting medium' (kilogram, RoW, None)\n",
      "  1.96e-06: 'market for butadiene' (kilogram, RoW, None)\n",
      "  0.000459: 'market for acrylic varnish, without water, in 87.5% solution state' (\n",
      "  3.36e-05: 'market for phenolic resin' (kilogram, RoW, None)\n",
      "  8.88e-06: 'market for carbon dioxide, liquid' (kilogram, RoW, None)\n",
      "  0.624: 'market for containerboard, linerboard' (kilogram, RoW, None)\n",
      "  9.38e-05: 'market for propane, burned in building machine' (megajoule, GLO, None\n",
      "  4.58e-05: 'market for perlite' (kilogram, GLO, None)\n",
      "  0.00113: 'market for sodium hydroxide, without water, in 50% solution state' (k\n",
      "  -6.21e-08: 'market for wastewater from maize starch production' (cubic meter, GLO\n",
      "  -0.000538: 'market for sludge from pulp and paper production' (kilogram, RoW, Non\n",
      "  1.96e-06: 'market for styrene' (kilogram, GLO, None)\n",
      "  1.88e-05: 'market for vinyl acetate' (kilogram, GLO, None)\n",
      "  -2.79e-05: 'market for waste mineral oil' (kilogram, RoW, None)\n",
      "  -0.00044: 'market for waste paint' (kilogram, RoW, None)\n",
      "  0.0187: 'market for natural gas, low pressure' (cubic meter, RoW, None)\n",
      "  0.00153: 'market for packaging film, low density polyethylene' (kilogram, GLO, \n",
      "  2.33e-12: 'market for packaging box factory' (unit, GLO, None)\n",
      "  0.0171: 'market for maize starch' (kilogram, GLO, None)\n",
      "  -1.67e-05: 'market for wastewater, average' (cubic meter, RoW, None)\n",
      "  0.000975: 'market for printing ink, offset, without solvent, in 47.5% solution s\n",
      "  0.000345: 'market for ethylene vinyl acetate copolymer' (kilogram, RoW, None)\n",
      "  0.000638: 'market for wood chips, dry, measured as dry mass' (kilogram, RoW, Non\n",
      "  0.0073: 'market for potato starch' (kilogram, GLO, None)\n",
      "  0.000867: 'market for borax, anhydrous, powder' (kilogram, GLO, None)\n",
      "  -0.101: 'waste paperboard, sorted, Recycled Content cut-off' (kilogram, GLO, N\n",
      "  6.56e-06: 'market for diesel, low-sulfur' (kilogram, BR, None)\n",
      "  6.62e-06: 'market for diesel, low-sulfur' (kilogram, CO, None)\n",
      "  1.32e-05: 'market for diesel, low-sulfur' (kilogram, IN, None)\n",
      "  4.39e-07: 'market for diesel, low-sulfur' (kilogram, PE, None)\n",
      "  2.97e-06: 'market for diesel, low-sulfur' (kilogram, ZA, None)\n",
      "  0.000158: 'market for diesel, low-sulfur' (kilogram, RoW, None)\n",
      "  -3.76e-06: 'market for waste plastic, mixture' (kilogram, BR, None)\n",
      "  -2.51e-07: 'market for waste plastic, mixture' (kilogram, CO, None)\n",
      "  -1.9e-08: 'market for waste plastic, mixture' (kilogram, CY, None)\n",
      "  -1.04e-07: 'market for waste plastic, mixture' (kilogram, IN, None)\n",
      "  -4.2e-08: 'market for waste plastic, mixture' (kilogram, PE, None)\n",
      "  -9.86e-08: 'market for waste plastic, mixture' (kilogram, ZA, None)\n",
      "  0.00416: 'market for tap water' (kilogram, BR, None)\n",
      "  0.000829: 'market for tap water' (kilogram, CO, None)\n",
      "  0.0209: 'market for tap water' (kilogram, IN, None)\n",
      "  0.000543: 'market for tap water' (kilogram, PE, None)\n",
      "  0.00155: 'market for tap water' (kilogram, ZA, None)\n",
      "  0.239: 'market for tap water' (kilogram, RoW, None)\n",
      "  -5.18e-08: 'market for municipal solid waste' (kilogram, CY, None)\n",
      "  -7.4e-08: 'market for municipal solid waste' (kilogram, IN, None)\n",
      "  -0.000145: 'market for municipal solid waste' (kilogram, RoW, None)\n",
      "  2.45e-05: 'market for light fuel oil' (kilogram, BR, None)\n",
      "  3.53e-06: 'market for light fuel oil' (kilogram, CO, None)\n",
      "  4.94e-05: 'market for light fuel oil' (kilogram, IN, None)\n",
      "  3.28e-06: 'market for light fuel oil' (kilogram, PE, None)\n",
      "  4.75e-06: 'market for light fuel oil' (kilogram, ZA, None)\n",
      "  0.000497: 'market for light fuel oil' (kilogram, RoW, None)\n",
      "  2.31e-05: 'market for heavy fuel oil' (kilogram, BR, None)\n",
      "  6.02e-06: 'market for heavy fuel oil' (kilogram, CO, None)\n",
      "  1.78e-05: 'market for heavy fuel oil' (kilogram, IN, None)\n",
      "  3.51e-06: 'market for heavy fuel oil' (kilogram, PE, None)\n",
      "  4.5e-06: 'market for heavy fuel oil' (kilogram, ZA, None)\n",
      "  0.000417: 'market for heavy fuel oil' (kilogram, RoW, None)\n",
      "  0.000921: 'market for electricity, medium voltage' (kilowatt hour, AU, None)\n",
      "  0.000175: 'market for electricity, medium voltage' (kilowatt hour, NZ, None)\n",
      "  0.00141: 'market group for electricity, medium voltage' (kilowatt hour, Canada \n",
      "  0.00294: 'market group for electricity, medium voltage' (kilowatt hour, RAF, No\n",
      "  0.0426: 'market group for electricity, medium voltage' (kilowatt hour, RAS, No\n",
      "  0.00598: 'market group for electricity, medium voltage' (kilowatt hour, RLA, No\n",
      "  0.0177: 'market group for electricity, medium voltage' (kilowatt hour, US, Non\n",
      "  2.72e-05: 'market for liquefied petroleum gas' (kilogram, BR, None)\n",
      "  9.64e-05: 'market for liquefied petroleum gas' (kilogram, IN, None)\n",
      "  8.52e-06: 'market for liquefied petroleum gas' (kilogram, PE, None)\n",
      "  1.9e-06: 'market for liquefied petroleum gas' (kilogram, ZA, None)\n",
      "  0.000406: 'market for liquefied petroleum gas' (kilogram, RoW, None)\n"
     ]
    }
   ],
   "source": [
    "ba.print_recursive_supply_chain(box, max_level=1)"
   ]
  },
  {
   "cell_type": "markdown",
   "id": "imposed-drinking",
   "metadata": {},
   "source": [
    "This is a bit much - lots of data, less actual useful information. Let's examine not just the raw inputs themselves, but the ones which contribute to the actual environmental impact."
   ]
  },
  {
   "cell_type": "code",
   "execution_count": 59,
   "id": "authorized-soundtrack",
   "metadata": {},
   "outputs": [
    {
     "name": "stdout",
     "output_type": "stream",
     "text": [
      "Fraction of score | Absolute score | Activity\n",
      "1.000 (01.005): 'corrugated board box production' (kilogram, RoW, None)\n",
      "  0.398 (0.4002): 'market for containerboard, fluting medium' (kilogram, RoW, None)\n",
      "    0.334 (0.3357): 'containerboard production, fluting medium, recycled' (kilogram, RoW, \n",
      "      0.010 (0.01035): 'market for maize starch' (kilogram, GLO, None)\n",
      "      0.029 (0.02876): 'market for waste paperboard, sorted' (kilogram, GLO, None)\n",
      "      0.028 (0.02845): 'market for natural gas, low pressure' (cubic meter, RoW, None)\n",
      "      0.024 (0.02383): 'market for sludge from pulp and paper production' (kilogram, RoW, Non\n",
      "      0.037 (0.03693): 'market group for electricity, medium voltage' (kilowatt hour, RAS, No\n",
      "      0.024 (0.02368): 'market for heat, district or industrial, other than natural gas' (meg\n",
      "      0.016 (0.01604): 'market for municipal solid waste' (kilogram, RoW, None)\n",
      "    0.044 (0.04383): 'containerboard production, fluting medium, semichemical' (kilogram, R\n",
      "    0.013 (0.01271): 'market for transport, freight, lorry, unspecified' (ton kilometer, Ro\n",
      "  0.451 (0.4536): 'market for containerboard, linerboard' (kilogram, RoW, None)\n",
      "    0.164 (0.1645): 'containerboard production, linerboard, kraftliner' (kilogram, RoW, No\n",
      "      0.055 (0.05494): 'market group for electricity, medium voltage' (kilowatt hour, RAS, No\n",
      "      0.013 (0.01301): 'market group for electricity, medium voltage' (kilowatt hour, US, Non\n",
      "    0.260 (0.2615): 'containerboard production, linerboard, testliner' (kilogram, RoW, Non\n",
      "      0.027 (0.02674): 'market for natural gas, low pressure' (cubic meter, RoW, None)\n",
      "      0.023 (0.02266): 'market for sludge from pulp and paper production' (kilogram, RoW, Non\n",
      "      0.028 (0.02823): 'market for waste paperboard, sorted' (kilogram, GLO, None)\n",
      "      0.017 (0.01658): 'market for municipal solid waste' (kilogram, RoW, None)\n",
      "    0.017 (0.01705): 'market for transport, freight, lorry, unspecified' (ton kilometer, Ro\n",
      "  0.010 (0.01024): 'market for natural gas, low pressure' (cubic meter, RoW, None)\n",
      "  0.014 (0.0142): 'market for maize starch' (kilogram, GLO, None)\n",
      "    0.013 (0.01272): 'maize starch production' (kilogram, RoW, None)\n",
      "  0.012 (0.01164): 'market for potato starch' (kilogram, GLO, None)\n",
      "    0.010 (0.01038): 'potato starch production' (kilogram, RoW, None)\n",
      "  0.040 (0.04013): 'market group for electricity, medium voltage' (kilowatt hour, RAS, No\n",
      "    0.021 (0.02081): 'market group for electricity, medium voltage' (kilowatt hour, CN, Non\n",
      "      0.020 (0.01963): 'market for electricity, medium voltage' (kilowatt hour, CN-SGCC, None\n"
     ]
    }
   ],
   "source": [
    "ba.print_recursive_calculation(box, ipcc)"
   ]
  },
  {
   "cell_type": "markdown",
   "id": "official-writing",
   "metadata": {},
   "source": [
    "What conclusions can we draw this analysis?\n",
    "\n",
    "* The supply chain for corrugated board production already has a significant fraction of recycled material from Asia (`RAS` in ecoinvent language).\n",
    "* The recycled material appears to be used in the corrugated section (fluting medium), not the inside/outside liners. We could modify this if we have more specific information.\n",
    "* We could consider modifying this supply chain to use the electricity and natural gas mixes present in China. But this probably requires some advanced techniques in the development branch of Brightway.\n",
    "* We don't need to worry about any other inputs, they are small and we almost certainly won't get better data."
   ]
  },
  {
   "cell_type": "markdown",
   "id": "unsigned-ending",
   "metadata": {},
   "source": [
    "## Building an inventory database for our specific box\n",
    "\n",
    "Best practice here is to create a new Brightway `Database` instance for each product under comparison, and use human-readable unique ID codes to make life easier. We don't define *how much* of each component here, but instead just the components themselves. We will need to have the following:\n",
    "\n",
    "* The box itself\n",
    "* Transport infrastructure: Pallet and container\n",
    "* Truck transport in China and UK\n",
    "* Printing\n",
    "* Ocean transport\n",
    "* Disposal: Ininceration or recycling"
   ]
  },
  {
   "cell_type": "markdown",
   "id": "restricted-capital",
   "metadata": {},
   "source": [
    "### Box itself"
   ]
  },
  {
   "cell_type": "code",
   "execution_count": 122,
   "id": "reliable-steam",
   "metadata": {},
   "outputs": [],
   "source": [
    "if \"corrugated box\" in bd.databases:\n",
    "    del bd.databases[\"corrugated box\"]"
   ]
  },
  {
   "cell_type": "code",
   "execution_count": 123,
   "id": "statewide-encounter",
   "metadata": {},
   "outputs": [],
   "source": [
    "box_db = bd.Database(\"corrugated box\")\n",
    "box_db.register()  # Without this it doesn't exist in the metadata registry"
   ]
  },
  {
   "cell_type": "code",
   "execution_count": 124,
   "id": "forty-eugene",
   "metadata": {},
   "outputs": [],
   "source": [
    "def get_activity(**attributes):\n",
    "    return next(act for act in ei if all(act[k] == v for k, v in attributes.items()))"
   ]
  },
  {
   "cell_type": "code",
   "execution_count": 125,
   "id": "related-bridges",
   "metadata": {},
   "outputs": [],
   "source": [
    "def create_proxy_activity(input_activity, **attributes):\n",
    "    act = box_db.new_activity(**attributes)\n",
    "    act.save()\n",
    "    \n",
    "    exc = act.new_exchange(input=input_activity, amount=1, type=\"technosphere\")\n",
    "    exc.save()"
   ]
  },
  {
   "cell_type": "code",
   "execution_count": 126,
   "id": "level-sculpture",
   "metadata": {},
   "outputs": [],
   "source": [
    "create_proxy_activity(input_activity=box, code=\"box\", location=\"GB\", unit=\"kilogram\", name=\"corrugated box\")"
   ]
  },
  {
   "cell_type": "markdown",
   "id": "positive-receiver",
   "metadata": {},
   "source": [
    "### Pallet"
   ]
  },
  {
   "cell_type": "code",
   "execution_count": 127,
   "id": "selective-certification",
   "metadata": {},
   "outputs": [
    {
     "data": {
      "text/plain": [
       "['market for EUR-flat pallet' (unit, RER, None),\n",
       " 'EUR-flat pallet production' (unit, RER, None),\n",
       " 'market for EUR-flat pallet' (unit, RoW, None),\n",
       " 'EUR-flat pallet production' (unit, RoW, None),\n",
       " 'glass wool mat production, with phenolic binder, uncoated, Saint-Gobain ISOVER SA' (kilogram, CH, None),\n",
       " 'glass wool mat production, with plant-based binder, uncoated, Saint-Gobain ISOVER SA' (kilogram, CH, None)]"
      ]
     },
     "execution_count": 127,
     "metadata": {},
     "output_type": "execute_result"
    }
   ],
   "source": [
    "ei.search(\"pallet\")"
   ]
  },
  {
   "cell_type": "code",
   "execution_count": 128,
   "id": "adequate-drink",
   "metadata": {},
   "outputs": [
    {
     "name": "stdout",
     "output_type": "stream",
     "text": [
      "All activities similar\n"
     ]
    }
   ],
   "source": [
    "ba.compare_activities_by_lcia_score([act for act in ei if act['name'] == 'market for EUR-flat pallet'], ipcc)"
   ]
  },
  {
   "cell_type": "markdown",
   "id": "figured-memorial",
   "metadata": {},
   "source": [
    "Use the global (`RoW`) one to be conservative."
   ]
  },
  {
   "cell_type": "code",
   "execution_count": 129,
   "id": "editorial-chester",
   "metadata": {},
   "outputs": [],
   "source": [
    "pallet = get_activity(name = 'market for EUR-flat pallet', location= 'RoW')"
   ]
  },
  {
   "cell_type": "code",
   "execution_count": 130,
   "id": "victorian-heather",
   "metadata": {},
   "outputs": [],
   "source": [
    "create_proxy_activity(input_activity=pallet, code=\"pallet\", location=\"GB\", unit=\"unit\", name=\"pallet\")"
   ]
  },
  {
   "cell_type": "markdown",
   "id": "deluxe-attraction",
   "metadata": {},
   "source": [
    "### Container"
   ]
  },
  {
   "cell_type": "code",
   "execution_count": 131,
   "id": "killing-deviation",
   "metadata": {},
   "outputs": [
    {
     "data": {
      "text/plain": [
       "['operation, intermodal shipping container, 40-foot' (kg*day, GLO, None),\n",
       " 'operation, intermodal shipping container, 20-foot' (kg*day, GLO, None),\n",
       " 'intermodal shipping container production, 20-foot' (unit, GLO, None),\n",
       " 'intermodal shipping container production, 40-foot' (unit, GLO, None),\n",
       " 'operation, intermodal shipping container, 45-foot, high-cube' (kg*day, GLO, None),\n",
       " 'operation, intermodal shipping container, 40-foot, high-cube' (kg*day, GLO, None),\n",
       " 'maintenance, intermodal shipping container, 40-foot' (unit, GLO, None),\n",
       " 'maintenance, intermodal shipping container, 20-foot' (unit, GLO, None),\n",
       " 'treatment of used intermodal shipping container, 20-foot' (unit, GLO, None),\n",
       " 'treatment of used intermodal shipping container, 40-foot' (unit, GLO, None),\n",
       " 'market for operation, intermodal shipping container' (kg*day, GLO, None),\n",
       " 'intermodal shipping container production, 40-foot, high-cube' (unit, GLO, None),\n",
       " 'intermodal shipping container production, 45-foot, high-cube' (unit, GLO, None),\n",
       " 'maintenance, intermodal shipping container, 45-foot, high-cube' (unit, GLO, None),\n",
       " 'maintenance, intermodal shipping container, 40-foot, high-cube' (unit, GLO, None),\n",
       " 'treatment of used intermodal shipping container, 40-foot, high-cube' (unit, GLO, None),\n",
       " 'treatment of used intermodal shipping container, 45-foot, high-cube' (unit, GLO, None),\n",
       " 'market for intermodal shipping container, 40-foot' (unit, GLO, None),\n",
       " 'market for intermodal shipping container, 20-foot' (unit, GLO, None),\n",
       " 'treatment of used reefer, intermodal shipping container, 40-foot, high-cube' (unit, GLO, None),\n",
       " 'market for used intermodal shipping container, 40-foot' (unit, GLO, None),\n",
       " 'market for maintenance, intermodal shipping container, 40-foot' (unit, GLO, None),\n",
       " 'market for maintenance, intermodal shipping container, 20-foot' (unit, GLO, None),\n",
       " 'market for used intermodal shipping container, 20-foot' (unit, GLO, None),\n",
       " 'reefer production, intermodal shipping container, 40-foot, high-cube, R134a as refrigerant' (unit, GLO, None)]"
      ]
     },
     "execution_count": 131,
     "metadata": {},
     "output_type": "execute_result"
    }
   ],
   "source": [
    "ei.search(\"intermodal shipping container\")"
   ]
  },
  {
   "cell_type": "markdown",
   "id": "linear-convert",
   "metadata": {},
   "source": [
    "Check to make sure `operation` includes both production and maintenance"
   ]
  },
  {
   "cell_type": "code",
   "execution_count": 132,
   "id": "awful-treat",
   "metadata": {},
   "outputs": [
    {
     "name": "stdout",
     "output_type": "stream",
     "text": [
      "1: 'operation, intermodal shipping container, 20-foot' (kg*day, GLO, None\n",
      "  1.04e-08: 'market for maintenance, intermodal shipping container, 20-foot' (unit\n",
      "  1.04e-08: 'market for intermodal shipping container, 20-foot' (unit, GLO, None)\n"
     ]
    }
   ],
   "source": [
    "ba.print_recursive_supply_chain(get_activity(name = 'operation, intermodal shipping container, 20-foot'), max_level=1)"
   ]
  },
  {
   "cell_type": "code",
   "execution_count": 133,
   "id": "aboriginal-warrior",
   "metadata": {},
   "outputs": [],
   "source": [
    "container = get_activity(name = 'operation, intermodal shipping container, 20-foot')"
   ]
  },
  {
   "cell_type": "code",
   "execution_count": 134,
   "id": "precise-raise",
   "metadata": {},
   "outputs": [],
   "source": [
    "create_proxy_activity(input_activity=container, code=\"container\", location=\"GB\", unit=\"kilogram * day\", name=\"container\")"
   ]
  },
  {
   "cell_type": "markdown",
   "id": "velvet-product",
   "metadata": {},
   "source": [
    "### Truck transport"
   ]
  },
  {
   "cell_type": "code",
   "execution_count": 135,
   "id": "crazy-composer",
   "metadata": {},
   "outputs": [
    {
     "data": {
      "text/plain": [
       "['transport, freight, lorry, all sizes, EURO3 to generic market for transport, freight, lorry, unspecified' (ton kilometer, RER, None),\n",
       " 'transport, freight, lorry, all sizes, EURO3 to generic market for transport, freight, lorry, unspecified' (ton kilometer, RoW, None),\n",
       " 'transport, freight, lorry, all sizes, unregulated to generic market for transport, freight, lorry, unspecified' (ton kilometer, ZA, None),\n",
       " 'transport, freight, lorry, all sizes, EURO1 to generic market for transport, freight, lorry, unspecified' (ton kilometer, ZA, None),\n",
       " 'transport, freight, lorry, all sizes, EURO2 to generic market for transport, freight, lorry, unspecified' (ton kilometer, ZA, None),\n",
       " 'market for transport, freight, lorry, unspecified' (ton kilometer, ZA, None),\n",
       " 'transport, freight, lorry, all sizes, EURO4 to generic market for transport, freight, lorry, unspecified' (ton kilometer, RER, None),\n",
       " 'transport, freight, lorry, all sizes, EURO4 to generic market for transport, freight, lorry, unspecified' (ton kilometer, RoW, None),\n",
       " 'transport, freight, lorry, all sizes, EURO5 to generic market for transport, freight, lorry, unspecified' (ton kilometer, RER, None),\n",
       " 'transport, freight, lorry, all sizes, EURO5 to generic market for transport, freight, lorry, unspecified' (ton kilometer, RoW, None),\n",
       " 'transport, freight, lorry, all sizes, EURO6 to generic market for transport, freight, lorry, unspecified' (ton kilometer, RER, None),\n",
       " 'transport, freight, lorry, all sizes, EURO6 to generic market for transport, freight, lorry, unspecified' (ton kilometer, RoW, None),\n",
       " 'market for transport, freight, lorry, unspecified' (ton kilometer, RER, None),\n",
       " 'lorry production, 16 metric ton' (unit, RoW, None),\n",
       " 'lorry production, 40 metric ton' (unit, RoW, None),\n",
       " 'lorry production, 28 metric ton' (unit, RoW, None),\n",
       " 'lorry production, 28 metric ton' (unit, RER, None),\n",
       " 'lorry production, 16 metric ton' (unit, RER, None),\n",
       " 'lorry production, 40 metric ton' (unit, RER, None),\n",
       " 'transport, freight, lorry with reefer, cooling' (ton kilometer, GLO, None),\n",
       " 'transport, freight, lorry with reefer, freezing' (ton kilometer, GLO, None),\n",
       " 'market group for transport, freight, lorry, unspecified' (ton kilometer, GLO, None),\n",
       " 'maintenance, lorry 16 metric ton' (unit, Europe without Switzerland, None),\n",
       " 'market for lorry, 28 metric ton' (unit, RER, None),\n",
       " 'market for lorry, 40 metric ton' (unit, RER, None)]"
      ]
     },
     "execution_count": 135,
     "metadata": {},
     "output_type": "execute_result"
    }
   ],
   "source": [
    "ei.search(\"lorry\")"
   ]
  },
  {
   "cell_type": "markdown",
   "id": "induced-salem",
   "metadata": {},
   "source": [
    "In the future, we should definintely revise this to reflect the lorry class and load factor. For now, we use the generic markets for `RoW` (travel in China) and `RER` (travel in UK)."
   ]
  },
  {
   "cell_type": "code",
   "execution_count": 136,
   "id": "dominant-assembly",
   "metadata": {},
   "outputs": [],
   "source": [
    "create_proxy_activity(\n",
    "    input_activity=get_activity(name='market for transport, freight, lorry, unspecified', location=\"RER\"), \n",
    "    code=\"lorry GB\", location=\"GB\", unit=\"ton kilometer\", name=\"lorry GB\"\n",
    ")\n",
    "create_proxy_activity(\n",
    "    input_activity=get_activity(name='market for transport, freight, lorry, unspecified', location=\"RoW\"), \n",
    "    code=\"lorry CN\", location=\"CN\", unit=\"ton kilometer\", name=\"lorry CN\"\n",
    ")"
   ]
  },
  {
   "cell_type": "markdown",
   "id": "innovative-energy",
   "metadata": {},
   "source": [
    "### Ocean freight"
   ]
  },
  {
   "cell_type": "code",
   "execution_count": 137,
   "id": "breathing-legislature",
   "metadata": {},
   "outputs": [
    {
     "data": {
      "text/plain": [
       "['container ship production' (unit, GLO, None),\n",
       " 'maintenance, container ship' (unit, GLO, None),\n",
       " 'market for container ship' (unit, GLO, None),\n",
       " 'market for maintenance, container ship' (unit, GLO, None),\n",
       " 'transport, freight, sea, container ship' (ton kilometer, GLO, None),\n",
       " 'transport, freight, sea, container ship with reefer, cooling' (ton kilometer, GLO, None),\n",
       " 'transport, freight, sea, container ship with reefer, freezing' (ton kilometer, GLO, None),\n",
       " 'market for transport, freight, sea, container ship' (ton kilometer, GLO, None),\n",
       " 'market for transport, freight, sea, container ship with reefer, freezing' (ton kilometer, GLO, None),\n",
       " 'market for transport, freight, sea, container ship with reefer, cooling' (ton kilometer, GLO, None),\n",
       " 'ferry production' (unit, GLO, None),\n",
       " 'tanker production, for liquid goods other than petroleum and liquefied natural gas' (unit, GLO, None),\n",
       " 'tanker production, for petroleum' (unit, GLO, None),\n",
       " 'tanker production, for liquefied natural gas' (unit, GLO, None),\n",
       " 'bulk carrier production, for dry goods' (unit, GLO, None),\n",
       " 'trawler construction, steel' (kilogram, RoW, None),\n",
       " 'trawler construction, steel' (kilogram, PE, None),\n",
       " 'trawler maintenance, steel' (kilogram, RoW, None),\n",
       " 'trawler maintenance, steel' (kilogram, PE, None),\n",
       " 'treatment of used trawler, steel' (kilogram, PE, None),\n",
       " 'purse seiner maintenance, wood' (kilogram, RoW, None),\n",
       " 'treatment of used trawler, steel' (kilogram, RoW, None),\n",
       " 'purse seiner construction, wood' (kilogram, RoW, None),\n",
       " 'purse seiner construction, wood' (kilogram, RLA, None),\n",
       " 'treatment of used purse seiner, wood' (kilogram, RLA, None)]"
      ]
     },
     "execution_count": 137,
     "metadata": {},
     "output_type": "execute_result"
    }
   ],
   "source": [
    "ei.search(\"ship \")"
   ]
  },
  {
   "cell_type": "code",
   "execution_count": 138,
   "id": "medium-bearing",
   "metadata": {},
   "outputs": [],
   "source": [
    "create_proxy_activity(\n",
    "    input_activity=get_activity(name='market for transport, freight, sea, container ship'), \n",
    "    code=\"ship\", location=\"GLO\", unit=\"ton kilometer\", name=\"ship\"\n",
    ")"
   ]
  },
  {
   "cell_type": "markdown",
   "id": "accepting-royal",
   "metadata": {},
   "source": [
    "### Printing"
   ]
  },
  {
   "cell_type": "code",
   "execution_count": 139,
   "id": "received-contractor",
   "metadata": {},
   "outputs": [
    {
     "data": {
      "text/plain": [
       "['carton board box production service, with gravure printing' (kilogram, CA-QC, None),\n",
       " 'carton board box production service, with offset printing' (kilogram, CA-QC, None),\n",
       " 'printing ink production, offset, product in 47.5% solution state' (kilogram, RER, None),\n",
       " 'printing ink production, offset, product in 47.5% solution state' (kilogram, RoW, None),\n",
       " 'printing ink production, rotogravure, product in 55% toluene solution state' (kilogram, RER, None),\n",
       " 'printing ink production, rotogravure, product in 55% toluene solution state' (kilogram, RoW, None),\n",
       " 'market for printing ink, offset, without solvent, in 47.5% solution state' (kilogram, RER, None),\n",
       " 'market for printing ink, rotogravure, without solvent, in 55% toluene solution state' (kilogram, RER, None),\n",
       " 'carton board box production service, with gravure printing' (kilogram, RoW, None),\n",
       " 'carton board box production service, with gravure printing' (kilogram, CH, None),\n",
       " 'market for carton board box production, with gravure printing' (kilogram, GLO, None),\n",
       " 'carton board box production service, with offset printing' (kilogram, CH, None),\n",
       " 'carton board box production service, with offset printing' (kilogram, RoW, None),\n",
       " 'market for carton board box production, with offset printing' (kilogram, GLO, None),\n",
       " 'market for printing ink, offset, without solvent, in 47.5% solution state' (kilogram, RoW, None),\n",
       " 'market for printing ink, rotogravure, without solvent, in 55% toluene solution state' (kilogram, RoW, None),\n",
       " 'offset printing, per kg printed paper' (kilogram, CH, None),\n",
       " 'offset printing, per kg printed paper' (kilogram, RoW, None),\n",
       " 'resistor production, auxilliaries and energy use' (kilogram, GLO, None),\n",
       " 'resistor production, metal film type, through-hole mounting' (kilogram, GLO, None),\n",
       " 'operation, printer, laser, black/white, per kg printed paper' (kilogram, CH, None),\n",
       " 'operation, printer, laser, black/white, per kg printed paper' (kilogram, Europe without Switzerland, None),\n",
       " 'operation, printer, laser, black/white, per kg printed paper' (kilogram, RoW, None),\n",
       " 'operation, printer, laser, colour, per kg printed paper' (kilogram, Europe without Switzerland, None),\n",
       " 'operation, printer, laser, colour, per kg printed paper' (kilogram, CH, None)]"
      ]
     },
     "execution_count": 139,
     "metadata": {},
     "output_type": "execute_result"
    }
   ],
   "source": [
    "ei.search(\"printing\")"
   ]
  },
  {
   "cell_type": "code",
   "execution_count": 140,
   "id": "fundamental-cooperation",
   "metadata": {},
   "outputs": [
    {
     "name": "stdout",
     "output_type": "stream",
     "text": [
      "1: 'offset printing, per kg printed paper' (kilogram, RoW, None)\n",
      "  0.000398: 'market for thermoforming, with calendering' (kilogram, GLO, None)\n",
      "  1.39: 'market for paper, woodfree, coated' (kilogram, RoW, None)\n",
      "  0.000172: 'market for maize starch' (kilogram, GLO, None)\n",
      "  0.0249: 'market for sheet rolling, aluminium' (kilogram, GLO, None)\n",
      "  0.000179: 'market for synthetic rubber' (kilogram, GLO, None)\n",
      "  0.00927: 'market for printing ink, offset, without solvent, in 47.5% solution s\n",
      "  0.000218: 'market for industrial machine, heavy, unspecified' (kilogram, RoW, No\n",
      "  0.00305: 'market for white spirit' (kilogram, GLO, None)\n",
      "  0.000282: 'market for textile, woven cotton' (kilogram, GLO, None)\n",
      "  0.0249: 'market for aluminium, wrought alloy' (kilogram, GLO, None)\n",
      "  0.00119: 'market for acrylic dispersion, without water, in 65% solution state' \n",
      "  0.000391: 'market for acrylic varnish, without water, in 87.5% solution state' (\n",
      "  0.00218: 'market for isopropanol' (kilogram, RoW, None)\n",
      "  0.000524: 'market for ethylene glycol monoethyl ether' (kilogram, RoW, None)\n",
      "  -0.39: 'waste paper, unsorted, Recycled Content cut-off' (kilogram, GLO, None\n",
      "  -0.0882: 'waste paperboard, unsorted, Recycled Content cut-off' (kilogram, GLO,\n",
      "  0.00751: 'market for electricity, low voltage' (kilowatt hour, AU, None)\n",
      "  0.00137: 'market for electricity, low voltage' (kilowatt hour, NZ, None)\n",
      "  0.0303: 'market for electricity, low voltage' (kilowatt hour, RU, None)\n",
      "  0.109: 'market group for electricity, low voltage' (kilowatt hour, Europe wit\n",
      "  0.0222: 'market group for electricity, low voltage' (kilowatt hour, RAF, None)\n",
      "  0.337: 'market group for electricity, low voltage' (kilowatt hour, RAS, None)\n",
      "  0.0544: 'market group for electricity, low voltage' (kilowatt hour, RLA, None)\n",
      "  0.158: 'market group for electricity, low voltage' (kilowatt hour, RNA, None)\n",
      "  0.00103: 'market for corrugated board box' (kilogram, CA-QC, None)\n",
      "  0.0872: 'market for corrugated board box' (kilogram, RoW, None)\n",
      "  -0.000421: 'market for spent solvent mixture' (kilogram, Europe without Switzerla\n",
      "  -0.00108: 'market for spent solvent mixture' (kilogram, RoW, None)\n",
      "  -2.43e-05: 'market for waste emulsion paint' (kilogram, Europe without Switzerlan\n",
      "  -0.000258: 'market for waste emulsion paint' (kilogram, RoW, None)\n",
      "  0.0189: 'market for heat, district or industrial, natural gas' (megajoule, CA-\n",
      "  0.421: 'market for heat, district or industrial, natural gas' (megajoule, Eur\n",
      "  1.14: 'market for heat, district or industrial, natural gas' (megajoule, RoW\n"
     ]
    }
   ],
   "source": [
    "ba.print_recursive_supply_chain(get_activity(name='offset printing, per kg printed paper'), max_level=1)"
   ]
  },
  {
   "cell_type": "markdown",
   "id": "sporting-neutral",
   "metadata": {},
   "source": [
    "This dataset is a combination of printing, and the material it is printed on. We need to separate the two."
   ]
  },
  {
   "cell_type": "code",
   "execution_count": 141,
   "id": "pleased-single",
   "metadata": {},
   "outputs": [],
   "source": [
    "import uuid\n",
    "import copy\n",
    "\n",
    "def copy_activity_and_exclude_some_inputs(original, exclusion_function=None, **attributes):\n",
    "    if exclusion_function is None:\n",
    "        exclusion_function = lambda x: False\n",
    "        \n",
    "    activity = bd.backends.peewee.proxies.Activity()\n",
    "    for key, value in original.items():\n",
    "        if key != \"id\":\n",
    "            activity[key] = value\n",
    "    for k, v in attributes.items():\n",
    "        activity._data[k] = v\n",
    "    if \"code\" not in activity._data:\n",
    "        activity._data[\"code\"] = str(code or uuid.uuid4().hex)\n",
    "    activity.save()\n",
    "\n",
    "    for exc in original.exchanges():\n",
    "        if exclusion_function(exc):\n",
    "            continue\n",
    "        data = copy.deepcopy(exc._data)\n",
    "        data[\"output\"] = activity.key\n",
    "        # Change `input` for production exchanges\n",
    "        if exc[\"input\"] == exc[\"output\"]:\n",
    "            data[\"input\"] = activity.key\n",
    "        bd.backends.peewee.schema.ExchangeDataset.create(**bd.backends.peewee.utils.dict_as_exchangedataset(data))\n",
    "    return activity"
   ]
  },
  {
   "cell_type": "code",
   "execution_count": 142,
   "id": "outer-vector",
   "metadata": {},
   "outputs": [
    {
     "data": {
      "text/plain": [
       "'printing' (kilogram, CN, None)"
      ]
     },
     "execution_count": 142,
     "metadata": {},
     "output_type": "execute_result"
    }
   ],
   "source": [
    "copy_activity_and_exclude_some_inputs(\n",
    "    original=get_activity(name='offset printing, per kg printed paper'), \n",
    "    exclusion_function=lambda x: any(string in x.input['name'] for string in ('paper', 'corrugated')), \n",
    "    database='corrugated box',\n",
    "    code='printing',\n",
    "    name='printing',\n",
    "    location='CN',\n",
    ")"
   ]
  },
  {
   "cell_type": "markdown",
   "id": "forty-equipment",
   "metadata": {},
   "source": [
    "### Incineration"
   ]
  },
  {
   "cell_type": "code",
   "execution_count": 143,
   "id": "accepted-tracker",
   "metadata": {},
   "outputs": [
    {
     "data": {
      "text/plain": [
       "['treatment of waste packaging paper, municipal incineration' (megajoule, RoW, None),\n",
       " 'treatment of waste packaging paper, municipal incineration' (kilowatt hour, RoW, None),\n",
       " 'market for waste packaging paper' (kilogram, BR, None),\n",
       " 'market for waste packaging paper' (kilogram, BE, None),\n",
       " 'market for waste packaging paper' (kilogram, IS, None),\n",
       " 'market for waste packaging paper' (kilogram, SK, None),\n",
       " 'market for waste packaging paper' (kilogram, NO, None),\n",
       " 'market for waste packaging paper' (kilogram, FI, None),\n",
       " 'market for waste packaging paper' (kilogram, FR, None),\n",
       " 'market for waste packaging paper' (kilogram, AT, None),\n",
       " 'market for waste packaging paper' (kilogram, CH, None),\n",
       " 'market for waste packaging paper' (kilogram, MT, None),\n",
       " 'market for waste packaging paper' (kilogram, GR, None),\n",
       " 'market for waste packaging paper' (kilogram, SE, None),\n",
       " 'market for waste packaging paper' (kilogram, DK, None),\n",
       " 'market for waste packaging paper' (kilogram, PT, None),\n",
       " 'market for waste packaging paper' (kilogram, IT, None),\n",
       " 'market for waste packaging paper' (kilogram, NL, None),\n",
       " 'market for waste packaging paper' (kilogram, LU, None),\n",
       " 'market for waste packaging paper' (kilogram, DE, None),\n",
       " 'market for waste packaging paper' (kilogram, GB, None),\n",
       " 'market for waste packaging paper' (kilogram, EE, None),\n",
       " 'market for waste packaging paper' (kilogram, ES, None),\n",
       " 'market for waste packaging paper' (kilogram, RO, None),\n",
       " 'market for waste packaging paper' (kilogram, AL, None)]"
      ]
     },
     "execution_count": 143,
     "metadata": {},
     "output_type": "execute_result"
    }
   ],
   "source": [
    "ei.search(\"packaging incineration\")"
   ]
  },
  {
   "cell_type": "markdown",
   "id": "spoken-repair",
   "metadata": {},
   "source": [
    "Unfortunately, ecoinvent assumes that packaging paper is 100% recycled, and the incinceration datasets are actually for the production of heat (MJ) or electricity (kWh) from incineration."
   ]
  },
  {
   "cell_type": "code",
   "execution_count": 144,
   "id": "narrow-witness",
   "metadata": {},
   "outputs": [
    {
     "name": "stdout",
     "output_type": "stream",
     "text": [
      "1: 'market for waste packaging paper' (kilogram, GB, None)\n",
      "  0.0717: 'market for transport, freight, lorry, unspecified' (ton kilometer, RE\n",
      "  1: 'waste packaging paper, Recycled Content cut-off' (kilogram, GLO, None\n"
     ]
    }
   ],
   "source": [
    "ba.print_recursive_supply_chain(get_activity(name='market for waste packaging paper', location='GB'), max_level=1)"
   ]
  },
  {
   "cell_type": "code",
   "execution_count": 145,
   "id": "focal-messaging",
   "metadata": {},
   "outputs": [
    {
     "data": {
      "text/plain": [
       "['treatment of waste paperboard, municipal incineration' (kilogram, RoW, None),\n",
       " 'treatment of waste paperboard, municipal incineration' (kilogram, CH, None),\n",
       " 'market for waste paperboard' (kilogram, BR, None),\n",
       " 'market for waste paperboard' (kilogram, MT, None),\n",
       " 'market for waste paperboard' (kilogram, SE, None),\n",
       " 'market for waste paperboard' (kilogram, NL, None),\n",
       " 'market for waste paperboard' (kilogram, FI, None),\n",
       " 'market for waste paperboard' (kilogram, DK, None),\n",
       " 'market for waste paperboard' (kilogram, GB, None),\n",
       " 'market for waste paperboard' (kilogram, IS, None),\n",
       " 'market for waste paperboard' (kilogram, LU, None),\n",
       " 'market for waste paperboard' (kilogram, SI, None),\n",
       " 'market for waste paperboard' (kilogram, IT, None),\n",
       " 'market for waste paperboard' (kilogram, DE, None),\n",
       " 'market for waste paperboard' (kilogram, SK, None),\n",
       " 'market for waste paperboard' (kilogram, PT, None),\n",
       " 'market for waste paperboard' (kilogram, AT, None),\n",
       " 'market for waste paperboard' (kilogram, BE, None),\n",
       " 'market for waste paperboard' (kilogram, IE, None),\n",
       " 'market for waste paperboard' (kilogram, CH, None),\n",
       " 'market for waste paperboard' (kilogram, GR, None),\n",
       " 'market for waste paperboard' (kilogram, BG, None),\n",
       " 'market for waste paperboard' (kilogram, CZ, None),\n",
       " 'market for waste paperboard' (kilogram, FR, None),\n",
       " 'market for waste paperboard' (kilogram, EE, None)]"
      ]
     },
     "execution_count": 145,
     "metadata": {},
     "output_type": "execute_result"
    }
   ],
   "source": [
    "ei.search(\"paper* incineration\")"
   ]
  },
  {
   "cell_type": "markdown",
   "id": "fossil-bacteria",
   "metadata": {},
   "source": [
    "We will use `treatment of waste paperboard, municipal incineration`, even though this is a slightly different product, as we ddon't have a great alternative."
   ]
  },
  {
   "cell_type": "code",
   "execution_count": 146,
   "id": "prescription-australian",
   "metadata": {},
   "outputs": [],
   "source": [
    "create_proxy_activity(\n",
    "    input_activity=get_activity(\n",
    "        name='treatment of waste paperboard, municipal incineration', \n",
    "        location='RoW',\n",
    "        unit='kilogram'\n",
    "    ), \n",
    "    code=\"incineration\", location=\"GB\", unit=\"kilogram\", name=\"incineration\"\n",
    ")"
   ]
  },
  {
   "cell_type": "markdown",
   "id": "ranging-harrison",
   "metadata": {},
   "source": [
    "### Recycling"
   ]
  },
  {
   "cell_type": "code",
   "execution_count": 147,
   "id": "concrete-lewis",
   "metadata": {},
   "outputs": [],
   "source": [
    "create_proxy_activity(\n",
    "    input_activity=get_activity(name='waste packaging paper, Recycled Content cut-off'), \n",
    "    code=\"recycling\", location=\"GB\", unit=\"kilogram\", name=\"recycling\"\n",
    ")"
   ]
  },
  {
   "cell_type": "markdown",
   "id": "blessed-exposure",
   "metadata": {},
   "source": [
    "## Building and interpreting a dynamic LCA"
   ]
  },
  {
   "cell_type": "code",
   "execution_count": 155,
   "id": "toxic-mustang",
   "metadata": {},
   "outputs": [],
   "source": [
    "def functional_unit(mass, cn_truck_distance, uk_truck_distance, ocean_distance, ocean_time_in_days, treatment=\"recycling\"):\n",
    "    treatment_options = {\n",
    "        'recycling': (\"corrugated box\", \"recycling\"),\n",
    "        'incineration': (\"corrugated box\", \"incineration\"),\n",
    "    }\n",
    "\n",
    "    return {\n",
    "        (\"corrugated box\", \"box\"): mass,\n",
    "        (\"corrugated box\", \"printing\"): mass,\n",
    "        treatment_options[treatment]: mass * (1 if treatment == 'recycling' else -1),\n",
    "        (\"corrugated box\", \"ship\"): mass / 1000 * ocean_distance,\n",
    "        (\"corrugated box\", \"pallet\"): (ocean_time_in_days + 30) / 365 / 5 / 1800, # Average lifetime is 5 years, 1800 kg weight limit\n",
    "        (\"corrugated box\", \"container\"): mass * (ocean_time_in_days + 30),\n",
    "        (\"corrugated box\", \"lorry GB\"): mass / 1000 * uk_truck_distance,\n",
    "        (\"corrugated box\", \"lorry CN\"): mass / 1000 * cn_truck_distance,\n",
    "    }"
   ]
  },
  {
   "cell_type": "code",
   "execution_count": 156,
   "id": "swedish-madrid",
   "metadata": {},
   "outputs": [],
   "source": [
    "lca = bc.LCA(\n",
    "    demand=functional_unit(\n",
    "        mass=0.2, \n",
    "        cn_truck_distance=1.6 * 100, \n",
    "        uk_truck_distance=1.6 * 250, \n",
    "        ocean_distance=11076 * 1.852, # nautical miles to kilometers\n",
    "        # 12 knots/hr; (nau mi * km / nau mi) / (12 knots/hr * km/knot) / hours/day\n",
    "        ocean_time_in_days=(11076 * 1.852) / (12 * 1.852) / 24, # ~38\n",
    "        treatment=\"recycling\"\n",
    "    ),\n",
    "    method=ipcc\n",
    ")\n",
    "lca.lci()\n",
    "lca.lcia()"
   ]
  },
  {
   "cell_type": "code",
   "execution_count": 157,
   "id": "recognized-creation",
   "metadata": {},
   "outputs": [
    {
     "data": {
      "text/plain": [
       "0.31369493632417994"
      ]
     },
     "execution_count": 157,
     "metadata": {},
     "output_type": "execute_result"
    }
   ],
   "source": [
    "lca.score"
   ]
  },
  {
   "cell_type": "code",
   "execution_count": 158,
   "id": "invisible-citation",
   "metadata": {},
   "outputs": [],
   "source": [
    "recycling_config = functional_unit(\n",
    "    mass=0.2, \n",
    "    cn_truck_distance=1.6 * 100, \n",
    "    uk_truck_distance=1.6 * 250, \n",
    "    ocean_distance=11076 * 1.852, # nautical miles to kilometers\n",
    "    # 12 knots/hr; (nau mi * km / nau mi) / (12 knots/hr * km/knot) / hours/day\n",
    "    ocean_time_in_days=(11076 * 1.852) / (12 * 1.852) / 24, # ~38\n",
    ")"
   ]
  },
  {
   "cell_type": "code",
   "execution_count": 162,
   "id": "express-asian",
   "metadata": {},
   "outputs": [
    {
     "name": "stdout",
     "output_type": "stream",
     "text": [
      "Fraction of score | Absolute score | Activity\n",
      "1.000 (0.5283): 'printing' (kilogram, CN, None)\n",
      "  0.049 (0.02612): 'market for printing ink, offset, without solvent, in 47.5% solution s\n",
      "    0.049 (0.02589): 'printing ink production, offset, product in 47.5% solution state' (ki\n",
      "      0.024 (0.0127): 'market for alkyd resin, long oil, without solvent, in 70% white spiri\n",
      "  0.159 (0.08406): 'market for electricity, low voltage' (kilowatt hour, CH, None)\n",
      "    0.150 (0.07912): 'electricity voltage transformation from medium to low voltage' (kilow\n",
      "      0.150 (0.07912): 'market for electricity, medium voltage' (kilowatt hour, CH, None)\n",
      "  0.024 (0.0129): 'sheet rolling, aluminium' (kilogram, RER, None)\n",
      "    0.011 (0.00585): 'market group for electricity, medium voltage' (kilowatt hour, RER, No\n",
      "      0.011 (0.005827): 'market group for electricity, medium voltage' (kilowatt hour, Europe \n",
      "  0.087 (0.04592): 'market for heat, district or industrial, natural gas' (megajoule, CH,\n",
      "    0.030 (0.01578): 'heat and power co-generation, natural gas, 1MW electrical, lean burn'\n",
      "    0.037 (0.01973): 'heat and power co-generation, natural gas, 200kW electrical, lean bur\n",
      "    0.020 (0.0104): 'heat and power co-generation, natural gas, 500kW electrical, lean bur\n",
      "  0.649 (0.3427): 'market for aluminium, wrought alloy' (kilogram, GLO, None)\n",
      "    0.637 (0.3363): 'aluminium ingot, primary, to aluminium, wrought alloy market' (kilogr\n",
      "      0.562 (0.2968): 'market for aluminium, primary, ingot' (kilogram, RoW, None)\n",
      "      0.029 (0.01536): 'market for aluminium, primary, ingot' (kilogram, IAI Area, North Amer\n",
      "      0.046 (0.0242): 'market for aluminium, primary, ingot' (kilogram, IAI Area, EU27 & EFT\n"
     ]
    }
   ],
   "source": [
    "ba.print_recursive_calculation(bd.get_activity(('corrugated box', 'printing')), ipcc)"
   ]
  },
  {
   "cell_type": "code",
   "execution_count": 162,
   "id": "lucky-trading",
   "metadata": {},
   "outputs": [
    {
     "name": "stdout",
     "output_type": "stream",
     "text": [
      "Fraction of score | Absolute score | Activity\n",
      "1.000 (0.5283): 'printing' (kilogram, CN, None)\n",
      "  0.049 (0.02612): 'market for printing ink, offset, without solvent, in 47.5% solution s\n",
      "    0.049 (0.02589): 'printing ink production, offset, product in 47.5% solution state' (ki\n",
      "      0.024 (0.0127): 'market for alkyd resin, long oil, without solvent, in 70% white spiri\n",
      "  0.159 (0.08406): 'market for electricity, low voltage' (kilowatt hour, CH, None)\n",
      "    0.150 (0.07912): 'electricity voltage transformation from medium to low voltage' (kilow\n",
      "      0.150 (0.07912): 'market for electricity, medium voltage' (kilowatt hour, CH, None)\n",
      "  0.024 (0.0129): 'sheet rolling, aluminium' (kilogram, RER, None)\n",
      "    0.011 (0.00585): 'market group for electricity, medium voltage' (kilowatt hour, RER, No\n",
      "      0.011 (0.005827): 'market group for electricity, medium voltage' (kilowatt hour, Europe \n",
      "  0.087 (0.04592): 'market for heat, district or industrial, natural gas' (megajoule, CH,\n",
      "    0.030 (0.01578): 'heat and power co-generation, natural gas, 1MW electrical, lean burn'\n",
      "    0.037 (0.01973): 'heat and power co-generation, natural gas, 200kW electrical, lean bur\n",
      "    0.020 (0.0104): 'heat and power co-generation, natural gas, 500kW electrical, lean bur\n",
      "  0.649 (0.3427): 'market for aluminium, wrought alloy' (kilogram, GLO, None)\n",
      "    0.637 (0.3363): 'aluminium ingot, primary, to aluminium, wrought alloy market' (kilogr\n",
      "      0.562 (0.2968): 'market for aluminium, primary, ingot' (kilogram, RoW, None)\n",
      "      0.029 (0.01536): 'market for aluminium, primary, ingot' (kilogram, IAI Area, North Amer\n",
      "      0.046 (0.0242): 'market for aluminium, primary, ingot' (kilogram, IAI Area, EU27 & EFT\n"
     ]
    }
   ],
   "source": [
    "ba.print_recursive_calculation(bd.get_activity(('corrugated box', 'printing')), ipcc)"
   ]
  },
  {
   "cell_type": "code",
   "execution_count": 159,
   "id": "relative-retreat",
   "metadata": {},
   "outputs": [
    {
     "name": "stdout",
     "output_type": "stream",
     "text": [
      "('corrugated box', 'box') 0.1539705422272089\n",
      "('corrugated box', 'printing') 0.1056659317408352\n",
      "('corrugated box', 'recycling') 0.0\n",
      "('corrugated box', 'ship') 0.038388738683975986\n",
      "('corrugated box', 'pallet') -0.0008524594708889591\n",
      "('corrugated box', 'container') 0.0016516624990677061\n",
      "('corrugated box', 'lorry GB') 0.010500018552574555\n",
      "('corrugated box', 'lorry CN') 0.004370502091406333\n"
     ]
    }
   ],
   "source": [
    "for k, v in recycling_config.items():\n",
    "    lca.redo_lcia({k: v})\n",
    "    print(k, lca.score)"
   ]
  },
  {
   "cell_type": "code",
   "execution_count": 160,
   "id": "unlimited-wrestling",
   "metadata": {},
   "outputs": [],
   "source": [
    "lca.redo_lcia(functional_unit(\n",
    "    mass=0.2,\n",
    "    cn_truck_distance=1.6 * 100, \n",
    "    uk_truck_distance=1.6 * 250, \n",
    "    ocean_distance=11076 * 1.852, # nautical miles to kilometers\n",
    "    # 12 knots/hr; (nau mi * km / nau mi) / (12 knots/hr * km/knot) / hours/day\n",
    "    ocean_time_in_days=(11076 * 1.852) / (12 * 1.852) / 24, # ~38\n",
    "    treatment=\"incineration\"\n",
    "))"
   ]
  },
  {
   "cell_type": "code",
   "execution_count": 161,
   "id": "pursuant-minute",
   "metadata": {},
   "outputs": [
    {
     "data": {
      "text/plain": [
       "0.6358969823904835"
      ]
     },
     "execution_count": 161,
     "metadata": {},
     "output_type": "execute_result"
    }
   ],
   "source": [
    "lca.score"
   ]
  },
  {
   "cell_type": "markdown",
   "id": "leading-triple",
   "metadata": {},
   "source": [
    "# Why use Brightway & custom software versus other packaging LCA solutions?\n",
    "\n",
    "Our value proposition is *improved accuracy*. We can accomplish this with software designed to treat datasets as computation models instead of text documents:\n",
    "\n",
    "* Make it easy to add or combine multiple data sources, both manually and programmatically\n",
    "* Make it possible to modify the supply chain, both at the surface, and deep down, both persistently and in memory\n",
    "* Create programmtic tools to examine the supply chain, to help to better identify which products to use when modelling specific supply chains.\n",
    "* Allow for performant uncertainty and global sensitivity analysis (e.g. dimension reduction from 300k uncertain parameters to 50, providing decision support to customers on what drive variation in environmental performance)."
   ]
  },
  {
   "cell_type": "code",
   "execution_count": null,
   "id": "understood-pipeline",
   "metadata": {},
   "outputs": [],
   "source": []
  }
 ],
 "metadata": {
  "kernelspec": {
   "display_name": "Python 3",
   "language": "python",
   "name": "python3"
  },
  "language_info": {
   "codemirror_mode": {
    "name": "ipython",
    "version": 3
   },
   "file_extension": ".py",
   "mimetype": "text/x-python",
   "name": "python",
   "nbconvert_exporter": "python",
   "pygments_lexer": "ipython3",
   "version": "3.8.6"
  }
 },
 "nbformat": 4,
 "nbformat_minor": 5
}
